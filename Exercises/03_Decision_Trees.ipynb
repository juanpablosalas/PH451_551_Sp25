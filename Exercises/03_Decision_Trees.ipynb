{
  "cells": [
    {
      "cell_type": "markdown",
      "metadata": {
<<<<<<< HEAD
<<<<<<< HEAD
        "colab_type": "text",
        "id": "view-in-github"
=======
        "id": "view-in-github",
        "colab_type": "text"
>>>>>>> 2a6a815 (Merge remote-tracking branch 'upstream/main')
=======
        "colab_type": "text",
        "id": "view-in-github"
>>>>>>> e03ff68 (updates)
      },
      "source": [
        "<a href=\"https://colab.research.google.com/github/UAPH451551/PH451_551_Sp25/blob/main/Exercises/03_Decision_Trees.ipynb\" target=\"_parent\"><img src=\"https://colab.research.google.com/assets/colab-badge.svg\" alt=\"Open In Colab\"/></a>"
      ]
    },
    {
      "cell_type": "markdown",
      "metadata": {
        "id": "EfmAJSqwE0ys"
      },
      "source": [
        "# Hands On Exercise 3: Decision Trees"
      ]
    },
    {
      "cell_type": "markdown",
      "metadata": {
        "id": "SLbEKL7BLvmh"
      },
      "source": [
        "**Chapter 6 – Decision Trees**"
      ]
    },
    {
      "cell_type": "markdown",
      "metadata": {
        "id": "nN3OdD0LLvmk"
      },
      "source": [
        "File name convention: For group 42 and memebers Richard Stallman and <br>\n",
        "Linus Torvalds it would be <br>\n",
        "\"03_Goup42_Stallman_Torvalds.pdf\".\n",
        "\n",
        "Submission via blackboard (UA).\n",
        "\n",
        "Feel free to answer free text questions in text cells using markdown <br> and possibly $\\LaTeX{}$ if you want to.\n",
        "\n",
        "**You don't have to understand every line of code here and it is not <br>\n",
        "intended for you to try to understand every line of code.   <br>\n",
        "Big blocks of code are usually meant to just be clicked through.**"
      ]
    },
    {
      "cell_type": "markdown",
      "metadata": {
        "id": "-Py2NOeBLvml"
      },
      "source": [
        "# Setup"
      ]
    },
    {
      "cell_type": "code",
<<<<<<< HEAD
<<<<<<< HEAD
      "execution_count": 1,
=======
      "execution_count": null,
>>>>>>> 2a6a815 (Merge remote-tracking branch 'upstream/main')
=======
      "execution_count": 1,
>>>>>>> e03ff68 (updates)
      "metadata": {
        "id": "AKxv51qSLvmm"
      },
      "outputs": [],
      "source": [
        "# Python ≥3.5 is required\n",
        "import sys\n",
        "assert sys.version_info >= (3, 5)\n",
        "\n",
        "# Scikit-Learn ≥0.20 is required\n",
        "import sklearn\n",
        "assert sklearn.__version__ >= \"0.20\"\n",
        "\n",
        "# Common imports\n",
        "import numpy as np\n",
        "import os\n",
        "\n",
        "# to make this notebook's output stable across runs\n",
        "np.random.seed(42)\n",
        "\n",
        "# To plot pretty figures\n",
        "%matplotlib inline\n",
        "import matplotlib as mpl\n",
        "import matplotlib.pyplot as plt\n",
        "mpl.rc('axes', labelsize=14)\n",
        "mpl.rc('xtick', labelsize=12)\n",
        "mpl.rc('ytick', labelsize=12)"
      ]
    },
    {
      "cell_type": "markdown",
      "metadata": {
        "id": "slm-PTBnLvmn"
      },
      "source": [
        "# Loading the data\n",
        "\n",
        "You might remember the [Iris Flower Data Set](https://en.wikipedia.org/wiki/Iris_flower_data_set) from last lecture. If <br>\n",
        "you're curious about the data set, feel free to check out the wikipedia <br>\n",
        "article in the hotlink listed here. Basically, it contains information <br>\n",
        "about several species of iris flowers along with a classification of <br>\n",
        "which species of iris they are."
      ]
    },
    {
      "cell_type": "code",
<<<<<<< HEAD
<<<<<<< HEAD
      "execution_count": 2,
=======
      "execution_count": null,
>>>>>>> 2a6a815 (Merge remote-tracking branch 'upstream/main')
=======
      "execution_count": 2,
>>>>>>> e03ff68 (updates)
      "metadata": {
        "id": "NHKUSfoPLvmn"
      },
      "outputs": [],
      "source": [
        "from sklearn.datasets import load_iris\n",
        "\n",
        "iris = load_iris()\n",
        "X = iris.data[:, 2:] # petal length and width\n",
        "y = iris.target"
      ]
    },
    {
      "cell_type": "code",
<<<<<<< HEAD
<<<<<<< HEAD
      "execution_count": 3,
      "metadata": {
        "id": "vAG_6mzJLvmo"
      },
      "outputs": [
        {
          "data": {
            "text/plain": [
              "(150, 2)"
            ]
          },
          "execution_count": 3,
          "metadata": {},
          "output_type": "execute_result"
        }
      ],
=======
      "execution_count": null,
      "metadata": {
        "id": "vAG_6mzJLvmo"
      },
      "outputs": [],
>>>>>>> 2a6a815 (Merge remote-tracking branch 'upstream/main')
=======
      "execution_count": 3,
      "metadata": {
        "id": "vAG_6mzJLvmo"
      },
      "outputs": [
        {
          "data": {
            "text/plain": [
              "(150, 2)"
            ]
          },
          "execution_count": 3,
          "metadata": {},
          "output_type": "execute_result"
        }
      ],
>>>>>>> e03ff68 (updates)
      "source": [
        "X.shape  # 150 instances, 2 features per instance (petal length and width)"
      ]
    },
    {
      "cell_type": "code",
<<<<<<< HEAD
<<<<<<< HEAD
      "execution_count": 4,
      "metadata": {
        "id": "esMJWWLaLvmp"
      },
      "outputs": [
        {
          "data": {
            "text/plain": [
              "(150,)"
            ]
          },
          "execution_count": 4,
          "metadata": {},
          "output_type": "execute_result"
        }
      ],
=======
      "execution_count": null,
      "metadata": {
        "id": "esMJWWLaLvmp"
      },
      "outputs": [],
>>>>>>> 2a6a815 (Merge remote-tracking branch 'upstream/main')
=======
      "execution_count": 4,
      "metadata": {
        "id": "esMJWWLaLvmp"
      },
      "outputs": [
        {
          "data": {
            "text/plain": [
              "(150,)"
            ]
          },
          "execution_count": 4,
          "metadata": {},
          "output_type": "execute_result"
        }
      ],
>>>>>>> e03ff68 (updates)
      "source": [
        "y.shape"
      ]
    },
    {
      "cell_type": "markdown",
      "metadata": {
        "id": "LqN-n6Z_Lvmq"
      },
      "source": [
        "Now that we have the data we can fit a model to it."
      ]
    },
    {
      "cell_type": "markdown",
      "metadata": {
        "id": "NR5pE8RNLvmq"
      },
      "source": [
        "# Decision Trees for Classification\n",
        "\n",
        "At their core, **decision trees are branching networks** that take data and <br>\n",
        "pose a series of rules-based questions at each branching point in the <br>\n",
        "tree. **A branch might look like the following: if the number is greater** <br>\n",
        "**two, take the left branch. Otherwise, take the right branch**. The idea is <br>\n",
        "to **construct a network of these rules-based conditions that**, when <br>\n",
        "imposed on your input data, **get you to a desired output**."
      ]
    },
    {
      "cell_type": "markdown",
      "metadata": {
        "id": "huyiT7KXLvmq"
      },
      "source": [
        "### Task 1\n",
        "\n",
        "Build a simple [decision tree classifier](https://scikit-learn.org/stable/modules/generated/sklearn.tree.DecisionTreeClassifier.html) with `max_depth` of 2 and <br>\n",
        "`random_state` of 42. Fit to the data `X`, `y`."
      ]
    },
    {
      "cell_type": "code",
<<<<<<< HEAD
<<<<<<< HEAD
      "execution_count": 5,
=======
      "execution_count": null,
>>>>>>> 2a6a815 (Merge remote-tracking branch 'upstream/main')
=======
      "execution_count": 5,
>>>>>>> e03ff68 (updates)
      "metadata": {
        "id": "LtBJvshWLvmr"
      },
      "outputs": [],
      "source": [
        "from sklearn.tree import DecisionTreeClassifier"
      ]
    },
    {
      "cell_type": "markdown",
      "metadata": {
        "id": "MzACHvMk2hd6"
      },
      "source": [
        "↓↓↓↓↓↓↓↓↓↓↓↓↓↓↓↓↓↓↓↓↓↓↓↓↓↓↓↓↓↓↓\n",
        "your code goes below"
      ]
    },
    {
      "cell_type": "code",
<<<<<<< HEAD
<<<<<<< HEAD
      "execution_count": 6,
=======
      "execution_count": null,
>>>>>>> 2a6a815 (Merge remote-tracking branch 'upstream/main')
=======
      "execution_count": 6,
>>>>>>> e03ff68 (updates)
      "metadata": {
        "id": "0su6wPoLLvmr"
      },
      "outputs": [],
      "source": [
<<<<<<< HEAD
<<<<<<< HEAD
        "tree_clf = DecisionTreeClassifier(max_depth=2,random_state=42)"
=======
        "# tree_clf"
>>>>>>> 2a6a815 (Merge remote-tracking branch 'upstream/main')
=======
        "tree_clf = DecisionTreeClassifier(max_depth=2,random_state=42)"
>>>>>>> e03ff68 (updates)
      ]
    },
    {
      "cell_type": "code",
<<<<<<< HEAD
<<<<<<< HEAD
      "execution_count": 7,
      "metadata": {
        "id": "sam0EOraLvmr"
      },
      "outputs": [
        {
          "data": {
            "text/html": [
              "<style>#sk-container-id-1 {\n",
              "  /* Definition of color scheme common for light and dark mode */\n",
              "  --sklearn-color-text: #000;\n",
              "  --sklearn-color-text-muted: #666;\n",
              "  --sklearn-color-line: gray;\n",
              "  /* Definition of color scheme for unfitted estimators */\n",
              "  --sklearn-color-unfitted-level-0: #fff5e6;\n",
              "  --sklearn-color-unfitted-level-1: #f6e4d2;\n",
              "  --sklearn-color-unfitted-level-2: #ffe0b3;\n",
              "  --sklearn-color-unfitted-level-3: chocolate;\n",
              "  /* Definition of color scheme for fitted estimators */\n",
              "  --sklearn-color-fitted-level-0: #f0f8ff;\n",
              "  --sklearn-color-fitted-level-1: #d4ebff;\n",
              "  --sklearn-color-fitted-level-2: #b3dbfd;\n",
              "  --sklearn-color-fitted-level-3: cornflowerblue;\n",
              "\n",
              "  /* Specific color for light theme */\n",
              "  --sklearn-color-text-on-default-background: var(--sg-text-color, var(--theme-code-foreground, var(--jp-content-font-color1, black)));\n",
              "  --sklearn-color-background: var(--sg-background-color, var(--theme-background, var(--jp-layout-color0, white)));\n",
              "  --sklearn-color-border-box: var(--sg-text-color, var(--theme-code-foreground, var(--jp-content-font-color1, black)));\n",
              "  --sklearn-color-icon: #696969;\n",
              "\n",
              "  @media (prefers-color-scheme: dark) {\n",
              "    /* Redefinition of color scheme for dark theme */\n",
              "    --sklearn-color-text-on-default-background: var(--sg-text-color, var(--theme-code-foreground, var(--jp-content-font-color1, white)));\n",
              "    --sklearn-color-background: var(--sg-background-color, var(--theme-background, var(--jp-layout-color0, #111)));\n",
              "    --sklearn-color-border-box: var(--sg-text-color, var(--theme-code-foreground, var(--jp-content-font-color1, white)));\n",
              "    --sklearn-color-icon: #878787;\n",
              "  }\n",
              "}\n",
              "\n",
              "#sk-container-id-1 {\n",
              "  color: var(--sklearn-color-text);\n",
              "}\n",
              "\n",
              "#sk-container-id-1 pre {\n",
              "  padding: 0;\n",
              "}\n",
              "\n",
              "#sk-container-id-1 input.sk-hidden--visually {\n",
              "  border: 0;\n",
              "  clip: rect(1px 1px 1px 1px);\n",
              "  clip: rect(1px, 1px, 1px, 1px);\n",
              "  height: 1px;\n",
              "  margin: -1px;\n",
              "  overflow: hidden;\n",
              "  padding: 0;\n",
              "  position: absolute;\n",
              "  width: 1px;\n",
              "}\n",
              "\n",
              "#sk-container-id-1 div.sk-dashed-wrapped {\n",
              "  border: 1px dashed var(--sklearn-color-line);\n",
              "  margin: 0 0.4em 0.5em 0.4em;\n",
              "  box-sizing: border-box;\n",
              "  padding-bottom: 0.4em;\n",
              "  background-color: var(--sklearn-color-background);\n",
              "}\n",
              "\n",
              "#sk-container-id-1 div.sk-container {\n",
              "  /* jupyter's `normalize.less` sets `[hidden] { display: none; }`\n",
              "     but bootstrap.min.css set `[hidden] { display: none !important; }`\n",
              "     so we also need the `!important` here to be able to override the\n",
              "     default hidden behavior on the sphinx rendered scikit-learn.org.\n",
              "     See: https://github.com/scikit-learn/scikit-learn/issues/21755 */\n",
              "  display: inline-block !important;\n",
              "  position: relative;\n",
              "}\n",
              "\n",
              "#sk-container-id-1 div.sk-text-repr-fallback {\n",
              "  display: none;\n",
              "}\n",
              "\n",
              "div.sk-parallel-item,\n",
              "div.sk-serial,\n",
              "div.sk-item {\n",
              "  /* draw centered vertical line to link estimators */\n",
              "  background-image: linear-gradient(var(--sklearn-color-text-on-default-background), var(--sklearn-color-text-on-default-background));\n",
              "  background-size: 2px 100%;\n",
              "  background-repeat: no-repeat;\n",
              "  background-position: center center;\n",
              "}\n",
              "\n",
              "/* Parallel-specific style estimator block */\n",
              "\n",
              "#sk-container-id-1 div.sk-parallel-item::after {\n",
              "  content: \"\";\n",
              "  width: 100%;\n",
              "  border-bottom: 2px solid var(--sklearn-color-text-on-default-background);\n",
              "  flex-grow: 1;\n",
              "}\n",
              "\n",
              "#sk-container-id-1 div.sk-parallel {\n",
              "  display: flex;\n",
              "  align-items: stretch;\n",
              "  justify-content: center;\n",
              "  background-color: var(--sklearn-color-background);\n",
              "  position: relative;\n",
              "}\n",
              "\n",
              "#sk-container-id-1 div.sk-parallel-item {\n",
              "  display: flex;\n",
              "  flex-direction: column;\n",
              "}\n",
              "\n",
              "#sk-container-id-1 div.sk-parallel-item:first-child::after {\n",
              "  align-self: flex-end;\n",
              "  width: 50%;\n",
              "}\n",
              "\n",
              "#sk-container-id-1 div.sk-parallel-item:last-child::after {\n",
              "  align-self: flex-start;\n",
              "  width: 50%;\n",
              "}\n",
              "\n",
              "#sk-container-id-1 div.sk-parallel-item:only-child::after {\n",
              "  width: 0;\n",
              "}\n",
              "\n",
              "/* Serial-specific style estimator block */\n",
              "\n",
              "#sk-container-id-1 div.sk-serial {\n",
              "  display: flex;\n",
              "  flex-direction: column;\n",
              "  align-items: center;\n",
              "  background-color: var(--sklearn-color-background);\n",
              "  padding-right: 1em;\n",
              "  padding-left: 1em;\n",
              "}\n",
              "\n",
              "\n",
              "/* Toggleable style: style used for estimator/Pipeline/ColumnTransformer box that is\n",
              "clickable and can be expanded/collapsed.\n",
              "- Pipeline and ColumnTransformer use this feature and define the default style\n",
              "- Estimators will overwrite some part of the style using the `sk-estimator` class\n",
              "*/\n",
              "\n",
              "/* Pipeline and ColumnTransformer style (default) */\n",
              "\n",
              "#sk-container-id-1 div.sk-toggleable {\n",
              "  /* Default theme specific background. It is overwritten whether we have a\n",
              "  specific estimator or a Pipeline/ColumnTransformer */\n",
              "  background-color: var(--sklearn-color-background);\n",
              "}\n",
              "\n",
              "/* Toggleable label */\n",
              "#sk-container-id-1 label.sk-toggleable__label {\n",
              "  cursor: pointer;\n",
              "  display: flex;\n",
              "  width: 100%;\n",
              "  margin-bottom: 0;\n",
              "  padding: 0.5em;\n",
              "  box-sizing: border-box;\n",
              "  text-align: center;\n",
              "  align-items: start;\n",
              "  justify-content: space-between;\n",
              "  gap: 0.5em;\n",
              "}\n",
              "\n",
              "#sk-container-id-1 label.sk-toggleable__label .caption {\n",
              "  font-size: 0.6rem;\n",
              "  font-weight: lighter;\n",
              "  color: var(--sklearn-color-text-muted);\n",
              "}\n",
              "\n",
              "#sk-container-id-1 label.sk-toggleable__label-arrow:before {\n",
              "  /* Arrow on the left of the label */\n",
              "  content: \"▸\";\n",
              "  float: left;\n",
              "  margin-right: 0.25em;\n",
              "  color: var(--sklearn-color-icon);\n",
              "}\n",
              "\n",
              "#sk-container-id-1 label.sk-toggleable__label-arrow:hover:before {\n",
              "  color: var(--sklearn-color-text);\n",
              "}\n",
              "\n",
              "/* Toggleable content - dropdown */\n",
              "\n",
              "#sk-container-id-1 div.sk-toggleable__content {\n",
              "  max-height: 0;\n",
              "  max-width: 0;\n",
              "  overflow: hidden;\n",
              "  text-align: left;\n",
              "  /* unfitted */\n",
              "  background-color: var(--sklearn-color-unfitted-level-0);\n",
              "}\n",
              "\n",
              "#sk-container-id-1 div.sk-toggleable__content.fitted {\n",
              "  /* fitted */\n",
              "  background-color: var(--sklearn-color-fitted-level-0);\n",
              "}\n",
              "\n",
              "#sk-container-id-1 div.sk-toggleable__content pre {\n",
              "  margin: 0.2em;\n",
              "  border-radius: 0.25em;\n",
              "  color: var(--sklearn-color-text);\n",
              "  /* unfitted */\n",
              "  background-color: var(--sklearn-color-unfitted-level-0);\n",
              "}\n",
              "\n",
              "#sk-container-id-1 div.sk-toggleable__content.fitted pre {\n",
              "  /* unfitted */\n",
              "  background-color: var(--sklearn-color-fitted-level-0);\n",
              "}\n",
              "\n",
              "#sk-container-id-1 input.sk-toggleable__control:checked~div.sk-toggleable__content {\n",
              "  /* Expand drop-down */\n",
              "  max-height: 200px;\n",
              "  max-width: 100%;\n",
              "  overflow: auto;\n",
              "}\n",
              "\n",
              "#sk-container-id-1 input.sk-toggleable__control:checked~label.sk-toggleable__label-arrow:before {\n",
              "  content: \"▾\";\n",
              "}\n",
              "\n",
              "/* Pipeline/ColumnTransformer-specific style */\n",
              "\n",
              "#sk-container-id-1 div.sk-label input.sk-toggleable__control:checked~label.sk-toggleable__label {\n",
              "  color: var(--sklearn-color-text);\n",
              "  background-color: var(--sklearn-color-unfitted-level-2);\n",
              "}\n",
              "\n",
              "#sk-container-id-1 div.sk-label.fitted input.sk-toggleable__control:checked~label.sk-toggleable__label {\n",
              "  background-color: var(--sklearn-color-fitted-level-2);\n",
              "}\n",
              "\n",
              "/* Estimator-specific style */\n",
              "\n",
              "/* Colorize estimator box */\n",
              "#sk-container-id-1 div.sk-estimator input.sk-toggleable__control:checked~label.sk-toggleable__label {\n",
              "  /* unfitted */\n",
              "  background-color: var(--sklearn-color-unfitted-level-2);\n",
              "}\n",
              "\n",
              "#sk-container-id-1 div.sk-estimator.fitted input.sk-toggleable__control:checked~label.sk-toggleable__label {\n",
              "  /* fitted */\n",
              "  background-color: var(--sklearn-color-fitted-level-2);\n",
              "}\n",
              "\n",
              "#sk-container-id-1 div.sk-label label.sk-toggleable__label,\n",
              "#sk-container-id-1 div.sk-label label {\n",
              "  /* The background is the default theme color */\n",
              "  color: var(--sklearn-color-text-on-default-background);\n",
              "}\n",
              "\n",
              "/* On hover, darken the color of the background */\n",
              "#sk-container-id-1 div.sk-label:hover label.sk-toggleable__label {\n",
              "  color: var(--sklearn-color-text);\n",
              "  background-color: var(--sklearn-color-unfitted-level-2);\n",
              "}\n",
              "\n",
              "/* Label box, darken color on hover, fitted */\n",
              "#sk-container-id-1 div.sk-label.fitted:hover label.sk-toggleable__label.fitted {\n",
              "  color: var(--sklearn-color-text);\n",
              "  background-color: var(--sklearn-color-fitted-level-2);\n",
              "}\n",
              "\n",
              "/* Estimator label */\n",
              "\n",
              "#sk-container-id-1 div.sk-label label {\n",
              "  font-family: monospace;\n",
              "  font-weight: bold;\n",
              "  display: inline-block;\n",
              "  line-height: 1.2em;\n",
              "}\n",
              "\n",
              "#sk-container-id-1 div.sk-label-container {\n",
              "  text-align: center;\n",
              "}\n",
              "\n",
              "/* Estimator-specific */\n",
              "#sk-container-id-1 div.sk-estimator {\n",
              "  font-family: monospace;\n",
              "  border: 1px dotted var(--sklearn-color-border-box);\n",
              "  border-radius: 0.25em;\n",
              "  box-sizing: border-box;\n",
              "  margin-bottom: 0.5em;\n",
              "  /* unfitted */\n",
              "  background-color: var(--sklearn-color-unfitted-level-0);\n",
              "}\n",
              "\n",
              "#sk-container-id-1 div.sk-estimator.fitted {\n",
              "  /* fitted */\n",
              "  background-color: var(--sklearn-color-fitted-level-0);\n",
              "}\n",
              "\n",
              "/* on hover */\n",
              "#sk-container-id-1 div.sk-estimator:hover {\n",
              "  /* unfitted */\n",
              "  background-color: var(--sklearn-color-unfitted-level-2);\n",
              "}\n",
              "\n",
              "#sk-container-id-1 div.sk-estimator.fitted:hover {\n",
              "  /* fitted */\n",
              "  background-color: var(--sklearn-color-fitted-level-2);\n",
              "}\n",
              "\n",
              "/* Specification for estimator info (e.g. \"i\" and \"?\") */\n",
              "\n",
              "/* Common style for \"i\" and \"?\" */\n",
              "\n",
              ".sk-estimator-doc-link,\n",
              "a:link.sk-estimator-doc-link,\n",
              "a:visited.sk-estimator-doc-link {\n",
              "  float: right;\n",
              "  font-size: smaller;\n",
              "  line-height: 1em;\n",
              "  font-family: monospace;\n",
              "  background-color: var(--sklearn-color-background);\n",
              "  border-radius: 1em;\n",
              "  height: 1em;\n",
              "  width: 1em;\n",
              "  text-decoration: none !important;\n",
              "  margin-left: 0.5em;\n",
              "  text-align: center;\n",
              "  /* unfitted */\n",
              "  border: var(--sklearn-color-unfitted-level-1) 1pt solid;\n",
              "  color: var(--sklearn-color-unfitted-level-1);\n",
              "}\n",
              "\n",
              ".sk-estimator-doc-link.fitted,\n",
              "a:link.sk-estimator-doc-link.fitted,\n",
              "a:visited.sk-estimator-doc-link.fitted {\n",
              "  /* fitted */\n",
              "  border: var(--sklearn-color-fitted-level-1) 1pt solid;\n",
              "  color: var(--sklearn-color-fitted-level-1);\n",
              "}\n",
              "\n",
              "/* On hover */\n",
              "div.sk-estimator:hover .sk-estimator-doc-link:hover,\n",
              ".sk-estimator-doc-link:hover,\n",
              "div.sk-label-container:hover .sk-estimator-doc-link:hover,\n",
              ".sk-estimator-doc-link:hover {\n",
              "  /* unfitted */\n",
              "  background-color: var(--sklearn-color-unfitted-level-3);\n",
              "  color: var(--sklearn-color-background);\n",
              "  text-decoration: none;\n",
              "}\n",
              "\n",
              "div.sk-estimator.fitted:hover .sk-estimator-doc-link.fitted:hover,\n",
              ".sk-estimator-doc-link.fitted:hover,\n",
              "div.sk-label-container:hover .sk-estimator-doc-link.fitted:hover,\n",
              ".sk-estimator-doc-link.fitted:hover {\n",
              "  /* fitted */\n",
              "  background-color: var(--sklearn-color-fitted-level-3);\n",
              "  color: var(--sklearn-color-background);\n",
              "  text-decoration: none;\n",
              "}\n",
              "\n",
              "/* Span, style for the box shown on hovering the info icon */\n",
              ".sk-estimator-doc-link span {\n",
              "  display: none;\n",
              "  z-index: 9999;\n",
              "  position: relative;\n",
              "  font-weight: normal;\n",
              "  right: .2ex;\n",
              "  padding: .5ex;\n",
              "  margin: .5ex;\n",
              "  width: min-content;\n",
              "  min-width: 20ex;\n",
              "  max-width: 50ex;\n",
              "  color: var(--sklearn-color-text);\n",
              "  box-shadow: 2pt 2pt 4pt #999;\n",
              "  /* unfitted */\n",
              "  background: var(--sklearn-color-unfitted-level-0);\n",
              "  border: .5pt solid var(--sklearn-color-unfitted-level-3);\n",
              "}\n",
              "\n",
              ".sk-estimator-doc-link.fitted span {\n",
              "  /* fitted */\n",
              "  background: var(--sklearn-color-fitted-level-0);\n",
              "  border: var(--sklearn-color-fitted-level-3);\n",
              "}\n",
              "\n",
              ".sk-estimator-doc-link:hover span {\n",
              "  display: block;\n",
              "}\n",
              "\n",
              "/* \"?\"-specific style due to the `<a>` HTML tag */\n",
              "\n",
              "#sk-container-id-1 a.estimator_doc_link {\n",
              "  float: right;\n",
              "  font-size: 1rem;\n",
              "  line-height: 1em;\n",
              "  font-family: monospace;\n",
              "  background-color: var(--sklearn-color-background);\n",
              "  border-radius: 1rem;\n",
              "  height: 1rem;\n",
              "  width: 1rem;\n",
              "  text-decoration: none;\n",
              "  /* unfitted */\n",
              "  color: var(--sklearn-color-unfitted-level-1);\n",
              "  border: var(--sklearn-color-unfitted-level-1) 1pt solid;\n",
              "}\n",
              "\n",
              "#sk-container-id-1 a.estimator_doc_link.fitted {\n",
              "  /* fitted */\n",
              "  border: var(--sklearn-color-fitted-level-1) 1pt solid;\n",
              "  color: var(--sklearn-color-fitted-level-1);\n",
              "}\n",
              "\n",
              "/* On hover */\n",
              "#sk-container-id-1 a.estimator_doc_link:hover {\n",
              "  /* unfitted */\n",
              "  background-color: var(--sklearn-color-unfitted-level-3);\n",
              "  color: var(--sklearn-color-background);\n",
              "  text-decoration: none;\n",
              "}\n",
              "\n",
              "#sk-container-id-1 a.estimator_doc_link.fitted:hover {\n",
              "  /* fitted */\n",
              "  background-color: var(--sklearn-color-fitted-level-3);\n",
              "}\n",
              "</style><div id=\"sk-container-id-1\" class=\"sk-top-container\"><div class=\"sk-text-repr-fallback\"><pre>DecisionTreeClassifier(max_depth=2, random_state=42)</pre><b>In a Jupyter environment, please rerun this cell to show the HTML representation or trust the notebook. <br />On GitHub, the HTML representation is unable to render, please try loading this page with nbviewer.org.</b></div><div class=\"sk-container\" hidden><div class=\"sk-item\"><div class=\"sk-estimator fitted sk-toggleable\"><input class=\"sk-toggleable__control sk-hidden--visually\" id=\"sk-estimator-id-1\" type=\"checkbox\" checked><label for=\"sk-estimator-id-1\" class=\"sk-toggleable__label fitted sk-toggleable__label-arrow\"><div><div>DecisionTreeClassifier</div></div><div><a class=\"sk-estimator-doc-link fitted\" rel=\"noreferrer\" target=\"_blank\" href=\"https://scikit-learn.org/1.6/modules/generated/sklearn.tree.DecisionTreeClassifier.html\">?<span>Documentation for DecisionTreeClassifier</span></a><span class=\"sk-estimator-doc-link fitted\">i<span>Fitted</span></span></div></label><div class=\"sk-toggleable__content fitted\"><pre>DecisionTreeClassifier(max_depth=2, random_state=42)</pre></div> </div></div></div></div>"
            ],
            "text/plain": [
              "DecisionTreeClassifier(max_depth=2, random_state=42)"
            ]
          },
          "execution_count": 7,
          "metadata": {},
          "output_type": "execute_result"
        }
      ],
      "source": [
        "tree_clf.fit(X,y)"
      ]
=======
      "execution_count": null,
      "metadata": {
        "id": "sam0EOraLvmr"
      },
      "outputs": [],
      "source": []
>>>>>>> 2a6a815 (Merge remote-tracking branch 'upstream/main')
=======
      "execution_count": 7,
      "metadata": {
        "id": "sam0EOraLvmr"
      },
      "outputs": [
        {
          "data": {
            "text/html": [
              "<style>#sk-container-id-1 {\n",
              "  /* Definition of color scheme common for light and dark mode */\n",
              "  --sklearn-color-text: #000;\n",
              "  --sklearn-color-text-muted: #666;\n",
              "  --sklearn-color-line: gray;\n",
              "  /* Definition of color scheme for unfitted estimators */\n",
              "  --sklearn-color-unfitted-level-0: #fff5e6;\n",
              "  --sklearn-color-unfitted-level-1: #f6e4d2;\n",
              "  --sklearn-color-unfitted-level-2: #ffe0b3;\n",
              "  --sklearn-color-unfitted-level-3: chocolate;\n",
              "  /* Definition of color scheme for fitted estimators */\n",
              "  --sklearn-color-fitted-level-0: #f0f8ff;\n",
              "  --sklearn-color-fitted-level-1: #d4ebff;\n",
              "  --sklearn-color-fitted-level-2: #b3dbfd;\n",
              "  --sklearn-color-fitted-level-3: cornflowerblue;\n",
              "\n",
              "  /* Specific color for light theme */\n",
              "  --sklearn-color-text-on-default-background: var(--sg-text-color, var(--theme-code-foreground, var(--jp-content-font-color1, black)));\n",
              "  --sklearn-color-background: var(--sg-background-color, var(--theme-background, var(--jp-layout-color0, white)));\n",
              "  --sklearn-color-border-box: var(--sg-text-color, var(--theme-code-foreground, var(--jp-content-font-color1, black)));\n",
              "  --sklearn-color-icon: #696969;\n",
              "\n",
              "  @media (prefers-color-scheme: dark) {\n",
              "    /* Redefinition of color scheme for dark theme */\n",
              "    --sklearn-color-text-on-default-background: var(--sg-text-color, var(--theme-code-foreground, var(--jp-content-font-color1, white)));\n",
              "    --sklearn-color-background: var(--sg-background-color, var(--theme-background, var(--jp-layout-color0, #111)));\n",
              "    --sklearn-color-border-box: var(--sg-text-color, var(--theme-code-foreground, var(--jp-content-font-color1, white)));\n",
              "    --sklearn-color-icon: #878787;\n",
              "  }\n",
              "}\n",
              "\n",
              "#sk-container-id-1 {\n",
              "  color: var(--sklearn-color-text);\n",
              "}\n",
              "\n",
              "#sk-container-id-1 pre {\n",
              "  padding: 0;\n",
              "}\n",
              "\n",
              "#sk-container-id-1 input.sk-hidden--visually {\n",
              "  border: 0;\n",
              "  clip: rect(1px 1px 1px 1px);\n",
              "  clip: rect(1px, 1px, 1px, 1px);\n",
              "  height: 1px;\n",
              "  margin: -1px;\n",
              "  overflow: hidden;\n",
              "  padding: 0;\n",
              "  position: absolute;\n",
              "  width: 1px;\n",
              "}\n",
              "\n",
              "#sk-container-id-1 div.sk-dashed-wrapped {\n",
              "  border: 1px dashed var(--sklearn-color-line);\n",
              "  margin: 0 0.4em 0.5em 0.4em;\n",
              "  box-sizing: border-box;\n",
              "  padding-bottom: 0.4em;\n",
              "  background-color: var(--sklearn-color-background);\n",
              "}\n",
              "\n",
              "#sk-container-id-1 div.sk-container {\n",
              "  /* jupyter's `normalize.less` sets `[hidden] { display: none; }`\n",
              "     but bootstrap.min.css set `[hidden] { display: none !important; }`\n",
              "     so we also need the `!important` here to be able to override the\n",
              "     default hidden behavior on the sphinx rendered scikit-learn.org.\n",
              "     See: https://github.com/scikit-learn/scikit-learn/issues/21755 */\n",
              "  display: inline-block !important;\n",
              "  position: relative;\n",
              "}\n",
              "\n",
              "#sk-container-id-1 div.sk-text-repr-fallback {\n",
              "  display: none;\n",
              "}\n",
              "\n",
              "div.sk-parallel-item,\n",
              "div.sk-serial,\n",
              "div.sk-item {\n",
              "  /* draw centered vertical line to link estimators */\n",
              "  background-image: linear-gradient(var(--sklearn-color-text-on-default-background), var(--sklearn-color-text-on-default-background));\n",
              "  background-size: 2px 100%;\n",
              "  background-repeat: no-repeat;\n",
              "  background-position: center center;\n",
              "}\n",
              "\n",
              "/* Parallel-specific style estimator block */\n",
              "\n",
              "#sk-container-id-1 div.sk-parallel-item::after {\n",
              "  content: \"\";\n",
              "  width: 100%;\n",
              "  border-bottom: 2px solid var(--sklearn-color-text-on-default-background);\n",
              "  flex-grow: 1;\n",
              "}\n",
              "\n",
              "#sk-container-id-1 div.sk-parallel {\n",
              "  display: flex;\n",
              "  align-items: stretch;\n",
              "  justify-content: center;\n",
              "  background-color: var(--sklearn-color-background);\n",
              "  position: relative;\n",
              "}\n",
              "\n",
              "#sk-container-id-1 div.sk-parallel-item {\n",
              "  display: flex;\n",
              "  flex-direction: column;\n",
              "}\n",
              "\n",
              "#sk-container-id-1 div.sk-parallel-item:first-child::after {\n",
              "  align-self: flex-end;\n",
              "  width: 50%;\n",
              "}\n",
              "\n",
              "#sk-container-id-1 div.sk-parallel-item:last-child::after {\n",
              "  align-self: flex-start;\n",
              "  width: 50%;\n",
              "}\n",
              "\n",
              "#sk-container-id-1 div.sk-parallel-item:only-child::after {\n",
              "  width: 0;\n",
              "}\n",
              "\n",
              "/* Serial-specific style estimator block */\n",
              "\n",
              "#sk-container-id-1 div.sk-serial {\n",
              "  display: flex;\n",
              "  flex-direction: column;\n",
              "  align-items: center;\n",
              "  background-color: var(--sklearn-color-background);\n",
              "  padding-right: 1em;\n",
              "  padding-left: 1em;\n",
              "}\n",
              "\n",
              "\n",
              "/* Toggleable style: style used for estimator/Pipeline/ColumnTransformer box that is\n",
              "clickable and can be expanded/collapsed.\n",
              "- Pipeline and ColumnTransformer use this feature and define the default style\n",
              "- Estimators will overwrite some part of the style using the `sk-estimator` class\n",
              "*/\n",
              "\n",
              "/* Pipeline and ColumnTransformer style (default) */\n",
              "\n",
              "#sk-container-id-1 div.sk-toggleable {\n",
              "  /* Default theme specific background. It is overwritten whether we have a\n",
              "  specific estimator or a Pipeline/ColumnTransformer */\n",
              "  background-color: var(--sklearn-color-background);\n",
              "}\n",
              "\n",
              "/* Toggleable label */\n",
              "#sk-container-id-1 label.sk-toggleable__label {\n",
              "  cursor: pointer;\n",
              "  display: flex;\n",
              "  width: 100%;\n",
              "  margin-bottom: 0;\n",
              "  padding: 0.5em;\n",
              "  box-sizing: border-box;\n",
              "  text-align: center;\n",
              "  align-items: start;\n",
              "  justify-content: space-between;\n",
              "  gap: 0.5em;\n",
              "}\n",
              "\n",
              "#sk-container-id-1 label.sk-toggleable__label .caption {\n",
              "  font-size: 0.6rem;\n",
              "  font-weight: lighter;\n",
              "  color: var(--sklearn-color-text-muted);\n",
              "}\n",
              "\n",
              "#sk-container-id-1 label.sk-toggleable__label-arrow:before {\n",
              "  /* Arrow on the left of the label */\n",
              "  content: \"▸\";\n",
              "  float: left;\n",
              "  margin-right: 0.25em;\n",
              "  color: var(--sklearn-color-icon);\n",
              "}\n",
              "\n",
              "#sk-container-id-1 label.sk-toggleable__label-arrow:hover:before {\n",
              "  color: var(--sklearn-color-text);\n",
              "}\n",
              "\n",
              "/* Toggleable content - dropdown */\n",
              "\n",
              "#sk-container-id-1 div.sk-toggleable__content {\n",
              "  max-height: 0;\n",
              "  max-width: 0;\n",
              "  overflow: hidden;\n",
              "  text-align: left;\n",
              "  /* unfitted */\n",
              "  background-color: var(--sklearn-color-unfitted-level-0);\n",
              "}\n",
              "\n",
              "#sk-container-id-1 div.sk-toggleable__content.fitted {\n",
              "  /* fitted */\n",
              "  background-color: var(--sklearn-color-fitted-level-0);\n",
              "}\n",
              "\n",
              "#sk-container-id-1 div.sk-toggleable__content pre {\n",
              "  margin: 0.2em;\n",
              "  border-radius: 0.25em;\n",
              "  color: var(--sklearn-color-text);\n",
              "  /* unfitted */\n",
              "  background-color: var(--sklearn-color-unfitted-level-0);\n",
              "}\n",
              "\n",
              "#sk-container-id-1 div.sk-toggleable__content.fitted pre {\n",
              "  /* unfitted */\n",
              "  background-color: var(--sklearn-color-fitted-level-0);\n",
              "}\n",
              "\n",
              "#sk-container-id-1 input.sk-toggleable__control:checked~div.sk-toggleable__content {\n",
              "  /* Expand drop-down */\n",
              "  max-height: 200px;\n",
              "  max-width: 100%;\n",
              "  overflow: auto;\n",
              "}\n",
              "\n",
              "#sk-container-id-1 input.sk-toggleable__control:checked~label.sk-toggleable__label-arrow:before {\n",
              "  content: \"▾\";\n",
              "}\n",
              "\n",
              "/* Pipeline/ColumnTransformer-specific style */\n",
              "\n",
              "#sk-container-id-1 div.sk-label input.sk-toggleable__control:checked~label.sk-toggleable__label {\n",
              "  color: var(--sklearn-color-text);\n",
              "  background-color: var(--sklearn-color-unfitted-level-2);\n",
              "}\n",
              "\n",
              "#sk-container-id-1 div.sk-label.fitted input.sk-toggleable__control:checked~label.sk-toggleable__label {\n",
              "  background-color: var(--sklearn-color-fitted-level-2);\n",
              "}\n",
              "\n",
              "/* Estimator-specific style */\n",
              "\n",
              "/* Colorize estimator box */\n",
              "#sk-container-id-1 div.sk-estimator input.sk-toggleable__control:checked~label.sk-toggleable__label {\n",
              "  /* unfitted */\n",
              "  background-color: var(--sklearn-color-unfitted-level-2);\n",
              "}\n",
              "\n",
              "#sk-container-id-1 div.sk-estimator.fitted input.sk-toggleable__control:checked~label.sk-toggleable__label {\n",
              "  /* fitted */\n",
              "  background-color: var(--sklearn-color-fitted-level-2);\n",
              "}\n",
              "\n",
              "#sk-container-id-1 div.sk-label label.sk-toggleable__label,\n",
              "#sk-container-id-1 div.sk-label label {\n",
              "  /* The background is the default theme color */\n",
              "  color: var(--sklearn-color-text-on-default-background);\n",
              "}\n",
              "\n",
              "/* On hover, darken the color of the background */\n",
              "#sk-container-id-1 div.sk-label:hover label.sk-toggleable__label {\n",
              "  color: var(--sklearn-color-text);\n",
              "  background-color: var(--sklearn-color-unfitted-level-2);\n",
              "}\n",
              "\n",
              "/* Label box, darken color on hover, fitted */\n",
              "#sk-container-id-1 div.sk-label.fitted:hover label.sk-toggleable__label.fitted {\n",
              "  color: var(--sklearn-color-text);\n",
              "  background-color: var(--sklearn-color-fitted-level-2);\n",
              "}\n",
              "\n",
              "/* Estimator label */\n",
              "\n",
              "#sk-container-id-1 div.sk-label label {\n",
              "  font-family: monospace;\n",
              "  font-weight: bold;\n",
              "  display: inline-block;\n",
              "  line-height: 1.2em;\n",
              "}\n",
              "\n",
              "#sk-container-id-1 div.sk-label-container {\n",
              "  text-align: center;\n",
              "}\n",
              "\n",
              "/* Estimator-specific */\n",
              "#sk-container-id-1 div.sk-estimator {\n",
              "  font-family: monospace;\n",
              "  border: 1px dotted var(--sklearn-color-border-box);\n",
              "  border-radius: 0.25em;\n",
              "  box-sizing: border-box;\n",
              "  margin-bottom: 0.5em;\n",
              "  /* unfitted */\n",
              "  background-color: var(--sklearn-color-unfitted-level-0);\n",
              "}\n",
              "\n",
              "#sk-container-id-1 div.sk-estimator.fitted {\n",
              "  /* fitted */\n",
              "  background-color: var(--sklearn-color-fitted-level-0);\n",
              "}\n",
              "\n",
              "/* on hover */\n",
              "#sk-container-id-1 div.sk-estimator:hover {\n",
              "  /* unfitted */\n",
              "  background-color: var(--sklearn-color-unfitted-level-2);\n",
              "}\n",
              "\n",
              "#sk-container-id-1 div.sk-estimator.fitted:hover {\n",
              "  /* fitted */\n",
              "  background-color: var(--sklearn-color-fitted-level-2);\n",
              "}\n",
              "\n",
              "/* Specification for estimator info (e.g. \"i\" and \"?\") */\n",
              "\n",
              "/* Common style for \"i\" and \"?\" */\n",
              "\n",
              ".sk-estimator-doc-link,\n",
              "a:link.sk-estimator-doc-link,\n",
              "a:visited.sk-estimator-doc-link {\n",
              "  float: right;\n",
              "  font-size: smaller;\n",
              "  line-height: 1em;\n",
              "  font-family: monospace;\n",
              "  background-color: var(--sklearn-color-background);\n",
              "  border-radius: 1em;\n",
              "  height: 1em;\n",
              "  width: 1em;\n",
              "  text-decoration: none !important;\n",
              "  margin-left: 0.5em;\n",
              "  text-align: center;\n",
              "  /* unfitted */\n",
              "  border: var(--sklearn-color-unfitted-level-1) 1pt solid;\n",
              "  color: var(--sklearn-color-unfitted-level-1);\n",
              "}\n",
              "\n",
              ".sk-estimator-doc-link.fitted,\n",
              "a:link.sk-estimator-doc-link.fitted,\n",
              "a:visited.sk-estimator-doc-link.fitted {\n",
              "  /* fitted */\n",
              "  border: var(--sklearn-color-fitted-level-1) 1pt solid;\n",
              "  color: var(--sklearn-color-fitted-level-1);\n",
              "}\n",
              "\n",
              "/* On hover */\n",
              "div.sk-estimator:hover .sk-estimator-doc-link:hover,\n",
              ".sk-estimator-doc-link:hover,\n",
              "div.sk-label-container:hover .sk-estimator-doc-link:hover,\n",
              ".sk-estimator-doc-link:hover {\n",
              "  /* unfitted */\n",
              "  background-color: var(--sklearn-color-unfitted-level-3);\n",
              "  color: var(--sklearn-color-background);\n",
              "  text-decoration: none;\n",
              "}\n",
              "\n",
              "div.sk-estimator.fitted:hover .sk-estimator-doc-link.fitted:hover,\n",
              ".sk-estimator-doc-link.fitted:hover,\n",
              "div.sk-label-container:hover .sk-estimator-doc-link.fitted:hover,\n",
              ".sk-estimator-doc-link.fitted:hover {\n",
              "  /* fitted */\n",
              "  background-color: var(--sklearn-color-fitted-level-3);\n",
              "  color: var(--sklearn-color-background);\n",
              "  text-decoration: none;\n",
              "}\n",
              "\n",
              "/* Span, style for the box shown on hovering the info icon */\n",
              ".sk-estimator-doc-link span {\n",
              "  display: none;\n",
              "  z-index: 9999;\n",
              "  position: relative;\n",
              "  font-weight: normal;\n",
              "  right: .2ex;\n",
              "  padding: .5ex;\n",
              "  margin: .5ex;\n",
              "  width: min-content;\n",
              "  min-width: 20ex;\n",
              "  max-width: 50ex;\n",
              "  color: var(--sklearn-color-text);\n",
              "  box-shadow: 2pt 2pt 4pt #999;\n",
              "  /* unfitted */\n",
              "  background: var(--sklearn-color-unfitted-level-0);\n",
              "  border: .5pt solid var(--sklearn-color-unfitted-level-3);\n",
              "}\n",
              "\n",
              ".sk-estimator-doc-link.fitted span {\n",
              "  /* fitted */\n",
              "  background: var(--sklearn-color-fitted-level-0);\n",
              "  border: var(--sklearn-color-fitted-level-3);\n",
              "}\n",
              "\n",
              ".sk-estimator-doc-link:hover span {\n",
              "  display: block;\n",
              "}\n",
              "\n",
              "/* \"?\"-specific style due to the `<a>` HTML tag */\n",
              "\n",
              "#sk-container-id-1 a.estimator_doc_link {\n",
              "  float: right;\n",
              "  font-size: 1rem;\n",
              "  line-height: 1em;\n",
              "  font-family: monospace;\n",
              "  background-color: var(--sklearn-color-background);\n",
              "  border-radius: 1rem;\n",
              "  height: 1rem;\n",
              "  width: 1rem;\n",
              "  text-decoration: none;\n",
              "  /* unfitted */\n",
              "  color: var(--sklearn-color-unfitted-level-1);\n",
              "  border: var(--sklearn-color-unfitted-level-1) 1pt solid;\n",
              "}\n",
              "\n",
              "#sk-container-id-1 a.estimator_doc_link.fitted {\n",
              "  /* fitted */\n",
              "  border: var(--sklearn-color-fitted-level-1) 1pt solid;\n",
              "  color: var(--sklearn-color-fitted-level-1);\n",
              "}\n",
              "\n",
              "/* On hover */\n",
              "#sk-container-id-1 a.estimator_doc_link:hover {\n",
              "  /* unfitted */\n",
              "  background-color: var(--sklearn-color-unfitted-level-3);\n",
              "  color: var(--sklearn-color-background);\n",
              "  text-decoration: none;\n",
              "}\n",
              "\n",
              "#sk-container-id-1 a.estimator_doc_link.fitted:hover {\n",
              "  /* fitted */\n",
              "  background-color: var(--sklearn-color-fitted-level-3);\n",
              "}\n",
              "</style><div id=\"sk-container-id-1\" class=\"sk-top-container\"><div class=\"sk-text-repr-fallback\"><pre>DecisionTreeClassifier(max_depth=2, random_state=42)</pre><b>In a Jupyter environment, please rerun this cell to show the HTML representation or trust the notebook. <br />On GitHub, the HTML representation is unable to render, please try loading this page with nbviewer.org.</b></div><div class=\"sk-container\" hidden><div class=\"sk-item\"><div class=\"sk-estimator fitted sk-toggleable\"><input class=\"sk-toggleable__control sk-hidden--visually\" id=\"sk-estimator-id-1\" type=\"checkbox\" checked><label for=\"sk-estimator-id-1\" class=\"sk-toggleable__label fitted sk-toggleable__label-arrow\"><div><div>DecisionTreeClassifier</div></div><div><a class=\"sk-estimator-doc-link fitted\" rel=\"noreferrer\" target=\"_blank\" href=\"https://scikit-learn.org/1.6/modules/generated/sklearn.tree.DecisionTreeClassifier.html\">?<span>Documentation for DecisionTreeClassifier</span></a><span class=\"sk-estimator-doc-link fitted\">i<span>Fitted</span></span></div></label><div class=\"sk-toggleable__content fitted\"><pre>DecisionTreeClassifier(max_depth=2, random_state=42)</pre></div> </div></div></div></div>"
            ],
            "text/plain": [
              "DecisionTreeClassifier(max_depth=2, random_state=42)"
            ]
          },
          "execution_count": 7,
          "metadata": {},
          "output_type": "execute_result"
        }
      ],
      "source": [
        "tree_clf.fit(X,y)"
      ]
>>>>>>> e03ff68 (updates)
    },
    {
      "cell_type": "markdown",
      "metadata": {
        "id": "TCHZcxPr2tqY"
      },
      "source": [
        "↑↑↑↑↑↑↑↑↑↑↑↑↑↑↑↑↑↑↑↑↑↑↑↑↑↑↑↑↑↑↑ your code goes above this"
      ]
    },
    {
      "cell_type": "markdown",
      "metadata": {
        "id": "CAPW_1OxLvms"
      },
      "source": [
        "### Visualization of the Decision Tree"
      ]
    },
    {
      "cell_type": "markdown",
<<<<<<< HEAD
<<<<<<< HEAD
      "metadata": {
        "id": "2TeyeWykrBYE"
      },
      "source": [
        "In the following, we use the `graphviz` package to visualize  <br>\n",
        "decision trees in the form of flowcharts."
      ]
    },
    {
      "cell_type": "code",
      "execution_count": 8,
      "metadata": {
        "id": "3gziiuAgLvmt"
      },
      "outputs": [
        {
          "data": {
            "image/svg+xml": [
              "<?xml version=\"1.0\" encoding=\"UTF-8\" standalone=\"no\"?>\n",
              "<!DOCTYPE svg PUBLIC \"-//W3C//DTD SVG 1.1//EN\"\n",
              " \"http://www.w3.org/Graphics/SVG/1.1/DTD/svg11.dtd\">\n",
              "<!-- Generated by graphviz version 12.2.1 (20241206.2353)\n",
              " -->\n",
              "<!-- Title: Tree Pages: 1 -->\n",
              "<svg width=\"350pt\" height=\"314pt\"\n",
              " viewBox=\"0.00 0.00 349.50 314.00\" xmlns=\"http://www.w3.org/2000/svg\" xmlns:xlink=\"http://www.w3.org/1999/xlink\">\n",
              "<g id=\"graph0\" class=\"graph\" transform=\"scale(1 1) rotate(0) translate(4 310)\">\n",
              "<title>Tree</title>\n",
              "<polygon fill=\"white\" stroke=\"none\" points=\"-4,4 -4,-310 345.5,-310 345.5,4 -4,4\"/>\n",
              "<!-- 0 -->\n",
              "<g id=\"node1\" class=\"node\">\n",
              "<title>0</title>\n",
              "<path fill=\"#ffffff\" stroke=\"black\" d=\"M208,-306C208,-306 64.5,-306 64.5,-306 58.5,-306 52.5,-300 52.5,-294 52.5,-294 52.5,-235 52.5,-235 52.5,-229 58.5,-223 64.5,-223 64.5,-223 208,-223 208,-223 214,-223 220,-229 220,-235 220,-235 220,-294 220,-294 220,-300 214,-306 208,-306\"/>\n",
              "<text text-anchor=\"middle\" x=\"136.25\" y=\"-288.7\" font-family=\"Helvetica,sans-Serif\" font-size=\"14.00\">petal length (cm) &lt;= 2.45</text>\n",
              "<text text-anchor=\"middle\" x=\"136.25\" y=\"-273.7\" font-family=\"Helvetica,sans-Serif\" font-size=\"14.00\">gini = 0.667</text>\n",
              "<text text-anchor=\"middle\" x=\"136.25\" y=\"-258.7\" font-family=\"Helvetica,sans-Serif\" font-size=\"14.00\">samples = 150</text>\n",
              "<text text-anchor=\"middle\" x=\"136.25\" y=\"-243.7\" font-family=\"Helvetica,sans-Serif\" font-size=\"14.00\">value = [50, 50, 50]</text>\n",
              "<text text-anchor=\"middle\" x=\"136.25\" y=\"-228.7\" font-family=\"Helvetica,sans-Serif\" font-size=\"14.00\">class = setosa</text>\n",
              "</g>\n",
              "<!-- 1 -->\n",
              "<g id=\"node2\" class=\"node\">\n",
              "<title>1</title>\n",
              "<path fill=\"#e58139\" stroke=\"black\" d=\"M104.5,-179.5C104.5,-179.5 12,-179.5 12,-179.5 6,-179.5 0,-173.5 0,-167.5 0,-167.5 0,-123.5 0,-123.5 0,-117.5 6,-111.5 12,-111.5 12,-111.5 104.5,-111.5 104.5,-111.5 110.5,-111.5 116.5,-117.5 116.5,-123.5 116.5,-123.5 116.5,-167.5 116.5,-167.5 116.5,-173.5 110.5,-179.5 104.5,-179.5\"/>\n",
              "<text text-anchor=\"middle\" x=\"58.25\" y=\"-162.2\" font-family=\"Helvetica,sans-Serif\" font-size=\"14.00\">gini = 0.0</text>\n",
              "<text text-anchor=\"middle\" x=\"58.25\" y=\"-147.2\" font-family=\"Helvetica,sans-Serif\" font-size=\"14.00\">samples = 50</text>\n",
              "<text text-anchor=\"middle\" x=\"58.25\" y=\"-132.2\" font-family=\"Helvetica,sans-Serif\" font-size=\"14.00\">value = [50, 0, 0]</text>\n",
              "<text text-anchor=\"middle\" x=\"58.25\" y=\"-117.2\" font-family=\"Helvetica,sans-Serif\" font-size=\"14.00\">class = setosa</text>\n",
              "</g>\n",
              "<!-- 0&#45;&gt;1 -->\n",
              "<g id=\"edge1\" class=\"edge\">\n",
              "<title>0&#45;&gt;1</title>\n",
              "<path fill=\"none\" stroke=\"black\" d=\"M108.97,-222.58C101.77,-211.77 93.97,-200.09 86.71,-189.19\"/>\n",
              "<polygon fill=\"black\" stroke=\"black\" points=\"89.79,-187.5 81.33,-181.12 83.97,-191.38 89.79,-187.5\"/>\n",
              "<text text-anchor=\"middle\" x=\"75.59\" y=\"-198.58\" font-family=\"Helvetica,sans-Serif\" font-size=\"14.00\">True</text>\n",
              "</g>\n",
              "<!-- 2 -->\n",
              "<g id=\"node3\" class=\"node\">\n",
              "<title>2</title>\n",
              "<path fill=\"#ffffff\" stroke=\"black\" d=\"M284.38,-187C284.38,-187 146.12,-187 146.12,-187 140.12,-187 134.12,-181 134.12,-175 134.12,-175 134.12,-116 134.12,-116 134.12,-110 140.12,-104 146.12,-104 146.12,-104 284.38,-104 284.38,-104 290.38,-104 296.38,-110 296.38,-116 296.38,-116 296.38,-175 296.38,-175 296.38,-181 290.38,-187 284.38,-187\"/>\n",
              "<text text-anchor=\"middle\" x=\"215.25\" y=\"-169.7\" font-family=\"Helvetica,sans-Serif\" font-size=\"14.00\">petal width (cm) &lt;= 1.75</text>\n",
              "<text text-anchor=\"middle\" x=\"215.25\" y=\"-154.7\" font-family=\"Helvetica,sans-Serif\" font-size=\"14.00\">gini = 0.5</text>\n",
              "<text text-anchor=\"middle\" x=\"215.25\" y=\"-139.7\" font-family=\"Helvetica,sans-Serif\" font-size=\"14.00\">samples = 100</text>\n",
              "<text text-anchor=\"middle\" x=\"215.25\" y=\"-124.7\" font-family=\"Helvetica,sans-Serif\" font-size=\"14.00\">value = [0, 50, 50]</text>\n",
              "<text text-anchor=\"middle\" x=\"215.25\" y=\"-109.7\" font-family=\"Helvetica,sans-Serif\" font-size=\"14.00\">class = versicolor</text>\n",
              "</g>\n",
              "<!-- 0&#45;&gt;2 -->\n",
              "<g id=\"edge2\" class=\"edge\">\n",
              "<title>0&#45;&gt;2</title>\n",
              "<path fill=\"none\" stroke=\"black\" d=\"M163.88,-222.58C169.57,-214.16 175.61,-205.2 181.49,-196.5\"/>\n",
              "<polygon fill=\"black\" stroke=\"black\" points=\"184.23,-198.7 186.92,-188.45 178.42,-194.78 184.23,-198.7\"/>\n",
              "<text text-anchor=\"middle\" x=\"192.53\" y=\"-205.94\" font-family=\"Helvetica,sans-Serif\" font-size=\"14.00\">False</text>\n",
              "</g>\n",
              "<!-- 3 -->\n",
              "<g id=\"node4\" class=\"node\">\n",
              "<title>3</title>\n",
              "<path fill=\"#4de88e\" stroke=\"black\" d=\"M195.38,-68C195.38,-68 99.12,-68 99.12,-68 93.12,-68 87.12,-62 87.12,-56 87.12,-56 87.12,-12 87.12,-12 87.12,-6 93.12,0 99.12,0 99.12,0 195.38,0 195.38,0 201.38,0 207.38,-6 207.38,-12 207.38,-12 207.38,-56 207.38,-56 207.38,-62 201.38,-68 195.38,-68\"/>\n",
              "<text text-anchor=\"middle\" x=\"147.25\" y=\"-50.7\" font-family=\"Helvetica,sans-Serif\" font-size=\"14.00\">gini = 0.168</text>\n",
              "<text text-anchor=\"middle\" x=\"147.25\" y=\"-35.7\" font-family=\"Helvetica,sans-Serif\" font-size=\"14.00\">samples = 54</text>\n",
              "<text text-anchor=\"middle\" x=\"147.25\" y=\"-20.7\" font-family=\"Helvetica,sans-Serif\" font-size=\"14.00\">value = [0, 49, 5]</text>\n",
              "<text text-anchor=\"middle\" x=\"147.25\" y=\"-5.7\" font-family=\"Helvetica,sans-Serif\" font-size=\"14.00\">class = versicolor</text>\n",
              "</g>\n",
              "<!-- 2&#45;&gt;3 -->\n",
              "<g id=\"edge3\" class=\"edge\">\n",
              "<title>2&#45;&gt;3</title>\n",
              "<path fill=\"none\" stroke=\"black\" d=\"M189.93,-103.73C184.72,-95.34 179.22,-86.47 173.96,-78.01\"/>\n",
              "<polygon fill=\"black\" stroke=\"black\" points=\"176.98,-76.23 168.73,-69.59 171.03,-79.93 176.98,-76.23\"/>\n",
              "</g>\n",
              "<!-- 4 -->\n",
              "<g id=\"node5\" class=\"node\">\n",
              "<title>4</title>\n",
              "<path fill=\"#843de6\" stroke=\"black\" d=\"M329.5,-68C329.5,-68 237,-68 237,-68 231,-68 225,-62 225,-56 225,-56 225,-12 225,-12 225,-6 231,0 237,0 237,0 329.5,0 329.5,0 335.5,0 341.5,-6 341.5,-12 341.5,-12 341.5,-56 341.5,-56 341.5,-62 335.5,-68 329.5,-68\"/>\n",
              "<text text-anchor=\"middle\" x=\"283.25\" y=\"-50.7\" font-family=\"Helvetica,sans-Serif\" font-size=\"14.00\">gini = 0.043</text>\n",
              "<text text-anchor=\"middle\" x=\"283.25\" y=\"-35.7\" font-family=\"Helvetica,sans-Serif\" font-size=\"14.00\">samples = 46</text>\n",
              "<text text-anchor=\"middle\" x=\"283.25\" y=\"-20.7\" font-family=\"Helvetica,sans-Serif\" font-size=\"14.00\">value = [0, 1, 45]</text>\n",
              "<text text-anchor=\"middle\" x=\"283.25\" y=\"-5.7\" font-family=\"Helvetica,sans-Serif\" font-size=\"14.00\">class = virginica</text>\n",
              "</g>\n",
              "<!-- 2&#45;&gt;4 -->\n",
              "<g id=\"edge4\" class=\"edge\">\n",
              "<title>2&#45;&gt;4</title>\n",
              "<path fill=\"none\" stroke=\"black\" d=\"M240.57,-103.73C245.78,-95.34 251.28,-86.47 256.54,-78.01\"/>\n",
              "<polygon fill=\"black\" stroke=\"black\" points=\"259.47,-79.93 261.77,-69.59 253.52,-76.23 259.47,-79.93\"/>\n",
              "</g>\n",
              "</g>\n",
              "</svg>\n"
            ],
            "text/plain": [
              "<graphviz.sources.Source at 0x13d2d3640>"
            ]
          },
          "execution_count": 8,
          "metadata": {},
          "output_type": "execute_result"
        }
      ],
=======
=======
      "metadata": {
        "id": "2TeyeWykrBYE"
      },
>>>>>>> e03ff68 (updates)
      "source": [
        "In the following, we use the `graphviz` package to visualize  <br>\n",
        "decision trees in the form of flowcharts."
      ]
    },
    {
      "cell_type": "code",
      "execution_count": 8,
      "metadata": {
        "id": "3gziiuAgLvmt"
      },
<<<<<<< HEAD
      "outputs": [],
>>>>>>> 2a6a815 (Merge remote-tracking branch 'upstream/main')
=======
      "outputs": [
        {
          "data": {
            "image/svg+xml": [
              "<?xml version=\"1.0\" encoding=\"UTF-8\" standalone=\"no\"?>\n",
              "<!DOCTYPE svg PUBLIC \"-//W3C//DTD SVG 1.1//EN\"\n",
              " \"http://www.w3.org/Graphics/SVG/1.1/DTD/svg11.dtd\">\n",
              "<!-- Generated by graphviz version 12.2.1 (20241206.2353)\n",
              " -->\n",
              "<!-- Title: Tree Pages: 1 -->\n",
              "<svg width=\"350pt\" height=\"314pt\"\n",
              " viewBox=\"0.00 0.00 349.50 314.00\" xmlns=\"http://www.w3.org/2000/svg\" xmlns:xlink=\"http://www.w3.org/1999/xlink\">\n",
              "<g id=\"graph0\" class=\"graph\" transform=\"scale(1 1) rotate(0) translate(4 310)\">\n",
              "<title>Tree</title>\n",
              "<polygon fill=\"white\" stroke=\"none\" points=\"-4,4 -4,-310 345.5,-310 345.5,4 -4,4\"/>\n",
              "<!-- 0 -->\n",
              "<g id=\"node1\" class=\"node\">\n",
              "<title>0</title>\n",
              "<path fill=\"#ffffff\" stroke=\"black\" d=\"M208,-306C208,-306 64.5,-306 64.5,-306 58.5,-306 52.5,-300 52.5,-294 52.5,-294 52.5,-235 52.5,-235 52.5,-229 58.5,-223 64.5,-223 64.5,-223 208,-223 208,-223 214,-223 220,-229 220,-235 220,-235 220,-294 220,-294 220,-300 214,-306 208,-306\"/>\n",
              "<text text-anchor=\"middle\" x=\"136.25\" y=\"-288.7\" font-family=\"Helvetica,sans-Serif\" font-size=\"14.00\">petal length (cm) &lt;= 2.45</text>\n",
              "<text text-anchor=\"middle\" x=\"136.25\" y=\"-273.7\" font-family=\"Helvetica,sans-Serif\" font-size=\"14.00\">gini = 0.667</text>\n",
              "<text text-anchor=\"middle\" x=\"136.25\" y=\"-258.7\" font-family=\"Helvetica,sans-Serif\" font-size=\"14.00\">samples = 150</text>\n",
              "<text text-anchor=\"middle\" x=\"136.25\" y=\"-243.7\" font-family=\"Helvetica,sans-Serif\" font-size=\"14.00\">value = [50, 50, 50]</text>\n",
              "<text text-anchor=\"middle\" x=\"136.25\" y=\"-228.7\" font-family=\"Helvetica,sans-Serif\" font-size=\"14.00\">class = setosa</text>\n",
              "</g>\n",
              "<!-- 1 -->\n",
              "<g id=\"node2\" class=\"node\">\n",
              "<title>1</title>\n",
              "<path fill=\"#e58139\" stroke=\"black\" d=\"M104.5,-179.5C104.5,-179.5 12,-179.5 12,-179.5 6,-179.5 0,-173.5 0,-167.5 0,-167.5 0,-123.5 0,-123.5 0,-117.5 6,-111.5 12,-111.5 12,-111.5 104.5,-111.5 104.5,-111.5 110.5,-111.5 116.5,-117.5 116.5,-123.5 116.5,-123.5 116.5,-167.5 116.5,-167.5 116.5,-173.5 110.5,-179.5 104.5,-179.5\"/>\n",
              "<text text-anchor=\"middle\" x=\"58.25\" y=\"-162.2\" font-family=\"Helvetica,sans-Serif\" font-size=\"14.00\">gini = 0.0</text>\n",
              "<text text-anchor=\"middle\" x=\"58.25\" y=\"-147.2\" font-family=\"Helvetica,sans-Serif\" font-size=\"14.00\">samples = 50</text>\n",
              "<text text-anchor=\"middle\" x=\"58.25\" y=\"-132.2\" font-family=\"Helvetica,sans-Serif\" font-size=\"14.00\">value = [50, 0, 0]</text>\n",
              "<text text-anchor=\"middle\" x=\"58.25\" y=\"-117.2\" font-family=\"Helvetica,sans-Serif\" font-size=\"14.00\">class = setosa</text>\n",
              "</g>\n",
              "<!-- 0&#45;&gt;1 -->\n",
              "<g id=\"edge1\" class=\"edge\">\n",
              "<title>0&#45;&gt;1</title>\n",
              "<path fill=\"none\" stroke=\"black\" d=\"M108.97,-222.58C101.77,-211.77 93.97,-200.09 86.71,-189.19\"/>\n",
              "<polygon fill=\"black\" stroke=\"black\" points=\"89.79,-187.5 81.33,-181.12 83.97,-191.38 89.79,-187.5\"/>\n",
              "<text text-anchor=\"middle\" x=\"75.59\" y=\"-198.58\" font-family=\"Helvetica,sans-Serif\" font-size=\"14.00\">True</text>\n",
              "</g>\n",
              "<!-- 2 -->\n",
              "<g id=\"node3\" class=\"node\">\n",
              "<title>2</title>\n",
              "<path fill=\"#ffffff\" stroke=\"black\" d=\"M284.38,-187C284.38,-187 146.12,-187 146.12,-187 140.12,-187 134.12,-181 134.12,-175 134.12,-175 134.12,-116 134.12,-116 134.12,-110 140.12,-104 146.12,-104 146.12,-104 284.38,-104 284.38,-104 290.38,-104 296.38,-110 296.38,-116 296.38,-116 296.38,-175 296.38,-175 296.38,-181 290.38,-187 284.38,-187\"/>\n",
              "<text text-anchor=\"middle\" x=\"215.25\" y=\"-169.7\" font-family=\"Helvetica,sans-Serif\" font-size=\"14.00\">petal width (cm) &lt;= 1.75</text>\n",
              "<text text-anchor=\"middle\" x=\"215.25\" y=\"-154.7\" font-family=\"Helvetica,sans-Serif\" font-size=\"14.00\">gini = 0.5</text>\n",
              "<text text-anchor=\"middle\" x=\"215.25\" y=\"-139.7\" font-family=\"Helvetica,sans-Serif\" font-size=\"14.00\">samples = 100</text>\n",
              "<text text-anchor=\"middle\" x=\"215.25\" y=\"-124.7\" font-family=\"Helvetica,sans-Serif\" font-size=\"14.00\">value = [0, 50, 50]</text>\n",
              "<text text-anchor=\"middle\" x=\"215.25\" y=\"-109.7\" font-family=\"Helvetica,sans-Serif\" font-size=\"14.00\">class = versicolor</text>\n",
              "</g>\n",
              "<!-- 0&#45;&gt;2 -->\n",
              "<g id=\"edge2\" class=\"edge\">\n",
              "<title>0&#45;&gt;2</title>\n",
              "<path fill=\"none\" stroke=\"black\" d=\"M163.88,-222.58C169.57,-214.16 175.61,-205.2 181.49,-196.5\"/>\n",
              "<polygon fill=\"black\" stroke=\"black\" points=\"184.23,-198.7 186.92,-188.45 178.42,-194.78 184.23,-198.7\"/>\n",
              "<text text-anchor=\"middle\" x=\"192.53\" y=\"-205.94\" font-family=\"Helvetica,sans-Serif\" font-size=\"14.00\">False</text>\n",
              "</g>\n",
              "<!-- 3 -->\n",
              "<g id=\"node4\" class=\"node\">\n",
              "<title>3</title>\n",
              "<path fill=\"#4de88e\" stroke=\"black\" d=\"M195.38,-68C195.38,-68 99.12,-68 99.12,-68 93.12,-68 87.12,-62 87.12,-56 87.12,-56 87.12,-12 87.12,-12 87.12,-6 93.12,0 99.12,0 99.12,0 195.38,0 195.38,0 201.38,0 207.38,-6 207.38,-12 207.38,-12 207.38,-56 207.38,-56 207.38,-62 201.38,-68 195.38,-68\"/>\n",
              "<text text-anchor=\"middle\" x=\"147.25\" y=\"-50.7\" font-family=\"Helvetica,sans-Serif\" font-size=\"14.00\">gini = 0.168</text>\n",
              "<text text-anchor=\"middle\" x=\"147.25\" y=\"-35.7\" font-family=\"Helvetica,sans-Serif\" font-size=\"14.00\">samples = 54</text>\n",
              "<text text-anchor=\"middle\" x=\"147.25\" y=\"-20.7\" font-family=\"Helvetica,sans-Serif\" font-size=\"14.00\">value = [0, 49, 5]</text>\n",
              "<text text-anchor=\"middle\" x=\"147.25\" y=\"-5.7\" font-family=\"Helvetica,sans-Serif\" font-size=\"14.00\">class = versicolor</text>\n",
              "</g>\n",
              "<!-- 2&#45;&gt;3 -->\n",
              "<g id=\"edge3\" class=\"edge\">\n",
              "<title>2&#45;&gt;3</title>\n",
              "<path fill=\"none\" stroke=\"black\" d=\"M189.93,-103.73C184.72,-95.34 179.22,-86.47 173.96,-78.01\"/>\n",
              "<polygon fill=\"black\" stroke=\"black\" points=\"176.98,-76.23 168.73,-69.59 171.03,-79.93 176.98,-76.23\"/>\n",
              "</g>\n",
              "<!-- 4 -->\n",
              "<g id=\"node5\" class=\"node\">\n",
              "<title>4</title>\n",
              "<path fill=\"#843de6\" stroke=\"black\" d=\"M329.5,-68C329.5,-68 237,-68 237,-68 231,-68 225,-62 225,-56 225,-56 225,-12 225,-12 225,-6 231,0 237,0 237,0 329.5,0 329.5,0 335.5,0 341.5,-6 341.5,-12 341.5,-12 341.5,-56 341.5,-56 341.5,-62 335.5,-68 329.5,-68\"/>\n",
              "<text text-anchor=\"middle\" x=\"283.25\" y=\"-50.7\" font-family=\"Helvetica,sans-Serif\" font-size=\"14.00\">gini = 0.043</text>\n",
              "<text text-anchor=\"middle\" x=\"283.25\" y=\"-35.7\" font-family=\"Helvetica,sans-Serif\" font-size=\"14.00\">samples = 46</text>\n",
              "<text text-anchor=\"middle\" x=\"283.25\" y=\"-20.7\" font-family=\"Helvetica,sans-Serif\" font-size=\"14.00\">value = [0, 1, 45]</text>\n",
              "<text text-anchor=\"middle\" x=\"283.25\" y=\"-5.7\" font-family=\"Helvetica,sans-Serif\" font-size=\"14.00\">class = virginica</text>\n",
              "</g>\n",
              "<!-- 2&#45;&gt;4 -->\n",
              "<g id=\"edge4\" class=\"edge\">\n",
              "<title>2&#45;&gt;4</title>\n",
              "<path fill=\"none\" stroke=\"black\" d=\"M240.57,-103.73C245.78,-95.34 251.28,-86.47 256.54,-78.01\"/>\n",
              "<polygon fill=\"black\" stroke=\"black\" points=\"259.47,-79.93 261.77,-69.59 253.52,-76.23 259.47,-79.93\"/>\n",
              "</g>\n",
              "</g>\n",
              "</svg>\n"
            ],
            "text/plain": [
              "<graphviz.sources.Source at 0x13d2d3640>"
            ]
          },
          "execution_count": 8,
          "metadata": {},
          "output_type": "execute_result"
        }
      ],
>>>>>>> e03ff68 (updates)
      "source": [
        "from graphviz import Source\n",
        "from sklearn.tree import export_graphviz\n",
        "\n",
        "IMAGES_PATH = os.path.join(\".\", \"images\")\n",
        "os.makedirs(IMAGES_PATH, exist_ok=True)\n",
        "\n",
        "export_graphviz(\n",
        "        tree_clf,\n",
        "        out_file=os.path.join(IMAGES_PATH, \"iris_tree.dot\"),\n",
        "        feature_names=iris.feature_names[2:],\n",
        "        class_names=iris.target_names,\n",
        "        rounded=True,\n",
        "        filled=True\n",
        "    )\n",
        "\n",
        "Source.from_file(os.path.join(IMAGES_PATH, \"iris_tree.dot\"))"
      ]
    },
    {
      "cell_type": "markdown",
<<<<<<< HEAD
<<<<<<< HEAD
      "metadata": {
        "id": "W1AhD8IqILWn"
      },
=======
>>>>>>> 2a6a815 (Merge remote-tracking branch 'upstream/main')
=======
      "metadata": {
        "id": "W1AhD8IqILWn"
      },
>>>>>>> e03ff68 (updates)
      "source": [
        "**Don't worry about understanding the following code but do try to** <br>\n",
        "**understand the plot itself**. This isn't the first time we've looked at <br>\n",
        "plots of decision boundaries before. Reminder, a decision boundary is <br>\n",
        "some cutoff point we determine within the data that separates one <br>\n",
        "classification from another."
<<<<<<< HEAD
<<<<<<< HEAD
      ]
    },
    {
      "cell_type": "code",
      "execution_count": 9,
      "metadata": {
        "id": "62w-roFsLvmt"
      },
      "outputs": [
        {
          "data": {
            "image/png": "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",
            "text/plain": [
              "<Figure size 800x400 with 1 Axes>"
            ]
          },
          "metadata": {},
          "output_type": "display_data"
        }
      ],
=======
      ],
      "metadata": {
        "id": "W1AhD8IqILWn"
      }
=======
      ]
>>>>>>> e03ff68 (updates)
    },
    {
      "cell_type": "code",
      "execution_count": 9,
      "metadata": {
        "id": "62w-roFsLvmt"
      },
<<<<<<< HEAD
      "outputs": [],
>>>>>>> 2a6a815 (Merge remote-tracking branch 'upstream/main')
=======
      "outputs": [
        {
          "data": {
            "image/png": "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",
            "text/plain": [
              "<Figure size 800x400 with 1 Axes>"
            ]
          },
          "metadata": {},
          "output_type": "display_data"
        }
      ],
>>>>>>> e03ff68 (updates)
      "source": [
        "from matplotlib.colors import ListedColormap\n",
        "\n",
        "def plot_decision_boundary(clf, X, y, axes=[0, 7.5, 0, 3], iris=True, legend=False, plot_training=True):\n",
        "    x1s = np.linspace(axes[0], axes[1], 100)\n",
        "    x2s = np.linspace(axes[2], axes[3], 100)\n",
        "    x1, x2 = np.meshgrid(x1s, x2s)\n",
        "    X_new = np.c_[x1.ravel(), x2.ravel()]\n",
        "    y_pred = clf.predict(X_new).reshape(x1.shape)\n",
        "    custom_cmap = ListedColormap(['#fafab0','#9898ff','#a0faa0'])\n",
        "    plt.contourf(x1, x2, y_pred, alpha=0.3, cmap=custom_cmap)\n",
        "    if not iris:\n",
        "        custom_cmap2 = ListedColormap(['#7d7d58','#4c4c7f','#507d50'])\n",
        "        plt.contour(x1, x2, y_pred, cmap=custom_cmap2, alpha=0.8)\n",
        "    if plot_training:\n",
        "        plt.plot(X[:, 0][y==0], X[:, 1][y==0], \"yo\", label=\"Iris setosa\")\n",
        "        plt.plot(X[:, 0][y==1], X[:, 1][y==1], \"bs\", label=\"Iris versicolor\")\n",
        "        plt.plot(X[:, 0][y==2], X[:, 1][y==2], \"g^\", label=\"Iris virginica\")\n",
        "        plt.axis(axes)\n",
        "    if iris:\n",
        "        plt.xlabel(\"Petal length\", fontsize=14)\n",
        "        plt.ylabel(\"Petal width\", fontsize=14)\n",
        "    else:\n",
        "        plt.xlabel(r\"$x_1$\", fontsize=18)\n",
        "        plt.ylabel(r\"$x_2$\", fontsize=18, rotation=0)\n",
        "    if legend:\n",
        "        plt.legend(loc=\"lower right\", fontsize=14)\n",
        "\n",
        "plt.figure(figsize=(8, 4))\n",
        "plot_decision_boundary(tree_clf, X, y)\n",
        "plt.plot([2.45, 2.45], [0, 3], \"k-\", linewidth=2)\n",
        "plt.plot([2.45, 7.5], [1.75, 1.75], \"k--\", linewidth=2)\n",
        "plt.plot([4.95, 4.95], [0, 1.75], \"k:\", linewidth=2)\n",
        "plt.plot([4.85, 4.85], [1.75, 3], \"k:\", linewidth=2)\n",
        "plt.text(1.40, 1.0, \"Depth=0\", fontsize=15)\n",
        "plt.text(3.2, 1.80, \"Depth=1\", fontsize=13)\n",
        "plt.text(4.05, 0.5, \"(Depth=2)\", fontsize=11)\n",
        "\n",
        "plt.show()"
      ]
    },
    {
      "cell_type": "markdown",
      "metadata": {
        "id": "GG5_hSo9Lvmu"
      },
      "source": [
        "## Predicting classes and class probabilities"
      ]
    },
    {
      "cell_type": "markdown",
      "metadata": {
        "id": "LoFdkAfPLvmu"
      },
      "source": [
        "### Task 2\n",
        "Next, predict the probabilities and the class for the following values: <br>\n",
        "``` X=[[5, 1.5]] ``` for petal length and petal width.\n",
        "\n",
        "You will need the functions `tree_clf.predict_proba()` and <br>\n",
        "`tree_clf.predict()`. You do not need to import these as these are <br>\n",
        "functions already included with your decision tree classifier."
      ]
    },
    {
      "cell_type": "markdown",
      "metadata": {
        "id": "Zjoh3xeA36Rc"
      },
      "source": [
        "↓↓↓↓↓↓↓↓↓↓↓↓↓↓↓↓↓↓↓↓↓↓↓↓↓↓↓↓↓↓↓\n",
        "your code goes below"
      ]
    },
    {
      "cell_type": "code",
<<<<<<< HEAD
<<<<<<< HEAD
      "execution_count": 10,
      "metadata": {
        "id": "fGOKuN7zLvmu"
      },
      "outputs": [
        {
          "data": {
            "text/plain": [
              "array([[0.        , 0.90740741, 0.09259259]])"
            ]
          },
          "execution_count": 10,
          "metadata": {},
          "output_type": "execute_result"
        }
      ],
      "source": [
        "pred_prob = tree_clf.predict_proba([[5,1.5]])\n",
        "pred_prob"
=======
      "execution_count": null,
=======
      "execution_count": 10,
>>>>>>> e03ff68 (updates)
      "metadata": {
        "id": "fGOKuN7zLvmu"
      },
      "outputs": [
        {
          "data": {
            "text/plain": [
              "array([[0.        , 0.90740741, 0.09259259]])"
            ]
          },
          "execution_count": 10,
          "metadata": {},
          "output_type": "execute_result"
        }
      ],
      "source": [
<<<<<<< HEAD
        "# pred_prob =\n",
        "# pred_prob"
>>>>>>> 2a6a815 (Merge remote-tracking branch 'upstream/main')
=======
        "pred_prob = tree_clf.predict_proba([[5,1.5]])\n",
        "pred_prob"
>>>>>>> e03ff68 (updates)
      ]
    },
    {
      "cell_type": "code",
<<<<<<< HEAD
<<<<<<< HEAD
      "execution_count": 11,
      "metadata": {
        "id": "NI9sJ915Lvmu"
      },
      "outputs": [
        {
          "data": {
            "text/plain": [
              "array([1])"
            ]
          },
          "execution_count": 11,
          "metadata": {},
          "output_type": "execute_result"
        }
      ],
      "source": [
        "y_pred = tree_clf.predict([[5,1.5]])\n",
        "y_pred"
=======
      "execution_count": null,
=======
      "execution_count": 11,
>>>>>>> e03ff68 (updates)
      "metadata": {
        "id": "NI9sJ915Lvmu"
      },
      "outputs": [
        {
          "data": {
            "text/plain": [
              "array([1])"
            ]
          },
          "execution_count": 11,
          "metadata": {},
          "output_type": "execute_result"
        }
      ],
      "source": [
<<<<<<< HEAD
        "# y_pred =\n",
        "# y_pred"
>>>>>>> 2a6a815 (Merge remote-tracking branch 'upstream/main')
=======
        "y_pred = tree_clf.predict([[5,1.5]])\n",
        "y_pred"
>>>>>>> e03ff68 (updates)
      ]
    },
    {
      "cell_type": "markdown",
      "metadata": {
        "id": "z9UKK78g38bM"
      },
      "source": [
        "↑↑↑↑↑↑↑↑↑↑↑↑↑↑↑↑↑↑↑↑↑↑↑↑↑↑↑↑↑↑↑ your code goes above this"
      ]
    },
    {
      "cell_type": "markdown",
      "metadata": {
        "id": "Diwf_pKgLvmv"
      },
      "source": [
        "You can also check in the plot above what class you would put the instance <br> `X=[[5, 1.5]]` into.\n",
        "In the plot, yellow corresponds to class 0 (Iris setosa), blue <br> corresponds to class 1 (Iris versicolor), and green corresponds to class <br> 2 (Iris virginica)."
      ]
    },
    {
      "cell_type": "markdown",
      "metadata": {
        "id": "06craaUpLvmv"
      },
      "source": [
        "## Sensitivity to training set details"
      ]
    },
    {
      "cell_type": "markdown",
      "metadata": {
        "id": "_T9FESIKLvmv"
      },
      "source": [
        "### Task 3\n",
        "Next, we want to explore the sensitivity to the training set details. <br>\n",
        "We will train the same decision tree model, but with slightly different <br>\n",
        "training data.\n",
        "\n",
        "\n",
        "**Task 3a (bonus)**: The statements in the next two cells are the same. <br>\n",
        "For bonus points you can explain why that's the case.\n",
        "\n",
        "Hint: refer to the [dataset description](https://scikit-learn.org/stable/auto_examples/datasets/plot_iris_dataset.html)\n",
        "and think about the slicing of the <br>\n",
        "array below. Which values are selected and which data do they show? It <br>\n",
        "helps to evaluate parts of the expression separately and try to <br>\n",
        "understand them."
      ]
    },
    {
      "cell_type": "code",
<<<<<<< HEAD
<<<<<<< HEAD
      "execution_count": 12,
      "metadata": {
        "id": "_b6kbQlWLvmv"
      },
      "outputs": [
        {
          "data": {
            "text/plain": [
              "array([[4.8, 1.8]])"
            ]
          },
          "execution_count": 12,
          "metadata": {},
          "output_type": "execute_result"
        }
      ],
=======
      "execution_count": null,
      "metadata": {
        "id": "_b6kbQlWLvmv"
      },
      "outputs": [],
>>>>>>> 2a6a815 (Merge remote-tracking branch 'upstream/main')
=======
      "execution_count": 12,
      "metadata": {
        "id": "_b6kbQlWLvmv"
      },
      "outputs": [
        {
          "data": {
            "text/plain": [
              "array([[4.8, 1.8]])"
            ]
          },
          "execution_count": 12,
          "metadata": {},
          "output_type": "execute_result"
        }
      ],
>>>>>>> e03ff68 (updates)
      "source": [
        "X[(X[:, 1]==X[:, 1][y==1].max()) & (y==1)]"
      ]
    },
    {
      "cell_type": "code",
<<<<<<< HEAD
<<<<<<< HEAD
      "execution_count": 13,
      "metadata": {
        "id": "l2etXft1MQ9j"
      },
      "outputs": [
        {
          "data": {
            "text/plain": [
              "array([[4.8, 1.8]])"
            ]
          },
          "execution_count": 13,
          "metadata": {},
          "output_type": "execute_result"
        }
      ],
      "source": [
        "X[(X[:, 1]==[1.8]) & (y==1)]"
      ]
=======
      "source": [
        "X[(X[:, 1]==[1.8]) & (y==1)]"
      ],
      "metadata": {
        "id": "l2etXft1MQ9j"
      },
      "execution_count": null,
      "outputs": []
>>>>>>> 2a6a815 (Merge remote-tracking branch 'upstream/main')
=======
      "execution_count": 13,
      "metadata": {
        "id": "l2etXft1MQ9j"
      },
      "outputs": [
        {
          "data": {
            "text/plain": [
              "array([[4.8, 1.8]])"
            ]
          },
          "execution_count": 13,
          "metadata": {},
          "output_type": "execute_result"
        }
      ],
      "source": [
        "X[(X[:, 1]==[1.8]) & (y==1)]"
      ]
>>>>>>> e03ff68 (updates)
    },
    {
      "cell_type": "markdown",
      "metadata": {
        "id": "IXfv9e_SLvmv"
      },
      "source": [
        "↓↓↓↓↓↓↓↓↓↓↓↓↓↓↓↓↓↓↓↓↓↓↓↓↓↓↓↓↓↓↓\n",
        "your answer goes below"
      ]
    },
    {
      "cell_type": "markdown",
      "metadata": {
        "id": "6Y9x_e-tLvmv"
      },
      "source": [
<<<<<<< HEAD
<<<<<<< HEAD
        "Task 3a (bonus) answer:\n",
        "\n",
        "The slices are selecting the input values that correspond to the iris versicolor (y=1) and whose petal length (i.e feature no. 1 in X[:,1]) is equal to the maximum petal length for versicolor, i.e 1.8."
=======
        "Task 3a (bonus) answer:"
>>>>>>> 2a6a815 (Merge remote-tracking branch 'upstream/main')
=======
        "Task 3a (bonus) answer:\n",
        "\n",
        "The slices are selecting the input values that correspond to the iris versicolor (y=1) and whose petal length (i.e feature no. 1 in X[:,1]) is equal to the maximum petal length for versicolor, i.e 1.8."
>>>>>>> e03ff68 (updates)
      ]
    },
    {
      "cell_type": "markdown",
      "metadata": {
        "id": "MJ8fLtTKLvmw"
      },
      "source": [
        "↑↑↑↑↑↑↑↑↑↑↑↑↑↑↑↑↑↑↑↑↑↑↑↑↑↑↑↑↑↑↑ your answer goes above this"
      ]
    },
    {
      "cell_type": "markdown",
      "metadata": {
        "id": "1EatTXtOLvmw"
      },
      "source": [
        "**Task 3b**: Now, what if we select the values that are NOT <br>\n",
        "1.8. Which data would the dataset represent?"
      ]
    },
    {
      "cell_type": "markdown",
      "metadata": {
        "id": "l24q8LbZLvmw"
      },
      "source": [
        "↓↓↓↓↓↓↓↓↓↓↓↓↓↓↓↓↓↓↓↓↓↓↓↓↓↓↓↓↓↓↓ your answer goes below"
      ]
    },
    {
      "cell_type": "markdown",
      "metadata": {
        "id": "mA4_p-1NLvmw"
      },
      "source": [
        "Task 3b answer:"
      ]
    },
    {
      "cell_type": "markdown",
      "metadata": {
        "id": "H_we9tatLvmw"
      },
      "source": [
        "↑↑↑↑↑↑↑↑↑↑↑↑↑↑↑↑↑↑↑↑↑↑↑↑↑↑↑↑↑↑↑ your answer goes above this"
      ]
    },
    {
      "cell_type": "code",
<<<<<<< HEAD
<<<<<<< HEAD
      "execution_count": 14,
=======
      "execution_count": null,
>>>>>>> 2a6a815 (Merge remote-tracking branch 'upstream/main')
=======
      "execution_count": 14,
>>>>>>> e03ff68 (updates)
      "metadata": {
        "id": "p9Ih_SPJLvmw"
      },
      "outputs": [],
      "source": [
        "not_1_8 = (X[:, 1]!=1.8) | (y==2)\n",
        "X_tweaked = X[not_1_8]\n",
        "y_tweaked = y[not_1_8]"
      ]
    },
    {
      "cell_type": "markdown",
      "metadata": {
        "id": "P2R8FoyfLvmx"
      },
      "source": [
        "**Task 3c**: Fit a new Decision Tree Classifier to these values <br> (`X_tweaked`, `y_tweaked`) with the initial parameter values <br>\n",
        "```max_depth = 2``` and ```random_state = 40```."
      ]
    },
    {
      "cell_type": "markdown",
      "metadata": {
        "id": "bmkWDe7wLvmx"
      },
      "source": [
        "↓↓↓↓↓↓↓↓↓↓↓↓↓↓↓↓↓↓↓↓↓↓↓↓↓↓↓↓↓↓↓\n",
        "your code goes below"
      ]
    },
    {
      "cell_type": "code",
<<<<<<< HEAD
<<<<<<< HEAD
      "execution_count": 15,
      "metadata": {
        "id": "vohlqSe7Lvmx"
      },
      "outputs": [
        {
          "data": {
            "text/html": [
              "<style>#sk-container-id-2 {\n",
              "  /* Definition of color scheme common for light and dark mode */\n",
              "  --sklearn-color-text: #000;\n",
              "  --sklearn-color-text-muted: #666;\n",
              "  --sklearn-color-line: gray;\n",
              "  /* Definition of color scheme for unfitted estimators */\n",
              "  --sklearn-color-unfitted-level-0: #fff5e6;\n",
              "  --sklearn-color-unfitted-level-1: #f6e4d2;\n",
              "  --sklearn-color-unfitted-level-2: #ffe0b3;\n",
              "  --sklearn-color-unfitted-level-3: chocolate;\n",
              "  /* Definition of color scheme for fitted estimators */\n",
              "  --sklearn-color-fitted-level-0: #f0f8ff;\n",
              "  --sklearn-color-fitted-level-1: #d4ebff;\n",
              "  --sklearn-color-fitted-level-2: #b3dbfd;\n",
              "  --sklearn-color-fitted-level-3: cornflowerblue;\n",
              "\n",
              "  /* Specific color for light theme */\n",
              "  --sklearn-color-text-on-default-background: var(--sg-text-color, var(--theme-code-foreground, var(--jp-content-font-color1, black)));\n",
              "  --sklearn-color-background: var(--sg-background-color, var(--theme-background, var(--jp-layout-color0, white)));\n",
              "  --sklearn-color-border-box: var(--sg-text-color, var(--theme-code-foreground, var(--jp-content-font-color1, black)));\n",
              "  --sklearn-color-icon: #696969;\n",
              "\n",
              "  @media (prefers-color-scheme: dark) {\n",
              "    /* Redefinition of color scheme for dark theme */\n",
              "    --sklearn-color-text-on-default-background: var(--sg-text-color, var(--theme-code-foreground, var(--jp-content-font-color1, white)));\n",
              "    --sklearn-color-background: var(--sg-background-color, var(--theme-background, var(--jp-layout-color0, #111)));\n",
              "    --sklearn-color-border-box: var(--sg-text-color, var(--theme-code-foreground, var(--jp-content-font-color1, white)));\n",
              "    --sklearn-color-icon: #878787;\n",
              "  }\n",
              "}\n",
              "\n",
              "#sk-container-id-2 {\n",
              "  color: var(--sklearn-color-text);\n",
              "}\n",
              "\n",
              "#sk-container-id-2 pre {\n",
              "  padding: 0;\n",
              "}\n",
              "\n",
              "#sk-container-id-2 input.sk-hidden--visually {\n",
              "  border: 0;\n",
              "  clip: rect(1px 1px 1px 1px);\n",
              "  clip: rect(1px, 1px, 1px, 1px);\n",
              "  height: 1px;\n",
              "  margin: -1px;\n",
              "  overflow: hidden;\n",
              "  padding: 0;\n",
              "  position: absolute;\n",
              "  width: 1px;\n",
              "}\n",
              "\n",
              "#sk-container-id-2 div.sk-dashed-wrapped {\n",
              "  border: 1px dashed var(--sklearn-color-line);\n",
              "  margin: 0 0.4em 0.5em 0.4em;\n",
              "  box-sizing: border-box;\n",
              "  padding-bottom: 0.4em;\n",
              "  background-color: var(--sklearn-color-background);\n",
              "}\n",
              "\n",
              "#sk-container-id-2 div.sk-container {\n",
              "  /* jupyter's `normalize.less` sets `[hidden] { display: none; }`\n",
              "     but bootstrap.min.css set `[hidden] { display: none !important; }`\n",
              "     so we also need the `!important` here to be able to override the\n",
              "     default hidden behavior on the sphinx rendered scikit-learn.org.\n",
              "     See: https://github.com/scikit-learn/scikit-learn/issues/21755 */\n",
              "  display: inline-block !important;\n",
              "  position: relative;\n",
              "}\n",
              "\n",
              "#sk-container-id-2 div.sk-text-repr-fallback {\n",
              "  display: none;\n",
              "}\n",
              "\n",
              "div.sk-parallel-item,\n",
              "div.sk-serial,\n",
              "div.sk-item {\n",
              "  /* draw centered vertical line to link estimators */\n",
              "  background-image: linear-gradient(var(--sklearn-color-text-on-default-background), var(--sklearn-color-text-on-default-background));\n",
              "  background-size: 2px 100%;\n",
              "  background-repeat: no-repeat;\n",
              "  background-position: center center;\n",
              "}\n",
              "\n",
              "/* Parallel-specific style estimator block */\n",
              "\n",
              "#sk-container-id-2 div.sk-parallel-item::after {\n",
              "  content: \"\";\n",
              "  width: 100%;\n",
              "  border-bottom: 2px solid var(--sklearn-color-text-on-default-background);\n",
              "  flex-grow: 1;\n",
              "}\n",
              "\n",
              "#sk-container-id-2 div.sk-parallel {\n",
              "  display: flex;\n",
              "  align-items: stretch;\n",
              "  justify-content: center;\n",
              "  background-color: var(--sklearn-color-background);\n",
              "  position: relative;\n",
              "}\n",
              "\n",
              "#sk-container-id-2 div.sk-parallel-item {\n",
              "  display: flex;\n",
              "  flex-direction: column;\n",
              "}\n",
              "\n",
              "#sk-container-id-2 div.sk-parallel-item:first-child::after {\n",
              "  align-self: flex-end;\n",
              "  width: 50%;\n",
              "}\n",
              "\n",
              "#sk-container-id-2 div.sk-parallel-item:last-child::after {\n",
              "  align-self: flex-start;\n",
              "  width: 50%;\n",
              "}\n",
              "\n",
              "#sk-container-id-2 div.sk-parallel-item:only-child::after {\n",
              "  width: 0;\n",
              "}\n",
              "\n",
              "/* Serial-specific style estimator block */\n",
              "\n",
              "#sk-container-id-2 div.sk-serial {\n",
              "  display: flex;\n",
              "  flex-direction: column;\n",
              "  align-items: center;\n",
              "  background-color: var(--sklearn-color-background);\n",
              "  padding-right: 1em;\n",
              "  padding-left: 1em;\n",
              "}\n",
              "\n",
              "\n",
              "/* Toggleable style: style used for estimator/Pipeline/ColumnTransformer box that is\n",
              "clickable and can be expanded/collapsed.\n",
              "- Pipeline and ColumnTransformer use this feature and define the default style\n",
              "- Estimators will overwrite some part of the style using the `sk-estimator` class\n",
              "*/\n",
              "\n",
              "/* Pipeline and ColumnTransformer style (default) */\n",
              "\n",
              "#sk-container-id-2 div.sk-toggleable {\n",
              "  /* Default theme specific background. It is overwritten whether we have a\n",
              "  specific estimator or a Pipeline/ColumnTransformer */\n",
              "  background-color: var(--sklearn-color-background);\n",
              "}\n",
              "\n",
              "/* Toggleable label */\n",
              "#sk-container-id-2 label.sk-toggleable__label {\n",
              "  cursor: pointer;\n",
              "  display: flex;\n",
              "  width: 100%;\n",
              "  margin-bottom: 0;\n",
              "  padding: 0.5em;\n",
              "  box-sizing: border-box;\n",
              "  text-align: center;\n",
              "  align-items: start;\n",
              "  justify-content: space-between;\n",
              "  gap: 0.5em;\n",
              "}\n",
              "\n",
              "#sk-container-id-2 label.sk-toggleable__label .caption {\n",
              "  font-size: 0.6rem;\n",
              "  font-weight: lighter;\n",
              "  color: var(--sklearn-color-text-muted);\n",
              "}\n",
              "\n",
              "#sk-container-id-2 label.sk-toggleable__label-arrow:before {\n",
              "  /* Arrow on the left of the label */\n",
              "  content: \"▸\";\n",
              "  float: left;\n",
              "  margin-right: 0.25em;\n",
              "  color: var(--sklearn-color-icon);\n",
              "}\n",
              "\n",
              "#sk-container-id-2 label.sk-toggleable__label-arrow:hover:before {\n",
              "  color: var(--sklearn-color-text);\n",
              "}\n",
              "\n",
              "/* Toggleable content - dropdown */\n",
              "\n",
              "#sk-container-id-2 div.sk-toggleable__content {\n",
              "  max-height: 0;\n",
              "  max-width: 0;\n",
              "  overflow: hidden;\n",
              "  text-align: left;\n",
              "  /* unfitted */\n",
              "  background-color: var(--sklearn-color-unfitted-level-0);\n",
              "}\n",
              "\n",
              "#sk-container-id-2 div.sk-toggleable__content.fitted {\n",
              "  /* fitted */\n",
              "  background-color: var(--sklearn-color-fitted-level-0);\n",
              "}\n",
              "\n",
              "#sk-container-id-2 div.sk-toggleable__content pre {\n",
              "  margin: 0.2em;\n",
              "  border-radius: 0.25em;\n",
              "  color: var(--sklearn-color-text);\n",
              "  /* unfitted */\n",
              "  background-color: var(--sklearn-color-unfitted-level-0);\n",
              "}\n",
              "\n",
              "#sk-container-id-2 div.sk-toggleable__content.fitted pre {\n",
              "  /* unfitted */\n",
              "  background-color: var(--sklearn-color-fitted-level-0);\n",
              "}\n",
              "\n",
              "#sk-container-id-2 input.sk-toggleable__control:checked~div.sk-toggleable__content {\n",
              "  /* Expand drop-down */\n",
              "  max-height: 200px;\n",
              "  max-width: 100%;\n",
              "  overflow: auto;\n",
              "}\n",
              "\n",
              "#sk-container-id-2 input.sk-toggleable__control:checked~label.sk-toggleable__label-arrow:before {\n",
              "  content: \"▾\";\n",
              "}\n",
              "\n",
              "/* Pipeline/ColumnTransformer-specific style */\n",
              "\n",
              "#sk-container-id-2 div.sk-label input.sk-toggleable__control:checked~label.sk-toggleable__label {\n",
              "  color: var(--sklearn-color-text);\n",
              "  background-color: var(--sklearn-color-unfitted-level-2);\n",
              "}\n",
              "\n",
              "#sk-container-id-2 div.sk-label.fitted input.sk-toggleable__control:checked~label.sk-toggleable__label {\n",
              "  background-color: var(--sklearn-color-fitted-level-2);\n",
              "}\n",
              "\n",
              "/* Estimator-specific style */\n",
              "\n",
              "/* Colorize estimator box */\n",
              "#sk-container-id-2 div.sk-estimator input.sk-toggleable__control:checked~label.sk-toggleable__label {\n",
              "  /* unfitted */\n",
              "  background-color: var(--sklearn-color-unfitted-level-2);\n",
              "}\n",
              "\n",
              "#sk-container-id-2 div.sk-estimator.fitted input.sk-toggleable__control:checked~label.sk-toggleable__label {\n",
              "  /* fitted */\n",
              "  background-color: var(--sklearn-color-fitted-level-2);\n",
              "}\n",
              "\n",
              "#sk-container-id-2 div.sk-label label.sk-toggleable__label,\n",
              "#sk-container-id-2 div.sk-label label {\n",
              "  /* The background is the default theme color */\n",
              "  color: var(--sklearn-color-text-on-default-background);\n",
              "}\n",
              "\n",
              "/* On hover, darken the color of the background */\n",
              "#sk-container-id-2 div.sk-label:hover label.sk-toggleable__label {\n",
              "  color: var(--sklearn-color-text);\n",
              "  background-color: var(--sklearn-color-unfitted-level-2);\n",
              "}\n",
              "\n",
              "/* Label box, darken color on hover, fitted */\n",
              "#sk-container-id-2 div.sk-label.fitted:hover label.sk-toggleable__label.fitted {\n",
              "  color: var(--sklearn-color-text);\n",
              "  background-color: var(--sklearn-color-fitted-level-2);\n",
              "}\n",
              "\n",
              "/* Estimator label */\n",
              "\n",
              "#sk-container-id-2 div.sk-label label {\n",
              "  font-family: monospace;\n",
              "  font-weight: bold;\n",
              "  display: inline-block;\n",
              "  line-height: 1.2em;\n",
              "}\n",
              "\n",
              "#sk-container-id-2 div.sk-label-container {\n",
              "  text-align: center;\n",
              "}\n",
              "\n",
              "/* Estimator-specific */\n",
              "#sk-container-id-2 div.sk-estimator {\n",
              "  font-family: monospace;\n",
              "  border: 1px dotted var(--sklearn-color-border-box);\n",
              "  border-radius: 0.25em;\n",
              "  box-sizing: border-box;\n",
              "  margin-bottom: 0.5em;\n",
              "  /* unfitted */\n",
              "  background-color: var(--sklearn-color-unfitted-level-0);\n",
              "}\n",
              "\n",
              "#sk-container-id-2 div.sk-estimator.fitted {\n",
              "  /* fitted */\n",
              "  background-color: var(--sklearn-color-fitted-level-0);\n",
              "}\n",
              "\n",
              "/* on hover */\n",
              "#sk-container-id-2 div.sk-estimator:hover {\n",
              "  /* unfitted */\n",
              "  background-color: var(--sklearn-color-unfitted-level-2);\n",
              "}\n",
              "\n",
              "#sk-container-id-2 div.sk-estimator.fitted:hover {\n",
              "  /* fitted */\n",
              "  background-color: var(--sklearn-color-fitted-level-2);\n",
              "}\n",
              "\n",
              "/* Specification for estimator info (e.g. \"i\" and \"?\") */\n",
              "\n",
              "/* Common style for \"i\" and \"?\" */\n",
              "\n",
              ".sk-estimator-doc-link,\n",
              "a:link.sk-estimator-doc-link,\n",
              "a:visited.sk-estimator-doc-link {\n",
              "  float: right;\n",
              "  font-size: smaller;\n",
              "  line-height: 1em;\n",
              "  font-family: monospace;\n",
              "  background-color: var(--sklearn-color-background);\n",
              "  border-radius: 1em;\n",
              "  height: 1em;\n",
              "  width: 1em;\n",
              "  text-decoration: none !important;\n",
              "  margin-left: 0.5em;\n",
              "  text-align: center;\n",
              "  /* unfitted */\n",
              "  border: var(--sklearn-color-unfitted-level-1) 1pt solid;\n",
              "  color: var(--sklearn-color-unfitted-level-1);\n",
              "}\n",
              "\n",
              ".sk-estimator-doc-link.fitted,\n",
              "a:link.sk-estimator-doc-link.fitted,\n",
              "a:visited.sk-estimator-doc-link.fitted {\n",
              "  /* fitted */\n",
              "  border: var(--sklearn-color-fitted-level-1) 1pt solid;\n",
              "  color: var(--sklearn-color-fitted-level-1);\n",
              "}\n",
              "\n",
              "/* On hover */\n",
              "div.sk-estimator:hover .sk-estimator-doc-link:hover,\n",
              ".sk-estimator-doc-link:hover,\n",
              "div.sk-label-container:hover .sk-estimator-doc-link:hover,\n",
              ".sk-estimator-doc-link:hover {\n",
              "  /* unfitted */\n",
              "  background-color: var(--sklearn-color-unfitted-level-3);\n",
              "  color: var(--sklearn-color-background);\n",
              "  text-decoration: none;\n",
              "}\n",
              "\n",
              "div.sk-estimator.fitted:hover .sk-estimator-doc-link.fitted:hover,\n",
              ".sk-estimator-doc-link.fitted:hover,\n",
              "div.sk-label-container:hover .sk-estimator-doc-link.fitted:hover,\n",
              ".sk-estimator-doc-link.fitted:hover {\n",
              "  /* fitted */\n",
              "  background-color: var(--sklearn-color-fitted-level-3);\n",
              "  color: var(--sklearn-color-background);\n",
              "  text-decoration: none;\n",
              "}\n",
              "\n",
              "/* Span, style for the box shown on hovering the info icon */\n",
              ".sk-estimator-doc-link span {\n",
              "  display: none;\n",
              "  z-index: 9999;\n",
              "  position: relative;\n",
              "  font-weight: normal;\n",
              "  right: .2ex;\n",
              "  padding: .5ex;\n",
              "  margin: .5ex;\n",
              "  width: min-content;\n",
              "  min-width: 20ex;\n",
              "  max-width: 50ex;\n",
              "  color: var(--sklearn-color-text);\n",
              "  box-shadow: 2pt 2pt 4pt #999;\n",
              "  /* unfitted */\n",
              "  background: var(--sklearn-color-unfitted-level-0);\n",
              "  border: .5pt solid var(--sklearn-color-unfitted-level-3);\n",
              "}\n",
              "\n",
              ".sk-estimator-doc-link.fitted span {\n",
              "  /* fitted */\n",
              "  background: var(--sklearn-color-fitted-level-0);\n",
              "  border: var(--sklearn-color-fitted-level-3);\n",
              "}\n",
              "\n",
              ".sk-estimator-doc-link:hover span {\n",
              "  display: block;\n",
              "}\n",
              "\n",
              "/* \"?\"-specific style due to the `<a>` HTML tag */\n",
              "\n",
              "#sk-container-id-2 a.estimator_doc_link {\n",
              "  float: right;\n",
              "  font-size: 1rem;\n",
              "  line-height: 1em;\n",
              "  font-family: monospace;\n",
              "  background-color: var(--sklearn-color-background);\n",
              "  border-radius: 1rem;\n",
              "  height: 1rem;\n",
              "  width: 1rem;\n",
              "  text-decoration: none;\n",
              "  /* unfitted */\n",
              "  color: var(--sklearn-color-unfitted-level-1);\n",
              "  border: var(--sklearn-color-unfitted-level-1) 1pt solid;\n",
              "}\n",
              "\n",
              "#sk-container-id-2 a.estimator_doc_link.fitted {\n",
              "  /* fitted */\n",
              "  border: var(--sklearn-color-fitted-level-1) 1pt solid;\n",
              "  color: var(--sklearn-color-fitted-level-1);\n",
              "}\n",
              "\n",
              "/* On hover */\n",
              "#sk-container-id-2 a.estimator_doc_link:hover {\n",
              "  /* unfitted */\n",
              "  background-color: var(--sklearn-color-unfitted-level-3);\n",
              "  color: var(--sklearn-color-background);\n",
              "  text-decoration: none;\n",
              "}\n",
              "\n",
              "#sk-container-id-2 a.estimator_doc_link.fitted:hover {\n",
              "  /* fitted */\n",
              "  background-color: var(--sklearn-color-fitted-level-3);\n",
              "}\n",
              "</style><div id=\"sk-container-id-2\" class=\"sk-top-container\"><div class=\"sk-text-repr-fallback\"><pre>DecisionTreeClassifier(max_depth=2, random_state=40)</pre><b>In a Jupyter environment, please rerun this cell to show the HTML representation or trust the notebook. <br />On GitHub, the HTML representation is unable to render, please try loading this page with nbviewer.org.</b></div><div class=\"sk-container\" hidden><div class=\"sk-item\"><div class=\"sk-estimator fitted sk-toggleable\"><input class=\"sk-toggleable__control sk-hidden--visually\" id=\"sk-estimator-id-2\" type=\"checkbox\" checked><label for=\"sk-estimator-id-2\" class=\"sk-toggleable__label fitted sk-toggleable__label-arrow\"><div><div>DecisionTreeClassifier</div></div><div><a class=\"sk-estimator-doc-link fitted\" rel=\"noreferrer\" target=\"_blank\" href=\"https://scikit-learn.org/1.6/modules/generated/sklearn.tree.DecisionTreeClassifier.html\">?<span>Documentation for DecisionTreeClassifier</span></a><span class=\"sk-estimator-doc-link fitted\">i<span>Fitted</span></span></div></label><div class=\"sk-toggleable__content fitted\"><pre>DecisionTreeClassifier(max_depth=2, random_state=40)</pre></div> </div></div></div></div>"
            ],
            "text/plain": [
              "DecisionTreeClassifier(max_depth=2, random_state=40)"
            ]
          },
          "execution_count": 15,
          "metadata": {},
          "output_type": "execute_result"
        }
      ],
      "source": [
        "tree_clf_tweaked = DecisionTreeClassifier(max_depth=2,random_state=40)\n",
        "tree_clf_tweaked.fit(X_tweaked,y_tweaked)"
=======
      "execution_count": null,
=======
      "execution_count": 15,
>>>>>>> e03ff68 (updates)
      "metadata": {
        "id": "vohlqSe7Lvmx"
      },
      "outputs": [
        {
          "data": {
            "text/html": [
              "<style>#sk-container-id-2 {\n",
              "  /* Definition of color scheme common for light and dark mode */\n",
              "  --sklearn-color-text: #000;\n",
              "  --sklearn-color-text-muted: #666;\n",
              "  --sklearn-color-line: gray;\n",
              "  /* Definition of color scheme for unfitted estimators */\n",
              "  --sklearn-color-unfitted-level-0: #fff5e6;\n",
              "  --sklearn-color-unfitted-level-1: #f6e4d2;\n",
              "  --sklearn-color-unfitted-level-2: #ffe0b3;\n",
              "  --sklearn-color-unfitted-level-3: chocolate;\n",
              "  /* Definition of color scheme for fitted estimators */\n",
              "  --sklearn-color-fitted-level-0: #f0f8ff;\n",
              "  --sklearn-color-fitted-level-1: #d4ebff;\n",
              "  --sklearn-color-fitted-level-2: #b3dbfd;\n",
              "  --sklearn-color-fitted-level-3: cornflowerblue;\n",
              "\n",
              "  /* Specific color for light theme */\n",
              "  --sklearn-color-text-on-default-background: var(--sg-text-color, var(--theme-code-foreground, var(--jp-content-font-color1, black)));\n",
              "  --sklearn-color-background: var(--sg-background-color, var(--theme-background, var(--jp-layout-color0, white)));\n",
              "  --sklearn-color-border-box: var(--sg-text-color, var(--theme-code-foreground, var(--jp-content-font-color1, black)));\n",
              "  --sklearn-color-icon: #696969;\n",
              "\n",
              "  @media (prefers-color-scheme: dark) {\n",
              "    /* Redefinition of color scheme for dark theme */\n",
              "    --sklearn-color-text-on-default-background: var(--sg-text-color, var(--theme-code-foreground, var(--jp-content-font-color1, white)));\n",
              "    --sklearn-color-background: var(--sg-background-color, var(--theme-background, var(--jp-layout-color0, #111)));\n",
              "    --sklearn-color-border-box: var(--sg-text-color, var(--theme-code-foreground, var(--jp-content-font-color1, white)));\n",
              "    --sklearn-color-icon: #878787;\n",
              "  }\n",
              "}\n",
              "\n",
              "#sk-container-id-2 {\n",
              "  color: var(--sklearn-color-text);\n",
              "}\n",
              "\n",
              "#sk-container-id-2 pre {\n",
              "  padding: 0;\n",
              "}\n",
              "\n",
              "#sk-container-id-2 input.sk-hidden--visually {\n",
              "  border: 0;\n",
              "  clip: rect(1px 1px 1px 1px);\n",
              "  clip: rect(1px, 1px, 1px, 1px);\n",
              "  height: 1px;\n",
              "  margin: -1px;\n",
              "  overflow: hidden;\n",
              "  padding: 0;\n",
              "  position: absolute;\n",
              "  width: 1px;\n",
              "}\n",
              "\n",
              "#sk-container-id-2 div.sk-dashed-wrapped {\n",
              "  border: 1px dashed var(--sklearn-color-line);\n",
              "  margin: 0 0.4em 0.5em 0.4em;\n",
              "  box-sizing: border-box;\n",
              "  padding-bottom: 0.4em;\n",
              "  background-color: var(--sklearn-color-background);\n",
              "}\n",
              "\n",
              "#sk-container-id-2 div.sk-container {\n",
              "  /* jupyter's `normalize.less` sets `[hidden] { display: none; }`\n",
              "     but bootstrap.min.css set `[hidden] { display: none !important; }`\n",
              "     so we also need the `!important` here to be able to override the\n",
              "     default hidden behavior on the sphinx rendered scikit-learn.org.\n",
              "     See: https://github.com/scikit-learn/scikit-learn/issues/21755 */\n",
              "  display: inline-block !important;\n",
              "  position: relative;\n",
              "}\n",
              "\n",
              "#sk-container-id-2 div.sk-text-repr-fallback {\n",
              "  display: none;\n",
              "}\n",
              "\n",
              "div.sk-parallel-item,\n",
              "div.sk-serial,\n",
              "div.sk-item {\n",
              "  /* draw centered vertical line to link estimators */\n",
              "  background-image: linear-gradient(var(--sklearn-color-text-on-default-background), var(--sklearn-color-text-on-default-background));\n",
              "  background-size: 2px 100%;\n",
              "  background-repeat: no-repeat;\n",
              "  background-position: center center;\n",
              "}\n",
              "\n",
              "/* Parallel-specific style estimator block */\n",
              "\n",
              "#sk-container-id-2 div.sk-parallel-item::after {\n",
              "  content: \"\";\n",
              "  width: 100%;\n",
              "  border-bottom: 2px solid var(--sklearn-color-text-on-default-background);\n",
              "  flex-grow: 1;\n",
              "}\n",
              "\n",
              "#sk-container-id-2 div.sk-parallel {\n",
              "  display: flex;\n",
              "  align-items: stretch;\n",
              "  justify-content: center;\n",
              "  background-color: var(--sklearn-color-background);\n",
              "  position: relative;\n",
              "}\n",
              "\n",
              "#sk-container-id-2 div.sk-parallel-item {\n",
              "  display: flex;\n",
              "  flex-direction: column;\n",
              "}\n",
              "\n",
              "#sk-container-id-2 div.sk-parallel-item:first-child::after {\n",
              "  align-self: flex-end;\n",
              "  width: 50%;\n",
              "}\n",
              "\n",
              "#sk-container-id-2 div.sk-parallel-item:last-child::after {\n",
              "  align-self: flex-start;\n",
              "  width: 50%;\n",
              "}\n",
              "\n",
              "#sk-container-id-2 div.sk-parallel-item:only-child::after {\n",
              "  width: 0;\n",
              "}\n",
              "\n",
              "/* Serial-specific style estimator block */\n",
              "\n",
              "#sk-container-id-2 div.sk-serial {\n",
              "  display: flex;\n",
              "  flex-direction: column;\n",
              "  align-items: center;\n",
              "  background-color: var(--sklearn-color-background);\n",
              "  padding-right: 1em;\n",
              "  padding-left: 1em;\n",
              "}\n",
              "\n",
              "\n",
              "/* Toggleable style: style used for estimator/Pipeline/ColumnTransformer box that is\n",
              "clickable and can be expanded/collapsed.\n",
              "- Pipeline and ColumnTransformer use this feature and define the default style\n",
              "- Estimators will overwrite some part of the style using the `sk-estimator` class\n",
              "*/\n",
              "\n",
              "/* Pipeline and ColumnTransformer style (default) */\n",
              "\n",
              "#sk-container-id-2 div.sk-toggleable {\n",
              "  /* Default theme specific background. It is overwritten whether we have a\n",
              "  specific estimator or a Pipeline/ColumnTransformer */\n",
              "  background-color: var(--sklearn-color-background);\n",
              "}\n",
              "\n",
              "/* Toggleable label */\n",
              "#sk-container-id-2 label.sk-toggleable__label {\n",
              "  cursor: pointer;\n",
              "  display: flex;\n",
              "  width: 100%;\n",
              "  margin-bottom: 0;\n",
              "  padding: 0.5em;\n",
              "  box-sizing: border-box;\n",
              "  text-align: center;\n",
              "  align-items: start;\n",
              "  justify-content: space-between;\n",
              "  gap: 0.5em;\n",
              "}\n",
              "\n",
              "#sk-container-id-2 label.sk-toggleable__label .caption {\n",
              "  font-size: 0.6rem;\n",
              "  font-weight: lighter;\n",
              "  color: var(--sklearn-color-text-muted);\n",
              "}\n",
              "\n",
              "#sk-container-id-2 label.sk-toggleable__label-arrow:before {\n",
              "  /* Arrow on the left of the label */\n",
              "  content: \"▸\";\n",
              "  float: left;\n",
              "  margin-right: 0.25em;\n",
              "  color: var(--sklearn-color-icon);\n",
              "}\n",
              "\n",
              "#sk-container-id-2 label.sk-toggleable__label-arrow:hover:before {\n",
              "  color: var(--sklearn-color-text);\n",
              "}\n",
              "\n",
              "/* Toggleable content - dropdown */\n",
              "\n",
              "#sk-container-id-2 div.sk-toggleable__content {\n",
              "  max-height: 0;\n",
              "  max-width: 0;\n",
              "  overflow: hidden;\n",
              "  text-align: left;\n",
              "  /* unfitted */\n",
              "  background-color: var(--sklearn-color-unfitted-level-0);\n",
              "}\n",
              "\n",
              "#sk-container-id-2 div.sk-toggleable__content.fitted {\n",
              "  /* fitted */\n",
              "  background-color: var(--sklearn-color-fitted-level-0);\n",
              "}\n",
              "\n",
              "#sk-container-id-2 div.sk-toggleable__content pre {\n",
              "  margin: 0.2em;\n",
              "  border-radius: 0.25em;\n",
              "  color: var(--sklearn-color-text);\n",
              "  /* unfitted */\n",
              "  background-color: var(--sklearn-color-unfitted-level-0);\n",
              "}\n",
              "\n",
              "#sk-container-id-2 div.sk-toggleable__content.fitted pre {\n",
              "  /* unfitted */\n",
              "  background-color: var(--sklearn-color-fitted-level-0);\n",
              "}\n",
              "\n",
              "#sk-container-id-2 input.sk-toggleable__control:checked~div.sk-toggleable__content {\n",
              "  /* Expand drop-down */\n",
              "  max-height: 200px;\n",
              "  max-width: 100%;\n",
              "  overflow: auto;\n",
              "}\n",
              "\n",
              "#sk-container-id-2 input.sk-toggleable__control:checked~label.sk-toggleable__label-arrow:before {\n",
              "  content: \"▾\";\n",
              "}\n",
              "\n",
              "/* Pipeline/ColumnTransformer-specific style */\n",
              "\n",
              "#sk-container-id-2 div.sk-label input.sk-toggleable__control:checked~label.sk-toggleable__label {\n",
              "  color: var(--sklearn-color-text);\n",
              "  background-color: var(--sklearn-color-unfitted-level-2);\n",
              "}\n",
              "\n",
              "#sk-container-id-2 div.sk-label.fitted input.sk-toggleable__control:checked~label.sk-toggleable__label {\n",
              "  background-color: var(--sklearn-color-fitted-level-2);\n",
              "}\n",
              "\n",
              "/* Estimator-specific style */\n",
              "\n",
              "/* Colorize estimator box */\n",
              "#sk-container-id-2 div.sk-estimator input.sk-toggleable__control:checked~label.sk-toggleable__label {\n",
              "  /* unfitted */\n",
              "  background-color: var(--sklearn-color-unfitted-level-2);\n",
              "}\n",
              "\n",
              "#sk-container-id-2 div.sk-estimator.fitted input.sk-toggleable__control:checked~label.sk-toggleable__label {\n",
              "  /* fitted */\n",
              "  background-color: var(--sklearn-color-fitted-level-2);\n",
              "}\n",
              "\n",
              "#sk-container-id-2 div.sk-label label.sk-toggleable__label,\n",
              "#sk-container-id-2 div.sk-label label {\n",
              "  /* The background is the default theme color */\n",
              "  color: var(--sklearn-color-text-on-default-background);\n",
              "}\n",
              "\n",
              "/* On hover, darken the color of the background */\n",
              "#sk-container-id-2 div.sk-label:hover label.sk-toggleable__label {\n",
              "  color: var(--sklearn-color-text);\n",
              "  background-color: var(--sklearn-color-unfitted-level-2);\n",
              "}\n",
              "\n",
              "/* Label box, darken color on hover, fitted */\n",
              "#sk-container-id-2 div.sk-label.fitted:hover label.sk-toggleable__label.fitted {\n",
              "  color: var(--sklearn-color-text);\n",
              "  background-color: var(--sklearn-color-fitted-level-2);\n",
              "}\n",
              "\n",
              "/* Estimator label */\n",
              "\n",
              "#sk-container-id-2 div.sk-label label {\n",
              "  font-family: monospace;\n",
              "  font-weight: bold;\n",
              "  display: inline-block;\n",
              "  line-height: 1.2em;\n",
              "}\n",
              "\n",
              "#sk-container-id-2 div.sk-label-container {\n",
              "  text-align: center;\n",
              "}\n",
              "\n",
              "/* Estimator-specific */\n",
              "#sk-container-id-2 div.sk-estimator {\n",
              "  font-family: monospace;\n",
              "  border: 1px dotted var(--sklearn-color-border-box);\n",
              "  border-radius: 0.25em;\n",
              "  box-sizing: border-box;\n",
              "  margin-bottom: 0.5em;\n",
              "  /* unfitted */\n",
              "  background-color: var(--sklearn-color-unfitted-level-0);\n",
              "}\n",
              "\n",
              "#sk-container-id-2 div.sk-estimator.fitted {\n",
              "  /* fitted */\n",
              "  background-color: var(--sklearn-color-fitted-level-0);\n",
              "}\n",
              "\n",
              "/* on hover */\n",
              "#sk-container-id-2 div.sk-estimator:hover {\n",
              "  /* unfitted */\n",
              "  background-color: var(--sklearn-color-unfitted-level-2);\n",
              "}\n",
              "\n",
              "#sk-container-id-2 div.sk-estimator.fitted:hover {\n",
              "  /* fitted */\n",
              "  background-color: var(--sklearn-color-fitted-level-2);\n",
              "}\n",
              "\n",
              "/* Specification for estimator info (e.g. \"i\" and \"?\") */\n",
              "\n",
              "/* Common style for \"i\" and \"?\" */\n",
              "\n",
              ".sk-estimator-doc-link,\n",
              "a:link.sk-estimator-doc-link,\n",
              "a:visited.sk-estimator-doc-link {\n",
              "  float: right;\n",
              "  font-size: smaller;\n",
              "  line-height: 1em;\n",
              "  font-family: monospace;\n",
              "  background-color: var(--sklearn-color-background);\n",
              "  border-radius: 1em;\n",
              "  height: 1em;\n",
              "  width: 1em;\n",
              "  text-decoration: none !important;\n",
              "  margin-left: 0.5em;\n",
              "  text-align: center;\n",
              "  /* unfitted */\n",
              "  border: var(--sklearn-color-unfitted-level-1) 1pt solid;\n",
              "  color: var(--sklearn-color-unfitted-level-1);\n",
              "}\n",
              "\n",
              ".sk-estimator-doc-link.fitted,\n",
              "a:link.sk-estimator-doc-link.fitted,\n",
              "a:visited.sk-estimator-doc-link.fitted {\n",
              "  /* fitted */\n",
              "  border: var(--sklearn-color-fitted-level-1) 1pt solid;\n",
              "  color: var(--sklearn-color-fitted-level-1);\n",
              "}\n",
              "\n",
              "/* On hover */\n",
              "div.sk-estimator:hover .sk-estimator-doc-link:hover,\n",
              ".sk-estimator-doc-link:hover,\n",
              "div.sk-label-container:hover .sk-estimator-doc-link:hover,\n",
              ".sk-estimator-doc-link:hover {\n",
              "  /* unfitted */\n",
              "  background-color: var(--sklearn-color-unfitted-level-3);\n",
              "  color: var(--sklearn-color-background);\n",
              "  text-decoration: none;\n",
              "}\n",
              "\n",
              "div.sk-estimator.fitted:hover .sk-estimator-doc-link.fitted:hover,\n",
              ".sk-estimator-doc-link.fitted:hover,\n",
              "div.sk-label-container:hover .sk-estimator-doc-link.fitted:hover,\n",
              ".sk-estimator-doc-link.fitted:hover {\n",
              "  /* fitted */\n",
              "  background-color: var(--sklearn-color-fitted-level-3);\n",
              "  color: var(--sklearn-color-background);\n",
              "  text-decoration: none;\n",
              "}\n",
              "\n",
              "/* Span, style for the box shown on hovering the info icon */\n",
              ".sk-estimator-doc-link span {\n",
              "  display: none;\n",
              "  z-index: 9999;\n",
              "  position: relative;\n",
              "  font-weight: normal;\n",
              "  right: .2ex;\n",
              "  padding: .5ex;\n",
              "  margin: .5ex;\n",
              "  width: min-content;\n",
              "  min-width: 20ex;\n",
              "  max-width: 50ex;\n",
              "  color: var(--sklearn-color-text);\n",
              "  box-shadow: 2pt 2pt 4pt #999;\n",
              "  /* unfitted */\n",
              "  background: var(--sklearn-color-unfitted-level-0);\n",
              "  border: .5pt solid var(--sklearn-color-unfitted-level-3);\n",
              "}\n",
              "\n",
              ".sk-estimator-doc-link.fitted span {\n",
              "  /* fitted */\n",
              "  background: var(--sklearn-color-fitted-level-0);\n",
              "  border: var(--sklearn-color-fitted-level-3);\n",
              "}\n",
              "\n",
              ".sk-estimator-doc-link:hover span {\n",
              "  display: block;\n",
              "}\n",
              "\n",
              "/* \"?\"-specific style due to the `<a>` HTML tag */\n",
              "\n",
              "#sk-container-id-2 a.estimator_doc_link {\n",
              "  float: right;\n",
              "  font-size: 1rem;\n",
              "  line-height: 1em;\n",
              "  font-family: monospace;\n",
              "  background-color: var(--sklearn-color-background);\n",
              "  border-radius: 1rem;\n",
              "  height: 1rem;\n",
              "  width: 1rem;\n",
              "  text-decoration: none;\n",
              "  /* unfitted */\n",
              "  color: var(--sklearn-color-unfitted-level-1);\n",
              "  border: var(--sklearn-color-unfitted-level-1) 1pt solid;\n",
              "}\n",
              "\n",
              "#sk-container-id-2 a.estimator_doc_link.fitted {\n",
              "  /* fitted */\n",
              "  border: var(--sklearn-color-fitted-level-1) 1pt solid;\n",
              "  color: var(--sklearn-color-fitted-level-1);\n",
              "}\n",
              "\n",
              "/* On hover */\n",
              "#sk-container-id-2 a.estimator_doc_link:hover {\n",
              "  /* unfitted */\n",
              "  background-color: var(--sklearn-color-unfitted-level-3);\n",
              "  color: var(--sklearn-color-background);\n",
              "  text-decoration: none;\n",
              "}\n",
              "\n",
              "#sk-container-id-2 a.estimator_doc_link.fitted:hover {\n",
              "  /* fitted */\n",
              "  background-color: var(--sklearn-color-fitted-level-3);\n",
              "}\n",
              "</style><div id=\"sk-container-id-2\" class=\"sk-top-container\"><div class=\"sk-text-repr-fallback\"><pre>DecisionTreeClassifier(max_depth=2, random_state=40)</pre><b>In a Jupyter environment, please rerun this cell to show the HTML representation or trust the notebook. <br />On GitHub, the HTML representation is unable to render, please try loading this page with nbviewer.org.</b></div><div class=\"sk-container\" hidden><div class=\"sk-item\"><div class=\"sk-estimator fitted sk-toggleable\"><input class=\"sk-toggleable__control sk-hidden--visually\" id=\"sk-estimator-id-2\" type=\"checkbox\" checked><label for=\"sk-estimator-id-2\" class=\"sk-toggleable__label fitted sk-toggleable__label-arrow\"><div><div>DecisionTreeClassifier</div></div><div><a class=\"sk-estimator-doc-link fitted\" rel=\"noreferrer\" target=\"_blank\" href=\"https://scikit-learn.org/1.6/modules/generated/sklearn.tree.DecisionTreeClassifier.html\">?<span>Documentation for DecisionTreeClassifier</span></a><span class=\"sk-estimator-doc-link fitted\">i<span>Fitted</span></span></div></label><div class=\"sk-toggleable__content fitted\"><pre>DecisionTreeClassifier(max_depth=2, random_state=40)</pre></div> </div></div></div></div>"
            ],
            "text/plain": [
              "DecisionTreeClassifier(max_depth=2, random_state=40)"
            ]
          },
          "execution_count": 15,
          "metadata": {},
          "output_type": "execute_result"
        }
      ],
      "source": [
<<<<<<< HEAD
        "# tree_clf_tweaked"
>>>>>>> 2a6a815 (Merge remote-tracking branch 'upstream/main')
=======
        "tree_clf_tweaked = DecisionTreeClassifier(max_depth=2,random_state=40)\n",
        "tree_clf_tweaked.fit(X_tweaked,y_tweaked)"
>>>>>>> e03ff68 (updates)
      ]
    },
    {
      "cell_type": "markdown",
      "metadata": {
        "id": "edgT5nsVLvmx"
      },
      "source": [
        "↑↑↑↑↑↑↑↑↑↑↑↑↑↑↑↑↑↑↑↑↑↑↑↑↑↑↑↑↑↑↑ your code goes above this"
      ]
    },
    {
      "cell_type": "markdown",
      "metadata": {
        "id": "QaL72ABNLvmx"
      },
      "source": [
        "So now we have trained a new decision tree `tree_clf_tweaked` that has <br>\n",
        "slightly different training data **(actually only *one* element less)**. <br>\n",
        "Let's visualize the new decision tree."
      ]
    },
    {
      "cell_type": "code",
<<<<<<< HEAD
<<<<<<< HEAD
      "execution_count": 16,
      "metadata": {
        "id": "1SXLFWekLvmx"
      },
      "outputs": [
        {
          "data": {
            "image/png": "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",
            "text/plain": [
              "<Figure size 800x400 with 1 Axes>"
            ]
          },
          "metadata": {},
          "output_type": "display_data"
        }
      ],
=======
      "execution_count": null,
      "metadata": {
        "id": "1SXLFWekLvmx"
      },
      "outputs": [],
>>>>>>> 2a6a815 (Merge remote-tracking branch 'upstream/main')
=======
      "execution_count": 16,
      "metadata": {
        "id": "1SXLFWekLvmx"
      },
      "outputs": [
        {
          "data": {
            "image/png": "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",
            "text/plain": [
              "<Figure size 800x400 with 1 Axes>"
            ]
          },
          "metadata": {},
          "output_type": "display_data"
        }
      ],
>>>>>>> e03ff68 (updates)
      "source": [
        "plt.figure(figsize=(8, 4))\n",
        "plot_decision_boundary(tree_clf_tweaked, X_tweaked, y_tweaked, legend=False)\n",
        "plt.plot([0, 7.5], [0.8, 0.8], \"k-\", linewidth=2)\n",
        "plt.plot([0, 7.5], [1.75, 1.75], \"k--\", linewidth=2)\n",
        "plt.text(1.0, 0.9, \"Depth=0\", fontsize=15)\n",
        "plt.text(1.0, 1.80, \"Depth=1\", fontsize=13)\n",
        "\n",
        "plt.show()"
      ]
    },
    {
      "cell_type": "markdown",
      "metadata": {
        "id": "3KDj1inqLvmy"
      },
      "source": [
        "**Task 3d**: Describe how the new decision tree is different from the <br>\n",
        "one before."
      ]
    },
    {
      "cell_type": "markdown",
      "metadata": {
        "id": "kscTnPS1Lvmy"
      },
      "source": [
        "↓↓↓↓↓↓↓↓↓↓↓↓↓↓↓↓↓↓↓↓↓↓↓↓↓↓↓↓↓↓↓ your answer goes below"
      ]
    },
    {
      "cell_type": "markdown",
      "metadata": {
        "id": "7WyF_v-9Lvmy"
      },
      "source": [
        "Task 3d answer:"
      ]
    },
    {
      "cell_type": "markdown",
      "metadata": {
        "id": "EBN0Ja4NLvmy"
      },
      "source": [
        "↑↑↑↑↑↑↑↑↑↑↑↑↑↑↑↑↑↑↑↑↑↑↑↑↑↑↑↑↑↑↑ your answer goes above this"
      ]
    },
    {
      "cell_type": "markdown",
      "metadata": {
        "id": "_taL5yIyLvmy"
      },
      "source": [
        "# Regression Trees"
      ]
    },
    {
      "cell_type": "markdown",
      "metadata": {
        "id": "EWCFARlILvmy"
      },
      "source": [
        "In this subsection, we will be working with a regression task. <br>\n",
        "**Notice that the dataset below is different**. Here we are using a  <br>\n",
        "**training set generated by a quadratic function with the addition of** <br>\n",
        "**some random noise**."
      ]
    },
    {
      "cell_type": "code",
<<<<<<< HEAD
<<<<<<< HEAD
      "execution_count": 17,
=======
      "execution_count": null,
>>>>>>> 2a6a815 (Merge remote-tracking branch 'upstream/main')
=======
      "execution_count": 17,
>>>>>>> e03ff68 (updates)
      "metadata": {
        "id": "U_680ZX4Lvmy"
      },
      "outputs": [],
      "source": [
        "np.random.seed(42)\n",
        "m = 200\n",
        "X = np.random.rand(m, 1)\n",
        "y = 4 * (X - 0.5) ** 2\n",
        "y = y + np.random.randn(m, 1) / 10"
      ]
    },
    {
      "cell_type": "markdown",
      "metadata": {
        "id": "fT4eSc39Lvmy"
      },
      "source": [
        "### Task 4\n",
        "Similar to what you've done above, create a [decision tree regressor](https://scikit-learn.org/stable/modules/generated/sklearn.tree.DecisionTreeRegressor.html) <br>\n",
        "with the following hyperparameters:\n",
        "  - `max_depth=2`\n",
        "  - `random_state=42`\n",
        "\n",
        "Fit it to `X`, `y`."
      ]
    },
    {
      "cell_type": "code",
<<<<<<< HEAD
<<<<<<< HEAD
      "execution_count": 18,
=======
      "execution_count": null,
>>>>>>> 2a6a815 (Merge remote-tracking branch 'upstream/main')
=======
      "execution_count": 18,
>>>>>>> e03ff68 (updates)
      "metadata": {
        "id": "D0P4Z_ivLvmy"
      },
      "outputs": [],
      "source": [
        "from sklearn.tree import DecisionTreeRegressor"
      ]
    },
    {
      "cell_type": "markdown",
      "metadata": {
        "id": "X5IeVa0P6k0E"
      },
      "source": [
        "↓↓↓↓↓↓↓↓↓↓↓↓↓↓↓↓↓↓↓↓↓↓↓↓↓↓↓↓↓↓↓ your code goes below"
      ]
    },
    {
      "cell_type": "code",
<<<<<<< HEAD
<<<<<<< HEAD
      "execution_count": 19,
=======
      "execution_count": null,
>>>>>>> 2a6a815 (Merge remote-tracking branch 'upstream/main')
=======
      "execution_count": 19,
>>>>>>> e03ff68 (updates)
      "metadata": {
        "id": "nGp1S4tkLvmz"
      },
      "outputs": [],
      "source": [
<<<<<<< HEAD
<<<<<<< HEAD
        "tree_reg = DecisionTreeRegressor(max_depth=2,random_state=42)"
=======
        "# tree_reg ="
>>>>>>> 2a6a815 (Merge remote-tracking branch 'upstream/main')
=======
        "tree_reg = DecisionTreeRegressor(max_depth=2,random_state=42)"
>>>>>>> e03ff68 (updates)
      ]
    },
    {
      "cell_type": "code",
<<<<<<< HEAD
<<<<<<< HEAD
      "execution_count": 20,
      "metadata": {
        "id": "1mp3jTYr12JK"
      },
      "outputs": [
        {
          "data": {
            "text/html": [
              "<style>#sk-container-id-3 {\n",
              "  /* Definition of color scheme common for light and dark mode */\n",
              "  --sklearn-color-text: #000;\n",
              "  --sklearn-color-text-muted: #666;\n",
              "  --sklearn-color-line: gray;\n",
              "  /* Definition of color scheme for unfitted estimators */\n",
              "  --sklearn-color-unfitted-level-0: #fff5e6;\n",
              "  --sklearn-color-unfitted-level-1: #f6e4d2;\n",
              "  --sklearn-color-unfitted-level-2: #ffe0b3;\n",
              "  --sklearn-color-unfitted-level-3: chocolate;\n",
              "  /* Definition of color scheme for fitted estimators */\n",
              "  --sklearn-color-fitted-level-0: #f0f8ff;\n",
              "  --sklearn-color-fitted-level-1: #d4ebff;\n",
              "  --sklearn-color-fitted-level-2: #b3dbfd;\n",
              "  --sklearn-color-fitted-level-3: cornflowerblue;\n",
              "\n",
              "  /* Specific color for light theme */\n",
              "  --sklearn-color-text-on-default-background: var(--sg-text-color, var(--theme-code-foreground, var(--jp-content-font-color1, black)));\n",
              "  --sklearn-color-background: var(--sg-background-color, var(--theme-background, var(--jp-layout-color0, white)));\n",
              "  --sklearn-color-border-box: var(--sg-text-color, var(--theme-code-foreground, var(--jp-content-font-color1, black)));\n",
              "  --sklearn-color-icon: #696969;\n",
              "\n",
              "  @media (prefers-color-scheme: dark) {\n",
              "    /* Redefinition of color scheme for dark theme */\n",
              "    --sklearn-color-text-on-default-background: var(--sg-text-color, var(--theme-code-foreground, var(--jp-content-font-color1, white)));\n",
              "    --sklearn-color-background: var(--sg-background-color, var(--theme-background, var(--jp-layout-color0, #111)));\n",
              "    --sklearn-color-border-box: var(--sg-text-color, var(--theme-code-foreground, var(--jp-content-font-color1, white)));\n",
              "    --sklearn-color-icon: #878787;\n",
              "  }\n",
              "}\n",
              "\n",
              "#sk-container-id-3 {\n",
              "  color: var(--sklearn-color-text);\n",
              "}\n",
              "\n",
              "#sk-container-id-3 pre {\n",
              "  padding: 0;\n",
              "}\n",
              "\n",
              "#sk-container-id-3 input.sk-hidden--visually {\n",
              "  border: 0;\n",
              "  clip: rect(1px 1px 1px 1px);\n",
              "  clip: rect(1px, 1px, 1px, 1px);\n",
              "  height: 1px;\n",
              "  margin: -1px;\n",
              "  overflow: hidden;\n",
              "  padding: 0;\n",
              "  position: absolute;\n",
              "  width: 1px;\n",
              "}\n",
              "\n",
              "#sk-container-id-3 div.sk-dashed-wrapped {\n",
              "  border: 1px dashed var(--sklearn-color-line);\n",
              "  margin: 0 0.4em 0.5em 0.4em;\n",
              "  box-sizing: border-box;\n",
              "  padding-bottom: 0.4em;\n",
              "  background-color: var(--sklearn-color-background);\n",
              "}\n",
              "\n",
              "#sk-container-id-3 div.sk-container {\n",
              "  /* jupyter's `normalize.less` sets `[hidden] { display: none; }`\n",
              "     but bootstrap.min.css set `[hidden] { display: none !important; }`\n",
              "     so we also need the `!important` here to be able to override the\n",
              "     default hidden behavior on the sphinx rendered scikit-learn.org.\n",
              "     See: https://github.com/scikit-learn/scikit-learn/issues/21755 */\n",
              "  display: inline-block !important;\n",
              "  position: relative;\n",
              "}\n",
              "\n",
              "#sk-container-id-3 div.sk-text-repr-fallback {\n",
              "  display: none;\n",
              "}\n",
              "\n",
              "div.sk-parallel-item,\n",
              "div.sk-serial,\n",
              "div.sk-item {\n",
              "  /* draw centered vertical line to link estimators */\n",
              "  background-image: linear-gradient(var(--sklearn-color-text-on-default-background), var(--sklearn-color-text-on-default-background));\n",
              "  background-size: 2px 100%;\n",
              "  background-repeat: no-repeat;\n",
              "  background-position: center center;\n",
              "}\n",
              "\n",
              "/* Parallel-specific style estimator block */\n",
              "\n",
              "#sk-container-id-3 div.sk-parallel-item::after {\n",
              "  content: \"\";\n",
              "  width: 100%;\n",
              "  border-bottom: 2px solid var(--sklearn-color-text-on-default-background);\n",
              "  flex-grow: 1;\n",
              "}\n",
              "\n",
              "#sk-container-id-3 div.sk-parallel {\n",
              "  display: flex;\n",
              "  align-items: stretch;\n",
              "  justify-content: center;\n",
              "  background-color: var(--sklearn-color-background);\n",
              "  position: relative;\n",
              "}\n",
              "\n",
              "#sk-container-id-3 div.sk-parallel-item {\n",
              "  display: flex;\n",
              "  flex-direction: column;\n",
              "}\n",
              "\n",
              "#sk-container-id-3 div.sk-parallel-item:first-child::after {\n",
              "  align-self: flex-end;\n",
              "  width: 50%;\n",
              "}\n",
              "\n",
              "#sk-container-id-3 div.sk-parallel-item:last-child::after {\n",
              "  align-self: flex-start;\n",
              "  width: 50%;\n",
              "}\n",
              "\n",
              "#sk-container-id-3 div.sk-parallel-item:only-child::after {\n",
              "  width: 0;\n",
              "}\n",
              "\n",
              "/* Serial-specific style estimator block */\n",
              "\n",
              "#sk-container-id-3 div.sk-serial {\n",
              "  display: flex;\n",
              "  flex-direction: column;\n",
              "  align-items: center;\n",
              "  background-color: var(--sklearn-color-background);\n",
              "  padding-right: 1em;\n",
              "  padding-left: 1em;\n",
              "}\n",
              "\n",
              "\n",
              "/* Toggleable style: style used for estimator/Pipeline/ColumnTransformer box that is\n",
              "clickable and can be expanded/collapsed.\n",
              "- Pipeline and ColumnTransformer use this feature and define the default style\n",
              "- Estimators will overwrite some part of the style using the `sk-estimator` class\n",
              "*/\n",
              "\n",
              "/* Pipeline and ColumnTransformer style (default) */\n",
              "\n",
              "#sk-container-id-3 div.sk-toggleable {\n",
              "  /* Default theme specific background. It is overwritten whether we have a\n",
              "  specific estimator or a Pipeline/ColumnTransformer */\n",
              "  background-color: var(--sklearn-color-background);\n",
              "}\n",
              "\n",
              "/* Toggleable label */\n",
              "#sk-container-id-3 label.sk-toggleable__label {\n",
              "  cursor: pointer;\n",
              "  display: flex;\n",
              "  width: 100%;\n",
              "  margin-bottom: 0;\n",
              "  padding: 0.5em;\n",
              "  box-sizing: border-box;\n",
              "  text-align: center;\n",
              "  align-items: start;\n",
              "  justify-content: space-between;\n",
              "  gap: 0.5em;\n",
              "}\n",
              "\n",
              "#sk-container-id-3 label.sk-toggleable__label .caption {\n",
              "  font-size: 0.6rem;\n",
              "  font-weight: lighter;\n",
              "  color: var(--sklearn-color-text-muted);\n",
              "}\n",
              "\n",
              "#sk-container-id-3 label.sk-toggleable__label-arrow:before {\n",
              "  /* Arrow on the left of the label */\n",
              "  content: \"▸\";\n",
              "  float: left;\n",
              "  margin-right: 0.25em;\n",
              "  color: var(--sklearn-color-icon);\n",
              "}\n",
              "\n",
              "#sk-container-id-3 label.sk-toggleable__label-arrow:hover:before {\n",
              "  color: var(--sklearn-color-text);\n",
              "}\n",
              "\n",
              "/* Toggleable content - dropdown */\n",
              "\n",
              "#sk-container-id-3 div.sk-toggleable__content {\n",
              "  max-height: 0;\n",
              "  max-width: 0;\n",
              "  overflow: hidden;\n",
              "  text-align: left;\n",
              "  /* unfitted */\n",
              "  background-color: var(--sklearn-color-unfitted-level-0);\n",
              "}\n",
              "\n",
              "#sk-container-id-3 div.sk-toggleable__content.fitted {\n",
              "  /* fitted */\n",
              "  background-color: var(--sklearn-color-fitted-level-0);\n",
              "}\n",
              "\n",
              "#sk-container-id-3 div.sk-toggleable__content pre {\n",
              "  margin: 0.2em;\n",
              "  border-radius: 0.25em;\n",
              "  color: var(--sklearn-color-text);\n",
              "  /* unfitted */\n",
              "  background-color: var(--sklearn-color-unfitted-level-0);\n",
              "}\n",
              "\n",
              "#sk-container-id-3 div.sk-toggleable__content.fitted pre {\n",
              "  /* unfitted */\n",
              "  background-color: var(--sklearn-color-fitted-level-0);\n",
              "}\n",
              "\n",
              "#sk-container-id-3 input.sk-toggleable__control:checked~div.sk-toggleable__content {\n",
              "  /* Expand drop-down */\n",
              "  max-height: 200px;\n",
              "  max-width: 100%;\n",
              "  overflow: auto;\n",
              "}\n",
              "\n",
              "#sk-container-id-3 input.sk-toggleable__control:checked~label.sk-toggleable__label-arrow:before {\n",
              "  content: \"▾\";\n",
              "}\n",
              "\n",
              "/* Pipeline/ColumnTransformer-specific style */\n",
              "\n",
              "#sk-container-id-3 div.sk-label input.sk-toggleable__control:checked~label.sk-toggleable__label {\n",
              "  color: var(--sklearn-color-text);\n",
              "  background-color: var(--sklearn-color-unfitted-level-2);\n",
              "}\n",
              "\n",
              "#sk-container-id-3 div.sk-label.fitted input.sk-toggleable__control:checked~label.sk-toggleable__label {\n",
              "  background-color: var(--sklearn-color-fitted-level-2);\n",
              "}\n",
              "\n",
              "/* Estimator-specific style */\n",
              "\n",
              "/* Colorize estimator box */\n",
              "#sk-container-id-3 div.sk-estimator input.sk-toggleable__control:checked~label.sk-toggleable__label {\n",
              "  /* unfitted */\n",
              "  background-color: var(--sklearn-color-unfitted-level-2);\n",
              "}\n",
              "\n",
              "#sk-container-id-3 div.sk-estimator.fitted input.sk-toggleable__control:checked~label.sk-toggleable__label {\n",
              "  /* fitted */\n",
              "  background-color: var(--sklearn-color-fitted-level-2);\n",
              "}\n",
              "\n",
              "#sk-container-id-3 div.sk-label label.sk-toggleable__label,\n",
              "#sk-container-id-3 div.sk-label label {\n",
              "  /* The background is the default theme color */\n",
              "  color: var(--sklearn-color-text-on-default-background);\n",
              "}\n",
              "\n",
              "/* On hover, darken the color of the background */\n",
              "#sk-container-id-3 div.sk-label:hover label.sk-toggleable__label {\n",
              "  color: var(--sklearn-color-text);\n",
              "  background-color: var(--sklearn-color-unfitted-level-2);\n",
              "}\n",
              "\n",
              "/* Label box, darken color on hover, fitted */\n",
              "#sk-container-id-3 div.sk-label.fitted:hover label.sk-toggleable__label.fitted {\n",
              "  color: var(--sklearn-color-text);\n",
              "  background-color: var(--sklearn-color-fitted-level-2);\n",
              "}\n",
              "\n",
              "/* Estimator label */\n",
              "\n",
              "#sk-container-id-3 div.sk-label label {\n",
              "  font-family: monospace;\n",
              "  font-weight: bold;\n",
              "  display: inline-block;\n",
              "  line-height: 1.2em;\n",
              "}\n",
              "\n",
              "#sk-container-id-3 div.sk-label-container {\n",
              "  text-align: center;\n",
              "}\n",
              "\n",
              "/* Estimator-specific */\n",
              "#sk-container-id-3 div.sk-estimator {\n",
              "  font-family: monospace;\n",
              "  border: 1px dotted var(--sklearn-color-border-box);\n",
              "  border-radius: 0.25em;\n",
              "  box-sizing: border-box;\n",
              "  margin-bottom: 0.5em;\n",
              "  /* unfitted */\n",
              "  background-color: var(--sklearn-color-unfitted-level-0);\n",
              "}\n",
              "\n",
              "#sk-container-id-3 div.sk-estimator.fitted {\n",
              "  /* fitted */\n",
              "  background-color: var(--sklearn-color-fitted-level-0);\n",
              "}\n",
              "\n",
              "/* on hover */\n",
              "#sk-container-id-3 div.sk-estimator:hover {\n",
              "  /* unfitted */\n",
              "  background-color: var(--sklearn-color-unfitted-level-2);\n",
              "}\n",
              "\n",
              "#sk-container-id-3 div.sk-estimator.fitted:hover {\n",
              "  /* fitted */\n",
              "  background-color: var(--sklearn-color-fitted-level-2);\n",
              "}\n",
              "\n",
              "/* Specification for estimator info (e.g. \"i\" and \"?\") */\n",
              "\n",
              "/* Common style for \"i\" and \"?\" */\n",
              "\n",
              ".sk-estimator-doc-link,\n",
              "a:link.sk-estimator-doc-link,\n",
              "a:visited.sk-estimator-doc-link {\n",
              "  float: right;\n",
              "  font-size: smaller;\n",
              "  line-height: 1em;\n",
              "  font-family: monospace;\n",
              "  background-color: var(--sklearn-color-background);\n",
              "  border-radius: 1em;\n",
              "  height: 1em;\n",
              "  width: 1em;\n",
              "  text-decoration: none !important;\n",
              "  margin-left: 0.5em;\n",
              "  text-align: center;\n",
              "  /* unfitted */\n",
              "  border: var(--sklearn-color-unfitted-level-1) 1pt solid;\n",
              "  color: var(--sklearn-color-unfitted-level-1);\n",
              "}\n",
              "\n",
              ".sk-estimator-doc-link.fitted,\n",
              "a:link.sk-estimator-doc-link.fitted,\n",
              "a:visited.sk-estimator-doc-link.fitted {\n",
              "  /* fitted */\n",
              "  border: var(--sklearn-color-fitted-level-1) 1pt solid;\n",
              "  color: var(--sklearn-color-fitted-level-1);\n",
              "}\n",
              "\n",
              "/* On hover */\n",
              "div.sk-estimator:hover .sk-estimator-doc-link:hover,\n",
              ".sk-estimator-doc-link:hover,\n",
              "div.sk-label-container:hover .sk-estimator-doc-link:hover,\n",
              ".sk-estimator-doc-link:hover {\n",
              "  /* unfitted */\n",
              "  background-color: var(--sklearn-color-unfitted-level-3);\n",
              "  color: var(--sklearn-color-background);\n",
              "  text-decoration: none;\n",
              "}\n",
              "\n",
              "div.sk-estimator.fitted:hover .sk-estimator-doc-link.fitted:hover,\n",
              ".sk-estimator-doc-link.fitted:hover,\n",
              "div.sk-label-container:hover .sk-estimator-doc-link.fitted:hover,\n",
              ".sk-estimator-doc-link.fitted:hover {\n",
              "  /* fitted */\n",
              "  background-color: var(--sklearn-color-fitted-level-3);\n",
              "  color: var(--sklearn-color-background);\n",
              "  text-decoration: none;\n",
              "}\n",
              "\n",
              "/* Span, style for the box shown on hovering the info icon */\n",
              ".sk-estimator-doc-link span {\n",
              "  display: none;\n",
              "  z-index: 9999;\n",
              "  position: relative;\n",
              "  font-weight: normal;\n",
              "  right: .2ex;\n",
              "  padding: .5ex;\n",
              "  margin: .5ex;\n",
              "  width: min-content;\n",
              "  min-width: 20ex;\n",
              "  max-width: 50ex;\n",
              "  color: var(--sklearn-color-text);\n",
              "  box-shadow: 2pt 2pt 4pt #999;\n",
              "  /* unfitted */\n",
              "  background: var(--sklearn-color-unfitted-level-0);\n",
              "  border: .5pt solid var(--sklearn-color-unfitted-level-3);\n",
              "}\n",
              "\n",
              ".sk-estimator-doc-link.fitted span {\n",
              "  /* fitted */\n",
              "  background: var(--sklearn-color-fitted-level-0);\n",
              "  border: var(--sklearn-color-fitted-level-3);\n",
              "}\n",
              "\n",
              ".sk-estimator-doc-link:hover span {\n",
              "  display: block;\n",
              "}\n",
              "\n",
              "/* \"?\"-specific style due to the `<a>` HTML tag */\n",
              "\n",
              "#sk-container-id-3 a.estimator_doc_link {\n",
              "  float: right;\n",
              "  font-size: 1rem;\n",
              "  line-height: 1em;\n",
              "  font-family: monospace;\n",
              "  background-color: var(--sklearn-color-background);\n",
              "  border-radius: 1rem;\n",
              "  height: 1rem;\n",
              "  width: 1rem;\n",
              "  text-decoration: none;\n",
              "  /* unfitted */\n",
              "  color: var(--sklearn-color-unfitted-level-1);\n",
              "  border: var(--sklearn-color-unfitted-level-1) 1pt solid;\n",
              "}\n",
              "\n",
              "#sk-container-id-3 a.estimator_doc_link.fitted {\n",
              "  /* fitted */\n",
              "  border: var(--sklearn-color-fitted-level-1) 1pt solid;\n",
              "  color: var(--sklearn-color-fitted-level-1);\n",
              "}\n",
              "\n",
              "/* On hover */\n",
              "#sk-container-id-3 a.estimator_doc_link:hover {\n",
              "  /* unfitted */\n",
              "  background-color: var(--sklearn-color-unfitted-level-3);\n",
              "  color: var(--sklearn-color-background);\n",
              "  text-decoration: none;\n",
              "}\n",
              "\n",
              "#sk-container-id-3 a.estimator_doc_link.fitted:hover {\n",
              "  /* fitted */\n",
              "  background-color: var(--sklearn-color-fitted-level-3);\n",
              "}\n",
              "</style><div id=\"sk-container-id-3\" class=\"sk-top-container\"><div class=\"sk-text-repr-fallback\"><pre>DecisionTreeRegressor(max_depth=2, random_state=42)</pre><b>In a Jupyter environment, please rerun this cell to show the HTML representation or trust the notebook. <br />On GitHub, the HTML representation is unable to render, please try loading this page with nbviewer.org.</b></div><div class=\"sk-container\" hidden><div class=\"sk-item\"><div class=\"sk-estimator fitted sk-toggleable\"><input class=\"sk-toggleable__control sk-hidden--visually\" id=\"sk-estimator-id-3\" type=\"checkbox\" checked><label for=\"sk-estimator-id-3\" class=\"sk-toggleable__label fitted sk-toggleable__label-arrow\"><div><div>DecisionTreeRegressor</div></div><div><a class=\"sk-estimator-doc-link fitted\" rel=\"noreferrer\" target=\"_blank\" href=\"https://scikit-learn.org/1.6/modules/generated/sklearn.tree.DecisionTreeRegressor.html\">?<span>Documentation for DecisionTreeRegressor</span></a><span class=\"sk-estimator-doc-link fitted\">i<span>Fitted</span></span></div></label><div class=\"sk-toggleable__content fitted\"><pre>DecisionTreeRegressor(max_depth=2, random_state=42)</pre></div> </div></div></div></div>"
            ],
            "text/plain": [
              "DecisionTreeRegressor(max_depth=2, random_state=42)"
            ]
          },
          "execution_count": 20,
          "metadata": {},
          "output_type": "execute_result"
        }
      ],
      "source": [
        "tree_reg.fit(X,y)"
      ]
=======
      "source": [],
      "metadata": {
        "id": "1mp3jTYr12JK"
      },
      "execution_count": null,
      "outputs": []
>>>>>>> 2a6a815 (Merge remote-tracking branch 'upstream/main')
=======
      "execution_count": 20,
      "metadata": {
        "id": "1mp3jTYr12JK"
      },
      "outputs": [
        {
          "data": {
            "text/html": [
              "<style>#sk-container-id-3 {\n",
              "  /* Definition of color scheme common for light and dark mode */\n",
              "  --sklearn-color-text: #000;\n",
              "  --sklearn-color-text-muted: #666;\n",
              "  --sklearn-color-line: gray;\n",
              "  /* Definition of color scheme for unfitted estimators */\n",
              "  --sklearn-color-unfitted-level-0: #fff5e6;\n",
              "  --sklearn-color-unfitted-level-1: #f6e4d2;\n",
              "  --sklearn-color-unfitted-level-2: #ffe0b3;\n",
              "  --sklearn-color-unfitted-level-3: chocolate;\n",
              "  /* Definition of color scheme for fitted estimators */\n",
              "  --sklearn-color-fitted-level-0: #f0f8ff;\n",
              "  --sklearn-color-fitted-level-1: #d4ebff;\n",
              "  --sklearn-color-fitted-level-2: #b3dbfd;\n",
              "  --sklearn-color-fitted-level-3: cornflowerblue;\n",
              "\n",
              "  /* Specific color for light theme */\n",
              "  --sklearn-color-text-on-default-background: var(--sg-text-color, var(--theme-code-foreground, var(--jp-content-font-color1, black)));\n",
              "  --sklearn-color-background: var(--sg-background-color, var(--theme-background, var(--jp-layout-color0, white)));\n",
              "  --sklearn-color-border-box: var(--sg-text-color, var(--theme-code-foreground, var(--jp-content-font-color1, black)));\n",
              "  --sklearn-color-icon: #696969;\n",
              "\n",
              "  @media (prefers-color-scheme: dark) {\n",
              "    /* Redefinition of color scheme for dark theme */\n",
              "    --sklearn-color-text-on-default-background: var(--sg-text-color, var(--theme-code-foreground, var(--jp-content-font-color1, white)));\n",
              "    --sklearn-color-background: var(--sg-background-color, var(--theme-background, var(--jp-layout-color0, #111)));\n",
              "    --sklearn-color-border-box: var(--sg-text-color, var(--theme-code-foreground, var(--jp-content-font-color1, white)));\n",
              "    --sklearn-color-icon: #878787;\n",
              "  }\n",
              "}\n",
              "\n",
              "#sk-container-id-3 {\n",
              "  color: var(--sklearn-color-text);\n",
              "}\n",
              "\n",
              "#sk-container-id-3 pre {\n",
              "  padding: 0;\n",
              "}\n",
              "\n",
              "#sk-container-id-3 input.sk-hidden--visually {\n",
              "  border: 0;\n",
              "  clip: rect(1px 1px 1px 1px);\n",
              "  clip: rect(1px, 1px, 1px, 1px);\n",
              "  height: 1px;\n",
              "  margin: -1px;\n",
              "  overflow: hidden;\n",
              "  padding: 0;\n",
              "  position: absolute;\n",
              "  width: 1px;\n",
              "}\n",
              "\n",
              "#sk-container-id-3 div.sk-dashed-wrapped {\n",
              "  border: 1px dashed var(--sklearn-color-line);\n",
              "  margin: 0 0.4em 0.5em 0.4em;\n",
              "  box-sizing: border-box;\n",
              "  padding-bottom: 0.4em;\n",
              "  background-color: var(--sklearn-color-background);\n",
              "}\n",
              "\n",
              "#sk-container-id-3 div.sk-container {\n",
              "  /* jupyter's `normalize.less` sets `[hidden] { display: none; }`\n",
              "     but bootstrap.min.css set `[hidden] { display: none !important; }`\n",
              "     so we also need the `!important` here to be able to override the\n",
              "     default hidden behavior on the sphinx rendered scikit-learn.org.\n",
              "     See: https://github.com/scikit-learn/scikit-learn/issues/21755 */\n",
              "  display: inline-block !important;\n",
              "  position: relative;\n",
              "}\n",
              "\n",
              "#sk-container-id-3 div.sk-text-repr-fallback {\n",
              "  display: none;\n",
              "}\n",
              "\n",
              "div.sk-parallel-item,\n",
              "div.sk-serial,\n",
              "div.sk-item {\n",
              "  /* draw centered vertical line to link estimators */\n",
              "  background-image: linear-gradient(var(--sklearn-color-text-on-default-background), var(--sklearn-color-text-on-default-background));\n",
              "  background-size: 2px 100%;\n",
              "  background-repeat: no-repeat;\n",
              "  background-position: center center;\n",
              "}\n",
              "\n",
              "/* Parallel-specific style estimator block */\n",
              "\n",
              "#sk-container-id-3 div.sk-parallel-item::after {\n",
              "  content: \"\";\n",
              "  width: 100%;\n",
              "  border-bottom: 2px solid var(--sklearn-color-text-on-default-background);\n",
              "  flex-grow: 1;\n",
              "}\n",
              "\n",
              "#sk-container-id-3 div.sk-parallel {\n",
              "  display: flex;\n",
              "  align-items: stretch;\n",
              "  justify-content: center;\n",
              "  background-color: var(--sklearn-color-background);\n",
              "  position: relative;\n",
              "}\n",
              "\n",
              "#sk-container-id-3 div.sk-parallel-item {\n",
              "  display: flex;\n",
              "  flex-direction: column;\n",
              "}\n",
              "\n",
              "#sk-container-id-3 div.sk-parallel-item:first-child::after {\n",
              "  align-self: flex-end;\n",
              "  width: 50%;\n",
              "}\n",
              "\n",
              "#sk-container-id-3 div.sk-parallel-item:last-child::after {\n",
              "  align-self: flex-start;\n",
              "  width: 50%;\n",
              "}\n",
              "\n",
              "#sk-container-id-3 div.sk-parallel-item:only-child::after {\n",
              "  width: 0;\n",
              "}\n",
              "\n",
              "/* Serial-specific style estimator block */\n",
              "\n",
              "#sk-container-id-3 div.sk-serial {\n",
              "  display: flex;\n",
              "  flex-direction: column;\n",
              "  align-items: center;\n",
              "  background-color: var(--sklearn-color-background);\n",
              "  padding-right: 1em;\n",
              "  padding-left: 1em;\n",
              "}\n",
              "\n",
              "\n",
              "/* Toggleable style: style used for estimator/Pipeline/ColumnTransformer box that is\n",
              "clickable and can be expanded/collapsed.\n",
              "- Pipeline and ColumnTransformer use this feature and define the default style\n",
              "- Estimators will overwrite some part of the style using the `sk-estimator` class\n",
              "*/\n",
              "\n",
              "/* Pipeline and ColumnTransformer style (default) */\n",
              "\n",
              "#sk-container-id-3 div.sk-toggleable {\n",
              "  /* Default theme specific background. It is overwritten whether we have a\n",
              "  specific estimator or a Pipeline/ColumnTransformer */\n",
              "  background-color: var(--sklearn-color-background);\n",
              "}\n",
              "\n",
              "/* Toggleable label */\n",
              "#sk-container-id-3 label.sk-toggleable__label {\n",
              "  cursor: pointer;\n",
              "  display: flex;\n",
              "  width: 100%;\n",
              "  margin-bottom: 0;\n",
              "  padding: 0.5em;\n",
              "  box-sizing: border-box;\n",
              "  text-align: center;\n",
              "  align-items: start;\n",
              "  justify-content: space-between;\n",
              "  gap: 0.5em;\n",
              "}\n",
              "\n",
              "#sk-container-id-3 label.sk-toggleable__label .caption {\n",
              "  font-size: 0.6rem;\n",
              "  font-weight: lighter;\n",
              "  color: var(--sklearn-color-text-muted);\n",
              "}\n",
              "\n",
              "#sk-container-id-3 label.sk-toggleable__label-arrow:before {\n",
              "  /* Arrow on the left of the label */\n",
              "  content: \"▸\";\n",
              "  float: left;\n",
              "  margin-right: 0.25em;\n",
              "  color: var(--sklearn-color-icon);\n",
              "}\n",
              "\n",
              "#sk-container-id-3 label.sk-toggleable__label-arrow:hover:before {\n",
              "  color: var(--sklearn-color-text);\n",
              "}\n",
              "\n",
              "/* Toggleable content - dropdown */\n",
              "\n",
              "#sk-container-id-3 div.sk-toggleable__content {\n",
              "  max-height: 0;\n",
              "  max-width: 0;\n",
              "  overflow: hidden;\n",
              "  text-align: left;\n",
              "  /* unfitted */\n",
              "  background-color: var(--sklearn-color-unfitted-level-0);\n",
              "}\n",
              "\n",
              "#sk-container-id-3 div.sk-toggleable__content.fitted {\n",
              "  /* fitted */\n",
              "  background-color: var(--sklearn-color-fitted-level-0);\n",
              "}\n",
              "\n",
              "#sk-container-id-3 div.sk-toggleable__content pre {\n",
              "  margin: 0.2em;\n",
              "  border-radius: 0.25em;\n",
              "  color: var(--sklearn-color-text);\n",
              "  /* unfitted */\n",
              "  background-color: var(--sklearn-color-unfitted-level-0);\n",
              "}\n",
              "\n",
              "#sk-container-id-3 div.sk-toggleable__content.fitted pre {\n",
              "  /* unfitted */\n",
              "  background-color: var(--sklearn-color-fitted-level-0);\n",
              "}\n",
              "\n",
              "#sk-container-id-3 input.sk-toggleable__control:checked~div.sk-toggleable__content {\n",
              "  /* Expand drop-down */\n",
              "  max-height: 200px;\n",
              "  max-width: 100%;\n",
              "  overflow: auto;\n",
              "}\n",
              "\n",
              "#sk-container-id-3 input.sk-toggleable__control:checked~label.sk-toggleable__label-arrow:before {\n",
              "  content: \"▾\";\n",
              "}\n",
              "\n",
              "/* Pipeline/ColumnTransformer-specific style */\n",
              "\n",
              "#sk-container-id-3 div.sk-label input.sk-toggleable__control:checked~label.sk-toggleable__label {\n",
              "  color: var(--sklearn-color-text);\n",
              "  background-color: var(--sklearn-color-unfitted-level-2);\n",
              "}\n",
              "\n",
              "#sk-container-id-3 div.sk-label.fitted input.sk-toggleable__control:checked~label.sk-toggleable__label {\n",
              "  background-color: var(--sklearn-color-fitted-level-2);\n",
              "}\n",
              "\n",
              "/* Estimator-specific style */\n",
              "\n",
              "/* Colorize estimator box */\n",
              "#sk-container-id-3 div.sk-estimator input.sk-toggleable__control:checked~label.sk-toggleable__label {\n",
              "  /* unfitted */\n",
              "  background-color: var(--sklearn-color-unfitted-level-2);\n",
              "}\n",
              "\n",
              "#sk-container-id-3 div.sk-estimator.fitted input.sk-toggleable__control:checked~label.sk-toggleable__label {\n",
              "  /* fitted */\n",
              "  background-color: var(--sklearn-color-fitted-level-2);\n",
              "}\n",
              "\n",
              "#sk-container-id-3 div.sk-label label.sk-toggleable__label,\n",
              "#sk-container-id-3 div.sk-label label {\n",
              "  /* The background is the default theme color */\n",
              "  color: var(--sklearn-color-text-on-default-background);\n",
              "}\n",
              "\n",
              "/* On hover, darken the color of the background */\n",
              "#sk-container-id-3 div.sk-label:hover label.sk-toggleable__label {\n",
              "  color: var(--sklearn-color-text);\n",
              "  background-color: var(--sklearn-color-unfitted-level-2);\n",
              "}\n",
              "\n",
              "/* Label box, darken color on hover, fitted */\n",
              "#sk-container-id-3 div.sk-label.fitted:hover label.sk-toggleable__label.fitted {\n",
              "  color: var(--sklearn-color-text);\n",
              "  background-color: var(--sklearn-color-fitted-level-2);\n",
              "}\n",
              "\n",
              "/* Estimator label */\n",
              "\n",
              "#sk-container-id-3 div.sk-label label {\n",
              "  font-family: monospace;\n",
              "  font-weight: bold;\n",
              "  display: inline-block;\n",
              "  line-height: 1.2em;\n",
              "}\n",
              "\n",
              "#sk-container-id-3 div.sk-label-container {\n",
              "  text-align: center;\n",
              "}\n",
              "\n",
              "/* Estimator-specific */\n",
              "#sk-container-id-3 div.sk-estimator {\n",
              "  font-family: monospace;\n",
              "  border: 1px dotted var(--sklearn-color-border-box);\n",
              "  border-radius: 0.25em;\n",
              "  box-sizing: border-box;\n",
              "  margin-bottom: 0.5em;\n",
              "  /* unfitted */\n",
              "  background-color: var(--sklearn-color-unfitted-level-0);\n",
              "}\n",
              "\n",
              "#sk-container-id-3 div.sk-estimator.fitted {\n",
              "  /* fitted */\n",
              "  background-color: var(--sklearn-color-fitted-level-0);\n",
              "}\n",
              "\n",
              "/* on hover */\n",
              "#sk-container-id-3 div.sk-estimator:hover {\n",
              "  /* unfitted */\n",
              "  background-color: var(--sklearn-color-unfitted-level-2);\n",
              "}\n",
              "\n",
              "#sk-container-id-3 div.sk-estimator.fitted:hover {\n",
              "  /* fitted */\n",
              "  background-color: var(--sklearn-color-fitted-level-2);\n",
              "}\n",
              "\n",
              "/* Specification for estimator info (e.g. \"i\" and \"?\") */\n",
              "\n",
              "/* Common style for \"i\" and \"?\" */\n",
              "\n",
              ".sk-estimator-doc-link,\n",
              "a:link.sk-estimator-doc-link,\n",
              "a:visited.sk-estimator-doc-link {\n",
              "  float: right;\n",
              "  font-size: smaller;\n",
              "  line-height: 1em;\n",
              "  font-family: monospace;\n",
              "  background-color: var(--sklearn-color-background);\n",
              "  border-radius: 1em;\n",
              "  height: 1em;\n",
              "  width: 1em;\n",
              "  text-decoration: none !important;\n",
              "  margin-left: 0.5em;\n",
              "  text-align: center;\n",
              "  /* unfitted */\n",
              "  border: var(--sklearn-color-unfitted-level-1) 1pt solid;\n",
              "  color: var(--sklearn-color-unfitted-level-1);\n",
              "}\n",
              "\n",
              ".sk-estimator-doc-link.fitted,\n",
              "a:link.sk-estimator-doc-link.fitted,\n",
              "a:visited.sk-estimator-doc-link.fitted {\n",
              "  /* fitted */\n",
              "  border: var(--sklearn-color-fitted-level-1) 1pt solid;\n",
              "  color: var(--sklearn-color-fitted-level-1);\n",
              "}\n",
              "\n",
              "/* On hover */\n",
              "div.sk-estimator:hover .sk-estimator-doc-link:hover,\n",
              ".sk-estimator-doc-link:hover,\n",
              "div.sk-label-container:hover .sk-estimator-doc-link:hover,\n",
              ".sk-estimator-doc-link:hover {\n",
              "  /* unfitted */\n",
              "  background-color: var(--sklearn-color-unfitted-level-3);\n",
              "  color: var(--sklearn-color-background);\n",
              "  text-decoration: none;\n",
              "}\n",
              "\n",
              "div.sk-estimator.fitted:hover .sk-estimator-doc-link.fitted:hover,\n",
              ".sk-estimator-doc-link.fitted:hover,\n",
              "div.sk-label-container:hover .sk-estimator-doc-link.fitted:hover,\n",
              ".sk-estimator-doc-link.fitted:hover {\n",
              "  /* fitted */\n",
              "  background-color: var(--sklearn-color-fitted-level-3);\n",
              "  color: var(--sklearn-color-background);\n",
              "  text-decoration: none;\n",
              "}\n",
              "\n",
              "/* Span, style for the box shown on hovering the info icon */\n",
              ".sk-estimator-doc-link span {\n",
              "  display: none;\n",
              "  z-index: 9999;\n",
              "  position: relative;\n",
              "  font-weight: normal;\n",
              "  right: .2ex;\n",
              "  padding: .5ex;\n",
              "  margin: .5ex;\n",
              "  width: min-content;\n",
              "  min-width: 20ex;\n",
              "  max-width: 50ex;\n",
              "  color: var(--sklearn-color-text);\n",
              "  box-shadow: 2pt 2pt 4pt #999;\n",
              "  /* unfitted */\n",
              "  background: var(--sklearn-color-unfitted-level-0);\n",
              "  border: .5pt solid var(--sklearn-color-unfitted-level-3);\n",
              "}\n",
              "\n",
              ".sk-estimator-doc-link.fitted span {\n",
              "  /* fitted */\n",
              "  background: var(--sklearn-color-fitted-level-0);\n",
              "  border: var(--sklearn-color-fitted-level-3);\n",
              "}\n",
              "\n",
              ".sk-estimator-doc-link:hover span {\n",
              "  display: block;\n",
              "}\n",
              "\n",
              "/* \"?\"-specific style due to the `<a>` HTML tag */\n",
              "\n",
              "#sk-container-id-3 a.estimator_doc_link {\n",
              "  float: right;\n",
              "  font-size: 1rem;\n",
              "  line-height: 1em;\n",
              "  font-family: monospace;\n",
              "  background-color: var(--sklearn-color-background);\n",
              "  border-radius: 1rem;\n",
              "  height: 1rem;\n",
              "  width: 1rem;\n",
              "  text-decoration: none;\n",
              "  /* unfitted */\n",
              "  color: var(--sklearn-color-unfitted-level-1);\n",
              "  border: var(--sklearn-color-unfitted-level-1) 1pt solid;\n",
              "}\n",
              "\n",
              "#sk-container-id-3 a.estimator_doc_link.fitted {\n",
              "  /* fitted */\n",
              "  border: var(--sklearn-color-fitted-level-1) 1pt solid;\n",
              "  color: var(--sklearn-color-fitted-level-1);\n",
              "}\n",
              "\n",
              "/* On hover */\n",
              "#sk-container-id-3 a.estimator_doc_link:hover {\n",
              "  /* unfitted */\n",
              "  background-color: var(--sklearn-color-unfitted-level-3);\n",
              "  color: var(--sklearn-color-background);\n",
              "  text-decoration: none;\n",
              "}\n",
              "\n",
              "#sk-container-id-3 a.estimator_doc_link.fitted:hover {\n",
              "  /* fitted */\n",
              "  background-color: var(--sklearn-color-fitted-level-3);\n",
              "}\n",
              "</style><div id=\"sk-container-id-3\" class=\"sk-top-container\"><div class=\"sk-text-repr-fallback\"><pre>DecisionTreeRegressor(max_depth=2, random_state=42)</pre><b>In a Jupyter environment, please rerun this cell to show the HTML representation or trust the notebook. <br />On GitHub, the HTML representation is unable to render, please try loading this page with nbviewer.org.</b></div><div class=\"sk-container\" hidden><div class=\"sk-item\"><div class=\"sk-estimator fitted sk-toggleable\"><input class=\"sk-toggleable__control sk-hidden--visually\" id=\"sk-estimator-id-3\" type=\"checkbox\" checked><label for=\"sk-estimator-id-3\" class=\"sk-toggleable__label fitted sk-toggleable__label-arrow\"><div><div>DecisionTreeRegressor</div></div><div><a class=\"sk-estimator-doc-link fitted\" rel=\"noreferrer\" target=\"_blank\" href=\"https://scikit-learn.org/1.6/modules/generated/sklearn.tree.DecisionTreeRegressor.html\">?<span>Documentation for DecisionTreeRegressor</span></a><span class=\"sk-estimator-doc-link fitted\">i<span>Fitted</span></span></div></label><div class=\"sk-toggleable__content fitted\"><pre>DecisionTreeRegressor(max_depth=2, random_state=42)</pre></div> </div></div></div></div>"
            ],
            "text/plain": [
              "DecisionTreeRegressor(max_depth=2, random_state=42)"
            ]
          },
          "execution_count": 20,
          "metadata": {},
          "output_type": "execute_result"
        }
      ],
      "source": [
        "tree_reg.fit(X,y)"
      ]
>>>>>>> e03ff68 (updates)
    },
    {
      "cell_type": "markdown",
      "metadata": {
        "id": "_o9Bq2js73A4"
      },
      "source": [
        "↑↑↑↑↑↑↑↑↑↑↑↑↑↑↑↑↑↑↑↑↑↑↑↑↑↑↑↑↑↑↑ your code goes above this"
      ]
    },
    {
      "cell_type": "markdown",
      "metadata": {
        "id": "Tqv5xTc7Lvmz"
      },
      "source": [
        "Below, you'll see the difference in the prediction for an increased <br>\n",
        "value of the ```max_depth``` parameter. What can you say about the <br> results?\n",
        "\n",
        "**Again, the important thing is to understand the plots but not** <br>\n",
        "**necessarilly all of the code**"
      ]
    },
    {
      "cell_type": "code",
<<<<<<< HEAD
<<<<<<< HEAD
      "execution_count": 21,
      "metadata": {
        "id": "m6-d4F5PLvmz"
      },
      "outputs": [
        {
          "data": {
            "image/png": "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",
            "text/plain": [
              "<Figure size 1000x400 with 2 Axes>"
            ]
          },
          "metadata": {},
          "output_type": "display_data"
        }
      ],
=======
      "execution_count": null,
      "metadata": {
        "id": "m6-d4F5PLvmz"
      },
      "outputs": [],
>>>>>>> 2a6a815 (Merge remote-tracking branch 'upstream/main')
=======
      "execution_count": 21,
      "metadata": {
        "id": "m6-d4F5PLvmz"
      },
      "outputs": [
        {
          "data": {
            "image/png": "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",
            "text/plain": [
              "<Figure size 1000x400 with 2 Axes>"
            ]
          },
          "metadata": {},
          "output_type": "display_data"
        }
      ],
>>>>>>> e03ff68 (updates)
      "source": [
        "from sklearn.tree import DecisionTreeRegressor\n",
        "\n",
        "tree_reg1 = DecisionTreeRegressor(random_state=42, max_depth=2)\n",
        "tree_reg2 = DecisionTreeRegressor(random_state=42, max_depth=3)\n",
        "tree_reg1.fit(X, y)\n",
        "tree_reg2.fit(X, y)\n",
        "\n",
        "def plot_regression_predictions(tree_reg, X, y, axes=[0, 1, -0.2, 1], ylabel=\"$y$\"):\n",
        "    x1 = np.linspace(axes[0], axes[1], 500).reshape(-1, 1)\n",
        "    y_pred = tree_reg.predict(x1)\n",
        "    plt.axis(axes)\n",
        "    plt.xlabel(\"$x_1$\", fontsize=18)\n",
        "    if ylabel:\n",
        "        plt.ylabel(ylabel, fontsize=18, rotation=0)\n",
        "    plt.plot(X, y, \"b.\")\n",
        "    plt.plot(x1, y_pred, \"r.-\", linewidth=2, label=r\"$\\hat{y}$\")\n",
        "\n",
        "fig, axes = plt.subplots(ncols=2, figsize=(10, 4), sharey=True)\n",
        "plt.sca(axes[0])\n",
        "plot_regression_predictions(tree_reg1, X, y)\n",
        "for split, style in ((0.1973, \"k-\"), (0.0917, \"k--\"), (0.7718, \"k--\")):\n",
        "    plt.plot([split, split], [-0.2, 1], style, linewidth=2)\n",
        "plt.text(0.21, 0.65, \"Depth=0\", fontsize=15)\n",
        "plt.text(0.01, 0.2, \"Depth=1\", fontsize=13)\n",
        "plt.text(0.65, 0.8, \"Depth=1\", fontsize=13)\n",
        "plt.legend(loc=\"upper center\", fontsize=18)\n",
        "plt.title(\"max_depth=2\", fontsize=14)\n",
        "\n",
        "plt.sca(axes[1])\n",
        "plot_regression_predictions(tree_reg2, X, y, ylabel=None)\n",
        "for split, style in ((0.1973, \"k-\"), (0.0917, \"k--\"), (0.7718, \"k--\")):\n",
        "    plt.plot([split, split], [-0.2, 1], style, linewidth=2)\n",
        "for split in (0.0458, 0.1298, 0.2873, 0.9040):\n",
        "    plt.plot([split, split], [-0.2, 1], \"k:\", linewidth=1)\n",
        "plt.text(0.3, 0.5, \"Depth=2\", fontsize=13)\n",
        "plt.title(\"max_depth=3\", fontsize=14)\n",
        "\n",
        "plt.show()"
      ]
    },
    {
      "cell_type": "code",
<<<<<<< HEAD
<<<<<<< HEAD
      "execution_count": 22,
      "metadata": {
        "id": "3crrk6E0Lvm0"
      },
      "outputs": [
        {
          "data": {
            "image/svg+xml": [
              "<?xml version=\"1.0\" encoding=\"UTF-8\" standalone=\"no\"?>\n",
              "<!DOCTYPE svg PUBLIC \"-//W3C//DTD SVG 1.1//EN\"\n",
              " \"http://www.w3.org/Graphics/SVG/1.1/DTD/svg11.dtd\">\n",
              "<!-- Generated by graphviz version 12.2.1 (20241206.2353)\n",
              " -->\n",
              "<!-- Title: Tree Pages: 1 -->\n",
              "<svg width=\"662pt\" height=\"269pt\"\n",
              " viewBox=\"0.00 0.00 662.25 269.00\" xmlns=\"http://www.w3.org/2000/svg\" xmlns:xlink=\"http://www.w3.org/1999/xlink\">\n",
              "<g id=\"graph0\" class=\"graph\" transform=\"scale(1 1) rotate(0) translate(4 265)\">\n",
              "<title>Tree</title>\n",
              "<polygon fill=\"white\" stroke=\"none\" points=\"-4,4 -4,-265 658.25,-265 658.25,4 -4,4\"/>\n",
              "<!-- 0 -->\n",
              "<g id=\"node1\" class=\"node\">\n",
              "<title>0</title>\n",
              "<path fill=\"#f6d6be\" stroke=\"black\" d=\"M390.25,-261C390.25,-261 264,-261 264,-261 258,-261 252,-255 252,-249 252,-249 252,-205 252,-205 252,-199 258,-193 264,-193 264,-193 390.25,-193 390.25,-193 396.25,-193 402.25,-199 402.25,-205 402.25,-205 402.25,-249 402.25,-249 402.25,-255 396.25,-261 390.25,-261\"/>\n",
              "<text text-anchor=\"middle\" x=\"327.12\" y=\"-243.7\" font-family=\"Helvetica,sans-Serif\" font-size=\"14.00\">x1 &lt;= 0.197</text>\n",
              "<text text-anchor=\"middle\" x=\"327.12\" y=\"-228.7\" font-family=\"Helvetica,sans-Serif\" font-size=\"14.00\">squared_error = 0.098</text>\n",
              "<text text-anchor=\"middle\" x=\"327.12\" y=\"-213.7\" font-family=\"Helvetica,sans-Serif\" font-size=\"14.00\">samples = 200</text>\n",
              "<text text-anchor=\"middle\" x=\"327.12\" y=\"-198.7\" font-family=\"Helvetica,sans-Serif\" font-size=\"14.00\">value = 0.354</text>\n",
              "</g>\n",
              "<!-- 1 -->\n",
              "<g id=\"node2\" class=\"node\">\n",
              "<title>1</title>\n",
              "<path fill=\"#eb9d65\" stroke=\"black\" d=\"M306.25,-157C306.25,-157 180,-157 180,-157 174,-157 168,-151 168,-145 168,-145 168,-101 168,-101 168,-95 174,-89 180,-89 180,-89 306.25,-89 306.25,-89 312.25,-89 318.25,-95 318.25,-101 318.25,-101 318.25,-145 318.25,-145 318.25,-151 312.25,-157 306.25,-157\"/>\n",
              "<text text-anchor=\"middle\" x=\"243.12\" y=\"-139.7\" font-family=\"Helvetica,sans-Serif\" font-size=\"14.00\">x1 &lt;= 0.092</text>\n",
              "<text text-anchor=\"middle\" x=\"243.12\" y=\"-124.7\" font-family=\"Helvetica,sans-Serif\" font-size=\"14.00\">squared_error = 0.038</text>\n",
              "<text text-anchor=\"middle\" x=\"243.12\" y=\"-109.7\" font-family=\"Helvetica,sans-Serif\" font-size=\"14.00\">samples = 44</text>\n",
              "<text text-anchor=\"middle\" x=\"243.12\" y=\"-94.7\" font-family=\"Helvetica,sans-Serif\" font-size=\"14.00\">value = 0.689</text>\n",
              "</g>\n",
              "<!-- 0&#45;&gt;1 -->\n",
              "<g id=\"edge1\" class=\"edge\">\n",
              "<title>0&#45;&gt;1</title>\n",
              "<path fill=\"none\" stroke=\"black\" d=\"M299.62,-192.6C292.66,-184.15 285.09,-174.96 277.82,-166.13\"/>\n",
              "<polygon fill=\"black\" stroke=\"black\" points=\"280.71,-164.14 271.65,-158.64 275.31,-168.59 280.71,-164.14\"/>\n",
              "<text text-anchor=\"middle\" x=\"268.28\" y=\"-176.56\" font-family=\"Helvetica,sans-Serif\" font-size=\"14.00\">True</text>\n",
              "</g>\n",
              "<!-- 4 -->\n",
              "<g id=\"node5\" class=\"node\">\n",
              "<title>4</title>\n",
              "<path fill=\"#fae6d7\" stroke=\"black\" d=\"M474.25,-157C474.25,-157 348,-157 348,-157 342,-157 336,-151 336,-145 336,-145 336,-101 336,-101 336,-95 342,-89 348,-89 348,-89 474.25,-89 474.25,-89 480.25,-89 486.25,-95 486.25,-101 486.25,-101 486.25,-145 486.25,-145 486.25,-151 480.25,-157 474.25,-157\"/>\n",
              "<text text-anchor=\"middle\" x=\"411.12\" y=\"-139.7\" font-family=\"Helvetica,sans-Serif\" font-size=\"14.00\">x1 &lt;= 0.772</text>\n",
              "<text text-anchor=\"middle\" x=\"411.12\" y=\"-124.7\" font-family=\"Helvetica,sans-Serif\" font-size=\"14.00\">squared_error = 0.074</text>\n",
              "<text text-anchor=\"middle\" x=\"411.12\" y=\"-109.7\" font-family=\"Helvetica,sans-Serif\" font-size=\"14.00\">samples = 156</text>\n",
              "<text text-anchor=\"middle\" x=\"411.12\" y=\"-94.7\" font-family=\"Helvetica,sans-Serif\" font-size=\"14.00\">value = 0.259</text>\n",
              "</g>\n",
              "<!-- 0&#45;&gt;4 -->\n",
              "<g id=\"edge4\" class=\"edge\">\n",
              "<title>0&#45;&gt;4</title>\n",
              "<path fill=\"none\" stroke=\"black\" d=\"M354.63,-192.6C361.59,-184.15 369.16,-174.96 376.43,-166.13\"/>\n",
              "<polygon fill=\"black\" stroke=\"black\" points=\"378.94,-168.59 382.6,-158.64 373.54,-164.14 378.94,-168.59\"/>\n",
              "<text text-anchor=\"middle\" x=\"385.97\" y=\"-176.56\" font-family=\"Helvetica,sans-Serif\" font-size=\"14.00\">False</text>\n",
              "</g>\n",
              "<!-- 2 -->\n",
              "<g id=\"node3\" class=\"node\">\n",
              "<title>2</title>\n",
              "<path fill=\"#e58139\" stroke=\"black\" d=\"M138.25,-53C138.25,-53 12,-53 12,-53 6,-53 0,-47 0,-41 0,-41 0,-12 0,-12 0,-6 6,0 12,0 12,0 138.25,0 138.25,0 144.25,0 150.25,-6 150.25,-12 150.25,-12 150.25,-41 150.25,-41 150.25,-47 144.25,-53 138.25,-53\"/>\n",
              "<text text-anchor=\"middle\" x=\"75.12\" y=\"-35.7\" font-family=\"Helvetica,sans-Serif\" font-size=\"14.00\">squared_error = 0.018</text>\n",
              "<text text-anchor=\"middle\" x=\"75.12\" y=\"-20.7\" font-family=\"Helvetica,sans-Serif\" font-size=\"14.00\">samples = 20</text>\n",
              "<text text-anchor=\"middle\" x=\"75.12\" y=\"-5.7\" font-family=\"Helvetica,sans-Serif\" font-size=\"14.00\">value = 0.854</text>\n",
              "</g>\n",
              "<!-- 1&#45;&gt;2 -->\n",
              "<g id=\"edge2\" class=\"edge\">\n",
              "<title>1&#45;&gt;2</title>\n",
              "<path fill=\"none\" stroke=\"black\" d=\"M183.89,-88.68C166.68,-79 147.94,-68.46 130.94,-58.9\"/>\n",
              "<polygon fill=\"black\" stroke=\"black\" points=\"132.91,-55.99 122.48,-54.14 129.48,-62.09 132.91,-55.99\"/>\n",
              "</g>\n",
              "<!-- 3 -->\n",
              "<g id=\"node4\" class=\"node\">\n",
              "<title>3</title>\n",
              "<path fill=\"#f0b489\" stroke=\"black\" d=\"M306.25,-53C306.25,-53 180,-53 180,-53 174,-53 168,-47 168,-41 168,-41 168,-12 168,-12 168,-6 174,0 180,0 180,0 306.25,0 306.25,0 312.25,0 318.25,-6 318.25,-12 318.25,-12 318.25,-41 318.25,-41 318.25,-47 312.25,-53 306.25,-53\"/>\n",
              "<text text-anchor=\"middle\" x=\"243.12\" y=\"-35.7\" font-family=\"Helvetica,sans-Serif\" font-size=\"14.00\">squared_error = 0.013</text>\n",
              "<text text-anchor=\"middle\" x=\"243.12\" y=\"-20.7\" font-family=\"Helvetica,sans-Serif\" font-size=\"14.00\">samples = 24</text>\n",
              "<text text-anchor=\"middle\" x=\"243.12\" y=\"-5.7\" font-family=\"Helvetica,sans-Serif\" font-size=\"14.00\">value = 0.552</text>\n",
              "</g>\n",
              "<!-- 1&#45;&gt;3 -->\n",
              "<g id=\"edge3\" class=\"edge\">\n",
              "<title>1&#45;&gt;3</title>\n",
              "<path fill=\"none\" stroke=\"black\" d=\"M243.12,-88.68C243.12,-80.99 243.12,-72.76 243.12,-64.9\"/>\n",
              "<polygon fill=\"black\" stroke=\"black\" points=\"246.63,-64.91 243.13,-54.91 239.63,-64.91 246.63,-64.91\"/>\n",
              "</g>\n",
              "<!-- 5 -->\n",
              "<g id=\"node6\" class=\"node\">\n",
              "<title>5</title>\n",
              "<path fill=\"#ffffff\" stroke=\"black\" d=\"M474.25,-53C474.25,-53 348,-53 348,-53 342,-53 336,-47 336,-41 336,-41 336,-12 336,-12 336,-6 342,0 348,0 348,0 474.25,0 474.25,0 480.25,0 486.25,-6 486.25,-12 486.25,-12 486.25,-41 486.25,-41 486.25,-47 480.25,-53 474.25,-53\"/>\n",
              "<text text-anchor=\"middle\" x=\"411.12\" y=\"-35.7\" font-family=\"Helvetica,sans-Serif\" font-size=\"14.00\">squared_error = 0.015</text>\n",
              "<text text-anchor=\"middle\" x=\"411.12\" y=\"-20.7\" font-family=\"Helvetica,sans-Serif\" font-size=\"14.00\">samples = 110</text>\n",
              "<text text-anchor=\"middle\" x=\"411.12\" y=\"-5.7\" font-family=\"Helvetica,sans-Serif\" font-size=\"14.00\">value = 0.111</text>\n",
              "</g>\n",
              "<!-- 4&#45;&gt;5 -->\n",
              "<g id=\"edge5\" class=\"edge\">\n",
              "<title>4&#45;&gt;5</title>\n",
              "<path fill=\"none\" stroke=\"black\" d=\"M411.12,-88.68C411.12,-80.99 411.12,-72.76 411.12,-64.9\"/>\n",
              "<polygon fill=\"black\" stroke=\"black\" points=\"414.63,-64.91 411.13,-54.91 407.63,-64.91 414.63,-64.91\"/>\n",
              "</g>\n",
              "<!-- 6 -->\n",
              "<g id=\"node7\" class=\"node\">\n",
              "<title>6</title>\n",
              "<path fill=\"#edaa79\" stroke=\"black\" d=\"M642.25,-53C642.25,-53 516,-53 516,-53 510,-53 504,-47 504,-41 504,-41 504,-12 504,-12 504,-6 510,0 516,0 516,0 642.25,0 642.25,0 648.25,0 654.25,-6 654.25,-12 654.25,-12 654.25,-41 654.25,-41 654.25,-47 648.25,-53 642.25,-53\"/>\n",
              "<text text-anchor=\"middle\" x=\"579.12\" y=\"-35.7\" font-family=\"Helvetica,sans-Serif\" font-size=\"14.00\">squared_error = 0.036</text>\n",
              "<text text-anchor=\"middle\" x=\"579.12\" y=\"-20.7\" font-family=\"Helvetica,sans-Serif\" font-size=\"14.00\">samples = 46</text>\n",
              "<text text-anchor=\"middle\" x=\"579.12\" y=\"-5.7\" font-family=\"Helvetica,sans-Serif\" font-size=\"14.00\">value = 0.615</text>\n",
              "</g>\n",
              "<!-- 4&#45;&gt;6 -->\n",
              "<g id=\"edge6\" class=\"edge\">\n",
              "<title>4&#45;&gt;6</title>\n",
              "<path fill=\"none\" stroke=\"black\" d=\"M470.36,-88.68C487.57,-79 506.31,-68.46 523.31,-58.9\"/>\n",
              "<polygon fill=\"black\" stroke=\"black\" points=\"524.77,-62.09 531.77,-54.14 521.34,-55.99 524.77,-62.09\"/>\n",
              "</g>\n",
              "</g>\n",
              "</svg>\n"
            ],
            "text/plain": [
              "<graphviz.sources.Source at 0x1086a65b0>"
            ]
          },
          "execution_count": 22,
          "metadata": {},
          "output_type": "execute_result"
        }
      ],
=======
      "execution_count": null,
      "metadata": {
        "id": "3crrk6E0Lvm0"
      },
      "outputs": [],
>>>>>>> 2a6a815 (Merge remote-tracking branch 'upstream/main')
=======
      "execution_count": 22,
      "metadata": {
        "id": "3crrk6E0Lvm0"
      },
      "outputs": [
        {
          "data": {
            "image/svg+xml": [
              "<?xml version=\"1.0\" encoding=\"UTF-8\" standalone=\"no\"?>\n",
              "<!DOCTYPE svg PUBLIC \"-//W3C//DTD SVG 1.1//EN\"\n",
              " \"http://www.w3.org/Graphics/SVG/1.1/DTD/svg11.dtd\">\n",
              "<!-- Generated by graphviz version 12.2.1 (20241206.2353)\n",
              " -->\n",
              "<!-- Title: Tree Pages: 1 -->\n",
              "<svg width=\"662pt\" height=\"269pt\"\n",
              " viewBox=\"0.00 0.00 662.25 269.00\" xmlns=\"http://www.w3.org/2000/svg\" xmlns:xlink=\"http://www.w3.org/1999/xlink\">\n",
              "<g id=\"graph0\" class=\"graph\" transform=\"scale(1 1) rotate(0) translate(4 265)\">\n",
              "<title>Tree</title>\n",
              "<polygon fill=\"white\" stroke=\"none\" points=\"-4,4 -4,-265 658.25,-265 658.25,4 -4,4\"/>\n",
              "<!-- 0 -->\n",
              "<g id=\"node1\" class=\"node\">\n",
              "<title>0</title>\n",
              "<path fill=\"#f6d6be\" stroke=\"black\" d=\"M390.25,-261C390.25,-261 264,-261 264,-261 258,-261 252,-255 252,-249 252,-249 252,-205 252,-205 252,-199 258,-193 264,-193 264,-193 390.25,-193 390.25,-193 396.25,-193 402.25,-199 402.25,-205 402.25,-205 402.25,-249 402.25,-249 402.25,-255 396.25,-261 390.25,-261\"/>\n",
              "<text text-anchor=\"middle\" x=\"327.12\" y=\"-243.7\" font-family=\"Helvetica,sans-Serif\" font-size=\"14.00\">x1 &lt;= 0.197</text>\n",
              "<text text-anchor=\"middle\" x=\"327.12\" y=\"-228.7\" font-family=\"Helvetica,sans-Serif\" font-size=\"14.00\">squared_error = 0.098</text>\n",
              "<text text-anchor=\"middle\" x=\"327.12\" y=\"-213.7\" font-family=\"Helvetica,sans-Serif\" font-size=\"14.00\">samples = 200</text>\n",
              "<text text-anchor=\"middle\" x=\"327.12\" y=\"-198.7\" font-family=\"Helvetica,sans-Serif\" font-size=\"14.00\">value = 0.354</text>\n",
              "</g>\n",
              "<!-- 1 -->\n",
              "<g id=\"node2\" class=\"node\">\n",
              "<title>1</title>\n",
              "<path fill=\"#eb9d65\" stroke=\"black\" d=\"M306.25,-157C306.25,-157 180,-157 180,-157 174,-157 168,-151 168,-145 168,-145 168,-101 168,-101 168,-95 174,-89 180,-89 180,-89 306.25,-89 306.25,-89 312.25,-89 318.25,-95 318.25,-101 318.25,-101 318.25,-145 318.25,-145 318.25,-151 312.25,-157 306.25,-157\"/>\n",
              "<text text-anchor=\"middle\" x=\"243.12\" y=\"-139.7\" font-family=\"Helvetica,sans-Serif\" font-size=\"14.00\">x1 &lt;= 0.092</text>\n",
              "<text text-anchor=\"middle\" x=\"243.12\" y=\"-124.7\" font-family=\"Helvetica,sans-Serif\" font-size=\"14.00\">squared_error = 0.038</text>\n",
              "<text text-anchor=\"middle\" x=\"243.12\" y=\"-109.7\" font-family=\"Helvetica,sans-Serif\" font-size=\"14.00\">samples = 44</text>\n",
              "<text text-anchor=\"middle\" x=\"243.12\" y=\"-94.7\" font-family=\"Helvetica,sans-Serif\" font-size=\"14.00\">value = 0.689</text>\n",
              "</g>\n",
              "<!-- 0&#45;&gt;1 -->\n",
              "<g id=\"edge1\" class=\"edge\">\n",
              "<title>0&#45;&gt;1</title>\n",
              "<path fill=\"none\" stroke=\"black\" d=\"M299.62,-192.6C292.66,-184.15 285.09,-174.96 277.82,-166.13\"/>\n",
              "<polygon fill=\"black\" stroke=\"black\" points=\"280.71,-164.14 271.65,-158.64 275.31,-168.59 280.71,-164.14\"/>\n",
              "<text text-anchor=\"middle\" x=\"268.28\" y=\"-176.56\" font-family=\"Helvetica,sans-Serif\" font-size=\"14.00\">True</text>\n",
              "</g>\n",
              "<!-- 4 -->\n",
              "<g id=\"node5\" class=\"node\">\n",
              "<title>4</title>\n",
              "<path fill=\"#fae6d7\" stroke=\"black\" d=\"M474.25,-157C474.25,-157 348,-157 348,-157 342,-157 336,-151 336,-145 336,-145 336,-101 336,-101 336,-95 342,-89 348,-89 348,-89 474.25,-89 474.25,-89 480.25,-89 486.25,-95 486.25,-101 486.25,-101 486.25,-145 486.25,-145 486.25,-151 480.25,-157 474.25,-157\"/>\n",
              "<text text-anchor=\"middle\" x=\"411.12\" y=\"-139.7\" font-family=\"Helvetica,sans-Serif\" font-size=\"14.00\">x1 &lt;= 0.772</text>\n",
              "<text text-anchor=\"middle\" x=\"411.12\" y=\"-124.7\" font-family=\"Helvetica,sans-Serif\" font-size=\"14.00\">squared_error = 0.074</text>\n",
              "<text text-anchor=\"middle\" x=\"411.12\" y=\"-109.7\" font-family=\"Helvetica,sans-Serif\" font-size=\"14.00\">samples = 156</text>\n",
              "<text text-anchor=\"middle\" x=\"411.12\" y=\"-94.7\" font-family=\"Helvetica,sans-Serif\" font-size=\"14.00\">value = 0.259</text>\n",
              "</g>\n",
              "<!-- 0&#45;&gt;4 -->\n",
              "<g id=\"edge4\" class=\"edge\">\n",
              "<title>0&#45;&gt;4</title>\n",
              "<path fill=\"none\" stroke=\"black\" d=\"M354.63,-192.6C361.59,-184.15 369.16,-174.96 376.43,-166.13\"/>\n",
              "<polygon fill=\"black\" stroke=\"black\" points=\"378.94,-168.59 382.6,-158.64 373.54,-164.14 378.94,-168.59\"/>\n",
              "<text text-anchor=\"middle\" x=\"385.97\" y=\"-176.56\" font-family=\"Helvetica,sans-Serif\" font-size=\"14.00\">False</text>\n",
              "</g>\n",
              "<!-- 2 -->\n",
              "<g id=\"node3\" class=\"node\">\n",
              "<title>2</title>\n",
              "<path fill=\"#e58139\" stroke=\"black\" d=\"M138.25,-53C138.25,-53 12,-53 12,-53 6,-53 0,-47 0,-41 0,-41 0,-12 0,-12 0,-6 6,0 12,0 12,0 138.25,0 138.25,0 144.25,0 150.25,-6 150.25,-12 150.25,-12 150.25,-41 150.25,-41 150.25,-47 144.25,-53 138.25,-53\"/>\n",
              "<text text-anchor=\"middle\" x=\"75.12\" y=\"-35.7\" font-family=\"Helvetica,sans-Serif\" font-size=\"14.00\">squared_error = 0.018</text>\n",
              "<text text-anchor=\"middle\" x=\"75.12\" y=\"-20.7\" font-family=\"Helvetica,sans-Serif\" font-size=\"14.00\">samples = 20</text>\n",
              "<text text-anchor=\"middle\" x=\"75.12\" y=\"-5.7\" font-family=\"Helvetica,sans-Serif\" font-size=\"14.00\">value = 0.854</text>\n",
              "</g>\n",
              "<!-- 1&#45;&gt;2 -->\n",
              "<g id=\"edge2\" class=\"edge\">\n",
              "<title>1&#45;&gt;2</title>\n",
              "<path fill=\"none\" stroke=\"black\" d=\"M183.89,-88.68C166.68,-79 147.94,-68.46 130.94,-58.9\"/>\n",
              "<polygon fill=\"black\" stroke=\"black\" points=\"132.91,-55.99 122.48,-54.14 129.48,-62.09 132.91,-55.99\"/>\n",
              "</g>\n",
              "<!-- 3 -->\n",
              "<g id=\"node4\" class=\"node\">\n",
              "<title>3</title>\n",
              "<path fill=\"#f0b489\" stroke=\"black\" d=\"M306.25,-53C306.25,-53 180,-53 180,-53 174,-53 168,-47 168,-41 168,-41 168,-12 168,-12 168,-6 174,0 180,0 180,0 306.25,0 306.25,0 312.25,0 318.25,-6 318.25,-12 318.25,-12 318.25,-41 318.25,-41 318.25,-47 312.25,-53 306.25,-53\"/>\n",
              "<text text-anchor=\"middle\" x=\"243.12\" y=\"-35.7\" font-family=\"Helvetica,sans-Serif\" font-size=\"14.00\">squared_error = 0.013</text>\n",
              "<text text-anchor=\"middle\" x=\"243.12\" y=\"-20.7\" font-family=\"Helvetica,sans-Serif\" font-size=\"14.00\">samples = 24</text>\n",
              "<text text-anchor=\"middle\" x=\"243.12\" y=\"-5.7\" font-family=\"Helvetica,sans-Serif\" font-size=\"14.00\">value = 0.552</text>\n",
              "</g>\n",
              "<!-- 1&#45;&gt;3 -->\n",
              "<g id=\"edge3\" class=\"edge\">\n",
              "<title>1&#45;&gt;3</title>\n",
              "<path fill=\"none\" stroke=\"black\" d=\"M243.12,-88.68C243.12,-80.99 243.12,-72.76 243.12,-64.9\"/>\n",
              "<polygon fill=\"black\" stroke=\"black\" points=\"246.63,-64.91 243.13,-54.91 239.63,-64.91 246.63,-64.91\"/>\n",
              "</g>\n",
              "<!-- 5 -->\n",
              "<g id=\"node6\" class=\"node\">\n",
              "<title>5</title>\n",
              "<path fill=\"#ffffff\" stroke=\"black\" d=\"M474.25,-53C474.25,-53 348,-53 348,-53 342,-53 336,-47 336,-41 336,-41 336,-12 336,-12 336,-6 342,0 348,0 348,0 474.25,0 474.25,0 480.25,0 486.25,-6 486.25,-12 486.25,-12 486.25,-41 486.25,-41 486.25,-47 480.25,-53 474.25,-53\"/>\n",
              "<text text-anchor=\"middle\" x=\"411.12\" y=\"-35.7\" font-family=\"Helvetica,sans-Serif\" font-size=\"14.00\">squared_error = 0.015</text>\n",
              "<text text-anchor=\"middle\" x=\"411.12\" y=\"-20.7\" font-family=\"Helvetica,sans-Serif\" font-size=\"14.00\">samples = 110</text>\n",
              "<text text-anchor=\"middle\" x=\"411.12\" y=\"-5.7\" font-family=\"Helvetica,sans-Serif\" font-size=\"14.00\">value = 0.111</text>\n",
              "</g>\n",
              "<!-- 4&#45;&gt;5 -->\n",
              "<g id=\"edge5\" class=\"edge\">\n",
              "<title>4&#45;&gt;5</title>\n",
              "<path fill=\"none\" stroke=\"black\" d=\"M411.12,-88.68C411.12,-80.99 411.12,-72.76 411.12,-64.9\"/>\n",
              "<polygon fill=\"black\" stroke=\"black\" points=\"414.63,-64.91 411.13,-54.91 407.63,-64.91 414.63,-64.91\"/>\n",
              "</g>\n",
              "<!-- 6 -->\n",
              "<g id=\"node7\" class=\"node\">\n",
              "<title>6</title>\n",
              "<path fill=\"#edaa79\" stroke=\"black\" d=\"M642.25,-53C642.25,-53 516,-53 516,-53 510,-53 504,-47 504,-41 504,-41 504,-12 504,-12 504,-6 510,0 516,0 516,0 642.25,0 642.25,0 648.25,0 654.25,-6 654.25,-12 654.25,-12 654.25,-41 654.25,-41 654.25,-47 648.25,-53 642.25,-53\"/>\n",
              "<text text-anchor=\"middle\" x=\"579.12\" y=\"-35.7\" font-family=\"Helvetica,sans-Serif\" font-size=\"14.00\">squared_error = 0.036</text>\n",
              "<text text-anchor=\"middle\" x=\"579.12\" y=\"-20.7\" font-family=\"Helvetica,sans-Serif\" font-size=\"14.00\">samples = 46</text>\n",
              "<text text-anchor=\"middle\" x=\"579.12\" y=\"-5.7\" font-family=\"Helvetica,sans-Serif\" font-size=\"14.00\">value = 0.615</text>\n",
              "</g>\n",
              "<!-- 4&#45;&gt;6 -->\n",
              "<g id=\"edge6\" class=\"edge\">\n",
              "<title>4&#45;&gt;6</title>\n",
              "<path fill=\"none\" stroke=\"black\" d=\"M470.36,-88.68C487.57,-79 506.31,-68.46 523.31,-58.9\"/>\n",
              "<polygon fill=\"black\" stroke=\"black\" points=\"524.77,-62.09 531.77,-54.14 521.34,-55.99 524.77,-62.09\"/>\n",
              "</g>\n",
              "</g>\n",
              "</svg>\n"
            ],
            "text/plain": [
              "<graphviz.sources.Source at 0x1086a65b0>"
            ]
          },
          "execution_count": 22,
          "metadata": {},
          "output_type": "execute_result"
        }
      ],
>>>>>>> e03ff68 (updates)
      "source": [
        "export_graphviz(\n",
        "        tree_reg1,\n",
        "        out_file=os.path.join(IMAGES_PATH, \"regression_tree.dot\"),\n",
        "        feature_names=[\"x1\"],\n",
        "        rounded=True,\n",
        "        filled=True\n",
        "    )\n",
        "Source.from_file(os.path.join(IMAGES_PATH, \"regression_tree.dot\"))"
      ]
    },
    {
      "cell_type": "markdown",
      "metadata": {
        "id": "bxasJyRFLvm0"
      },
      "source": [
        "## Restricting the Tree with `min_samples_leaf`"
      ]
    },
    {
      "cell_type": "markdown",
      "metadata": {
        "id": "i4jVUrTPLvm0"
      },
      "source": [
        "Here we are restricting the tree to `min_samples_leaf=10`. You can read <br> about it in [the documentation](https://scikit-learn.org/stable/modules/generated/sklearn.tree.DecisionTreeRegressor.html) but basically it is adding the requirement <br>\n",
        "that, before we end a branch, we need **10 data points** that fit **each side** of <br>\n",
        "the final decision boundary."
      ]
    },
    {
      "cell_type": "code",
<<<<<<< HEAD
<<<<<<< HEAD
      "execution_count": 23,
      "metadata": {
        "id": "u__spHoSLvm0"
      },
      "outputs": [
        {
          "data": {
            "image/png": "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",
            "text/plain": [
              "<Figure size 1000x400 with 2 Axes>"
            ]
          },
          "metadata": {},
          "output_type": "display_data"
        }
      ],
=======
      "execution_count": null,
      "metadata": {
        "id": "u__spHoSLvm0"
      },
      "outputs": [],
>>>>>>> 2a6a815 (Merge remote-tracking branch 'upstream/main')
=======
      "execution_count": 23,
      "metadata": {
        "id": "u__spHoSLvm0"
      },
      "outputs": [
        {
          "data": {
            "image/png": "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",
            "text/plain": [
              "<Figure size 1000x400 with 2 Axes>"
            ]
          },
          "metadata": {},
          "output_type": "display_data"
        }
      ],
>>>>>>> e03ff68 (updates)
      "source": [
        "tree_reg1 = DecisionTreeRegressor(random_state=42)\n",
        "tree_reg2 = DecisionTreeRegressor(random_state=42, min_samples_leaf=10)\n",
        "tree_reg1.fit(X, y)\n",
        "tree_reg2.fit(X, y)\n",
        "\n",
        "x1 = np.linspace(0, 1, 500).reshape(-1, 1)\n",
        "y_pred1 = tree_reg1.predict(x1)\n",
        "y_pred2 = tree_reg2.predict(x1)\n",
        "\n",
        "fig, axes = plt.subplots(ncols=2, figsize=(10, 4), sharey=True)\n",
        "\n",
        "plt.sca(axes[0])\n",
        "plt.plot(X, y, \"b.\")\n",
        "plt.plot(x1, y_pred1, \"r.-\", linewidth=2, label=r\"$\\hat{y}$\")\n",
        "plt.axis([0, 1, -0.2, 1.1])\n",
        "plt.xlabel(\"$x_1$\", fontsize=18)\n",
        "plt.ylabel(\"$y$\", fontsize=18, rotation=0)\n",
        "plt.legend(loc=\"upper center\", fontsize=18)\n",
        "plt.title(\"No restrictions\", fontsize=14)\n",
        "\n",
        "plt.sca(axes[1])\n",
        "plt.plot(X, y, \"b.\")\n",
        "plt.plot(x1, y_pred2, \"r.-\", linewidth=2, label=r\"$\\hat{y}$\")\n",
        "plt.axis([0, 1, -0.2, 1.1])\n",
        "plt.xlabel(\"$x_1$\", fontsize=18)\n",
        "plt.title(\"min_samples_leaf={}\".format(tree_reg2.min_samples_leaf), fontsize=14)\n",
        "\n",
        "plt.show()"
      ]
    },
    {
      "cell_type": "markdown",
      "metadata": {
        "id": "TfioJ6bhLvm0"
      },
      "source": [
        "### Task 5\n",
        "\n",
        "Discuss the effect of the restrictions on the regression results."
      ]
    },
    {
      "cell_type": "markdown",
      "metadata": {
        "id": "3pu8O_PnLvm1"
      },
      "source": [
        "↓↓↓↓↓↓↓↓↓↓↓↓↓↓↓↓↓↓↓↓↓↓↓↓↓↓↓↓↓↓↓ your answer goes below"
      ]
    },
    {
      "cell_type": "markdown",
      "metadata": {
        "id": "CwwXiX4cLvm1"
      },
      "source": [
        "Task 5 answer:"
      ]
    },
    {
      "cell_type": "markdown",
      "metadata": {
        "id": "rBE7oVb9Lvm1"
      },
      "source": [
        "↑↑↑↑↑↑↑↑↑↑↑↑↑↑↑↑↑↑↑↑↑↑↑↑↑↑↑↑↑↑↑ your answer goes above this"
      ]
    },
    {
      "cell_type": "markdown",
      "metadata": {
        "id": "P3IfDqQRLvm1"
      },
      "source": [
        "# Random Forests"
      ]
    },
    {
      "cell_type": "markdown",
      "metadata": {
        "id": "8WnVP54rLvm1"
      },
      "source": [
        "In this exercise you will be using the [make_moons](https://scikit-learn.org/stable/modules/generated/sklearn.datasets.make_moons.html) dataset. You can <br>\n",
        "see a plot below. Basically, the tool generates fake data of two inter- <br>\n",
        "leaving half-circles or \"moons\".\n"
      ]
    },
    {
      "cell_type": "code",
<<<<<<< HEAD
<<<<<<< HEAD
      "execution_count": 24,
=======
      "execution_count": null,
>>>>>>> 2a6a815 (Merge remote-tracking branch 'upstream/main')
=======
      "execution_count": 24,
>>>>>>> e03ff68 (updates)
      "metadata": {
        "id": "pDumL4RnLvm1"
      },
      "outputs": [],
      "source": [
        "from sklearn.datasets import make_moons\n",
        "\n",
        "X, y = make_moons(n_samples=10000, noise=0.4, random_state=42)"
      ]
    },
    {
      "cell_type": "code",
<<<<<<< HEAD
<<<<<<< HEAD
      "execution_count": 25,
      "metadata": {
        "id": "RQeS4I_nLvm1"
      },
      "outputs": [
        {
          "data": {
            "image/png": "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",
            "text/plain": [
              "<Figure size 640x480 with 1 Axes>"
            ]
          },
          "metadata": {},
          "output_type": "display_data"
        }
      ],
=======
      "execution_count": null,
      "metadata": {
        "id": "RQeS4I_nLvm1"
      },
      "outputs": [],
>>>>>>> 2a6a815 (Merge remote-tracking branch 'upstream/main')
=======
      "execution_count": 25,
      "metadata": {
        "id": "RQeS4I_nLvm1"
      },
      "outputs": [
        {
          "data": {
            "image/png": "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",
            "text/plain": [
              "<Figure size 640x480 with 1 Axes>"
            ]
          },
          "metadata": {},
          "output_type": "display_data"
        }
      ],
>>>>>>> e03ff68 (updates)
      "source": [
        "cm_bright = ListedColormap([\"#FF0000\", \"#0000FF\"])\n",
        "plt.scatter(X[:,0], X[:,1], c=y, cmap=cm_bright, edgecolors=\"k\");"
      ]
    },
    {
      "cell_type": "markdown",
<<<<<<< HEAD
<<<<<<< HEAD
      "metadata": {
        "id": "1ElUuEJIsylC"
      },
      "source": [
        "Here we use train_test_split to split our fake data into 20% test and <br>\n",
        "80% train data."
      ]
    },
    {
      "cell_type": "code",
      "execution_count": 26,
      "metadata": {
        "id": "qn5Cxp6lLvm2"
      },
      "outputs": [
        {
          "data": {
            "text/plain": [
              "8000"
            ]
          },
          "execution_count": 26,
          "metadata": {},
          "output_type": "execute_result"
        }
      ],
=======
=======
      "metadata": {
        "id": "1ElUuEJIsylC"
      },
>>>>>>> e03ff68 (updates)
      "source": [
        "Here we use train_test_split to split our fake data into 20% test and <br>\n",
        "80% train data."
      ]
    },
    {
      "cell_type": "code",
      "execution_count": 26,
      "metadata": {
        "id": "qn5Cxp6lLvm2"
      },
<<<<<<< HEAD
      "outputs": [],
>>>>>>> 2a6a815 (Merge remote-tracking branch 'upstream/main')
=======
      "outputs": [
        {
          "data": {
            "text/plain": [
              "8000"
            ]
          },
          "execution_count": 26,
          "metadata": {},
          "output_type": "execute_result"
        }
      ],
>>>>>>> e03ff68 (updates)
      "source": [
        "from sklearn.model_selection import train_test_split\n",
        "X_train, X_test, y_train, y_test = train_test_split(X, y, test_size=0.2, random_state=42)\n",
        "len(X_train)"
      ]
    },
    {
      "cell_type": "code",
<<<<<<< HEAD
<<<<<<< HEAD
      "execution_count": 27,
      "metadata": {
        "id": "QLtSoaJXLvm2"
      },
      "outputs": [
        {
          "data": {
            "text/html": [
              "<style>#sk-container-id-4 {\n",
              "  /* Definition of color scheme common for light and dark mode */\n",
              "  --sklearn-color-text: #000;\n",
              "  --sklearn-color-text-muted: #666;\n",
              "  --sklearn-color-line: gray;\n",
              "  /* Definition of color scheme for unfitted estimators */\n",
              "  --sklearn-color-unfitted-level-0: #fff5e6;\n",
              "  --sklearn-color-unfitted-level-1: #f6e4d2;\n",
              "  --sklearn-color-unfitted-level-2: #ffe0b3;\n",
              "  --sklearn-color-unfitted-level-3: chocolate;\n",
              "  /* Definition of color scheme for fitted estimators */\n",
              "  --sklearn-color-fitted-level-0: #f0f8ff;\n",
              "  --sklearn-color-fitted-level-1: #d4ebff;\n",
              "  --sklearn-color-fitted-level-2: #b3dbfd;\n",
              "  --sklearn-color-fitted-level-3: cornflowerblue;\n",
              "\n",
              "  /* Specific color for light theme */\n",
              "  --sklearn-color-text-on-default-background: var(--sg-text-color, var(--theme-code-foreground, var(--jp-content-font-color1, black)));\n",
              "  --sklearn-color-background: var(--sg-background-color, var(--theme-background, var(--jp-layout-color0, white)));\n",
              "  --sklearn-color-border-box: var(--sg-text-color, var(--theme-code-foreground, var(--jp-content-font-color1, black)));\n",
              "  --sklearn-color-icon: #696969;\n",
              "\n",
              "  @media (prefers-color-scheme: dark) {\n",
              "    /* Redefinition of color scheme for dark theme */\n",
              "    --sklearn-color-text-on-default-background: var(--sg-text-color, var(--theme-code-foreground, var(--jp-content-font-color1, white)));\n",
              "    --sklearn-color-background: var(--sg-background-color, var(--theme-background, var(--jp-layout-color0, #111)));\n",
              "    --sklearn-color-border-box: var(--sg-text-color, var(--theme-code-foreground, var(--jp-content-font-color1, white)));\n",
              "    --sklearn-color-icon: #878787;\n",
              "  }\n",
              "}\n",
              "\n",
              "#sk-container-id-4 {\n",
              "  color: var(--sklearn-color-text);\n",
              "}\n",
              "\n",
              "#sk-container-id-4 pre {\n",
              "  padding: 0;\n",
              "}\n",
              "\n",
              "#sk-container-id-4 input.sk-hidden--visually {\n",
              "  border: 0;\n",
              "  clip: rect(1px 1px 1px 1px);\n",
              "  clip: rect(1px, 1px, 1px, 1px);\n",
              "  height: 1px;\n",
              "  margin: -1px;\n",
              "  overflow: hidden;\n",
              "  padding: 0;\n",
              "  position: absolute;\n",
              "  width: 1px;\n",
              "}\n",
              "\n",
              "#sk-container-id-4 div.sk-dashed-wrapped {\n",
              "  border: 1px dashed var(--sklearn-color-line);\n",
              "  margin: 0 0.4em 0.5em 0.4em;\n",
              "  box-sizing: border-box;\n",
              "  padding-bottom: 0.4em;\n",
              "  background-color: var(--sklearn-color-background);\n",
              "}\n",
              "\n",
              "#sk-container-id-4 div.sk-container {\n",
              "  /* jupyter's `normalize.less` sets `[hidden] { display: none; }`\n",
              "     but bootstrap.min.css set `[hidden] { display: none !important; }`\n",
              "     so we also need the `!important` here to be able to override the\n",
              "     default hidden behavior on the sphinx rendered scikit-learn.org.\n",
              "     See: https://github.com/scikit-learn/scikit-learn/issues/21755 */\n",
              "  display: inline-block !important;\n",
              "  position: relative;\n",
              "}\n",
              "\n",
              "#sk-container-id-4 div.sk-text-repr-fallback {\n",
              "  display: none;\n",
              "}\n",
              "\n",
              "div.sk-parallel-item,\n",
              "div.sk-serial,\n",
              "div.sk-item {\n",
              "  /* draw centered vertical line to link estimators */\n",
              "  background-image: linear-gradient(var(--sklearn-color-text-on-default-background), var(--sklearn-color-text-on-default-background));\n",
              "  background-size: 2px 100%;\n",
              "  background-repeat: no-repeat;\n",
              "  background-position: center center;\n",
              "}\n",
              "\n",
              "/* Parallel-specific style estimator block */\n",
              "\n",
              "#sk-container-id-4 div.sk-parallel-item::after {\n",
              "  content: \"\";\n",
              "  width: 100%;\n",
              "  border-bottom: 2px solid var(--sklearn-color-text-on-default-background);\n",
              "  flex-grow: 1;\n",
              "}\n",
              "\n",
              "#sk-container-id-4 div.sk-parallel {\n",
              "  display: flex;\n",
              "  align-items: stretch;\n",
              "  justify-content: center;\n",
              "  background-color: var(--sklearn-color-background);\n",
              "  position: relative;\n",
              "}\n",
              "\n",
              "#sk-container-id-4 div.sk-parallel-item {\n",
              "  display: flex;\n",
              "  flex-direction: column;\n",
              "}\n",
              "\n",
              "#sk-container-id-4 div.sk-parallel-item:first-child::after {\n",
              "  align-self: flex-end;\n",
              "  width: 50%;\n",
              "}\n",
              "\n",
              "#sk-container-id-4 div.sk-parallel-item:last-child::after {\n",
              "  align-self: flex-start;\n",
              "  width: 50%;\n",
              "}\n",
              "\n",
              "#sk-container-id-4 div.sk-parallel-item:only-child::after {\n",
              "  width: 0;\n",
              "}\n",
              "\n",
              "/* Serial-specific style estimator block */\n",
              "\n",
              "#sk-container-id-4 div.sk-serial {\n",
              "  display: flex;\n",
              "  flex-direction: column;\n",
              "  align-items: center;\n",
              "  background-color: var(--sklearn-color-background);\n",
              "  padding-right: 1em;\n",
              "  padding-left: 1em;\n",
              "}\n",
              "\n",
              "\n",
              "/* Toggleable style: style used for estimator/Pipeline/ColumnTransformer box that is\n",
              "clickable and can be expanded/collapsed.\n",
              "- Pipeline and ColumnTransformer use this feature and define the default style\n",
              "- Estimators will overwrite some part of the style using the `sk-estimator` class\n",
              "*/\n",
              "\n",
              "/* Pipeline and ColumnTransformer style (default) */\n",
              "\n",
              "#sk-container-id-4 div.sk-toggleable {\n",
              "  /* Default theme specific background. It is overwritten whether we have a\n",
              "  specific estimator or a Pipeline/ColumnTransformer */\n",
              "  background-color: var(--sklearn-color-background);\n",
              "}\n",
              "\n",
              "/* Toggleable label */\n",
              "#sk-container-id-4 label.sk-toggleable__label {\n",
              "  cursor: pointer;\n",
              "  display: flex;\n",
              "  width: 100%;\n",
              "  margin-bottom: 0;\n",
              "  padding: 0.5em;\n",
              "  box-sizing: border-box;\n",
              "  text-align: center;\n",
              "  align-items: start;\n",
              "  justify-content: space-between;\n",
              "  gap: 0.5em;\n",
              "}\n",
              "\n",
              "#sk-container-id-4 label.sk-toggleable__label .caption {\n",
              "  font-size: 0.6rem;\n",
              "  font-weight: lighter;\n",
              "  color: var(--sklearn-color-text-muted);\n",
              "}\n",
              "\n",
              "#sk-container-id-4 label.sk-toggleable__label-arrow:before {\n",
              "  /* Arrow on the left of the label */\n",
              "  content: \"▸\";\n",
              "  float: left;\n",
              "  margin-right: 0.25em;\n",
              "  color: var(--sklearn-color-icon);\n",
              "}\n",
              "\n",
              "#sk-container-id-4 label.sk-toggleable__label-arrow:hover:before {\n",
              "  color: var(--sklearn-color-text);\n",
              "}\n",
              "\n",
              "/* Toggleable content - dropdown */\n",
              "\n",
              "#sk-container-id-4 div.sk-toggleable__content {\n",
              "  max-height: 0;\n",
              "  max-width: 0;\n",
              "  overflow: hidden;\n",
              "  text-align: left;\n",
              "  /* unfitted */\n",
              "  background-color: var(--sklearn-color-unfitted-level-0);\n",
              "}\n",
              "\n",
              "#sk-container-id-4 div.sk-toggleable__content.fitted {\n",
              "  /* fitted */\n",
              "  background-color: var(--sklearn-color-fitted-level-0);\n",
              "}\n",
              "\n",
              "#sk-container-id-4 div.sk-toggleable__content pre {\n",
              "  margin: 0.2em;\n",
              "  border-radius: 0.25em;\n",
              "  color: var(--sklearn-color-text);\n",
              "  /* unfitted */\n",
              "  background-color: var(--sklearn-color-unfitted-level-0);\n",
              "}\n",
              "\n",
              "#sk-container-id-4 div.sk-toggleable__content.fitted pre {\n",
              "  /* unfitted */\n",
              "  background-color: var(--sklearn-color-fitted-level-0);\n",
              "}\n",
              "\n",
              "#sk-container-id-4 input.sk-toggleable__control:checked~div.sk-toggleable__content {\n",
              "  /* Expand drop-down */\n",
              "  max-height: 200px;\n",
              "  max-width: 100%;\n",
              "  overflow: auto;\n",
              "}\n",
              "\n",
              "#sk-container-id-4 input.sk-toggleable__control:checked~label.sk-toggleable__label-arrow:before {\n",
              "  content: \"▾\";\n",
              "}\n",
              "\n",
              "/* Pipeline/ColumnTransformer-specific style */\n",
              "\n",
              "#sk-container-id-4 div.sk-label input.sk-toggleable__control:checked~label.sk-toggleable__label {\n",
              "  color: var(--sklearn-color-text);\n",
              "  background-color: var(--sklearn-color-unfitted-level-2);\n",
              "}\n",
              "\n",
              "#sk-container-id-4 div.sk-label.fitted input.sk-toggleable__control:checked~label.sk-toggleable__label {\n",
              "  background-color: var(--sklearn-color-fitted-level-2);\n",
              "}\n",
              "\n",
              "/* Estimator-specific style */\n",
              "\n",
              "/* Colorize estimator box */\n",
              "#sk-container-id-4 div.sk-estimator input.sk-toggleable__control:checked~label.sk-toggleable__label {\n",
              "  /* unfitted */\n",
              "  background-color: var(--sklearn-color-unfitted-level-2);\n",
              "}\n",
              "\n",
              "#sk-container-id-4 div.sk-estimator.fitted input.sk-toggleable__control:checked~label.sk-toggleable__label {\n",
              "  /* fitted */\n",
              "  background-color: var(--sklearn-color-fitted-level-2);\n",
              "}\n",
              "\n",
              "#sk-container-id-4 div.sk-label label.sk-toggleable__label,\n",
              "#sk-container-id-4 div.sk-label label {\n",
              "  /* The background is the default theme color */\n",
              "  color: var(--sklearn-color-text-on-default-background);\n",
              "}\n",
              "\n",
              "/* On hover, darken the color of the background */\n",
              "#sk-container-id-4 div.sk-label:hover label.sk-toggleable__label {\n",
              "  color: var(--sklearn-color-text);\n",
              "  background-color: var(--sklearn-color-unfitted-level-2);\n",
              "}\n",
              "\n",
              "/* Label box, darken color on hover, fitted */\n",
              "#sk-container-id-4 div.sk-label.fitted:hover label.sk-toggleable__label.fitted {\n",
              "  color: var(--sklearn-color-text);\n",
              "  background-color: var(--sklearn-color-fitted-level-2);\n",
              "}\n",
              "\n",
              "/* Estimator label */\n",
              "\n",
              "#sk-container-id-4 div.sk-label label {\n",
              "  font-family: monospace;\n",
              "  font-weight: bold;\n",
              "  display: inline-block;\n",
              "  line-height: 1.2em;\n",
              "}\n",
              "\n",
              "#sk-container-id-4 div.sk-label-container {\n",
              "  text-align: center;\n",
              "}\n",
              "\n",
              "/* Estimator-specific */\n",
              "#sk-container-id-4 div.sk-estimator {\n",
              "  font-family: monospace;\n",
              "  border: 1px dotted var(--sklearn-color-border-box);\n",
              "  border-radius: 0.25em;\n",
              "  box-sizing: border-box;\n",
              "  margin-bottom: 0.5em;\n",
              "  /* unfitted */\n",
              "  background-color: var(--sklearn-color-unfitted-level-0);\n",
              "}\n",
              "\n",
              "#sk-container-id-4 div.sk-estimator.fitted {\n",
              "  /* fitted */\n",
              "  background-color: var(--sklearn-color-fitted-level-0);\n",
              "}\n",
              "\n",
              "/* on hover */\n",
              "#sk-container-id-4 div.sk-estimator:hover {\n",
              "  /* unfitted */\n",
              "  background-color: var(--sklearn-color-unfitted-level-2);\n",
              "}\n",
              "\n",
              "#sk-container-id-4 div.sk-estimator.fitted:hover {\n",
              "  /* fitted */\n",
              "  background-color: var(--sklearn-color-fitted-level-2);\n",
              "}\n",
              "\n",
              "/* Specification for estimator info (e.g. \"i\" and \"?\") */\n",
              "\n",
              "/* Common style for \"i\" and \"?\" */\n",
              "\n",
              ".sk-estimator-doc-link,\n",
              "a:link.sk-estimator-doc-link,\n",
              "a:visited.sk-estimator-doc-link {\n",
              "  float: right;\n",
              "  font-size: smaller;\n",
              "  line-height: 1em;\n",
              "  font-family: monospace;\n",
              "  background-color: var(--sklearn-color-background);\n",
              "  border-radius: 1em;\n",
              "  height: 1em;\n",
              "  width: 1em;\n",
              "  text-decoration: none !important;\n",
              "  margin-left: 0.5em;\n",
              "  text-align: center;\n",
              "  /* unfitted */\n",
              "  border: var(--sklearn-color-unfitted-level-1) 1pt solid;\n",
              "  color: var(--sklearn-color-unfitted-level-1);\n",
              "}\n",
              "\n",
              ".sk-estimator-doc-link.fitted,\n",
              "a:link.sk-estimator-doc-link.fitted,\n",
              "a:visited.sk-estimator-doc-link.fitted {\n",
              "  /* fitted */\n",
              "  border: var(--sklearn-color-fitted-level-1) 1pt solid;\n",
              "  color: var(--sklearn-color-fitted-level-1);\n",
              "}\n",
              "\n",
              "/* On hover */\n",
              "div.sk-estimator:hover .sk-estimator-doc-link:hover,\n",
              ".sk-estimator-doc-link:hover,\n",
              "div.sk-label-container:hover .sk-estimator-doc-link:hover,\n",
              ".sk-estimator-doc-link:hover {\n",
              "  /* unfitted */\n",
              "  background-color: var(--sklearn-color-unfitted-level-3);\n",
              "  color: var(--sklearn-color-background);\n",
              "  text-decoration: none;\n",
              "}\n",
              "\n",
              "div.sk-estimator.fitted:hover .sk-estimator-doc-link.fitted:hover,\n",
              ".sk-estimator-doc-link.fitted:hover,\n",
              "div.sk-label-container:hover .sk-estimator-doc-link.fitted:hover,\n",
              ".sk-estimator-doc-link.fitted:hover {\n",
              "  /* fitted */\n",
              "  background-color: var(--sklearn-color-fitted-level-3);\n",
              "  color: var(--sklearn-color-background);\n",
              "  text-decoration: none;\n",
              "}\n",
              "\n",
              "/* Span, style for the box shown on hovering the info icon */\n",
              ".sk-estimator-doc-link span {\n",
              "  display: none;\n",
              "  z-index: 9999;\n",
              "  position: relative;\n",
              "  font-weight: normal;\n",
              "  right: .2ex;\n",
              "  padding: .5ex;\n",
              "  margin: .5ex;\n",
              "  width: min-content;\n",
              "  min-width: 20ex;\n",
              "  max-width: 50ex;\n",
              "  color: var(--sklearn-color-text);\n",
              "  box-shadow: 2pt 2pt 4pt #999;\n",
              "  /* unfitted */\n",
              "  background: var(--sklearn-color-unfitted-level-0);\n",
              "  border: .5pt solid var(--sklearn-color-unfitted-level-3);\n",
              "}\n",
              "\n",
              ".sk-estimator-doc-link.fitted span {\n",
              "  /* fitted */\n",
              "  background: var(--sklearn-color-fitted-level-0);\n",
              "  border: var(--sklearn-color-fitted-level-3);\n",
              "}\n",
              "\n",
              ".sk-estimator-doc-link:hover span {\n",
              "  display: block;\n",
              "}\n",
              "\n",
              "/* \"?\"-specific style due to the `<a>` HTML tag */\n",
              "\n",
              "#sk-container-id-4 a.estimator_doc_link {\n",
              "  float: right;\n",
              "  font-size: 1rem;\n",
              "  line-height: 1em;\n",
              "  font-family: monospace;\n",
              "  background-color: var(--sklearn-color-background);\n",
              "  border-radius: 1rem;\n",
              "  height: 1rem;\n",
              "  width: 1rem;\n",
              "  text-decoration: none;\n",
              "  /* unfitted */\n",
              "  color: var(--sklearn-color-unfitted-level-1);\n",
              "  border: var(--sklearn-color-unfitted-level-1) 1pt solid;\n",
              "}\n",
              "\n",
              "#sk-container-id-4 a.estimator_doc_link.fitted {\n",
              "  /* fitted */\n",
              "  border: var(--sklearn-color-fitted-level-1) 1pt solid;\n",
              "  color: var(--sklearn-color-fitted-level-1);\n",
              "}\n",
              "\n",
              "/* On hover */\n",
              "#sk-container-id-4 a.estimator_doc_link:hover {\n",
              "  /* unfitted */\n",
              "  background-color: var(--sklearn-color-unfitted-level-3);\n",
              "  color: var(--sklearn-color-background);\n",
              "  text-decoration: none;\n",
              "}\n",
              "\n",
              "#sk-container-id-4 a.estimator_doc_link.fitted:hover {\n",
              "  /* fitted */\n",
              "  background-color: var(--sklearn-color-fitted-level-3);\n",
              "}\n",
              "</style><div id=\"sk-container-id-4\" class=\"sk-top-container\"><div class=\"sk-text-repr-fallback\"><pre>DecisionTreeClassifier(max_leaf_nodes=17, random_state=42)</pre><b>In a Jupyter environment, please rerun this cell to show the HTML representation or trust the notebook. <br />On GitHub, the HTML representation is unable to render, please try loading this page with nbviewer.org.</b></div><div class=\"sk-container\" hidden><div class=\"sk-item\"><div class=\"sk-estimator fitted sk-toggleable\"><input class=\"sk-toggleable__control sk-hidden--visually\" id=\"sk-estimator-id-4\" type=\"checkbox\" checked><label for=\"sk-estimator-id-4\" class=\"sk-toggleable__label fitted sk-toggleable__label-arrow\"><div><div>DecisionTreeClassifier</div></div><div><a class=\"sk-estimator-doc-link fitted\" rel=\"noreferrer\" target=\"_blank\" href=\"https://scikit-learn.org/1.6/modules/generated/sklearn.tree.DecisionTreeClassifier.html\">?<span>Documentation for DecisionTreeClassifier</span></a><span class=\"sk-estimator-doc-link fitted\">i<span>Fitted</span></span></div></label><div class=\"sk-toggleable__content fitted\"><pre>DecisionTreeClassifier(max_leaf_nodes=17, random_state=42)</pre></div> </div></div></div></div>"
            ],
            "text/plain": [
              "DecisionTreeClassifier(max_leaf_nodes=17, random_state=42)"
            ]
          },
          "execution_count": 27,
          "metadata": {},
          "output_type": "execute_result"
        }
      ],
=======
      "execution_count": null,
      "metadata": {
        "id": "QLtSoaJXLvm2"
      },
      "outputs": [],
>>>>>>> 2a6a815 (Merge remote-tracking branch 'upstream/main')
=======
      "execution_count": 27,
      "metadata": {
        "id": "QLtSoaJXLvm2"
      },
      "outputs": [
        {
          "data": {
            "text/html": [
              "<style>#sk-container-id-4 {\n",
              "  /* Definition of color scheme common for light and dark mode */\n",
              "  --sklearn-color-text: #000;\n",
              "  --sklearn-color-text-muted: #666;\n",
              "  --sklearn-color-line: gray;\n",
              "  /* Definition of color scheme for unfitted estimators */\n",
              "  --sklearn-color-unfitted-level-0: #fff5e6;\n",
              "  --sklearn-color-unfitted-level-1: #f6e4d2;\n",
              "  --sklearn-color-unfitted-level-2: #ffe0b3;\n",
              "  --sklearn-color-unfitted-level-3: chocolate;\n",
              "  /* Definition of color scheme for fitted estimators */\n",
              "  --sklearn-color-fitted-level-0: #f0f8ff;\n",
              "  --sklearn-color-fitted-level-1: #d4ebff;\n",
              "  --sklearn-color-fitted-level-2: #b3dbfd;\n",
              "  --sklearn-color-fitted-level-3: cornflowerblue;\n",
              "\n",
              "  /* Specific color for light theme */\n",
              "  --sklearn-color-text-on-default-background: var(--sg-text-color, var(--theme-code-foreground, var(--jp-content-font-color1, black)));\n",
              "  --sklearn-color-background: var(--sg-background-color, var(--theme-background, var(--jp-layout-color0, white)));\n",
              "  --sklearn-color-border-box: var(--sg-text-color, var(--theme-code-foreground, var(--jp-content-font-color1, black)));\n",
              "  --sklearn-color-icon: #696969;\n",
              "\n",
              "  @media (prefers-color-scheme: dark) {\n",
              "    /* Redefinition of color scheme for dark theme */\n",
              "    --sklearn-color-text-on-default-background: var(--sg-text-color, var(--theme-code-foreground, var(--jp-content-font-color1, white)));\n",
              "    --sklearn-color-background: var(--sg-background-color, var(--theme-background, var(--jp-layout-color0, #111)));\n",
              "    --sklearn-color-border-box: var(--sg-text-color, var(--theme-code-foreground, var(--jp-content-font-color1, white)));\n",
              "    --sklearn-color-icon: #878787;\n",
              "  }\n",
              "}\n",
              "\n",
              "#sk-container-id-4 {\n",
              "  color: var(--sklearn-color-text);\n",
              "}\n",
              "\n",
              "#sk-container-id-4 pre {\n",
              "  padding: 0;\n",
              "}\n",
              "\n",
              "#sk-container-id-4 input.sk-hidden--visually {\n",
              "  border: 0;\n",
              "  clip: rect(1px 1px 1px 1px);\n",
              "  clip: rect(1px, 1px, 1px, 1px);\n",
              "  height: 1px;\n",
              "  margin: -1px;\n",
              "  overflow: hidden;\n",
              "  padding: 0;\n",
              "  position: absolute;\n",
              "  width: 1px;\n",
              "}\n",
              "\n",
              "#sk-container-id-4 div.sk-dashed-wrapped {\n",
              "  border: 1px dashed var(--sklearn-color-line);\n",
              "  margin: 0 0.4em 0.5em 0.4em;\n",
              "  box-sizing: border-box;\n",
              "  padding-bottom: 0.4em;\n",
              "  background-color: var(--sklearn-color-background);\n",
              "}\n",
              "\n",
              "#sk-container-id-4 div.sk-container {\n",
              "  /* jupyter's `normalize.less` sets `[hidden] { display: none; }`\n",
              "     but bootstrap.min.css set `[hidden] { display: none !important; }`\n",
              "     so we also need the `!important` here to be able to override the\n",
              "     default hidden behavior on the sphinx rendered scikit-learn.org.\n",
              "     See: https://github.com/scikit-learn/scikit-learn/issues/21755 */\n",
              "  display: inline-block !important;\n",
              "  position: relative;\n",
              "}\n",
              "\n",
              "#sk-container-id-4 div.sk-text-repr-fallback {\n",
              "  display: none;\n",
              "}\n",
              "\n",
              "div.sk-parallel-item,\n",
              "div.sk-serial,\n",
              "div.sk-item {\n",
              "  /* draw centered vertical line to link estimators */\n",
              "  background-image: linear-gradient(var(--sklearn-color-text-on-default-background), var(--sklearn-color-text-on-default-background));\n",
              "  background-size: 2px 100%;\n",
              "  background-repeat: no-repeat;\n",
              "  background-position: center center;\n",
              "}\n",
              "\n",
              "/* Parallel-specific style estimator block */\n",
              "\n",
              "#sk-container-id-4 div.sk-parallel-item::after {\n",
              "  content: \"\";\n",
              "  width: 100%;\n",
              "  border-bottom: 2px solid var(--sklearn-color-text-on-default-background);\n",
              "  flex-grow: 1;\n",
              "}\n",
              "\n",
              "#sk-container-id-4 div.sk-parallel {\n",
              "  display: flex;\n",
              "  align-items: stretch;\n",
              "  justify-content: center;\n",
              "  background-color: var(--sklearn-color-background);\n",
              "  position: relative;\n",
              "}\n",
              "\n",
              "#sk-container-id-4 div.sk-parallel-item {\n",
              "  display: flex;\n",
              "  flex-direction: column;\n",
              "}\n",
              "\n",
              "#sk-container-id-4 div.sk-parallel-item:first-child::after {\n",
              "  align-self: flex-end;\n",
              "  width: 50%;\n",
              "}\n",
              "\n",
              "#sk-container-id-4 div.sk-parallel-item:last-child::after {\n",
              "  align-self: flex-start;\n",
              "  width: 50%;\n",
              "}\n",
              "\n",
              "#sk-container-id-4 div.sk-parallel-item:only-child::after {\n",
              "  width: 0;\n",
              "}\n",
              "\n",
              "/* Serial-specific style estimator block */\n",
              "\n",
              "#sk-container-id-4 div.sk-serial {\n",
              "  display: flex;\n",
              "  flex-direction: column;\n",
              "  align-items: center;\n",
              "  background-color: var(--sklearn-color-background);\n",
              "  padding-right: 1em;\n",
              "  padding-left: 1em;\n",
              "}\n",
              "\n",
              "\n",
              "/* Toggleable style: style used for estimator/Pipeline/ColumnTransformer box that is\n",
              "clickable and can be expanded/collapsed.\n",
              "- Pipeline and ColumnTransformer use this feature and define the default style\n",
              "- Estimators will overwrite some part of the style using the `sk-estimator` class\n",
              "*/\n",
              "\n",
              "/* Pipeline and ColumnTransformer style (default) */\n",
              "\n",
              "#sk-container-id-4 div.sk-toggleable {\n",
              "  /* Default theme specific background. It is overwritten whether we have a\n",
              "  specific estimator or a Pipeline/ColumnTransformer */\n",
              "  background-color: var(--sklearn-color-background);\n",
              "}\n",
              "\n",
              "/* Toggleable label */\n",
              "#sk-container-id-4 label.sk-toggleable__label {\n",
              "  cursor: pointer;\n",
              "  display: flex;\n",
              "  width: 100%;\n",
              "  margin-bottom: 0;\n",
              "  padding: 0.5em;\n",
              "  box-sizing: border-box;\n",
              "  text-align: center;\n",
              "  align-items: start;\n",
              "  justify-content: space-between;\n",
              "  gap: 0.5em;\n",
              "}\n",
              "\n",
              "#sk-container-id-4 label.sk-toggleable__label .caption {\n",
              "  font-size: 0.6rem;\n",
              "  font-weight: lighter;\n",
              "  color: var(--sklearn-color-text-muted);\n",
              "}\n",
              "\n",
              "#sk-container-id-4 label.sk-toggleable__label-arrow:before {\n",
              "  /* Arrow on the left of the label */\n",
              "  content: \"▸\";\n",
              "  float: left;\n",
              "  margin-right: 0.25em;\n",
              "  color: var(--sklearn-color-icon);\n",
              "}\n",
              "\n",
              "#sk-container-id-4 label.sk-toggleable__label-arrow:hover:before {\n",
              "  color: var(--sklearn-color-text);\n",
              "}\n",
              "\n",
              "/* Toggleable content - dropdown */\n",
              "\n",
              "#sk-container-id-4 div.sk-toggleable__content {\n",
              "  max-height: 0;\n",
              "  max-width: 0;\n",
              "  overflow: hidden;\n",
              "  text-align: left;\n",
              "  /* unfitted */\n",
              "  background-color: var(--sklearn-color-unfitted-level-0);\n",
              "}\n",
              "\n",
              "#sk-container-id-4 div.sk-toggleable__content.fitted {\n",
              "  /* fitted */\n",
              "  background-color: var(--sklearn-color-fitted-level-0);\n",
              "}\n",
              "\n",
              "#sk-container-id-4 div.sk-toggleable__content pre {\n",
              "  margin: 0.2em;\n",
              "  border-radius: 0.25em;\n",
              "  color: var(--sklearn-color-text);\n",
              "  /* unfitted */\n",
              "  background-color: var(--sklearn-color-unfitted-level-0);\n",
              "}\n",
              "\n",
              "#sk-container-id-4 div.sk-toggleable__content.fitted pre {\n",
              "  /* unfitted */\n",
              "  background-color: var(--sklearn-color-fitted-level-0);\n",
              "}\n",
              "\n",
              "#sk-container-id-4 input.sk-toggleable__control:checked~div.sk-toggleable__content {\n",
              "  /* Expand drop-down */\n",
              "  max-height: 200px;\n",
              "  max-width: 100%;\n",
              "  overflow: auto;\n",
              "}\n",
              "\n",
              "#sk-container-id-4 input.sk-toggleable__control:checked~label.sk-toggleable__label-arrow:before {\n",
              "  content: \"▾\";\n",
              "}\n",
              "\n",
              "/* Pipeline/ColumnTransformer-specific style */\n",
              "\n",
              "#sk-container-id-4 div.sk-label input.sk-toggleable__control:checked~label.sk-toggleable__label {\n",
              "  color: var(--sklearn-color-text);\n",
              "  background-color: var(--sklearn-color-unfitted-level-2);\n",
              "}\n",
              "\n",
              "#sk-container-id-4 div.sk-label.fitted input.sk-toggleable__control:checked~label.sk-toggleable__label {\n",
              "  background-color: var(--sklearn-color-fitted-level-2);\n",
              "}\n",
              "\n",
              "/* Estimator-specific style */\n",
              "\n",
              "/* Colorize estimator box */\n",
              "#sk-container-id-4 div.sk-estimator input.sk-toggleable__control:checked~label.sk-toggleable__label {\n",
              "  /* unfitted */\n",
              "  background-color: var(--sklearn-color-unfitted-level-2);\n",
              "}\n",
              "\n",
              "#sk-container-id-4 div.sk-estimator.fitted input.sk-toggleable__control:checked~label.sk-toggleable__label {\n",
              "  /* fitted */\n",
              "  background-color: var(--sklearn-color-fitted-level-2);\n",
              "}\n",
              "\n",
              "#sk-container-id-4 div.sk-label label.sk-toggleable__label,\n",
              "#sk-container-id-4 div.sk-label label {\n",
              "  /* The background is the default theme color */\n",
              "  color: var(--sklearn-color-text-on-default-background);\n",
              "}\n",
              "\n",
              "/* On hover, darken the color of the background */\n",
              "#sk-container-id-4 div.sk-label:hover label.sk-toggleable__label {\n",
              "  color: var(--sklearn-color-text);\n",
              "  background-color: var(--sklearn-color-unfitted-level-2);\n",
              "}\n",
              "\n",
              "/* Label box, darken color on hover, fitted */\n",
              "#sk-container-id-4 div.sk-label.fitted:hover label.sk-toggleable__label.fitted {\n",
              "  color: var(--sklearn-color-text);\n",
              "  background-color: var(--sklearn-color-fitted-level-2);\n",
              "}\n",
              "\n",
              "/* Estimator label */\n",
              "\n",
              "#sk-container-id-4 div.sk-label label {\n",
              "  font-family: monospace;\n",
              "  font-weight: bold;\n",
              "  display: inline-block;\n",
              "  line-height: 1.2em;\n",
              "}\n",
              "\n",
              "#sk-container-id-4 div.sk-label-container {\n",
              "  text-align: center;\n",
              "}\n",
              "\n",
              "/* Estimator-specific */\n",
              "#sk-container-id-4 div.sk-estimator {\n",
              "  font-family: monospace;\n",
              "  border: 1px dotted var(--sklearn-color-border-box);\n",
              "  border-radius: 0.25em;\n",
              "  box-sizing: border-box;\n",
              "  margin-bottom: 0.5em;\n",
              "  /* unfitted */\n",
              "  background-color: var(--sklearn-color-unfitted-level-0);\n",
              "}\n",
              "\n",
              "#sk-container-id-4 div.sk-estimator.fitted {\n",
              "  /* fitted */\n",
              "  background-color: var(--sklearn-color-fitted-level-0);\n",
              "}\n",
              "\n",
              "/* on hover */\n",
              "#sk-container-id-4 div.sk-estimator:hover {\n",
              "  /* unfitted */\n",
              "  background-color: var(--sklearn-color-unfitted-level-2);\n",
              "}\n",
              "\n",
              "#sk-container-id-4 div.sk-estimator.fitted:hover {\n",
              "  /* fitted */\n",
              "  background-color: var(--sklearn-color-fitted-level-2);\n",
              "}\n",
              "\n",
              "/* Specification for estimator info (e.g. \"i\" and \"?\") */\n",
              "\n",
              "/* Common style for \"i\" and \"?\" */\n",
              "\n",
              ".sk-estimator-doc-link,\n",
              "a:link.sk-estimator-doc-link,\n",
              "a:visited.sk-estimator-doc-link {\n",
              "  float: right;\n",
              "  font-size: smaller;\n",
              "  line-height: 1em;\n",
              "  font-family: monospace;\n",
              "  background-color: var(--sklearn-color-background);\n",
              "  border-radius: 1em;\n",
              "  height: 1em;\n",
              "  width: 1em;\n",
              "  text-decoration: none !important;\n",
              "  margin-left: 0.5em;\n",
              "  text-align: center;\n",
              "  /* unfitted */\n",
              "  border: var(--sklearn-color-unfitted-level-1) 1pt solid;\n",
              "  color: var(--sklearn-color-unfitted-level-1);\n",
              "}\n",
              "\n",
              ".sk-estimator-doc-link.fitted,\n",
              "a:link.sk-estimator-doc-link.fitted,\n",
              "a:visited.sk-estimator-doc-link.fitted {\n",
              "  /* fitted */\n",
              "  border: var(--sklearn-color-fitted-level-1) 1pt solid;\n",
              "  color: var(--sklearn-color-fitted-level-1);\n",
              "}\n",
              "\n",
              "/* On hover */\n",
              "div.sk-estimator:hover .sk-estimator-doc-link:hover,\n",
              ".sk-estimator-doc-link:hover,\n",
              "div.sk-label-container:hover .sk-estimator-doc-link:hover,\n",
              ".sk-estimator-doc-link:hover {\n",
              "  /* unfitted */\n",
              "  background-color: var(--sklearn-color-unfitted-level-3);\n",
              "  color: var(--sklearn-color-background);\n",
              "  text-decoration: none;\n",
              "}\n",
              "\n",
              "div.sk-estimator.fitted:hover .sk-estimator-doc-link.fitted:hover,\n",
              ".sk-estimator-doc-link.fitted:hover,\n",
              "div.sk-label-container:hover .sk-estimator-doc-link.fitted:hover,\n",
              ".sk-estimator-doc-link.fitted:hover {\n",
              "  /* fitted */\n",
              "  background-color: var(--sklearn-color-fitted-level-3);\n",
              "  color: var(--sklearn-color-background);\n",
              "  text-decoration: none;\n",
              "}\n",
              "\n",
              "/* Span, style for the box shown on hovering the info icon */\n",
              ".sk-estimator-doc-link span {\n",
              "  display: none;\n",
              "  z-index: 9999;\n",
              "  position: relative;\n",
              "  font-weight: normal;\n",
              "  right: .2ex;\n",
              "  padding: .5ex;\n",
              "  margin: .5ex;\n",
              "  width: min-content;\n",
              "  min-width: 20ex;\n",
              "  max-width: 50ex;\n",
              "  color: var(--sklearn-color-text);\n",
              "  box-shadow: 2pt 2pt 4pt #999;\n",
              "  /* unfitted */\n",
              "  background: var(--sklearn-color-unfitted-level-0);\n",
              "  border: .5pt solid var(--sklearn-color-unfitted-level-3);\n",
              "}\n",
              "\n",
              ".sk-estimator-doc-link.fitted span {\n",
              "  /* fitted */\n",
              "  background: var(--sklearn-color-fitted-level-0);\n",
              "  border: var(--sklearn-color-fitted-level-3);\n",
              "}\n",
              "\n",
              ".sk-estimator-doc-link:hover span {\n",
              "  display: block;\n",
              "}\n",
              "\n",
              "/* \"?\"-specific style due to the `<a>` HTML tag */\n",
              "\n",
              "#sk-container-id-4 a.estimator_doc_link {\n",
              "  float: right;\n",
              "  font-size: 1rem;\n",
              "  line-height: 1em;\n",
              "  font-family: monospace;\n",
              "  background-color: var(--sklearn-color-background);\n",
              "  border-radius: 1rem;\n",
              "  height: 1rem;\n",
              "  width: 1rem;\n",
              "  text-decoration: none;\n",
              "  /* unfitted */\n",
              "  color: var(--sklearn-color-unfitted-level-1);\n",
              "  border: var(--sklearn-color-unfitted-level-1) 1pt solid;\n",
              "}\n",
              "\n",
              "#sk-container-id-4 a.estimator_doc_link.fitted {\n",
              "  /* fitted */\n",
              "  border: var(--sklearn-color-fitted-level-1) 1pt solid;\n",
              "  color: var(--sklearn-color-fitted-level-1);\n",
              "}\n",
              "\n",
              "/* On hover */\n",
              "#sk-container-id-4 a.estimator_doc_link:hover {\n",
              "  /* unfitted */\n",
              "  background-color: var(--sklearn-color-unfitted-level-3);\n",
              "  color: var(--sklearn-color-background);\n",
              "  text-decoration: none;\n",
              "}\n",
              "\n",
              "#sk-container-id-4 a.estimator_doc_link.fitted:hover {\n",
              "  /* fitted */\n",
              "  background-color: var(--sklearn-color-fitted-level-3);\n",
              "}\n",
              "</style><div id=\"sk-container-id-4\" class=\"sk-top-container\"><div class=\"sk-text-repr-fallback\"><pre>DecisionTreeClassifier(max_leaf_nodes=17, random_state=42)</pre><b>In a Jupyter environment, please rerun this cell to show the HTML representation or trust the notebook. <br />On GitHub, the HTML representation is unable to render, please try loading this page with nbviewer.org.</b></div><div class=\"sk-container\" hidden><div class=\"sk-item\"><div class=\"sk-estimator fitted sk-toggleable\"><input class=\"sk-toggleable__control sk-hidden--visually\" id=\"sk-estimator-id-4\" type=\"checkbox\" checked><label for=\"sk-estimator-id-4\" class=\"sk-toggleable__label fitted sk-toggleable__label-arrow\"><div><div>DecisionTreeClassifier</div></div><div><a class=\"sk-estimator-doc-link fitted\" rel=\"noreferrer\" target=\"_blank\" href=\"https://scikit-learn.org/1.6/modules/generated/sklearn.tree.DecisionTreeClassifier.html\">?<span>Documentation for DecisionTreeClassifier</span></a><span class=\"sk-estimator-doc-link fitted\">i<span>Fitted</span></span></div></label><div class=\"sk-toggleable__content fitted\"><pre>DecisionTreeClassifier(max_leaf_nodes=17, random_state=42)</pre></div> </div></div></div></div>"
            ],
            "text/plain": [
              "DecisionTreeClassifier(max_leaf_nodes=17, random_state=42)"
            ]
          },
          "execution_count": 27,
          "metadata": {},
          "output_type": "execute_result"
        }
      ],
>>>>>>> e03ff68 (updates)
      "source": [
        "tree_moons = DecisionTreeClassifier(class_weight=None, criterion='gini', max_depth=None,\n",
        "                       max_features=None, max_leaf_nodes=17,\n",
        "                       min_impurity_decrease=0.0,\n",
        "                       min_samples_leaf=1, min_samples_split=2,\n",
        "                       min_weight_fraction_leaf=0.0,\n",
        "                       random_state=42, splitter='best')\n",
        "tree_moons.fit(X_train, y_train)"
      ]
    },
    {
      "cell_type": "code",
<<<<<<< HEAD
<<<<<<< HEAD
      "execution_count": 28,
      "metadata": {
        "id": "uztDNVn4Lvm2"
      },
      "outputs": [
        {
          "data": {
            "text/plain": [
              "0.8695"
            ]
          },
          "execution_count": 28,
          "metadata": {},
          "output_type": "execute_result"
        }
      ],
=======
      "execution_count": null,
      "metadata": {
        "id": "uztDNVn4Lvm2"
      },
      "outputs": [],
>>>>>>> 2a6a815 (Merge remote-tracking branch 'upstream/main')
=======
      "execution_count": 28,
      "metadata": {
        "id": "uztDNVn4Lvm2"
      },
      "outputs": [
        {
          "data": {
            "text/plain": [
              "0.8695"
            ]
          },
          "execution_count": 28,
          "metadata": {},
          "output_type": "execute_result"
        }
      ],
>>>>>>> e03ff68 (updates)
      "source": [
        "from sklearn.metrics import accuracy_score\n",
        "\n",
        "y_pred_moons = tree_moons.predict(X_test)\n",
        "accuracy_score(y_test, y_pred_moons)"
      ]
    },
    {
      "cell_type": "markdown",
      "metadata": {
        "id": "28IASpWkLvm2"
      },
      "source": [
        "The decision tree trained with all data has an accuracy as shown above. <br>\n",
        "Now we will build a forest consisting of trees."
      ]
    },
    {
      "cell_type": "markdown",
      "metadata": {
        "id": "GF7rD4OdLvm2"
      },
      "source": [
        "We will be building 100 `DecisionTreeClassifier`s. <br>\n",
        "First we do a train-test-split to get training and test data."
      ]
    },
    {
      "cell_type": "markdown",
      "metadata": {
        "id": "JdooBsL9Lvm2"
      },
      "source": [
        "As you can see, the training data has a size of 8000 instances. <br>\n",
        "Let's generate 1000 subsets (mini-sets) of `X_train`, each containing <br>\n",
        "100 instances selected randomly. You may have noticed that that's more\n",
        "<br>\n",
        "than 8000. We'll be reusing multiple datapoints.\n",
        "\n",
        "Then we will train a separate tree on each of the mini-sets."
      ]
    },
    {
      "cell_type": "markdown",
      "metadata": {
        "id": "2CHBb3ZHLvm2"
      },
      "source": [
        "## Task 6\n",
        "\n",
        "Grow a forest.<br>\n",
        "You will have to get the following done, the way you implement it is <br>\n",
        "your choice:\n",
        "\n",
        "- Split `X_train` into 1000 subsets, each containing 100 instances <br> selected randomly. You can use sklearn's [ShuffleSplit](https://scikit-learn.org/stable/modules/generated/sklearn.model_selection.ShuffleSplit.html) for this.\n",
        "- Train one [Decision Tree](https://scikit-learn.org/0.17/modules/generated/sklearn.tree.DecisionTreeClassifier.html) on each subset. The hyperparameter values <br>\n",
        "below work well:\n",
        "```python\n",
        "class_weight=None, criterion='gini', max_depth=None,\n",
        "                       max_features=None, max_leaf_nodes=17,\n",
        "                       min_samples_leaf=1, min_samples_split=2,\n",
        "                       min_weight_fraction_leaf=0.0,\n",
        "                       random_state=42, splitter='best'\n",
        "```\n",
        "You might need `from sklearn.base import clone`. To clone the tree 1000 <br> times.\n",
        "- Calculate the accuracy on the test data `X_test`, `y_test` for each <br> tree. What is the mean accuracy?\n",
        "- Build a forest: For each test set instance, generate the predictions <br> of the 1,000 Decision Trees, and keep only the most frequent <br> prediction (you can use SciPy's `scipy.stats.mode()` function for <br>\n",
        "this). This gives you _majority-vote predictions_ over the test set. <br>\n",
        "What is the accuracy of your forest? You should get a slightly better <br> accuracy than the one tree trained on all training data.\n",
        "\n",
        "\n",
        "If you struggle with this task for too long, then you can find the solution [here](https://github.com/ageron/handson-ml2/blob/master/06_decision_trees.ipynb) <br>\n",
        "under 8 (bottom of the notebook).\n",
        "\n",
        "**In order you should**:\n",
        "- Attempt to solve this as a group by looking up code documentation\n",
        "- Raise your hand and ask for help\n",
        "- Check the official book solutions only for parts of the task you are <br> struggling with\n",
        "- Look at, understand, and try to replicate the code from the solution\n",
        "\n",
        "**Do NOT directly copy the entire solution into this notebook.**"
      ]
    },
    {
      "cell_type": "code",
<<<<<<< HEAD
<<<<<<< HEAD
      "execution_count": 100,
=======
      "execution_count": null,
>>>>>>> 2a6a815 (Merge remote-tracking branch 'upstream/main')
=======
      "execution_count": 100,
>>>>>>> e03ff68 (updates)
      "metadata": {
        "id": "7HMNRC-7Lvm3"
      },
      "outputs": [],
      "source": [
        "from sklearn.model_selection import ShuffleSplit\n",
        "from sklearn.base import clone\n",
        "from scipy.stats import mode\n",
        "\n",
        "\n",
        "n_trees = 1000\n",
        "n_instances = 100\n",
        "mini_sets = []"
      ]
    },
    {
      "cell_type": "markdown",
      "metadata": {
        "id": "nsnymzLuLvm2"
      },
      "source": [
        "↓↓↓↓↓↓↓↓↓↓↓↓↓↓↓↓↓↓↓↓↓↓↓↓↓↓↓↓↓↓↓ your code goes below"
      ]
    },
    {
      "cell_type": "code",
<<<<<<< HEAD
<<<<<<< HEAD
      "execution_count": 101,
      "metadata": {
        "id": "RniOYvhVhzcm"
      },
      "outputs": [
        {
          "data": {
            "text/plain": [
              "(8000, 2)"
            ]
          },
          "execution_count": 101,
          "metadata": {},
          "output_type": "execute_result"
        }
      ],
      "source": [
        "X_train.shape"
      ]
    },
    {
      "cell_type": "code",
      "execution_count": 102,
      "metadata": {},
      "outputs": [],
      "source": [
        "shuffler = ShuffleSplit(n_splits=n_trees,test_size=len(X_train)-n_instances)"
      ]
    },
    {
      "cell_type": "code",
      "execution_count": 103,
      "metadata": {},
      "outputs": [],
      "source": [
        "for train_index, test_index in shuffler.split(X_train):\n",
        "    mini_sets.append((X_train[train_index],y_train[train_index]))"
      ]
    },
    {
      "cell_type": "code",
      "execution_count": 104,
      "metadata": {},
      "outputs": [],
      "source": [
        "forest = []\n",
        "for i in range(n_trees):\n",
        "    tree_i = DecisionTreeClassifier(class_weight=None, criterion='gini', max_depth=None,\n",
        "                       max_features=None, max_leaf_nodes=17,\n",
        "                       min_samples_leaf=1, min_samples_split=2,\n",
        "                       min_weight_fraction_leaf=0.0,\n",
        "                       random_state=42, splitter='best')\n",
        "    X_mini, y_mini = mini_sets[i]\n",
        "    tree_i.fit(X_mini,y_mini)\n",
        "    forest.append(tree_i)"
      ]
    },
    {
      "cell_type": "code",
      "execution_count": 105,
      "metadata": {},
      "outputs": [
        {
          "name": "stdout",
          "output_type": "stream",
          "text": [
            "The mean accuracy is : 0.805\n"
          ]
        }
      ],
      "source": [
        "mean_accuracy = 0\n",
        "for tree in forest:\n",
        "    y_pred = tree.predict(X_test)\n",
        "    acc_tree = accuracy_score(y_true=y_test,y_pred=y_pred)\n",
        "    mean_accuracy += acc_tree\n",
        "\n",
        "mean_accuracy = mean_accuracy/len(forest)\n",
        "print(f'The mean accuracy is : {mean_accuracy:.3f}')\n"
      ]
    },
    {
      "cell_type": "code",
      "execution_count": 133,
      "metadata": {},
      "outputs": [],
      "source": [
        "Y_forest = np.empty([n_trees,len(X_test)])\n",
        "for i, tree in enumerate(forest):\n",
        "    y_pred_tree = tree.predict(X_test)\n",
        "    Y_forest[i] = y_pred_tree"
      ]
    },
    {
      "cell_type": "code",
      "execution_count": 134,
      "metadata": {},
      "outputs": [],
      "source": [
        "y_pred_forest = mode(Y_forest,axis=0)"
      ]
    },
    {
      "cell_type": "code",
      "execution_count": 139,
      "metadata": {},
      "outputs": [
        {
          "data": {
            "text/plain": [
              "0.8735"
            ]
          },
          "execution_count": 139,
          "metadata": {},
          "output_type": "execute_result"
        }
      ],
      "source": [
        "accuracy_score(y_true=y_test,y_pred=y_pred_forest.mode)"
      ]
=======
      "source": [],
      "metadata": {
        "id": "RniOYvhVhzcm"
      },
      "execution_count": null,
      "outputs": []
>>>>>>> 2a6a815 (Merge remote-tracking branch 'upstream/main')
=======
      "execution_count": 101,
      "metadata": {
        "id": "RniOYvhVhzcm"
      },
      "outputs": [
        {
          "data": {
            "text/plain": [
              "(8000, 2)"
            ]
          },
          "execution_count": 101,
          "metadata": {},
          "output_type": "execute_result"
        }
      ],
      "source": [
        "X_train.shape"
      ]
    },
    {
      "cell_type": "code",
      "execution_count": 102,
      "metadata": {},
      "outputs": [],
      "source": [
        "shuffler = ShuffleSplit(n_splits=n_trees,test_size=len(X_train)-n_instances)"
      ]
    },
    {
      "cell_type": "code",
      "execution_count": 103,
      "metadata": {},
      "outputs": [],
      "source": [
        "for train_index, test_index in shuffler.split(X_train):\n",
        "    mini_sets.append((X_train[train_index],y_train[train_index]))"
      ]
    },
    {
      "cell_type": "code",
      "execution_count": 104,
      "metadata": {},
      "outputs": [],
      "source": [
        "forest = []\n",
        "for i in range(n_trees):\n",
        "    tree_i = DecisionTreeClassifier(class_weight=None, criterion='gini', max_depth=None,\n",
        "                       max_features=None, max_leaf_nodes=17,\n",
        "                       min_samples_leaf=1, min_samples_split=2,\n",
        "                       min_weight_fraction_leaf=0.0,\n",
        "                       random_state=42, splitter='best')\n",
        "    X_mini, y_mini = mini_sets[i]\n",
        "    tree_i.fit(X_mini,y_mini)\n",
        "    forest.append(tree_i)"
      ]
    },
    {
      "cell_type": "code",
      "execution_count": 105,
      "metadata": {},
      "outputs": [
        {
          "name": "stdout",
          "output_type": "stream",
          "text": [
            "The mean accuracy is : 0.805\n"
          ]
        }
      ],
      "source": [
        "mean_accuracy = 0\n",
        "for tree in forest:\n",
        "    y_pred = tree.predict(X_test)\n",
        "    acc_tree = accuracy_score(y_true=y_test,y_pred=y_pred)\n",
        "    mean_accuracy += acc_tree\n",
        "\n",
        "mean_accuracy = mean_accuracy/len(forest)\n",
        "print(f'The mean accuracy is : {mean_accuracy:.3f}')\n"
      ]
    },
    {
      "cell_type": "code",
      "execution_count": 133,
      "metadata": {},
      "outputs": [],
      "source": [
        "Y_forest = np.empty([n_trees,len(X_test)])\n",
        "for i, tree in enumerate(forest):\n",
        "    y_pred_tree = tree.predict(X_test)\n",
        "    Y_forest[i] = y_pred_tree"
      ]
    },
    {
      "cell_type": "code",
      "execution_count": 134,
      "metadata": {},
      "outputs": [],
      "source": [
        "y_pred_forest = mode(Y_forest,axis=0)"
      ]
    },
    {
      "cell_type": "code",
      "execution_count": 139,
      "metadata": {},
      "outputs": [
        {
          "data": {
            "text/plain": [
              "0.8735"
            ]
          },
          "execution_count": 139,
          "metadata": {},
          "output_type": "execute_result"
        }
      ],
      "source": [
        "accuracy_score(y_true=y_test,y_pred=y_pred_forest.mode)"
      ]
>>>>>>> e03ff68 (updates)
    },
    {
      "cell_type": "markdown",
      "metadata": {
        "id": "L33GBuxILvm4"
      },
      "source": [
        "↑↑↑↑↑↑↑↑↑↑↑↑↑↑↑↑↑↑↑↑↑↑↑↑↑↑↑↑↑↑↑ your code goes above this"
      ]
<<<<<<< HEAD
<<<<<<< HEAD
=======
>>>>>>> e03ff68 (updates)
    },
    {
      "cell_type": "markdown",
      "metadata": {},
      "source": []
<<<<<<< HEAD
=======
>>>>>>> 2a6a815 (Merge remote-tracking branch 'upstream/main')
=======
>>>>>>> e03ff68 (updates)
    }
  ],
  "metadata": {
    "colab": {
<<<<<<< HEAD
<<<<<<< HEAD
      "include_colab_link": true,
      "provenance": []
    },
    "kernelspec": {
      "display_name": ".venv",
=======
      "provenance": [],
      "include_colab_link": true
    },
    "kernelspec": {
      "display_name": "Python 3",
>>>>>>> 2a6a815 (Merge remote-tracking branch 'upstream/main')
=======
      "include_colab_link": true,
      "provenance": []
    },
    "kernelspec": {
      "display_name": ".venv",
>>>>>>> e03ff68 (updates)
      "language": "python",
      "name": "python3"
    },
    "language_info": {
      "codemirror_mode": {
        "name": "ipython",
        "version": 3
      },
      "file_extension": ".py",
      "mimetype": "text/x-python",
      "name": "python",
      "nbconvert_exporter": "python",
      "pygments_lexer": "ipython3",
<<<<<<< HEAD
<<<<<<< HEAD
      "version": "3.9.6"
=======
      "version": "3.8.8"
>>>>>>> 2a6a815 (Merge remote-tracking branch 'upstream/main')
=======
      "version": "3.9.6"
>>>>>>> e03ff68 (updates)
    },
    "nav_menu": {
      "height": "309px",
      "width": "468px"
    },
    "toc": {
      "navigate_menu": true,
      "number_sections": true,
      "sideBar": true,
      "threshold": 6,
      "toc_cell": false,
      "toc_section_display": "block",
      "toc_window_display": false
    }
  },
  "nbformat": 4,
  "nbformat_minor": 0
<<<<<<< HEAD
<<<<<<< HEAD
}
=======
}
>>>>>>> 2a6a815 (Merge remote-tracking branch 'upstream/main')
=======
}
>>>>>>> e03ff68 (updates)
