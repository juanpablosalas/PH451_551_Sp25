{
  "cells": [
    {
      "cell_type": "markdown",
      "metadata": {
        "colab_type": "text",
        "id": "view-in-github"
      },
      "source": [
        "<a href=\"https://colab.research.google.com/github/UAPH451551/PH451_551_Sp25/blob/main/Exercises/PythonRefreshers_3.ipynb\" target=\"_parent\"><img src=\"https://colab.research.google.com/assets/colab-badge.svg\" alt=\"Open In Colab\"/></a>"
      ]
    },
    {
      "cell_type": "markdown",
      "metadata": {
        "id": "-ghAxWOAX-mH"
      },
      "source": [
        "# Python Refresher 3\n",
        "In this notebook, we cover:\n",
        "*   Applying functions to all elements in a NumPy array\n",
        "*   Masking\n",
        "*   Pandas\n",
        "\n"
      ]
    },
    {
      "cell_type": "markdown",
      "metadata": {
        "id": "XhwM2qxo2n3C"
      },
      "source": [
        "First, import numpy"
      ]
    },
    {
      "cell_type": "code",
      "execution_count": 66,
      "metadata": {
        "id": "ElKoQ6_n13Dn"
      },
      "outputs": [],
      "source": [
        "import numpy as np"
      ]
    },
    {
      "cell_type": "markdown",
      "metadata": {
        "id": "bIfiS2Lssp4p"
      },
      "source": [
        "## Applying functions to all elements in a NumPy array\n",
        "[Different methods with speed comparisons](https://stackoverflow.com/a/46470401)"
      ]
    },
    {
      "cell_type": "markdown",
      "metadata": {
        "id": "UcDUQh2bfIdQ"
      },
      "source": [
        "Numpy's vectorize function lets you take operations you wrote as functions and <br>\n",
        "apply them to your data set."
      ]
    },
    {
      "cell_type": "code",
      "execution_count": 67,
      "metadata": {
        "id": "Xhy8mOU5stm0"
      },
      "outputs": [],
      "source": [
        "def square_f(x):\n",
        "  return x*x\n",
        "square_v = np.vectorize(square_f)"
      ]
    },
    {
      "cell_type": "code",
      "execution_count": 68,
      "metadata": {
        "colab": {
          "base_uri": "https://localhost:8080/"
        },
        "id": "ZsgyXpWVs6an",
        "outputId": "949f8e7b-d850-431e-ec88-c417ed4cb8ba"
      },
      "outputs": [
        {
          "data": {
            "text/plain": [
              "1000000"
            ]
          },
          "execution_count": 68,
          "metadata": {},
          "output_type": "execute_result"
        }
      ],
      "source": [
        "size = 1000000\n",
        "\n",
        "# declaring array\n",
        "array = np.arange(size)\n",
        "len(array)"
      ]
    },
    {
      "cell_type": "code",
      "execution_count": 69,
      "metadata": {
        "colab": {
          "base_uri": "https://localhost:8080/"
        },
        "id": "vZPqnPT5tIgn",
        "outputId": "ffb79754-a275-4f31-b622-aa3de384d968"
      },
      "outputs": [
        {
          "name": "stdout",
          "output_type": "stream",
          "text": [
<<<<<<< HEAD
            "101 ms ± 2.94 ms per loop (mean ± std. dev. of 7 runs, 10 loops each)\n"
=======
            "698 ms ± 240 ms per loop (mean ± std. dev. of 7 runs, 1 loop each)\n"
>>>>>>> 96d7441bab605981559a4b40456aa97dbf14a8c9
          ]
        }
      ],
      "source": [
        "%%timeit\n",
        "_ = square_v(array)"
      ]
    },
    {
      "cell_type": "markdown",
      "metadata": {
        "id": "jUjTSrfJfj7j"
      },
      "source": [
        "However, list notation is sometimes even faster for simple functions."
      ]
    },
    {
      "cell_type": "code",
      "execution_count": 70,
      "metadata": {
        "colab": {
          "base_uri": "https://localhost:8080/"
        },
        "id": "jk3OzsYOtOZ1",
        "outputId": "bfeaaf8d-bd09-4fbf-bd1a-8939e84dc313"
      },
      "outputs": [
        {
          "name": "stdout",
          "output_type": "stream",
          "text": [
<<<<<<< HEAD
            "96.9 ms ± 2.28 ms per loop (mean ± std. dev. of 7 runs, 10 loops each)\n"
=======
            "788 ms ± 204 ms per loop (mean ± std. dev. of 7 runs, 1 loop each)\n"
>>>>>>> 96d7441bab605981559a4b40456aa97dbf14a8c9
          ]
        }
      ],
      "source": [
        "%%timeit\n",
        "_ = np.array([x*x for x in array])"
      ]
    },
    {
      "cell_type": "markdown",
      "metadata": {
        "id": "c-2HggEjfr9Z"
      },
      "source": [
        "And **for the simplest functions** with numpy arrays such as **multiplication,** <br>\n",
        "**division, and other simple math operators, you should just do those directly**. <br>\n",
        "Notice how **multiplying an array by itself is the same as multiplying each item** <br>\n",
        "**by itself but this is literally 100 times faster!** That's because libraries like <br>\n",
        "numpy are built on languages like C and C++ which are much faster than python."
      ]
    },
    {
      "cell_type": "code",
      "execution_count": 71,
      "metadata": {
        "colab": {
          "base_uri": "https://localhost:8080/"
        },
        "id": "xdFEbXgfjbZH",
        "outputId": "56da7956-eb40-40a9-d8bc-a7193fcf799c"
      },
      "outputs": [
        {
          "name": "stdout",
          "output_type": "stream",
          "text": [
<<<<<<< HEAD
            "796 µs ± 23.2 µs per loop (mean ± std. dev. of 7 runs, 1,000 loops each)\n"
=======
            "4.31 ms ± 845 µs per loop (mean ± std. dev. of 7 runs, 100 loops each)\n"
>>>>>>> 96d7441bab605981559a4b40456aa97dbf14a8c9
          ]
        }
      ],
      "source": [
        "%%timeit\n",
        "_ = array*array"
      ]
    },
    {
      "cell_type": "markdown",
      "metadata": {
        "id": "LVeHNUIXoxkd"
      },
      "source": [
        "## Masking"
      ]
    },
    {
      "cell_type": "markdown",
      "metadata": {
        "id": "lKgJbxfVqCzb"
      },
      "source": [
        "First let's get some \"real\" data. sklearn or **sci-kit learn is a great library** <br>\n",
        "**for simple statistics and machine learning tools**. In this library, they also <br>\n",
        "provide the **fetch_openml tool** which **allows you to download data** from the <br>\n",
        "website openml.org.\n",
        "\n",
        "Let's download the MNIST dataset, which contains 70,000 28x28 pixel images of <br>\n",
        "handwritten numerical digits."
      ]
    },
    {
      "cell_type": "code",
      "execution_count": 72,
      "metadata": {},
      "outputs": [],
      "source": [
        "import kagglehub\n",
        "\n",
        "# Download latest version\n",
        "path = kagglehub.dataset_download(\"aadeshkoirala/mnist-784\")"
      ]
    },
    {
      "cell_type": "code",
      "execution_count": 73,
      "metadata": {},
      "outputs": [
        {
          "data": {
            "text/plain": [
              "'/Users/juanpablosalas/.cache/kagglehub/datasets/aadeshkoirala/mnist-784/versions/1'"
            ]
          },
          "execution_count": 73,
          "metadata": {},
          "output_type": "execute_result"
        }
      ],
      "source": [
        "path"
      ]
    },
    {
      "cell_type": "code",
      "execution_count": 74,
      "metadata": {
        "id": "y5MvLwBNoVW4"
      },
      "outputs": [],
      "source": [
        "#from sklearn.datasets import fetch_openml\n",
        "#mnist = fetch_openml('mnist_784',version=1)"
      ]
    },
    {
      "cell_type": "code",
      "execution_count": 75,
      "metadata": {},
      "outputs": [],
      "source": [
        "import pandas as pd\n",
        "mnist = pd.read_csv(path+'/mnist_784.csv')"
      ]
    },
    {
      "cell_type": "markdown",
      "source": [
        "## $←$ Run this cell block if the OpenML servers are down"
      ],
      "metadata": {
        "id": "V-MpRr1Xzrqa"
      }
    },
    {
      "cell_type": "code",
      "source": [
        "import tensorflow as tf\n",
        "from sklearn.utils import Bunch\n",
        "import pandas as pd\n",
        "\n",
        "def mnist_tf_keras():\n",
        "    # Load the MNIST dataset using TensorFlow\n",
        "    (x_train, y_train), (x_test, y_test) = tf.keras.datasets.mnist.load_data()\n",
        "\n",
        "    # Combine training and testing data\n",
        "    x_data = tf.concat([x_train, x_test], axis=0)\n",
        "    y_data = tf.concat([y_train, y_test], axis=0)\n",
        "\n",
        "    # Flatten the images into vectors\n",
        "    x_data_flat = x_data.numpy().reshape(len(x_data), -1)\n",
        "\n",
        "    # Create a DataFrame for the feature data\n",
        "    feature_names = [f\"pixel{i}\" for i in range(x_data_flat.shape[1])]\n",
        "    x_df = pd.DataFrame(x_data_flat, columns=feature_names)\n",
        "\n",
        "    # Create a DataFrame for the target data\n",
        "    y_df = pd.DataFrame(y_data.numpy(), columns=[\"target\"]).iloc[:,0].astype(np.uint8)\n",
        "\n",
        "    # Combine features and target into a single DataFrame\n",
        "    data_frame = pd.concat([x_df, y_df], axis=0)\n",
        "\n",
        "    # Prepare a description for metadata\n",
        "    description = \"This dataset contains 70,000 images of handwritten digits (0-9) from the MNIST dataset. Each image is 28x28 pixels, flattened into a 784-dimensional vector.\"\n",
        "\n",
        "    # Create a Bunch object similar to the sklearn's fetch_openml output\n",
        "    return Bunch(\n",
        "        data=x_df,\n",
        "        target=y_df,\n",
        "        feature_names=feature_names,\n",
        "        frame=data_frame,\n",
        "        target_names=[\"digit_class\"],\n",
        "        DESCR=description,\n",
        "    )\n",
        "\n",
        "\n",
        "    return mnist\n",
        "\n",
        "mnist = mnist_tf_keras()"
      ],
      "metadata": {
        "id": "fEnaIuWMzy-H"
      },
      "execution_count": null,
      "outputs": []
    },
    {
      "cell_type": "markdown",
      "source": [
        "## Looking at the MNIST dataset"
      ],
      "metadata": {
        "id": "Yi4fXhwh1LZz"
      }
    },
    {
      "cell_type": "markdown",
      "metadata": {
        "id": "FHfCOi8niO5x"
      },
      "source": [
        "We can use .keys() to get the names of content within an sklearn openml file."
      ]
    },
    {
      "cell_type": "code",
      "execution_count": 76,
      "metadata": {
        "colab": {
          "base_uri": "https://localhost:8080/"
        },
        "id": "H-SiAsxQiMJt",
        "outputId": "4872f7d4-9406-4a65-c64d-d7982b61b373"
      },
      "outputs": [
        {
          "data": {
            "text/plain": [
<<<<<<< HEAD
              "Index(['pixel1', 'pixel2', 'pixel3', 'pixel4', 'pixel5', 'pixel6', 'pixel7',\n",
              "       'pixel8', 'pixel9', 'pixel10',\n",
              "       ...\n",
              "       'pixel776', 'pixel777', 'pixel778', 'pixel779', 'pixel780', 'pixel781',\n",
              "       'pixel782', 'pixel783', 'pixel784', 'class'],\n",
              "      dtype='object', length=785)"
=======
              "dict_keys(['data', 'target', 'feature_names', 'frame', 'target_names', 'DESCR'])"
>>>>>>> 96d7441bab605981559a4b40456aa97dbf14a8c9
            ]
          },
          "execution_count": 76,
          "metadata": {},
<<<<<<< HEAD
          "output_type": "execute_result"
=======
          "execution_count": 25
>>>>>>> 96d7441bab605981559a4b40456aa97dbf14a8c9
        }
      ],
      "source": [
        "mnist.keys()"
      ]
    },
    {
      "cell_type": "markdown",
      "metadata": {
        "id": "abSBXXFIh_o-"
      },
      "source": [
        "In this case, our openml dataset is a sklearn.utils.Bunch file."
      ]
    },
    {
      "cell_type": "code",
      "execution_count": 77,
      "metadata": {
        "colab": {
          "base_uri": "https://localhost:8080/",
          "height": 187
        },
        "id": "t3yHhwfThYD7",
        "outputId": "7ec79cb0-3cd3-4f75-e61e-fb98549a0690"
      },
      "outputs": [
        {
          "data": {
            "text/plain": [
<<<<<<< HEAD
              "pandas.core.frame.DataFrame"
=======
              "sklearn.utils._bunch.Bunch"
            ],
            "text/html": [
              "<div style=\"max-width:800px; border: 1px solid var(--colab-border-color);\"><style>\n",
              "      pre.function-repr-contents {\n",
              "        overflow-x: auto;\n",
              "        padding: 8px 12px;\n",
              "        max-height: 500px;\n",
              "      }\n",
              "\n",
              "      pre.function-repr-contents.function-repr-contents-collapsed {\n",
              "        cursor: pointer;\n",
              "        max-height: 100px;\n",
              "      }\n",
              "    </style>\n",
              "    <pre style=\"white-space: initial; background:\n",
              "         var(--colab-secondary-surface-color); padding: 8px 12px;\n",
              "         border-bottom: 1px solid var(--colab-border-color);\"><b>sklearn.utils._bunch.Bunch</b><br/>def __init__(**kwargs)</pre><pre class=\"function-repr-contents function-repr-contents-collapsed\" style=\"\"><a class=\"filepath\" style=\"display:none\" href=\"#\">/usr/local/lib/python3.11/dist-packages/sklearn/utils/_bunch.py</a>Container object exposing keys as attributes.\n",
              "\n",
              "Bunch objects are sometimes used as an output for functions and methods.\n",
              "They extend dictionaries by enabling values to be accessed by key,\n",
              "`bunch[&quot;value_key&quot;]`, or by an attribute, `bunch.value_key`.\n",
              "\n",
              "Examples\n",
              "--------\n",
              "&gt;&gt;&gt; from sklearn.utils import Bunch\n",
              "&gt;&gt;&gt; b = Bunch(a=1, b=2)\n",
              "&gt;&gt;&gt; b[&#x27;b&#x27;]\n",
              "2\n",
              "&gt;&gt;&gt; b.b\n",
              "2\n",
              "&gt;&gt;&gt; b.a = 3\n",
              "&gt;&gt;&gt; b[&#x27;a&#x27;]\n",
              "3\n",
              "&gt;&gt;&gt; b.c = 6\n",
              "&gt;&gt;&gt; b[&#x27;c&#x27;]\n",
              "6</pre>\n",
              "      <script>\n",
              "      if (google.colab.kernel.accessAllowed && google.colab.files && google.colab.files.view) {\n",
              "        for (const element of document.querySelectorAll('.filepath')) {\n",
              "          element.style.display = 'block'\n",
              "          element.onclick = (event) => {\n",
              "            event.preventDefault();\n",
              "            event.stopPropagation();\n",
              "            google.colab.files.view(element.textContent, 7);\n",
              "          };\n",
              "        }\n",
              "      }\n",
              "      for (const element of document.querySelectorAll('.function-repr-contents')) {\n",
              "        element.onclick = (event) => {\n",
              "          event.preventDefault();\n",
              "          event.stopPropagation();\n",
              "          element.classList.toggle('function-repr-contents-collapsed');\n",
              "        };\n",
              "      }\n",
              "      </script>\n",
              "      </div>"
>>>>>>> 96d7441bab605981559a4b40456aa97dbf14a8c9
            ]
          },
          "execution_count": 77,
          "metadata": {},
<<<<<<< HEAD
          "output_type": "execute_result"
=======
          "execution_count": 26
>>>>>>> 96d7441bab605981559a4b40456aa97dbf14a8c9
        }
      ],
      "source": [
        "type(mnist)"
      ]
    },
    {
      "cell_type": "markdown",
      "metadata": {
        "id": "lShV11TTiJAI"
      },
      "source": [
        "Data and target are common labels for your input data and the output you would <br>\n",
        "want to get from a model respectively."
      ]
    },
    {
      "cell_type": "code",
      "execution_count": 78,
      "metadata": {
        "id": "1HWvB02-pPtv"
      },
      "outputs": [],
      "source": [
        "#X, y = mnist[\"data\"], mnist[\"target\"]\n",
        "X,y = mnist.drop(columns='class'), mnist['class']"
      ]
    },
    {
      "cell_type": "markdown",
      "metadata": {
        "id": "DZltdmyEioyh"
      },
      "source": [
        "mnist[\"data\"] is a pandas DataFrame. We'll get to that more later."
      ]
    },
    {
      "cell_type": "code",
      "execution_count": 79,
      "metadata": {
        "colab": {
          "base_uri": "https://localhost:8080/",
          "height": 204
        },
        "id": "EG7o6MAUhyvQ",
        "outputId": "37d6feb3-abef-47cf-ee7b-452bd016e08f"
      },
      "outputs": [
        {
          "data": {
            "text/plain": [
              "pandas.core.frame.DataFrame"
            ],
            "text/html": [
              "<div style=\"max-width:800px; border: 1px solid var(--colab-border-color);\"><style>\n",
              "      pre.function-repr-contents {\n",
              "        overflow-x: auto;\n",
              "        padding: 8px 12px;\n",
              "        max-height: 500px;\n",
              "      }\n",
              "\n",
              "      pre.function-repr-contents.function-repr-contents-collapsed {\n",
              "        cursor: pointer;\n",
              "        max-height: 100px;\n",
              "      }\n",
              "    </style>\n",
              "    <pre style=\"white-space: initial; background:\n",
              "         var(--colab-secondary-surface-color); padding: 8px 12px;\n",
              "         border-bottom: 1px solid var(--colab-border-color);\"><b>pandas.core.frame.DataFrame</b><br/>def __init__(data=None, index: Axes | None=None, columns: Axes | None=None, dtype: Dtype | None=None, copy: bool | None=None) -&gt; None</pre><pre class=\"function-repr-contents function-repr-contents-collapsed\" style=\"\"><a class=\"filepath\" style=\"display:none\" href=\"#\">/usr/local/lib/python3.11/dist-packages/pandas/core/frame.py</a>Two-dimensional, size-mutable, potentially heterogeneous tabular data.\n",
              "\n",
              "Data structure also contains labeled axes (rows and columns).\n",
              "Arithmetic operations align on both row and column labels. Can be\n",
              "thought of as a dict-like container for Series objects. The primary\n",
              "pandas data structure.\n",
              "\n",
              "Parameters\n",
              "----------\n",
              "data : ndarray (structured or homogeneous), Iterable, dict, or DataFrame\n",
              "    Dict can contain Series, arrays, constants, dataclass or list-like objects. If\n",
              "    data is a dict, column order follows insertion-order. If a dict contains Series\n",
              "    which have an index defined, it is aligned by its index. This alignment also\n",
              "    occurs if data is a Series or a DataFrame itself. Alignment is done on\n",
              "    Series/DataFrame inputs.\n",
              "\n",
              "    If data is a list of dicts, column order follows insertion-order.\n",
              "\n",
              "index : Index or array-like\n",
              "    Index to use for resulting frame. Will default to RangeIndex if\n",
              "    no indexing information part of input data and no index provided.\n",
              "columns : Index or array-like\n",
              "    Column labels to use for resulting frame when data does not have them,\n",
              "    defaulting to RangeIndex(0, 1, 2, ..., n). If data contains column labels,\n",
              "    will perform column selection instead.\n",
              "dtype : dtype, default None\n",
              "    Data type to force. Only a single dtype is allowed. If None, infer.\n",
              "copy : bool or None, default None\n",
              "    Copy data from inputs.\n",
              "    For dict data, the default of None behaves like ``copy=True``.  For DataFrame\n",
              "    or 2d ndarray input, the default of None behaves like ``copy=False``.\n",
              "    If data is a dict containing one or more Series (possibly of different dtypes),\n",
              "    ``copy=False`` will ensure that these inputs are not copied.\n",
              "\n",
              "    .. versionchanged:: 1.3.0\n",
              "\n",
              "See Also\n",
              "--------\n",
              "DataFrame.from_records : Constructor from tuples, also record arrays.\n",
              "DataFrame.from_dict : From dicts of Series, arrays, or dicts.\n",
              "read_csv : Read a comma-separated values (csv) file into DataFrame.\n",
              "read_table : Read general delimited file into DataFrame.\n",
              "read_clipboard : Read text from clipboard into DataFrame.\n",
              "\n",
              "Notes\n",
              "-----\n",
              "Please reference the :ref:`User Guide &lt;basics.dataframe&gt;` for more information.\n",
              "\n",
              "Examples\n",
              "--------\n",
              "Constructing DataFrame from a dictionary.\n",
              "\n",
              "&gt;&gt;&gt; d = {&#x27;col1&#x27;: [1, 2], &#x27;col2&#x27;: [3, 4]}\n",
              "&gt;&gt;&gt; df = pd.DataFrame(data=d)\n",
              "&gt;&gt;&gt; df\n",
              "   col1  col2\n",
              "0     1     3\n",
              "1     2     4\n",
              "\n",
              "Notice that the inferred dtype is int64.\n",
              "\n",
              "&gt;&gt;&gt; df.dtypes\n",
              "col1    int64\n",
              "col2    int64\n",
              "dtype: object\n",
              "\n",
              "To enforce a single dtype:\n",
              "\n",
              "&gt;&gt;&gt; df = pd.DataFrame(data=d, dtype=np.int8)\n",
              "&gt;&gt;&gt; df.dtypes\n",
              "col1    int8\n",
              "col2    int8\n",
              "dtype: object\n",
              "\n",
              "Constructing DataFrame from a dictionary including Series:\n",
              "\n",
              "&gt;&gt;&gt; d = {&#x27;col1&#x27;: [0, 1, 2, 3], &#x27;col2&#x27;: pd.Series([2, 3], index=[2, 3])}\n",
              "&gt;&gt;&gt; pd.DataFrame(data=d, index=[0, 1, 2, 3])\n",
              "   col1  col2\n",
              "0     0   NaN\n",
              "1     1   NaN\n",
              "2     2   2.0\n",
              "3     3   3.0\n",
              "\n",
              "Constructing DataFrame from numpy ndarray:\n",
              "\n",
              "&gt;&gt;&gt; df2 = pd.DataFrame(np.array([[1, 2, 3], [4, 5, 6], [7, 8, 9]]),\n",
              "...                    columns=[&#x27;a&#x27;, &#x27;b&#x27;, &#x27;c&#x27;])\n",
              "&gt;&gt;&gt; df2\n",
              "   a  b  c\n",
              "0  1  2  3\n",
              "1  4  5  6\n",
              "2  7  8  9\n",
              "\n",
              "Constructing DataFrame from a numpy ndarray that has labeled columns:\n",
              "\n",
              "&gt;&gt;&gt; data = np.array([(1, 2, 3), (4, 5, 6), (7, 8, 9)],\n",
              "...                 dtype=[(&quot;a&quot;, &quot;i4&quot;), (&quot;b&quot;, &quot;i4&quot;), (&quot;c&quot;, &quot;i4&quot;)])\n",
              "&gt;&gt;&gt; df3 = pd.DataFrame(data, columns=[&#x27;c&#x27;, &#x27;a&#x27;])\n",
              "...\n",
              "&gt;&gt;&gt; df3\n",
              "   c  a\n",
              "0  3  1\n",
              "1  6  4\n",
              "2  9  7\n",
              "\n",
              "Constructing DataFrame from dataclass:\n",
              "\n",
              "&gt;&gt;&gt; from dataclasses import make_dataclass\n",
              "&gt;&gt;&gt; Point = make_dataclass(&quot;Point&quot;, [(&quot;x&quot;, int), (&quot;y&quot;, int)])\n",
              "&gt;&gt;&gt; pd.DataFrame([Point(0, 0), Point(0, 3), Point(2, 3)])\n",
              "   x  y\n",
              "0  0  0\n",
              "1  0  3\n",
              "2  2  3\n",
              "\n",
              "Constructing DataFrame from Series/DataFrame:\n",
              "\n",
              "&gt;&gt;&gt; ser = pd.Series([1, 2, 3], index=[&quot;a&quot;, &quot;b&quot;, &quot;c&quot;])\n",
              "&gt;&gt;&gt; df = pd.DataFrame(data=ser, index=[&quot;a&quot;, &quot;c&quot;])\n",
              "&gt;&gt;&gt; df\n",
              "   0\n",
              "a  1\n",
              "c  3\n",
              "\n",
              "&gt;&gt;&gt; df1 = pd.DataFrame([1, 2, 3], index=[&quot;a&quot;, &quot;b&quot;, &quot;c&quot;], columns=[&quot;x&quot;])\n",
              "&gt;&gt;&gt; df2 = pd.DataFrame(data=df1, index=[&quot;a&quot;, &quot;c&quot;])\n",
              "&gt;&gt;&gt; df2\n",
              "   x\n",
              "a  1\n",
              "c  3</pre>\n",
              "      <script>\n",
              "      if (google.colab.kernel.accessAllowed && google.colab.files && google.colab.files.view) {\n",
              "        for (const element of document.querySelectorAll('.filepath')) {\n",
              "          element.style.display = 'block'\n",
              "          element.onclick = (event) => {\n",
              "            event.preventDefault();\n",
              "            event.stopPropagation();\n",
              "            google.colab.files.view(element.textContent, 509);\n",
              "          };\n",
              "        }\n",
              "      }\n",
              "      for (const element of document.querySelectorAll('.function-repr-contents')) {\n",
              "        element.onclick = (event) => {\n",
              "          event.preventDefault();\n",
              "          event.stopPropagation();\n",
              "          element.classList.toggle('function-repr-contents-collapsed');\n",
              "        };\n",
              "      }\n",
              "      </script>\n",
              "      </div>"
            ]
          },
          "execution_count": 79,
          "metadata": {},
<<<<<<< HEAD
          "output_type": "execute_result"
=======
          "execution_count": 28
>>>>>>> 96d7441bab605981559a4b40456aa97dbf14a8c9
        }
      ],
      "source": [
        "type(X)"
      ]
    },
    {
      "cell_type": "markdown",
      "metadata": {
        "id": "SbR3Z8TNjnI6"
      },
      "source": [
        "Our pandas dataframe also has keys. Notice how here, all of the **keys are** <br>\n",
        "**labeled as pixels 1-784**. So **each item** in that dataframe is probably a **784 pixel** <br>\n",
        "**image**."
      ]
    },
    {
      "cell_type": "code",
      "execution_count": 80,
      "metadata": {
        "colab": {
          "base_uri": "https://localhost:8080/"
        },
        "id": "NkvfTIvhjkZI",
        "outputId": "041fce28-e2f5-4f38-b89d-a47587e25670"
      },
      "outputs": [
        {
          "name": "stdout",
          "output_type": "stream",
          "text": [
            "Index(['pixel0', 'pixel1', 'pixel2', 'pixel3', 'pixel4', 'pixel5', 'pixel6',\n",
            "       'pixel7', 'pixel8', 'pixel9',\n",
            "       ...\n",
            "       'pixel774', 'pixel775', 'pixel776', 'pixel777', 'pixel778', 'pixel779',\n",
            "       'pixel780', 'pixel781', 'pixel782', 'pixel783'],\n",
            "      dtype='object', length=784)\n"
          ]
        }
      ],
      "source": [
        "print(X.keys())"
      ]
    },
    {
      "cell_type": "markdown",
      "metadata": {
        "id": "B3ky7e67i0d2"
      },
      "source": [
        "We can **use .values to extract numeric or other data type values** from our <br>\n",
        "dataframe **as a numpy array**."
      ]
    },
    {
      "cell_type": "code",
      "execution_count": 81,
      "metadata": {
        "id": "rV8nyG2Ri060"
      },
      "outputs": [],
      "source": [
        "X_mat = X.values\n",
        "y_arr = y.values.astype(np.uint8)"
      ]
    },
    {
      "cell_type": "code",
      "execution_count": 82,
      "metadata": {
        "colab": {
          "base_uri": "https://localhost:8080/"
        },
        "id": "3rjEUIuvh5Yp",
        "outputId": "05eee45f-2148-4e78-dbf2-9a531fa2c705"
      },
      "outputs": [
        {
          "data": {
            "text/plain": [
              "numpy.ndarray"
            ]
          },
          "execution_count": 82,
          "metadata": {},
<<<<<<< HEAD
          "output_type": "execute_result"
=======
          "execution_count": 31
>>>>>>> 96d7441bab605981559a4b40456aa97dbf14a8c9
        }
      ],
      "source": [
        "type(X_mat)"
      ]
    },
    {
      "cell_type": "markdown",
      "metadata": {
        "id": "yVFlk3hYjWmx"
      },
      "source": [
        "Our output/target data has a shape of 70,000 items and our input has a shape of <br>\n",
        "70,000 items by 784 pixels."
      ]
    },
    {
      "cell_type": "code",
      "execution_count": 83,
      "metadata": {
        "colab": {
          "base_uri": "https://localhost:8080/"
        },
        "id": "EpLcGaNNpfzv",
        "outputId": "74d71b4b-e87a-47e8-dfc3-a69d29a8e2ee"
      },
      "outputs": [
        {
          "data": {
            "text/plain": [
              "(70000,)"
            ]
          },
          "execution_count": 83,
          "metadata": {},
<<<<<<< HEAD
          "output_type": "execute_result"
=======
          "execution_count": 32
>>>>>>> 96d7441bab605981559a4b40456aa97dbf14a8c9
        }
      ],
      "source": [
        "y_arr.shape"
      ]
    },
    {
      "cell_type": "code",
      "execution_count": 84,
      "metadata": {
        "colab": {
          "base_uri": "https://localhost:8080/"
        },
        "id": "0Nvvk_sfpeg8",
        "outputId": "e0d12ad4-47da-48fa-f48b-a1ad106242bc"
      },
      "outputs": [
        {
          "data": {
            "text/plain": [
              "(70000, 784)"
            ]
          },
          "execution_count": 84,
          "metadata": {},
<<<<<<< HEAD
          "output_type": "execute_result"
=======
          "execution_count": 33
>>>>>>> 96d7441bab605981559a4b40456aa97dbf14a8c9
        }
      ],
      "source": [
        "X_mat.shape"
      ]
    },
    {
      "cell_type": "code",
      "execution_count": 85,
      "metadata": {
        "id": "ND3Pz8S1pvsh"
      },
      "outputs": [],
      "source": [
        "X_mat = X_mat.reshape(X_mat.shape[0], 28, 28)"
      ]
    },
    {
      "cell_type": "markdown",
      "metadata": {
        "id": "n4krOD7RkOdX"
      },
      "source": [
        "**matplotlib is** short for mathematical plotting library. It's **a collection of** <br>\n",
        "**tools for visualising/plotting data**. **pyplot is a library within matplotlib** that <br>\n",
        "has some tools **more specific to just creating plots**. The standard names we <br>\n",
        "use to import these are mpl for matplotlib and plt for matplotlib.pyplot."
      ]
    },
    {
      "cell_type": "code",
      "execution_count": 86,
      "metadata": {
        "id": "GZsssP_QpixM"
      },
      "outputs": [],
      "source": [
        "import matplotlib as mpl\n",
        "import matplotlib.pyplot as plt"
      ]
    },
    {
      "cell_type": "markdown",
      "metadata": {
        "id": "5SoxydoolESZ"
      },
      "source": [
        "Here we can use the pyplot plot type **imshow to view one of those 784 pixel** <br>\n",
        "**images**."
      ]
    },
    {
      "cell_type": "code",
      "execution_count": 87,
      "metadata": {
        "colab": {
          "base_uri": "https://localhost:8080/",
          "height": 448
        },
        "id": "ljK646Lhpnfo",
        "outputId": "6fdeb372-0fd2-4970-8083-74cc087ee863"
      },
      "outputs": [
        {
          "data": {
            "text/plain": [
<<<<<<< HEAD
              "<matplotlib.image.AxesImage at 0x166266160>"
            ]
          },
          "execution_count": 87,
          "metadata": {},
          "output_type": "execute_result"
        },
        {
          "data": {
            "image/png": "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",
            "text/plain": [
              "<Figure size 640x480 with 1 Axes>"
            ]
          },
          "metadata": {},
          "output_type": "display_data"
=======
              "<matplotlib.image.AxesImage at 0x7d49ac58c490>"
            ]
          },
          "metadata": {},
          "execution_count": 36
        },
        {
          "output_type": "display_data",
          "data": {
            "text/plain": [
              "<Figure size 640x480 with 1 Axes>"
            ],
            "image/png": "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\n"
          },
          "metadata": {}
>>>>>>> 96d7441bab605981559a4b40456aa97dbf14a8c9
        }
      ],
      "source": [
        "plt.imshow(X_mat[0])"
      ]
    },
    {
      "cell_type": "code",
      "execution_count": 88,
      "metadata": {
        "colab": {
          "base_uri": "https://localhost:8080/",
          "height": 448
        },
        "id": "TinI2kHYqJqs",
        "outputId": "825af796-29e1-43f1-b4d6-7ea0bec460a2"
      },
      "outputs": [
        {
          "data": {
            "text/plain": [
<<<<<<< HEAD
              "<matplotlib.image.AxesImage at 0x16622fdf0>"
            ]
          },
          "execution_count": 88,
          "metadata": {},
          "output_type": "execute_result"
        },
        {
          "data": {
            "image/png": "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",
            "text/plain": [
              "<Figure size 640x480 with 1 Axes>"
            ]
          },
          "metadata": {},
          "output_type": "display_data"
=======
              "<matplotlib.image.AxesImage at 0x7d49a8f38290>"
            ]
          },
          "metadata": {},
          "execution_count": 37
        },
        {
          "output_type": "display_data",
          "data": {
            "text/plain": [
              "<Figure size 640x480 with 1 Axes>"
            ],
            "image/png": "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\n"
          },
          "metadata": {}
>>>>>>> 96d7441bab605981559a4b40456aa97dbf14a8c9
        }
      ],
      "source": [
        "plt.imshow(X_mat[1])"
      ]
    },
    {
      "cell_type": "markdown",
      "metadata": {
        "id": "4c8xc4vHlXdq"
      },
      "source": [
        "The first two images were a 5 and 0. And sure enough, our first 2 items in our <br>\n",
        "output data are 5 and 0. So the output data is labels of the number image."
      ]
    },
    {
      "cell_type": "code",
      "execution_count": 89,
      "metadata": {
        "colab": {
          "base_uri": "https://localhost:8080/"
        },
        "id": "1o4Ryjogp2_F",
        "outputId": "16ae7c52-b857-479d-c0dd-56e17128e0a9"
      },
      "outputs": [
        {
          "data": {
            "text/plain": [
              "array([5, 0], dtype=uint8)"
            ]
          },
          "execution_count": 89,
          "metadata": {},
<<<<<<< HEAD
          "output_type": "execute_result"
=======
          "execution_count": 38
>>>>>>> 96d7441bab605981559a4b40456aa97dbf14a8c9
        }
      ],
      "source": [
        "y_arr[0:2]"
      ]
    },
    {
      "cell_type": "markdown",
      "metadata": {
        "id": "WP8rfXqMllmw"
      },
      "source": [
        "When we perform **logical operations on numpy arrays**, we can **create masks**. For <br>\n",
        "example, writing **y_arr == 3 says: create a new array which is only True at the** <br>\n",
        "**location of each 3 and False everywhere else**."
      ]
    },
    {
      "cell_type": "code",
      "execution_count": 90,
      "metadata": {
        "colab": {
          "base_uri": "https://localhost:8080/"
        },
        "id": "dvVvR9UxqBnD",
        "outputId": "b9d5ec9a-4133-4248-fee4-72777c66f2c1"
      },
      "outputs": [
        {
          "data": {
            "text/plain": [
              "array([False, False, False, ..., False, False, False])"
            ]
          },
          "execution_count": 90,
          "metadata": {},
<<<<<<< HEAD
          "output_type": "execute_result"
=======
          "execution_count": 39
>>>>>>> 96d7441bab605981559a4b40456aa97dbf14a8c9
        }
      ],
      "source": [
        "# this is a mask\n",
        "y_arr == 3"
      ]
    },
    {
      "cell_type": "markdown",
      "metadata": {
        "id": "OoHd-IT0mIqE"
      },
      "source": [
        "We can also **take that mask array** of True and False values **and pass it to** <br>\n",
        "**another array like it's a collection of indices**. The result is that we'll <br>\n",
        "get values from that other array only at the indices that were labeled as True."
      ]
    },
    {
      "cell_type": "code",
      "execution_count": 91,
      "metadata": {
        "id": "uXzL8iBiqXvw"
      },
      "outputs": [],
      "source": [
        "only_3 = X_mat[y_arr == 3]"
      ]
    },
    {
      "cell_type": "markdown",
      "metadata": {
        "id": "BgVOhuTJmznk"
      },
      "source": [
        "Because the new array only_3 is the collection of images only at the location <br>\n",
        "where our label was 3, we should only have images of 3's left over."
      ]
    },
    {
      "cell_type": "code",
      "execution_count": 92,
      "metadata": {
        "colab": {
          "base_uri": "https://localhost:8080/",
          "height": 448
        },
        "id": "jqhwFZmKqcgu",
        "outputId": "5f4e925b-2cd1-4541-ce73-cc9b98681783"
      },
      "outputs": [
        {
          "data": {
            "text/plain": [
<<<<<<< HEAD
              "<matplotlib.image.AxesImage at 0x1661e9310>"
            ]
          },
          "execution_count": 92,
          "metadata": {},
          "output_type": "execute_result"
        },
        {
          "data": {
            "image/png": "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",
            "text/plain": [
              "<Figure size 640x480 with 1 Axes>"
            ]
          },
          "metadata": {},
          "output_type": "display_data"
=======
              "<matplotlib.image.AxesImage at 0x7d49a8f6ec50>"
            ]
          },
          "metadata": {},
          "execution_count": 41
        },
        {
          "output_type": "display_data",
          "data": {
            "text/plain": [
              "<Figure size 640x480 with 1 Axes>"
            ],
            "image/png": "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\n"
          },
          "metadata": {}
>>>>>>> 96d7441bab605981559a4b40456aa97dbf14a8c9
        }
      ],
      "source": [
        "plt.imshow(only_3[0])"
      ]
    },
    {
      "cell_type": "code",
      "execution_count": 93,
      "metadata": {
        "colab": {
          "base_uri": "https://localhost:8080/",
          "height": 448
        },
        "id": "BATqkKxqrCc7",
        "outputId": "5149799a-bb16-4c93-a315-a2d1b2df6712"
      },
      "outputs": [
        {
          "data": {
            "text/plain": [
<<<<<<< HEAD
              "<matplotlib.image.AxesImage at 0x1663fb0d0>"
            ]
          },
          "execution_count": 93,
          "metadata": {},
          "output_type": "execute_result"
        },
        {
          "data": {
            "image/png": "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",
            "text/plain": [
              "<Figure size 640x480 with 1 Axes>"
            ]
          },
          "metadata": {},
          "output_type": "display_data"
=======
              "<matplotlib.image.AxesImage at 0x7d49a8fd6910>"
            ]
          },
          "metadata": {},
          "execution_count": 42
        },
        {
          "output_type": "display_data",
          "data": {
            "text/plain": [
              "<Figure size 640x480 with 1 Axes>"
            ],
            "image/png": "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\n"
          },
          "metadata": {}
>>>>>>> 96d7441bab605981559a4b40456aa97dbf14a8c9
        }
      ],
      "source": [
        "plt.imshow(only_3[42])"
      ]
    },
    {
      "cell_type": "markdown",
      "metadata": {
        "id": "oBmW3gdQ1GYk"
      },
      "source": [
        "## Pandas\n",
        "\n",
        "**What is pandas?**\n",
        "\n",
        "Pandas is a library for data analysis, with a data storing system built <br>\n",
        "off of Numpy. It can handle data from a wide variety of formats and provides powerful <br> tools for viewing and manipulating that data.\n",
        "\n",
        "Some additional resources: <br>\n",
        "[Introduction to pandas](https://colab.research.google.com/notebooks/mlcc/intro_to_pandas.ipynb) - Interactive tutorial created by Google\n",
        "\n",
        "[Pandas documentation](https://pandas.pydata.org/docs/) - Lots of good info here for both beginner and advanced users."
      ]
    },
    {
      "cell_type": "markdown",
      "metadata": {
        "id": "FUH0uG0AHStJ"
      },
      "source": [
        "We import pandas with the shortened name `pd` by running `import pandas as pd`"
      ]
    },
    {
      "cell_type": "code",
      "execution_count": 94,
      "metadata": {
        "id": "Y1YGqjuU1GYk"
      },
      "outputs": [],
      "source": [
        "import pandas as pd"
      ]
    },
    {
      "cell_type": "markdown",
      "metadata": {
        "id": "wa_PXbO9Knbt"
      },
      "source": [
        "Let's first create a NumPy array to work with. <br>\n",
        "\n",
        "We'll use the NumPy function `randint` to create an array of size (4,3) <br>\n",
        "filled with random integers ranging from 0 to 100"
      ]
    },
    {
      "cell_type": "code",
      "execution_count": 95,
      "metadata": {
        "colab": {
          "base_uri": "https://localhost:8080/"
        },
        "id": "kdb5Kp3gKmOw",
        "outputId": "9de36249-2fa3-40ba-c173-33df90529a2d"
      },
      "outputs": [
        {
          "name": "stdout",
          "output_type": "stream",
          "text": [
            "[[51 92 14]\n",
            " [71 60 20]\n",
            " [82 86 74]\n",
            " [74 87 99]]\n"
          ]
        }
      ],
      "source": [
        "np.random.seed(42) # Set random seed for reproducible results\n",
        "mydata = np.random.randint(low=0, high=101, size=(4,3))\n",
        "print(mydata)"
      ]
    },
    {
      "cell_type": "markdown",
      "metadata": {
        "id": "U_RRHrecMLm2"
      },
      "source": [
        "We can now directly convert this array into a **pandas DataFrame** <br>\n",
        "\n",
        "DataFrames are the primary data storing objects used in pandas, and they <br>\n",
        "can be built from arrays using `pd.DataFrame()`. Let's try passing <br>\n",
        "our array in and store it in the variable `df`"
      ]
    },
    {
      "cell_type": "code",
      "execution_count": 96,
      "metadata": {
        "id": "YKEoFjqVKmMO"
      },
      "outputs": [],
      "source": [
        "df = pd.DataFrame(mydata)"
      ]
    },
    {
      "cell_type": "markdown",
      "metadata": {
        "id": "ll9041k-NZ2W"
      },
      "source": [
        "Now let's see what `df` looks like"
      ]
    },
    {
      "cell_type": "code",
      "execution_count": 97,
      "metadata": {
        "colab": {
          "base_uri": "https://localhost:8080/",
          "height": 175
        },
        "id": "SHCkxPxzKl-N",
        "outputId": "bf71537d-dacd-40b2-fd90-06a75bfb6e6a"
      },
      "outputs": [
        {
          "data": {
            "text/html": [
<<<<<<< HEAD
              "<div>\n",
=======
              "\n",
              "  <div id=\"df-0ea16d2f-a15e-41b3-8cd2-41bd23e3bc9b\" class=\"colab-df-container\">\n",
              "    <div>\n",
>>>>>>> 96d7441bab605981559a4b40456aa97dbf14a8c9
              "<style scoped>\n",
              "    .dataframe tbody tr th:only-of-type {\n",
              "        vertical-align: middle;\n",
              "    }\n",
              "\n",
              "    .dataframe tbody tr th {\n",
              "        vertical-align: top;\n",
              "    }\n",
              "\n",
              "    .dataframe thead th {\n",
              "        text-align: right;\n",
              "    }\n",
              "</style>\n",
              "<table border=\"1\" class=\"dataframe\">\n",
              "  <thead>\n",
              "    <tr style=\"text-align: right;\">\n",
              "      <th></th>\n",
              "      <th>0</th>\n",
              "      <th>1</th>\n",
              "      <th>2</th>\n",
              "    </tr>\n",
              "  </thead>\n",
              "  <tbody>\n",
              "    <tr>\n",
              "      <th>0</th>\n",
              "      <td>51</td>\n",
              "      <td>92</td>\n",
              "      <td>14</td>\n",
              "    </tr>\n",
              "    <tr>\n",
              "      <th>1</th>\n",
              "      <td>71</td>\n",
              "      <td>60</td>\n",
              "      <td>20</td>\n",
              "    </tr>\n",
              "    <tr>\n",
              "      <th>2</th>\n",
              "      <td>82</td>\n",
              "      <td>86</td>\n",
              "      <td>74</td>\n",
              "    </tr>\n",
              "    <tr>\n",
              "      <th>3</th>\n",
              "      <td>74</td>\n",
              "      <td>87</td>\n",
              "      <td>99</td>\n",
              "    </tr>\n",
              "  </tbody>\n",
              "</table>\n",
<<<<<<< HEAD
              "</div>"
            ],
            "text/plain": [
              "    0   1   2\n",
              "0  51  92  14\n",
              "1  71  60  20\n",
              "2  82  86  74\n",
              "3  74  87  99"
            ]
=======
              "</div>\n",
              "    <div class=\"colab-df-buttons\">\n",
              "\n",
              "  <div class=\"colab-df-container\">\n",
              "    <button class=\"colab-df-convert\" onclick=\"convertToInteractive('df-0ea16d2f-a15e-41b3-8cd2-41bd23e3bc9b')\"\n",
              "            title=\"Convert this dataframe to an interactive table.\"\n",
              "            style=\"display:none;\">\n",
              "\n",
              "  <svg xmlns=\"http://www.w3.org/2000/svg\" height=\"24px\" viewBox=\"0 -960 960 960\">\n",
              "    <path d=\"M120-120v-720h720v720H120Zm60-500h600v-160H180v160Zm220 220h160v-160H400v160Zm0 220h160v-160H400v160ZM180-400h160v-160H180v160Zm440 0h160v-160H620v160ZM180-180h160v-160H180v160Zm440 0h160v-160H620v160Z\"/>\n",
              "  </svg>\n",
              "    </button>\n",
              "\n",
              "  <style>\n",
              "    .colab-df-container {\n",
              "      display:flex;\n",
              "      gap: 12px;\n",
              "    }\n",
              "\n",
              "    .colab-df-convert {\n",
              "      background-color: #E8F0FE;\n",
              "      border: none;\n",
              "      border-radius: 50%;\n",
              "      cursor: pointer;\n",
              "      display: none;\n",
              "      fill: #1967D2;\n",
              "      height: 32px;\n",
              "      padding: 0 0 0 0;\n",
              "      width: 32px;\n",
              "    }\n",
              "\n",
              "    .colab-df-convert:hover {\n",
              "      background-color: #E2EBFA;\n",
              "      box-shadow: 0px 1px 2px rgba(60, 64, 67, 0.3), 0px 1px 3px 1px rgba(60, 64, 67, 0.15);\n",
              "      fill: #174EA6;\n",
              "    }\n",
              "\n",
              "    .colab-df-buttons div {\n",
              "      margin-bottom: 4px;\n",
              "    }\n",
              "\n",
              "    [theme=dark] .colab-df-convert {\n",
              "      background-color: #3B4455;\n",
              "      fill: #D2E3FC;\n",
              "    }\n",
              "\n",
              "    [theme=dark] .colab-df-convert:hover {\n",
              "      background-color: #434B5C;\n",
              "      box-shadow: 0px 1px 3px 1px rgba(0, 0, 0, 0.15);\n",
              "      filter: drop-shadow(0px 1px 2px rgba(0, 0, 0, 0.3));\n",
              "      fill: #FFFFFF;\n",
              "    }\n",
              "  </style>\n",
              "\n",
              "    <script>\n",
              "      const buttonEl =\n",
              "        document.querySelector('#df-0ea16d2f-a15e-41b3-8cd2-41bd23e3bc9b button.colab-df-convert');\n",
              "      buttonEl.style.display =\n",
              "        google.colab.kernel.accessAllowed ? 'block' : 'none';\n",
              "\n",
              "      async function convertToInteractive(key) {\n",
              "        const element = document.querySelector('#df-0ea16d2f-a15e-41b3-8cd2-41bd23e3bc9b');\n",
              "        const dataTable =\n",
              "          await google.colab.kernel.invokeFunction('convertToInteractive',\n",
              "                                                    [key], {});\n",
              "        if (!dataTable) return;\n",
              "\n",
              "        const docLinkHtml = 'Like what you see? Visit the ' +\n",
              "          '<a target=\"_blank\" href=https://colab.research.google.com/notebooks/data_table.ipynb>data table notebook</a>'\n",
              "          + ' to learn more about interactive tables.';\n",
              "        element.innerHTML = '';\n",
              "        dataTable['output_type'] = 'display_data';\n",
              "        await google.colab.output.renderOutput(dataTable, element);\n",
              "        const docLink = document.createElement('div');\n",
              "        docLink.innerHTML = docLinkHtml;\n",
              "        element.appendChild(docLink);\n",
              "      }\n",
              "    </script>\n",
              "  </div>\n",
              "\n",
              "\n",
              "<div id=\"df-f9129faa-80a7-40c3-ab90-9a4c87381aab\">\n",
              "  <button class=\"colab-df-quickchart\" onclick=\"quickchart('df-f9129faa-80a7-40c3-ab90-9a4c87381aab')\"\n",
              "            title=\"Suggest charts\"\n",
              "            style=\"display:none;\">\n",
              "\n",
              "<svg xmlns=\"http://www.w3.org/2000/svg\" height=\"24px\"viewBox=\"0 0 24 24\"\n",
              "     width=\"24px\">\n",
              "    <g>\n",
              "        <path d=\"M19 3H5c-1.1 0-2 .9-2 2v14c0 1.1.9 2 2 2h14c1.1 0 2-.9 2-2V5c0-1.1-.9-2-2-2zM9 17H7v-7h2v7zm4 0h-2V7h2v10zm4 0h-2v-4h2v4z\"/>\n",
              "    </g>\n",
              "</svg>\n",
              "  </button>\n",
              "\n",
              "<style>\n",
              "  .colab-df-quickchart {\n",
              "      --bg-color: #E8F0FE;\n",
              "      --fill-color: #1967D2;\n",
              "      --hover-bg-color: #E2EBFA;\n",
              "      --hover-fill-color: #174EA6;\n",
              "      --disabled-fill-color: #AAA;\n",
              "      --disabled-bg-color: #DDD;\n",
              "  }\n",
              "\n",
              "  [theme=dark] .colab-df-quickchart {\n",
              "      --bg-color: #3B4455;\n",
              "      --fill-color: #D2E3FC;\n",
              "      --hover-bg-color: #434B5C;\n",
              "      --hover-fill-color: #FFFFFF;\n",
              "      --disabled-bg-color: #3B4455;\n",
              "      --disabled-fill-color: #666;\n",
              "  }\n",
              "\n",
              "  .colab-df-quickchart {\n",
              "    background-color: var(--bg-color);\n",
              "    border: none;\n",
              "    border-radius: 50%;\n",
              "    cursor: pointer;\n",
              "    display: none;\n",
              "    fill: var(--fill-color);\n",
              "    height: 32px;\n",
              "    padding: 0;\n",
              "    width: 32px;\n",
              "  }\n",
              "\n",
              "  .colab-df-quickchart:hover {\n",
              "    background-color: var(--hover-bg-color);\n",
              "    box-shadow: 0 1px 2px rgba(60, 64, 67, 0.3), 0 1px 3px 1px rgba(60, 64, 67, 0.15);\n",
              "    fill: var(--button-hover-fill-color);\n",
              "  }\n",
              "\n",
              "  .colab-df-quickchart-complete:disabled,\n",
              "  .colab-df-quickchart-complete:disabled:hover {\n",
              "    background-color: var(--disabled-bg-color);\n",
              "    fill: var(--disabled-fill-color);\n",
              "    box-shadow: none;\n",
              "  }\n",
              "\n",
              "  .colab-df-spinner {\n",
              "    border: 2px solid var(--fill-color);\n",
              "    border-color: transparent;\n",
              "    border-bottom-color: var(--fill-color);\n",
              "    animation:\n",
              "      spin 1s steps(1) infinite;\n",
              "  }\n",
              "\n",
              "  @keyframes spin {\n",
              "    0% {\n",
              "      border-color: transparent;\n",
              "      border-bottom-color: var(--fill-color);\n",
              "      border-left-color: var(--fill-color);\n",
              "    }\n",
              "    20% {\n",
              "      border-color: transparent;\n",
              "      border-left-color: var(--fill-color);\n",
              "      border-top-color: var(--fill-color);\n",
              "    }\n",
              "    30% {\n",
              "      border-color: transparent;\n",
              "      border-left-color: var(--fill-color);\n",
              "      border-top-color: var(--fill-color);\n",
              "      border-right-color: var(--fill-color);\n",
              "    }\n",
              "    40% {\n",
              "      border-color: transparent;\n",
              "      border-right-color: var(--fill-color);\n",
              "      border-top-color: var(--fill-color);\n",
              "    }\n",
              "    60% {\n",
              "      border-color: transparent;\n",
              "      border-right-color: var(--fill-color);\n",
              "    }\n",
              "    80% {\n",
              "      border-color: transparent;\n",
              "      border-right-color: var(--fill-color);\n",
              "      border-bottom-color: var(--fill-color);\n",
              "    }\n",
              "    90% {\n",
              "      border-color: transparent;\n",
              "      border-bottom-color: var(--fill-color);\n",
              "    }\n",
              "  }\n",
              "</style>\n",
              "\n",
              "  <script>\n",
              "    async function quickchart(key) {\n",
              "      const quickchartButtonEl =\n",
              "        document.querySelector('#' + key + ' button');\n",
              "      quickchartButtonEl.disabled = true;  // To prevent multiple clicks.\n",
              "      quickchartButtonEl.classList.add('colab-df-spinner');\n",
              "      try {\n",
              "        const charts = await google.colab.kernel.invokeFunction(\n",
              "            'suggestCharts', [key], {});\n",
              "      } catch (error) {\n",
              "        console.error('Error during call to suggestCharts:', error);\n",
              "      }\n",
              "      quickchartButtonEl.classList.remove('colab-df-spinner');\n",
              "      quickchartButtonEl.classList.add('colab-df-quickchart-complete');\n",
              "    }\n",
              "    (() => {\n",
              "      let quickchartButtonEl =\n",
              "        document.querySelector('#df-f9129faa-80a7-40c3-ab90-9a4c87381aab button');\n",
              "      quickchartButtonEl.style.display =\n",
              "        google.colab.kernel.accessAllowed ? 'block' : 'none';\n",
              "    })();\n",
              "  </script>\n",
              "</div>\n",
              "\n",
              "  <div id=\"id_136fc7b9-c3fd-49a9-9569-0605f3f5c30d\">\n",
              "    <style>\n",
              "      .colab-df-generate {\n",
              "        background-color: #E8F0FE;\n",
              "        border: none;\n",
              "        border-radius: 50%;\n",
              "        cursor: pointer;\n",
              "        display: none;\n",
              "        fill: #1967D2;\n",
              "        height: 32px;\n",
              "        padding: 0 0 0 0;\n",
              "        width: 32px;\n",
              "      }\n",
              "\n",
              "      .colab-df-generate:hover {\n",
              "        background-color: #E2EBFA;\n",
              "        box-shadow: 0px 1px 2px rgba(60, 64, 67, 0.3), 0px 1px 3px 1px rgba(60, 64, 67, 0.15);\n",
              "        fill: #174EA6;\n",
              "      }\n",
              "\n",
              "      [theme=dark] .colab-df-generate {\n",
              "        background-color: #3B4455;\n",
              "        fill: #D2E3FC;\n",
              "      }\n",
              "\n",
              "      [theme=dark] .colab-df-generate:hover {\n",
              "        background-color: #434B5C;\n",
              "        box-shadow: 0px 1px 3px 1px rgba(0, 0, 0, 0.15);\n",
              "        filter: drop-shadow(0px 1px 2px rgba(0, 0, 0, 0.3));\n",
              "        fill: #FFFFFF;\n",
              "      }\n",
              "    </style>\n",
              "    <button class=\"colab-df-generate\" onclick=\"generateWithVariable('df')\"\n",
              "            title=\"Generate code using this dataframe.\"\n",
              "            style=\"display:none;\">\n",
              "\n",
              "  <svg xmlns=\"http://www.w3.org/2000/svg\" height=\"24px\"viewBox=\"0 0 24 24\"\n",
              "       width=\"24px\">\n",
              "    <path d=\"M7,19H8.4L18.45,9,17,7.55,7,17.6ZM5,21V16.75L18.45,3.32a2,2,0,0,1,2.83,0l1.4,1.43a1.91,1.91,0,0,1,.58,1.4,1.91,1.91,0,0,1-.58,1.4L9.25,21ZM18.45,9,17,7.55Zm-12,3A5.31,5.31,0,0,0,4.9,8.1,5.31,5.31,0,0,0,1,6.5,5.31,5.31,0,0,0,4.9,4.9,5.31,5.31,0,0,0,6.5,1,5.31,5.31,0,0,0,8.1,4.9,5.31,5.31,0,0,0,12,6.5,5.46,5.46,0,0,0,6.5,12Z\"/>\n",
              "  </svg>\n",
              "    </button>\n",
              "    <script>\n",
              "      (() => {\n",
              "      const buttonEl =\n",
              "        document.querySelector('#id_136fc7b9-c3fd-49a9-9569-0605f3f5c30d button.colab-df-generate');\n",
              "      buttonEl.style.display =\n",
              "        google.colab.kernel.accessAllowed ? 'block' : 'none';\n",
              "\n",
              "      buttonEl.onclick = () => {\n",
              "        google.colab.notebook.generateWithVariable('df');\n",
              "      }\n",
              "      })();\n",
              "    </script>\n",
              "  </div>\n",
              "\n",
              "    </div>\n",
              "  </div>\n"
            ],
            "application/vnd.google.colaboratory.intrinsic+json": {
              "type": "dataframe",
              "variable_name": "df",
              "summary": "{\n  \"name\": \"df\",\n  \"rows\": 4,\n  \"fields\": [\n    {\n      \"column\": 0,\n      \"properties\": {\n        \"dtype\": \"number\",\n        \"std\": 13,\n        \"min\": 51,\n        \"max\": 82,\n        \"num_unique_values\": 4,\n        \"samples\": [\n          71,\n          74,\n          51\n        ],\n        \"semantic_type\": \"\",\n        \"description\": \"\"\n      }\n    },\n    {\n      \"column\": 1,\n      \"properties\": {\n        \"dtype\": \"number\",\n        \"std\": 14,\n        \"min\": 60,\n        \"max\": 92,\n        \"num_unique_values\": 4,\n        \"samples\": [\n          60,\n          87,\n          92\n        ],\n        \"semantic_type\": \"\",\n        \"description\": \"\"\n      }\n    },\n    {\n      \"column\": 2,\n      \"properties\": {\n        \"dtype\": \"number\",\n        \"std\": 41,\n        \"min\": 14,\n        \"max\": 99,\n        \"num_unique_values\": 4,\n        \"samples\": [\n          20,\n          99,\n          14\n        ],\n        \"semantic_type\": \"\",\n        \"description\": \"\"\n      }\n    }\n  ]\n}"
            }
>>>>>>> 96d7441bab605981559a4b40456aa97dbf14a8c9
          },
          "execution_count": 97,
          "metadata": {},
<<<<<<< HEAD
          "output_type": "execute_result"
=======
          "execution_count": 46
>>>>>>> 96d7441bab605981559a4b40456aa97dbf14a8c9
        }
      ],
      "source": [
        "df"
      ]
    },
    {
      "cell_type": "markdown",
      "metadata": {
        "id": "5PLPbWSLNitH"
      },
      "source": [
        "Ok, nothing too new, but we see an important difference from <br>\n",
        "NumPy arrays: **DataFrames include labeled indexes and columns** <br>\n",
        "\n",
        "In this case, we just have the default labels of 0, 1, 2, etc, but the <br> power of pandas starts to show when we specify the labels on our data. <br>\n",
        "\n",
        "Let's imagine that our data represents the scores of four students on <br>\n",
        "three different midterm exams. We'll call the students Bob, Ann, Steve, and Laura <br> and store them in a list. We'll also create the midterms:"
      ]
    },
    {
      "cell_type": "code",
      "execution_count": 98,
      "metadata": {
        "id": "Z5o_g_U3Qo8H"
      },
      "outputs": [],
      "source": [
        "students = [\"Bob\", \"Ann\", \"Steve\", \"Laura\"]\n",
        "midterms = [\"Midterm 1\", \"Midterm 2\", \"Midterm 3\"]"
      ]
    },
    {
      "cell_type": "markdown",
      "metadata": {
        "id": "X3KUg_6wREyQ"
      },
      "source": [
        "We can now use these as arguments to `pd.DataFrame()` as follows:"
      ]
    },
    {
      "cell_type": "code",
      "execution_count": 99,
      "metadata": {
        "id": "12kEG5eBQo06"
      },
      "outputs": [],
      "source": [
        "df = pd.DataFrame(data=mydata, index=students, columns=midterms)"
      ]
    },
    {
      "cell_type": "markdown",
      "metadata": {
        "id": "dFCbuY3oRdFL"
      },
      "source": [
        "What does `df` look like now?"
      ]
    },
    {
      "cell_type": "code",
      "execution_count": 100,
      "metadata": {
        "colab": {
          "base_uri": "https://localhost:8080/",
          "height": 175
        },
        "id": "jBES20zGRf8w",
        "outputId": "a91f0cda-c2a6-4f33-a567-e68450117bee"
      },
      "outputs": [
        {
          "data": {
            "text/html": [
<<<<<<< HEAD
              "<div>\n",
=======
              "\n",
              "  <div id=\"df-22ce6430-8a35-43e7-84f1-7a8d71635875\" class=\"colab-df-container\">\n",
              "    <div>\n",
>>>>>>> 96d7441bab605981559a4b40456aa97dbf14a8c9
              "<style scoped>\n",
              "    .dataframe tbody tr th:only-of-type {\n",
              "        vertical-align: middle;\n",
              "    }\n",
              "\n",
              "    .dataframe tbody tr th {\n",
              "        vertical-align: top;\n",
              "    }\n",
              "\n",
              "    .dataframe thead th {\n",
              "        text-align: right;\n",
              "    }\n",
              "</style>\n",
              "<table border=\"1\" class=\"dataframe\">\n",
              "  <thead>\n",
              "    <tr style=\"text-align: right;\">\n",
              "      <th></th>\n",
              "      <th>Midterm 1</th>\n",
              "      <th>Midterm 2</th>\n",
              "      <th>Midterm 3</th>\n",
              "    </tr>\n",
              "  </thead>\n",
              "  <tbody>\n",
              "    <tr>\n",
              "      <th>Bob</th>\n",
              "      <td>51</td>\n",
              "      <td>92</td>\n",
              "      <td>14</td>\n",
              "    </tr>\n",
              "    <tr>\n",
              "      <th>Ann</th>\n",
              "      <td>71</td>\n",
              "      <td>60</td>\n",
              "      <td>20</td>\n",
              "    </tr>\n",
              "    <tr>\n",
              "      <th>Steve</th>\n",
              "      <td>82</td>\n",
              "      <td>86</td>\n",
              "      <td>74</td>\n",
              "    </tr>\n",
              "    <tr>\n",
              "      <th>Laura</th>\n",
              "      <td>74</td>\n",
              "      <td>87</td>\n",
              "      <td>99</td>\n",
              "    </tr>\n",
              "  </tbody>\n",
              "</table>\n",
<<<<<<< HEAD
              "</div>"
            ],
            "text/plain": [
              "       Midterm 1  Midterm 2  Midterm 3\n",
              "Bob           51         92         14\n",
              "Ann           71         60         20\n",
              "Steve         82         86         74\n",
              "Laura         74         87         99"
            ]
=======
              "</div>\n",
              "    <div class=\"colab-df-buttons\">\n",
              "\n",
              "  <div class=\"colab-df-container\">\n",
              "    <button class=\"colab-df-convert\" onclick=\"convertToInteractive('df-22ce6430-8a35-43e7-84f1-7a8d71635875')\"\n",
              "            title=\"Convert this dataframe to an interactive table.\"\n",
              "            style=\"display:none;\">\n",
              "\n",
              "  <svg xmlns=\"http://www.w3.org/2000/svg\" height=\"24px\" viewBox=\"0 -960 960 960\">\n",
              "    <path d=\"M120-120v-720h720v720H120Zm60-500h600v-160H180v160Zm220 220h160v-160H400v160Zm0 220h160v-160H400v160ZM180-400h160v-160H180v160Zm440 0h160v-160H620v160ZM180-180h160v-160H180v160Zm440 0h160v-160H620v160Z\"/>\n",
              "  </svg>\n",
              "    </button>\n",
              "\n",
              "  <style>\n",
              "    .colab-df-container {\n",
              "      display:flex;\n",
              "      gap: 12px;\n",
              "    }\n",
              "\n",
              "    .colab-df-convert {\n",
              "      background-color: #E8F0FE;\n",
              "      border: none;\n",
              "      border-radius: 50%;\n",
              "      cursor: pointer;\n",
              "      display: none;\n",
              "      fill: #1967D2;\n",
              "      height: 32px;\n",
              "      padding: 0 0 0 0;\n",
              "      width: 32px;\n",
              "    }\n",
              "\n",
              "    .colab-df-convert:hover {\n",
              "      background-color: #E2EBFA;\n",
              "      box-shadow: 0px 1px 2px rgba(60, 64, 67, 0.3), 0px 1px 3px 1px rgba(60, 64, 67, 0.15);\n",
              "      fill: #174EA6;\n",
              "    }\n",
              "\n",
              "    .colab-df-buttons div {\n",
              "      margin-bottom: 4px;\n",
              "    }\n",
              "\n",
              "    [theme=dark] .colab-df-convert {\n",
              "      background-color: #3B4455;\n",
              "      fill: #D2E3FC;\n",
              "    }\n",
              "\n",
              "    [theme=dark] .colab-df-convert:hover {\n",
              "      background-color: #434B5C;\n",
              "      box-shadow: 0px 1px 3px 1px rgba(0, 0, 0, 0.15);\n",
              "      filter: drop-shadow(0px 1px 2px rgba(0, 0, 0, 0.3));\n",
              "      fill: #FFFFFF;\n",
              "    }\n",
              "  </style>\n",
              "\n",
              "    <script>\n",
              "      const buttonEl =\n",
              "        document.querySelector('#df-22ce6430-8a35-43e7-84f1-7a8d71635875 button.colab-df-convert');\n",
              "      buttonEl.style.display =\n",
              "        google.colab.kernel.accessAllowed ? 'block' : 'none';\n",
              "\n",
              "      async function convertToInteractive(key) {\n",
              "        const element = document.querySelector('#df-22ce6430-8a35-43e7-84f1-7a8d71635875');\n",
              "        const dataTable =\n",
              "          await google.colab.kernel.invokeFunction('convertToInteractive',\n",
              "                                                    [key], {});\n",
              "        if (!dataTable) return;\n",
              "\n",
              "        const docLinkHtml = 'Like what you see? Visit the ' +\n",
              "          '<a target=\"_blank\" href=https://colab.research.google.com/notebooks/data_table.ipynb>data table notebook</a>'\n",
              "          + ' to learn more about interactive tables.';\n",
              "        element.innerHTML = '';\n",
              "        dataTable['output_type'] = 'display_data';\n",
              "        await google.colab.output.renderOutput(dataTable, element);\n",
              "        const docLink = document.createElement('div');\n",
              "        docLink.innerHTML = docLinkHtml;\n",
              "        element.appendChild(docLink);\n",
              "      }\n",
              "    </script>\n",
              "  </div>\n",
              "\n",
              "\n",
              "<div id=\"df-ecfb110b-7ba1-49df-a2d5-5abe3f7bfd97\">\n",
              "  <button class=\"colab-df-quickchart\" onclick=\"quickchart('df-ecfb110b-7ba1-49df-a2d5-5abe3f7bfd97')\"\n",
              "            title=\"Suggest charts\"\n",
              "            style=\"display:none;\">\n",
              "\n",
              "<svg xmlns=\"http://www.w3.org/2000/svg\" height=\"24px\"viewBox=\"0 0 24 24\"\n",
              "     width=\"24px\">\n",
              "    <g>\n",
              "        <path d=\"M19 3H5c-1.1 0-2 .9-2 2v14c0 1.1.9 2 2 2h14c1.1 0 2-.9 2-2V5c0-1.1-.9-2-2-2zM9 17H7v-7h2v7zm4 0h-2V7h2v10zm4 0h-2v-4h2v4z\"/>\n",
              "    </g>\n",
              "</svg>\n",
              "  </button>\n",
              "\n",
              "<style>\n",
              "  .colab-df-quickchart {\n",
              "      --bg-color: #E8F0FE;\n",
              "      --fill-color: #1967D2;\n",
              "      --hover-bg-color: #E2EBFA;\n",
              "      --hover-fill-color: #174EA6;\n",
              "      --disabled-fill-color: #AAA;\n",
              "      --disabled-bg-color: #DDD;\n",
              "  }\n",
              "\n",
              "  [theme=dark] .colab-df-quickchart {\n",
              "      --bg-color: #3B4455;\n",
              "      --fill-color: #D2E3FC;\n",
              "      --hover-bg-color: #434B5C;\n",
              "      --hover-fill-color: #FFFFFF;\n",
              "      --disabled-bg-color: #3B4455;\n",
              "      --disabled-fill-color: #666;\n",
              "  }\n",
              "\n",
              "  .colab-df-quickchart {\n",
              "    background-color: var(--bg-color);\n",
              "    border: none;\n",
              "    border-radius: 50%;\n",
              "    cursor: pointer;\n",
              "    display: none;\n",
              "    fill: var(--fill-color);\n",
              "    height: 32px;\n",
              "    padding: 0;\n",
              "    width: 32px;\n",
              "  }\n",
              "\n",
              "  .colab-df-quickchart:hover {\n",
              "    background-color: var(--hover-bg-color);\n",
              "    box-shadow: 0 1px 2px rgba(60, 64, 67, 0.3), 0 1px 3px 1px rgba(60, 64, 67, 0.15);\n",
              "    fill: var(--button-hover-fill-color);\n",
              "  }\n",
              "\n",
              "  .colab-df-quickchart-complete:disabled,\n",
              "  .colab-df-quickchart-complete:disabled:hover {\n",
              "    background-color: var(--disabled-bg-color);\n",
              "    fill: var(--disabled-fill-color);\n",
              "    box-shadow: none;\n",
              "  }\n",
              "\n",
              "  .colab-df-spinner {\n",
              "    border: 2px solid var(--fill-color);\n",
              "    border-color: transparent;\n",
              "    border-bottom-color: var(--fill-color);\n",
              "    animation:\n",
              "      spin 1s steps(1) infinite;\n",
              "  }\n",
              "\n",
              "  @keyframes spin {\n",
              "    0% {\n",
              "      border-color: transparent;\n",
              "      border-bottom-color: var(--fill-color);\n",
              "      border-left-color: var(--fill-color);\n",
              "    }\n",
              "    20% {\n",
              "      border-color: transparent;\n",
              "      border-left-color: var(--fill-color);\n",
              "      border-top-color: var(--fill-color);\n",
              "    }\n",
              "    30% {\n",
              "      border-color: transparent;\n",
              "      border-left-color: var(--fill-color);\n",
              "      border-top-color: var(--fill-color);\n",
              "      border-right-color: var(--fill-color);\n",
              "    }\n",
              "    40% {\n",
              "      border-color: transparent;\n",
              "      border-right-color: var(--fill-color);\n",
              "      border-top-color: var(--fill-color);\n",
              "    }\n",
              "    60% {\n",
              "      border-color: transparent;\n",
              "      border-right-color: var(--fill-color);\n",
              "    }\n",
              "    80% {\n",
              "      border-color: transparent;\n",
              "      border-right-color: var(--fill-color);\n",
              "      border-bottom-color: var(--fill-color);\n",
              "    }\n",
              "    90% {\n",
              "      border-color: transparent;\n",
              "      border-bottom-color: var(--fill-color);\n",
              "    }\n",
              "  }\n",
              "</style>\n",
              "\n",
              "  <script>\n",
              "    async function quickchart(key) {\n",
              "      const quickchartButtonEl =\n",
              "        document.querySelector('#' + key + ' button');\n",
              "      quickchartButtonEl.disabled = true;  // To prevent multiple clicks.\n",
              "      quickchartButtonEl.classList.add('colab-df-spinner');\n",
              "      try {\n",
              "        const charts = await google.colab.kernel.invokeFunction(\n",
              "            'suggestCharts', [key], {});\n",
              "      } catch (error) {\n",
              "        console.error('Error during call to suggestCharts:', error);\n",
              "      }\n",
              "      quickchartButtonEl.classList.remove('colab-df-spinner');\n",
              "      quickchartButtonEl.classList.add('colab-df-quickchart-complete');\n",
              "    }\n",
              "    (() => {\n",
              "      let quickchartButtonEl =\n",
              "        document.querySelector('#df-ecfb110b-7ba1-49df-a2d5-5abe3f7bfd97 button');\n",
              "      quickchartButtonEl.style.display =\n",
              "        google.colab.kernel.accessAllowed ? 'block' : 'none';\n",
              "    })();\n",
              "  </script>\n",
              "</div>\n",
              "\n",
              "  <div id=\"id_14abbdd3-de4f-441f-8b20-61847d017785\">\n",
              "    <style>\n",
              "      .colab-df-generate {\n",
              "        background-color: #E8F0FE;\n",
              "        border: none;\n",
              "        border-radius: 50%;\n",
              "        cursor: pointer;\n",
              "        display: none;\n",
              "        fill: #1967D2;\n",
              "        height: 32px;\n",
              "        padding: 0 0 0 0;\n",
              "        width: 32px;\n",
              "      }\n",
              "\n",
              "      .colab-df-generate:hover {\n",
              "        background-color: #E2EBFA;\n",
              "        box-shadow: 0px 1px 2px rgba(60, 64, 67, 0.3), 0px 1px 3px 1px rgba(60, 64, 67, 0.15);\n",
              "        fill: #174EA6;\n",
              "      }\n",
              "\n",
              "      [theme=dark] .colab-df-generate {\n",
              "        background-color: #3B4455;\n",
              "        fill: #D2E3FC;\n",
              "      }\n",
              "\n",
              "      [theme=dark] .colab-df-generate:hover {\n",
              "        background-color: #434B5C;\n",
              "        box-shadow: 0px 1px 3px 1px rgba(0, 0, 0, 0.15);\n",
              "        filter: drop-shadow(0px 1px 2px rgba(0, 0, 0, 0.3));\n",
              "        fill: #FFFFFF;\n",
              "      }\n",
              "    </style>\n",
              "    <button class=\"colab-df-generate\" onclick=\"generateWithVariable('df')\"\n",
              "            title=\"Generate code using this dataframe.\"\n",
              "            style=\"display:none;\">\n",
              "\n",
              "  <svg xmlns=\"http://www.w3.org/2000/svg\" height=\"24px\"viewBox=\"0 0 24 24\"\n",
              "       width=\"24px\">\n",
              "    <path d=\"M7,19H8.4L18.45,9,17,7.55,7,17.6ZM5,21V16.75L18.45,3.32a2,2,0,0,1,2.83,0l1.4,1.43a1.91,1.91,0,0,1,.58,1.4,1.91,1.91,0,0,1-.58,1.4L9.25,21ZM18.45,9,17,7.55Zm-12,3A5.31,5.31,0,0,0,4.9,8.1,5.31,5.31,0,0,0,1,6.5,5.31,5.31,0,0,0,4.9,4.9,5.31,5.31,0,0,0,6.5,1,5.31,5.31,0,0,0,8.1,4.9,5.31,5.31,0,0,0,12,6.5,5.46,5.46,0,0,0,6.5,12Z\"/>\n",
              "  </svg>\n",
              "    </button>\n",
              "    <script>\n",
              "      (() => {\n",
              "      const buttonEl =\n",
              "        document.querySelector('#id_14abbdd3-de4f-441f-8b20-61847d017785 button.colab-df-generate');\n",
              "      buttonEl.style.display =\n",
              "        google.colab.kernel.accessAllowed ? 'block' : 'none';\n",
              "\n",
              "      buttonEl.onclick = () => {\n",
              "        google.colab.notebook.generateWithVariable('df');\n",
              "      }\n",
              "      })();\n",
              "    </script>\n",
              "  </div>\n",
              "\n",
              "    </div>\n",
              "  </div>\n"
            ],
            "application/vnd.google.colaboratory.intrinsic+json": {
              "type": "dataframe",
              "variable_name": "df",
              "summary": "{\n  \"name\": \"df\",\n  \"rows\": 4,\n  \"fields\": [\n    {\n      \"column\": \"Midterm 1\",\n      \"properties\": {\n        \"dtype\": \"number\",\n        \"std\": 13,\n        \"min\": 51,\n        \"max\": 82,\n        \"num_unique_values\": 4,\n        \"samples\": [\n          71,\n          74,\n          51\n        ],\n        \"semantic_type\": \"\",\n        \"description\": \"\"\n      }\n    },\n    {\n      \"column\": \"Midterm 2\",\n      \"properties\": {\n        \"dtype\": \"number\",\n        \"std\": 14,\n        \"min\": 60,\n        \"max\": 92,\n        \"num_unique_values\": 4,\n        \"samples\": [\n          60,\n          87,\n          92\n        ],\n        \"semantic_type\": \"\",\n        \"description\": \"\"\n      }\n    },\n    {\n      \"column\": \"Midterm 3\",\n      \"properties\": {\n        \"dtype\": \"number\",\n        \"std\": 41,\n        \"min\": 14,\n        \"max\": 99,\n        \"num_unique_values\": 4,\n        \"samples\": [\n          20,\n          99,\n          14\n        ],\n        \"semantic_type\": \"\",\n        \"description\": \"\"\n      }\n    }\n  ]\n}"
            }
>>>>>>> 96d7441bab605981559a4b40456aa97dbf14a8c9
          },
          "execution_count": 100,
          "metadata": {},
<<<<<<< HEAD
          "output_type": "execute_result"
=======
          "execution_count": 49
>>>>>>> 96d7441bab605981559a4b40456aa97dbf14a8c9
        }
      ],
      "source": [
        "df"
      ]
    },
    {
      "cell_type": "markdown",
      "metadata": {
        "id": "E8F3KAiIRhRl"
      },
      "source": [
        "We have an informative table showing our data!\n",
        "\n",
        "Another important property that differentiates DataFrames from NumPy arrays <br>\n",
        "is their ability to store data of different types. For example, a single NumPy <br> array cannot store both integers and strings, but a DataFrame can. <br>\n",
        "\n",
        "Here's an example to show this: let's create a DataFrame which stores the <br>\n",
        "name, height (in meters), age (in years), and birth month of five people"
      ]
    },
    {
      "cell_type": "code",
      "execution_count": 101,
      "metadata": {
        "id": "Cye4hZSQTKbI"
      },
      "outputs": [],
      "source": [
        "name = [\"Bob\", \"Ann\", \"Steve\", \"Laura\", \"Jack\"]\n",
        "height = [1.78, 1.70, 1.60, 1.83, 1.72]\n",
        "age = [32, 24, 20, 74, 66]\n",
        "birth_month = [\"September\", \"April\", \"June\", \"September\", \"March\"]"
      ]
    },
    {
      "cell_type": "markdown",
      "metadata": {
        "id": "YkkKxG3gXdfR"
      },
      "source": [
        "There are multiple ways to put multiple lists into a DataFrame. For now, <br>\n",
        "we'll use the format: `pd.DataFrame({\"label\": data})`, separating our <br>\n",
        "different categories with commas."
      ]
    },
    {
      "cell_type": "code",
      "execution_count": 102,
      "metadata": {
        "id": "nW5RaqSOXkYE"
      },
      "outputs": [],
      "source": [
        "people_df = pd.DataFrame({\"Name\": name,\n",
        "                         \"Height (m)\": height,\n",
        "                         \"Age (years)\": age,\n",
        "                         \"Birth Month\": birth_month})"
      ]
    },
    {
      "cell_type": "code",
      "execution_count": 103,
      "metadata": {
        "colab": {
          "base_uri": "https://localhost:8080/",
          "height": 206
        },
        "id": "dUiNm7RiXRij",
        "outputId": "c83f3e87-0717-4ee4-9551-24158406d967"
      },
      "outputs": [
        {
          "data": {
            "text/html": [
<<<<<<< HEAD
              "<div>\n",
=======
              "\n",
              "  <div id=\"df-0d068fd2-9046-4f1d-914d-b9a9684bee92\" class=\"colab-df-container\">\n",
              "    <div>\n",
>>>>>>> 96d7441bab605981559a4b40456aa97dbf14a8c9
              "<style scoped>\n",
              "    .dataframe tbody tr th:only-of-type {\n",
              "        vertical-align: middle;\n",
              "    }\n",
              "\n",
              "    .dataframe tbody tr th {\n",
              "        vertical-align: top;\n",
              "    }\n",
              "\n",
              "    .dataframe thead th {\n",
              "        text-align: right;\n",
              "    }\n",
              "</style>\n",
              "<table border=\"1\" class=\"dataframe\">\n",
              "  <thead>\n",
              "    <tr style=\"text-align: right;\">\n",
              "      <th></th>\n",
              "      <th>Name</th>\n",
              "      <th>Height (m)</th>\n",
              "      <th>Age (years)</th>\n",
              "      <th>Birth Month</th>\n",
              "    </tr>\n",
              "  </thead>\n",
              "  <tbody>\n",
              "    <tr>\n",
              "      <th>0</th>\n",
              "      <td>Bob</td>\n",
              "      <td>1.78</td>\n",
              "      <td>32</td>\n",
              "      <td>September</td>\n",
              "    </tr>\n",
              "    <tr>\n",
              "      <th>1</th>\n",
              "      <td>Ann</td>\n",
              "      <td>1.70</td>\n",
              "      <td>24</td>\n",
              "      <td>April</td>\n",
              "    </tr>\n",
              "    <tr>\n",
              "      <th>2</th>\n",
              "      <td>Steve</td>\n",
              "      <td>1.60</td>\n",
              "      <td>20</td>\n",
              "      <td>June</td>\n",
              "    </tr>\n",
              "    <tr>\n",
              "      <th>3</th>\n",
              "      <td>Laura</td>\n",
              "      <td>1.83</td>\n",
              "      <td>74</td>\n",
              "      <td>September</td>\n",
              "    </tr>\n",
              "    <tr>\n",
              "      <th>4</th>\n",
              "      <td>Jack</td>\n",
              "      <td>1.72</td>\n",
              "      <td>66</td>\n",
              "      <td>March</td>\n",
              "    </tr>\n",
              "  </tbody>\n",
              "</table>\n",
<<<<<<< HEAD
              "</div>"
            ],
            "text/plain": [
              "    Name  Height (m)  Age (years) Birth Month\n",
              "0    Bob        1.78           32   September\n",
              "1    Ann        1.70           24       April\n",
              "2  Steve        1.60           20        June\n",
              "3  Laura        1.83           74   September\n",
              "4   Jack        1.72           66       March"
            ]
=======
              "</div>\n",
              "    <div class=\"colab-df-buttons\">\n",
              "\n",
              "  <div class=\"colab-df-container\">\n",
              "    <button class=\"colab-df-convert\" onclick=\"convertToInteractive('df-0d068fd2-9046-4f1d-914d-b9a9684bee92')\"\n",
              "            title=\"Convert this dataframe to an interactive table.\"\n",
              "            style=\"display:none;\">\n",
              "\n",
              "  <svg xmlns=\"http://www.w3.org/2000/svg\" height=\"24px\" viewBox=\"0 -960 960 960\">\n",
              "    <path d=\"M120-120v-720h720v720H120Zm60-500h600v-160H180v160Zm220 220h160v-160H400v160Zm0 220h160v-160H400v160ZM180-400h160v-160H180v160Zm440 0h160v-160H620v160ZM180-180h160v-160H180v160Zm440 0h160v-160H620v160Z\"/>\n",
              "  </svg>\n",
              "    </button>\n",
              "\n",
              "  <style>\n",
              "    .colab-df-container {\n",
              "      display:flex;\n",
              "      gap: 12px;\n",
              "    }\n",
              "\n",
              "    .colab-df-convert {\n",
              "      background-color: #E8F0FE;\n",
              "      border: none;\n",
              "      border-radius: 50%;\n",
              "      cursor: pointer;\n",
              "      display: none;\n",
              "      fill: #1967D2;\n",
              "      height: 32px;\n",
              "      padding: 0 0 0 0;\n",
              "      width: 32px;\n",
              "    }\n",
              "\n",
              "    .colab-df-convert:hover {\n",
              "      background-color: #E2EBFA;\n",
              "      box-shadow: 0px 1px 2px rgba(60, 64, 67, 0.3), 0px 1px 3px 1px rgba(60, 64, 67, 0.15);\n",
              "      fill: #174EA6;\n",
              "    }\n",
              "\n",
              "    .colab-df-buttons div {\n",
              "      margin-bottom: 4px;\n",
              "    }\n",
              "\n",
              "    [theme=dark] .colab-df-convert {\n",
              "      background-color: #3B4455;\n",
              "      fill: #D2E3FC;\n",
              "    }\n",
              "\n",
              "    [theme=dark] .colab-df-convert:hover {\n",
              "      background-color: #434B5C;\n",
              "      box-shadow: 0px 1px 3px 1px rgba(0, 0, 0, 0.15);\n",
              "      filter: drop-shadow(0px 1px 2px rgba(0, 0, 0, 0.3));\n",
              "      fill: #FFFFFF;\n",
              "    }\n",
              "  </style>\n",
              "\n",
              "    <script>\n",
              "      const buttonEl =\n",
              "        document.querySelector('#df-0d068fd2-9046-4f1d-914d-b9a9684bee92 button.colab-df-convert');\n",
              "      buttonEl.style.display =\n",
              "        google.colab.kernel.accessAllowed ? 'block' : 'none';\n",
              "\n",
              "      async function convertToInteractive(key) {\n",
              "        const element = document.querySelector('#df-0d068fd2-9046-4f1d-914d-b9a9684bee92');\n",
              "        const dataTable =\n",
              "          await google.colab.kernel.invokeFunction('convertToInteractive',\n",
              "                                                    [key], {});\n",
              "        if (!dataTable) return;\n",
              "\n",
              "        const docLinkHtml = 'Like what you see? Visit the ' +\n",
              "          '<a target=\"_blank\" href=https://colab.research.google.com/notebooks/data_table.ipynb>data table notebook</a>'\n",
              "          + ' to learn more about interactive tables.';\n",
              "        element.innerHTML = '';\n",
              "        dataTable['output_type'] = 'display_data';\n",
              "        await google.colab.output.renderOutput(dataTable, element);\n",
              "        const docLink = document.createElement('div');\n",
              "        docLink.innerHTML = docLinkHtml;\n",
              "        element.appendChild(docLink);\n",
              "      }\n",
              "    </script>\n",
              "  </div>\n",
              "\n",
              "\n",
              "<div id=\"df-33aee140-2d30-4d7f-ade1-6d4da44e80fd\">\n",
              "  <button class=\"colab-df-quickchart\" onclick=\"quickchart('df-33aee140-2d30-4d7f-ade1-6d4da44e80fd')\"\n",
              "            title=\"Suggest charts\"\n",
              "            style=\"display:none;\">\n",
              "\n",
              "<svg xmlns=\"http://www.w3.org/2000/svg\" height=\"24px\"viewBox=\"0 0 24 24\"\n",
              "     width=\"24px\">\n",
              "    <g>\n",
              "        <path d=\"M19 3H5c-1.1 0-2 .9-2 2v14c0 1.1.9 2 2 2h14c1.1 0 2-.9 2-2V5c0-1.1-.9-2-2-2zM9 17H7v-7h2v7zm4 0h-2V7h2v10zm4 0h-2v-4h2v4z\"/>\n",
              "    </g>\n",
              "</svg>\n",
              "  </button>\n",
              "\n",
              "<style>\n",
              "  .colab-df-quickchart {\n",
              "      --bg-color: #E8F0FE;\n",
              "      --fill-color: #1967D2;\n",
              "      --hover-bg-color: #E2EBFA;\n",
              "      --hover-fill-color: #174EA6;\n",
              "      --disabled-fill-color: #AAA;\n",
              "      --disabled-bg-color: #DDD;\n",
              "  }\n",
              "\n",
              "  [theme=dark] .colab-df-quickchart {\n",
              "      --bg-color: #3B4455;\n",
              "      --fill-color: #D2E3FC;\n",
              "      --hover-bg-color: #434B5C;\n",
              "      --hover-fill-color: #FFFFFF;\n",
              "      --disabled-bg-color: #3B4455;\n",
              "      --disabled-fill-color: #666;\n",
              "  }\n",
              "\n",
              "  .colab-df-quickchart {\n",
              "    background-color: var(--bg-color);\n",
              "    border: none;\n",
              "    border-radius: 50%;\n",
              "    cursor: pointer;\n",
              "    display: none;\n",
              "    fill: var(--fill-color);\n",
              "    height: 32px;\n",
              "    padding: 0;\n",
              "    width: 32px;\n",
              "  }\n",
              "\n",
              "  .colab-df-quickchart:hover {\n",
              "    background-color: var(--hover-bg-color);\n",
              "    box-shadow: 0 1px 2px rgba(60, 64, 67, 0.3), 0 1px 3px 1px rgba(60, 64, 67, 0.15);\n",
              "    fill: var(--button-hover-fill-color);\n",
              "  }\n",
              "\n",
              "  .colab-df-quickchart-complete:disabled,\n",
              "  .colab-df-quickchart-complete:disabled:hover {\n",
              "    background-color: var(--disabled-bg-color);\n",
              "    fill: var(--disabled-fill-color);\n",
              "    box-shadow: none;\n",
              "  }\n",
              "\n",
              "  .colab-df-spinner {\n",
              "    border: 2px solid var(--fill-color);\n",
              "    border-color: transparent;\n",
              "    border-bottom-color: var(--fill-color);\n",
              "    animation:\n",
              "      spin 1s steps(1) infinite;\n",
              "  }\n",
              "\n",
              "  @keyframes spin {\n",
              "    0% {\n",
              "      border-color: transparent;\n",
              "      border-bottom-color: var(--fill-color);\n",
              "      border-left-color: var(--fill-color);\n",
              "    }\n",
              "    20% {\n",
              "      border-color: transparent;\n",
              "      border-left-color: var(--fill-color);\n",
              "      border-top-color: var(--fill-color);\n",
              "    }\n",
              "    30% {\n",
              "      border-color: transparent;\n",
              "      border-left-color: var(--fill-color);\n",
              "      border-top-color: var(--fill-color);\n",
              "      border-right-color: var(--fill-color);\n",
              "    }\n",
              "    40% {\n",
              "      border-color: transparent;\n",
              "      border-right-color: var(--fill-color);\n",
              "      border-top-color: var(--fill-color);\n",
              "    }\n",
              "    60% {\n",
              "      border-color: transparent;\n",
              "      border-right-color: var(--fill-color);\n",
              "    }\n",
              "    80% {\n",
              "      border-color: transparent;\n",
              "      border-right-color: var(--fill-color);\n",
              "      border-bottom-color: var(--fill-color);\n",
              "    }\n",
              "    90% {\n",
              "      border-color: transparent;\n",
              "      border-bottom-color: var(--fill-color);\n",
              "    }\n",
              "  }\n",
              "</style>\n",
              "\n",
              "  <script>\n",
              "    async function quickchart(key) {\n",
              "      const quickchartButtonEl =\n",
              "        document.querySelector('#' + key + ' button');\n",
              "      quickchartButtonEl.disabled = true;  // To prevent multiple clicks.\n",
              "      quickchartButtonEl.classList.add('colab-df-spinner');\n",
              "      try {\n",
              "        const charts = await google.colab.kernel.invokeFunction(\n",
              "            'suggestCharts', [key], {});\n",
              "      } catch (error) {\n",
              "        console.error('Error during call to suggestCharts:', error);\n",
              "      }\n",
              "      quickchartButtonEl.classList.remove('colab-df-spinner');\n",
              "      quickchartButtonEl.classList.add('colab-df-quickchart-complete');\n",
              "    }\n",
              "    (() => {\n",
              "      let quickchartButtonEl =\n",
              "        document.querySelector('#df-33aee140-2d30-4d7f-ade1-6d4da44e80fd button');\n",
              "      quickchartButtonEl.style.display =\n",
              "        google.colab.kernel.accessAllowed ? 'block' : 'none';\n",
              "    })();\n",
              "  </script>\n",
              "</div>\n",
              "\n",
              "  <div id=\"id_36796397-dd7d-4dec-bf68-9519e9bf4b07\">\n",
              "    <style>\n",
              "      .colab-df-generate {\n",
              "        background-color: #E8F0FE;\n",
              "        border: none;\n",
              "        border-radius: 50%;\n",
              "        cursor: pointer;\n",
              "        display: none;\n",
              "        fill: #1967D2;\n",
              "        height: 32px;\n",
              "        padding: 0 0 0 0;\n",
              "        width: 32px;\n",
              "      }\n",
              "\n",
              "      .colab-df-generate:hover {\n",
              "        background-color: #E2EBFA;\n",
              "        box-shadow: 0px 1px 2px rgba(60, 64, 67, 0.3), 0px 1px 3px 1px rgba(60, 64, 67, 0.15);\n",
              "        fill: #174EA6;\n",
              "      }\n",
              "\n",
              "      [theme=dark] .colab-df-generate {\n",
              "        background-color: #3B4455;\n",
              "        fill: #D2E3FC;\n",
              "      }\n",
              "\n",
              "      [theme=dark] .colab-df-generate:hover {\n",
              "        background-color: #434B5C;\n",
              "        box-shadow: 0px 1px 3px 1px rgba(0, 0, 0, 0.15);\n",
              "        filter: drop-shadow(0px 1px 2px rgba(0, 0, 0, 0.3));\n",
              "        fill: #FFFFFF;\n",
              "      }\n",
              "    </style>\n",
              "    <button class=\"colab-df-generate\" onclick=\"generateWithVariable('people_df')\"\n",
              "            title=\"Generate code using this dataframe.\"\n",
              "            style=\"display:none;\">\n",
              "\n",
              "  <svg xmlns=\"http://www.w3.org/2000/svg\" height=\"24px\"viewBox=\"0 0 24 24\"\n",
              "       width=\"24px\">\n",
              "    <path d=\"M7,19H8.4L18.45,9,17,7.55,7,17.6ZM5,21V16.75L18.45,3.32a2,2,0,0,1,2.83,0l1.4,1.43a1.91,1.91,0,0,1,.58,1.4,1.91,1.91,0,0,1-.58,1.4L9.25,21ZM18.45,9,17,7.55Zm-12,3A5.31,5.31,0,0,0,4.9,8.1,5.31,5.31,0,0,0,1,6.5,5.31,5.31,0,0,0,4.9,4.9,5.31,5.31,0,0,0,6.5,1,5.31,5.31,0,0,0,8.1,4.9,5.31,5.31,0,0,0,12,6.5,5.46,5.46,0,0,0,6.5,12Z\"/>\n",
              "  </svg>\n",
              "    </button>\n",
              "    <script>\n",
              "      (() => {\n",
              "      const buttonEl =\n",
              "        document.querySelector('#id_36796397-dd7d-4dec-bf68-9519e9bf4b07 button.colab-df-generate');\n",
              "      buttonEl.style.display =\n",
              "        google.colab.kernel.accessAllowed ? 'block' : 'none';\n",
              "\n",
              "      buttonEl.onclick = () => {\n",
              "        google.colab.notebook.generateWithVariable('people_df');\n",
              "      }\n",
              "      })();\n",
              "    </script>\n",
              "  </div>\n",
              "\n",
              "    </div>\n",
              "  </div>\n"
            ],
            "application/vnd.google.colaboratory.intrinsic+json": {
              "type": "dataframe",
              "variable_name": "people_df",
              "summary": "{\n  \"name\": \"people_df\",\n  \"rows\": 5,\n  \"fields\": [\n    {\n      \"column\": \"Name\",\n      \"properties\": {\n        \"dtype\": \"string\",\n        \"num_unique_values\": 5,\n        \"samples\": [\n          \"Ann\",\n          \"Jack\",\n          \"Steve\"\n        ],\n        \"semantic_type\": \"\",\n        \"description\": \"\"\n      }\n    },\n    {\n      \"column\": \"Height (m)\",\n      \"properties\": {\n        \"dtype\": \"number\",\n        \"std\": 0.08706319543871566,\n        \"min\": 1.6,\n        \"max\": 1.83,\n        \"num_unique_values\": 5,\n        \"samples\": [\n          1.7,\n          1.72,\n          1.6\n        ],\n        \"semantic_type\": \"\",\n        \"description\": \"\"\n      }\n    },\n    {\n      \"column\": \"Age (years)\",\n      \"properties\": {\n        \"dtype\": \"number\",\n        \"std\": 25,\n        \"min\": 20,\n        \"max\": 74,\n        \"num_unique_values\": 5,\n        \"samples\": [\n          24,\n          66,\n          20\n        ],\n        \"semantic_type\": \"\",\n        \"description\": \"\"\n      }\n    },\n    {\n      \"column\": \"Birth Month\",\n      \"properties\": {\n        \"dtype\": \"string\",\n        \"num_unique_values\": 4,\n        \"samples\": [\n          \"April\",\n          \"March\",\n          \"September\"\n        ],\n        \"semantic_type\": \"\",\n        \"description\": \"\"\n      }\n    }\n  ]\n}"
            }
>>>>>>> 96d7441bab605981559a4b40456aa97dbf14a8c9
          },
          "execution_count": 103,
          "metadata": {},
<<<<<<< HEAD
          "output_type": "execute_result"
=======
          "execution_count": 52
>>>>>>> 96d7441bab605981559a4b40456aa97dbf14a8c9
        }
      ],
      "source": [
        "people_df"
      ]
    },
    {
      "cell_type": "markdown",
      "metadata": {
        "id": "Ch2mQjRWafiT"
      },
      "source": [
        "### Large Data Example\n",
        "\n",
        "Let's now look at how a large machine learning dataset is stored in a <br>\n",
        "pandas DataFrame and what methods we can use to view and understand the data.\n",
        "<br>\n",
        "\n",
        "We'll load in the MNIST dataset as before, storing the data samples in `X` <br> and the labels in `y`"
      ]
    },
    {
      "cell_type": "code",
      "execution_count": 104,
      "metadata": {
        "id": "e6aeqRs01GYn"
      },
      "outputs": [],
      "source": [
        "#X, y = mnist[\"data\"], mnist[\"target\"]\n",
        "y = y.astype(int)"
      ]
    },
    {
      "cell_type": "markdown",
      "metadata": {
        "id": "sE40k9dbIjPQ"
      },
      "source": [
        "Now, what type of object is `X`?"
      ]
    },
    {
      "cell_type": "code",
      "execution_count": 105,
      "metadata": {
        "colab": {
          "base_uri": "https://localhost:8080/",
          "height": 204
        },
<<<<<<< HEAD
        "id": "6_5SlZWZ1GYn",
        "outputId": "6dab1b0a-17fb-44a5-ac52-d26ed97260c3"
=======
        "outputId": "c7944816-7577-4d66-d4b4-c08848b9ff2a",
        "id": "6_5SlZWZ1GYn"
>>>>>>> 96d7441bab605981559a4b40456aa97dbf14a8c9
      },
      "outputs": [
        {
          "data": {
            "text/plain": [
              "pandas.core.frame.DataFrame"
            ],
            "text/html": [
              "<div style=\"max-width:800px; border: 1px solid var(--colab-border-color);\"><style>\n",
              "      pre.function-repr-contents {\n",
              "        overflow-x: auto;\n",
              "        padding: 8px 12px;\n",
              "        max-height: 500px;\n",
              "      }\n",
              "\n",
              "      pre.function-repr-contents.function-repr-contents-collapsed {\n",
              "        cursor: pointer;\n",
              "        max-height: 100px;\n",
              "      }\n",
              "    </style>\n",
              "    <pre style=\"white-space: initial; background:\n",
              "         var(--colab-secondary-surface-color); padding: 8px 12px;\n",
              "         border-bottom: 1px solid var(--colab-border-color);\"><b>pandas.core.frame.DataFrame</b><br/>def __init__(data=None, index: Axes | None=None, columns: Axes | None=None, dtype: Dtype | None=None, copy: bool | None=None) -&gt; None</pre><pre class=\"function-repr-contents function-repr-contents-collapsed\" style=\"\"><a class=\"filepath\" style=\"display:none\" href=\"#\">/usr/local/lib/python3.11/dist-packages/pandas/core/frame.py</a>Two-dimensional, size-mutable, potentially heterogeneous tabular data.\n",
              "\n",
              "Data structure also contains labeled axes (rows and columns).\n",
              "Arithmetic operations align on both row and column labels. Can be\n",
              "thought of as a dict-like container for Series objects. The primary\n",
              "pandas data structure.\n",
              "\n",
              "Parameters\n",
              "----------\n",
              "data : ndarray (structured or homogeneous), Iterable, dict, or DataFrame\n",
              "    Dict can contain Series, arrays, constants, dataclass or list-like objects. If\n",
              "    data is a dict, column order follows insertion-order. If a dict contains Series\n",
              "    which have an index defined, it is aligned by its index. This alignment also\n",
              "    occurs if data is a Series or a DataFrame itself. Alignment is done on\n",
              "    Series/DataFrame inputs.\n",
              "\n",
              "    If data is a list of dicts, column order follows insertion-order.\n",
              "\n",
              "index : Index or array-like\n",
              "    Index to use for resulting frame. Will default to RangeIndex if\n",
              "    no indexing information part of input data and no index provided.\n",
              "columns : Index or array-like\n",
              "    Column labels to use for resulting frame when data does not have them,\n",
              "    defaulting to RangeIndex(0, 1, 2, ..., n). If data contains column labels,\n",
              "    will perform column selection instead.\n",
              "dtype : dtype, default None\n",
              "    Data type to force. Only a single dtype is allowed. If None, infer.\n",
              "copy : bool or None, default None\n",
              "    Copy data from inputs.\n",
              "    For dict data, the default of None behaves like ``copy=True``.  For DataFrame\n",
              "    or 2d ndarray input, the default of None behaves like ``copy=False``.\n",
              "    If data is a dict containing one or more Series (possibly of different dtypes),\n",
              "    ``copy=False`` will ensure that these inputs are not copied.\n",
              "\n",
              "    .. versionchanged:: 1.3.0\n",
              "\n",
              "See Also\n",
              "--------\n",
              "DataFrame.from_records : Constructor from tuples, also record arrays.\n",
              "DataFrame.from_dict : From dicts of Series, arrays, or dicts.\n",
              "read_csv : Read a comma-separated values (csv) file into DataFrame.\n",
              "read_table : Read general delimited file into DataFrame.\n",
              "read_clipboard : Read text from clipboard into DataFrame.\n",
              "\n",
              "Notes\n",
              "-----\n",
              "Please reference the :ref:`User Guide &lt;basics.dataframe&gt;` for more information.\n",
              "\n",
              "Examples\n",
              "--------\n",
              "Constructing DataFrame from a dictionary.\n",
              "\n",
              "&gt;&gt;&gt; d = {&#x27;col1&#x27;: [1, 2], &#x27;col2&#x27;: [3, 4]}\n",
              "&gt;&gt;&gt; df = pd.DataFrame(data=d)\n",
              "&gt;&gt;&gt; df\n",
              "   col1  col2\n",
              "0     1     3\n",
              "1     2     4\n",
              "\n",
              "Notice that the inferred dtype is int64.\n",
              "\n",
              "&gt;&gt;&gt; df.dtypes\n",
              "col1    int64\n",
              "col2    int64\n",
              "dtype: object\n",
              "\n",
              "To enforce a single dtype:\n",
              "\n",
              "&gt;&gt;&gt; df = pd.DataFrame(data=d, dtype=np.int8)\n",
              "&gt;&gt;&gt; df.dtypes\n",
              "col1    int8\n",
              "col2    int8\n",
              "dtype: object\n",
              "\n",
              "Constructing DataFrame from a dictionary including Series:\n",
              "\n",
              "&gt;&gt;&gt; d = {&#x27;col1&#x27;: [0, 1, 2, 3], &#x27;col2&#x27;: pd.Series([2, 3], index=[2, 3])}\n",
              "&gt;&gt;&gt; pd.DataFrame(data=d, index=[0, 1, 2, 3])\n",
              "   col1  col2\n",
              "0     0   NaN\n",
              "1     1   NaN\n",
              "2     2   2.0\n",
              "3     3   3.0\n",
              "\n",
              "Constructing DataFrame from numpy ndarray:\n",
              "\n",
              "&gt;&gt;&gt; df2 = pd.DataFrame(np.array([[1, 2, 3], [4, 5, 6], [7, 8, 9]]),\n",
              "...                    columns=[&#x27;a&#x27;, &#x27;b&#x27;, &#x27;c&#x27;])\n",
              "&gt;&gt;&gt; df2\n",
              "   a  b  c\n",
              "0  1  2  3\n",
              "1  4  5  6\n",
              "2  7  8  9\n",
              "\n",
              "Constructing DataFrame from a numpy ndarray that has labeled columns:\n",
              "\n",
              "&gt;&gt;&gt; data = np.array([(1, 2, 3), (4, 5, 6), (7, 8, 9)],\n",
              "...                 dtype=[(&quot;a&quot;, &quot;i4&quot;), (&quot;b&quot;, &quot;i4&quot;), (&quot;c&quot;, &quot;i4&quot;)])\n",
              "&gt;&gt;&gt; df3 = pd.DataFrame(data, columns=[&#x27;c&#x27;, &#x27;a&#x27;])\n",
              "...\n",
              "&gt;&gt;&gt; df3\n",
              "   c  a\n",
              "0  3  1\n",
              "1  6  4\n",
              "2  9  7\n",
              "\n",
              "Constructing DataFrame from dataclass:\n",
              "\n",
              "&gt;&gt;&gt; from dataclasses import make_dataclass\n",
              "&gt;&gt;&gt; Point = make_dataclass(&quot;Point&quot;, [(&quot;x&quot;, int), (&quot;y&quot;, int)])\n",
              "&gt;&gt;&gt; pd.DataFrame([Point(0, 0), Point(0, 3), Point(2, 3)])\n",
              "   x  y\n",
              "0  0  0\n",
              "1  0  3\n",
              "2  2  3\n",
              "\n",
              "Constructing DataFrame from Series/DataFrame:\n",
              "\n",
              "&gt;&gt;&gt; ser = pd.Series([1, 2, 3], index=[&quot;a&quot;, &quot;b&quot;, &quot;c&quot;])\n",
              "&gt;&gt;&gt; df = pd.DataFrame(data=ser, index=[&quot;a&quot;, &quot;c&quot;])\n",
              "&gt;&gt;&gt; df\n",
              "   0\n",
              "a  1\n",
              "c  3\n",
              "\n",
              "&gt;&gt;&gt; df1 = pd.DataFrame([1, 2, 3], index=[&quot;a&quot;, &quot;b&quot;, &quot;c&quot;], columns=[&quot;x&quot;])\n",
              "&gt;&gt;&gt; df2 = pd.DataFrame(data=df1, index=[&quot;a&quot;, &quot;c&quot;])\n",
              "&gt;&gt;&gt; df2\n",
              "   x\n",
              "a  1\n",
              "c  3</pre>\n",
              "      <script>\n",
              "      if (google.colab.kernel.accessAllowed && google.colab.files && google.colab.files.view) {\n",
              "        for (const element of document.querySelectorAll('.filepath')) {\n",
              "          element.style.display = 'block'\n",
              "          element.onclick = (event) => {\n",
              "            event.preventDefault();\n",
              "            event.stopPropagation();\n",
              "            google.colab.files.view(element.textContent, 509);\n",
              "          };\n",
              "        }\n",
              "      }\n",
              "      for (const element of document.querySelectorAll('.function-repr-contents')) {\n",
              "        element.onclick = (event) => {\n",
              "          event.preventDefault();\n",
              "          event.stopPropagation();\n",
              "          element.classList.toggle('function-repr-contents-collapsed');\n",
              "        };\n",
              "      }\n",
              "      </script>\n",
              "      </div>"
            ]
          },
          "execution_count": 105,
          "metadata": {},
<<<<<<< HEAD
          "output_type": "execute_result"
=======
          "execution_count": 54
>>>>>>> 96d7441bab605981559a4b40456aa97dbf14a8c9
        }
      ],
      "source": [
        "type(X)"
      ]
    },
    {
      "cell_type": "markdown",
      "metadata": {
        "id": "2kWekBODIsFC"
      },
      "source": [
        "A pandas DataFrame!\n",
        "\n",
        "We can check the shape of `X` using the DataFrame property `.shape`"
      ]
    },
    {
      "cell_type": "code",
      "execution_count": 106,
      "metadata": {
        "colab": {
          "base_uri": "https://localhost:8080/"
        },
        "id": "RBbMhW5Hb4Bw",
        "outputId": "afd0c701-f79e-4233-e2d1-6bbd307e06f4"
      },
      "outputs": [
        {
          "data": {
            "text/plain": [
              "(70000, 784)"
            ]
          },
          "execution_count": 106,
          "metadata": {},
<<<<<<< HEAD
          "output_type": "execute_result"
=======
          "execution_count": 55
>>>>>>> 96d7441bab605981559a4b40456aa97dbf14a8c9
        }
      ],
      "source": [
        "X.shape"
      ]
    },
    {
      "cell_type": "markdown",
      "metadata": {
        "id": "4IvXKmxYcBdy"
      },
      "source": [
        "We interpret this as: `X` has 70,000 samples, each with 784 data points. <br>\n",
        "This is the MNIST dataset, so we have 70,000 different grayscale pictures, <br> each with 784 pixels of intensities ranging from 0 to 255."
      ]
    },
    {
      "cell_type": "markdown",
      "metadata": {
        "id": "iKeGrbrRc61y"
      },
      "source": [
        "With so many samples, we can't view them all at once! A common way to take a <br>\n",
        "quick look at the data is to use the `.head(n)` method, which shows the <br>\n",
        "first *n* samples of the DataFrame."
      ]
    },
    {
      "cell_type": "code",
      "execution_count": 107,
      "metadata": {
        "colab": {
          "base_uri": "https://localhost:8080/",
          "height": 256
        },
<<<<<<< HEAD
        "id": "yh0Ta5bF1GYo",
        "outputId": "893a23a2-745d-4963-ef1c-181e98e5d09d"
=======
        "outputId": "700c9344-bcfa-4f7a-ffa5-84008c62b1a6",
        "id": "yh0Ta5bF1GYo"
>>>>>>> 96d7441bab605981559a4b40456aa97dbf14a8c9
      },
      "outputs": [
        {
          "data": {
<<<<<<< HEAD
            "text/html": [
              "<div>\n",
=======
            "text/plain": [
              "   pixel0  pixel1  pixel2  pixel3  pixel4  pixel5  pixel6  pixel7  pixel8  \\\n",
              "0       0       0       0       0       0       0       0       0       0   \n",
              "1       0       0       0       0       0       0       0       0       0   \n",
              "2       0       0       0       0       0       0       0       0       0   \n",
              "3       0       0       0       0       0       0       0       0       0   \n",
              "4       0       0       0       0       0       0       0       0       0   \n",
              "\n",
              "   pixel9  ...  pixel774  pixel775  pixel776  pixel777  pixel778  pixel779  \\\n",
              "0       0  ...         0         0         0         0         0         0   \n",
              "1       0  ...         0         0         0         0         0         0   \n",
              "2       0  ...         0         0         0         0         0         0   \n",
              "3       0  ...         0         0         0         0         0         0   \n",
              "4       0  ...         0         0         0         0         0         0   \n",
              "\n",
              "   pixel780  pixel781  pixel782  pixel783  \n",
              "0         0         0         0         0  \n",
              "1         0         0         0         0  \n",
              "2         0         0         0         0  \n",
              "3         0         0         0         0  \n",
              "4         0         0         0         0  \n",
              "\n",
              "[5 rows x 784 columns]"
            ],
            "text/html": [
              "\n",
              "  <div id=\"df-bd5a252d-393f-473a-bf47-6d62a88ff0dd\" class=\"colab-df-container\">\n",
              "    <div>\n",
>>>>>>> 96d7441bab605981559a4b40456aa97dbf14a8c9
              "<style scoped>\n",
              "    .dataframe tbody tr th:only-of-type {\n",
              "        vertical-align: middle;\n",
              "    }\n",
              "\n",
              "    .dataframe tbody tr th {\n",
              "        vertical-align: top;\n",
              "    }\n",
              "\n",
              "    .dataframe thead th {\n",
              "        text-align: right;\n",
              "    }\n",
              "</style>\n",
              "<table border=\"1\" class=\"dataframe\">\n",
              "  <thead>\n",
              "    <tr style=\"text-align: right;\">\n",
              "      <th></th>\n",
              "      <th>pixel0</th>\n",
              "      <th>pixel1</th>\n",
              "      <th>pixel2</th>\n",
              "      <th>pixel3</th>\n",
              "      <th>pixel4</th>\n",
              "      <th>pixel5</th>\n",
              "      <th>pixel6</th>\n",
              "      <th>pixel7</th>\n",
              "      <th>pixel8</th>\n",
              "      <th>pixel9</th>\n",
              "      <th>...</th>\n",
              "      <th>pixel774</th>\n",
              "      <th>pixel775</th>\n",
              "      <th>pixel776</th>\n",
              "      <th>pixel777</th>\n",
              "      <th>pixel778</th>\n",
              "      <th>pixel779</th>\n",
              "      <th>pixel780</th>\n",
              "      <th>pixel781</th>\n",
              "      <th>pixel782</th>\n",
              "      <th>pixel783</th>\n",
              "    </tr>\n",
              "  </thead>\n",
              "  <tbody>\n",
              "    <tr>\n",
              "      <th>0</th>\n",
              "      <td>0</td>\n",
              "      <td>0</td>\n",
              "      <td>0</td>\n",
              "      <td>0</td>\n",
              "      <td>0</td>\n",
              "      <td>0</td>\n",
              "      <td>0</td>\n",
              "      <td>0</td>\n",
              "      <td>0</td>\n",
              "      <td>0</td>\n",
              "      <td>...</td>\n",
              "      <td>0</td>\n",
              "      <td>0</td>\n",
              "      <td>0</td>\n",
              "      <td>0</td>\n",
              "      <td>0</td>\n",
              "      <td>0</td>\n",
              "      <td>0</td>\n",
              "      <td>0</td>\n",
              "      <td>0</td>\n",
              "      <td>0</td>\n",
              "    </tr>\n",
              "    <tr>\n",
              "      <th>1</th>\n",
              "      <td>0</td>\n",
              "      <td>0</td>\n",
              "      <td>0</td>\n",
              "      <td>0</td>\n",
              "      <td>0</td>\n",
              "      <td>0</td>\n",
              "      <td>0</td>\n",
              "      <td>0</td>\n",
              "      <td>0</td>\n",
              "      <td>0</td>\n",
              "      <td>...</td>\n",
              "      <td>0</td>\n",
              "      <td>0</td>\n",
              "      <td>0</td>\n",
              "      <td>0</td>\n",
              "      <td>0</td>\n",
              "      <td>0</td>\n",
              "      <td>0</td>\n",
              "      <td>0</td>\n",
              "      <td>0</td>\n",
              "      <td>0</td>\n",
              "    </tr>\n",
              "    <tr>\n",
              "      <th>2</th>\n",
              "      <td>0</td>\n",
              "      <td>0</td>\n",
              "      <td>0</td>\n",
              "      <td>0</td>\n",
              "      <td>0</td>\n",
              "      <td>0</td>\n",
              "      <td>0</td>\n",
              "      <td>0</td>\n",
              "      <td>0</td>\n",
              "      <td>0</td>\n",
              "      <td>...</td>\n",
              "      <td>0</td>\n",
              "      <td>0</td>\n",
              "      <td>0</td>\n",
              "      <td>0</td>\n",
              "      <td>0</td>\n",
              "      <td>0</td>\n",
              "      <td>0</td>\n",
              "      <td>0</td>\n",
              "      <td>0</td>\n",
              "      <td>0</td>\n",
              "    </tr>\n",
              "    <tr>\n",
              "      <th>3</th>\n",
              "      <td>0</td>\n",
              "      <td>0</td>\n",
              "      <td>0</td>\n",
              "      <td>0</td>\n",
              "      <td>0</td>\n",
              "      <td>0</td>\n",
              "      <td>0</td>\n",
              "      <td>0</td>\n",
              "      <td>0</td>\n",
              "      <td>0</td>\n",
              "      <td>...</td>\n",
              "      <td>0</td>\n",
              "      <td>0</td>\n",
              "      <td>0</td>\n",
              "      <td>0</td>\n",
              "      <td>0</td>\n",
              "      <td>0</td>\n",
              "      <td>0</td>\n",
              "      <td>0</td>\n",
              "      <td>0</td>\n",
              "      <td>0</td>\n",
              "    </tr>\n",
              "    <tr>\n",
              "      <th>4</th>\n",
              "      <td>0</td>\n",
              "      <td>0</td>\n",
              "      <td>0</td>\n",
              "      <td>0</td>\n",
              "      <td>0</td>\n",
              "      <td>0</td>\n",
              "      <td>0</td>\n",
              "      <td>0</td>\n",
              "      <td>0</td>\n",
              "      <td>0</td>\n",
              "      <td>...</td>\n",
              "      <td>0</td>\n",
              "      <td>0</td>\n",
              "      <td>0</td>\n",
              "      <td>0</td>\n",
              "      <td>0</td>\n",
              "      <td>0</td>\n",
              "      <td>0</td>\n",
              "      <td>0</td>\n",
              "      <td>0</td>\n",
              "      <td>0</td>\n",
              "    </tr>\n",
              "  </tbody>\n",
              "</table>\n",
              "<p>5 rows × 784 columns</p>\n",
<<<<<<< HEAD
              "</div>"
            ],
            "text/plain": [
              "   pixel1  pixel2  pixel3  pixel4  pixel5  pixel6  pixel7  pixel8  pixel9  \\\n",
              "0       0       0       0       0       0       0       0       0       0   \n",
              "1       0       0       0       0       0       0       0       0       0   \n",
              "2       0       0       0       0       0       0       0       0       0   \n",
              "3       0       0       0       0       0       0       0       0       0   \n",
              "4       0       0       0       0       0       0       0       0       0   \n",
=======
              "</div>\n",
              "    <div class=\"colab-df-buttons\">\n",
              "\n",
              "  <div class=\"colab-df-container\">\n",
              "    <button class=\"colab-df-convert\" onclick=\"convertToInteractive('df-bd5a252d-393f-473a-bf47-6d62a88ff0dd')\"\n",
              "            title=\"Convert this dataframe to an interactive table.\"\n",
              "            style=\"display:none;\">\n",
              "\n",
              "  <svg xmlns=\"http://www.w3.org/2000/svg\" height=\"24px\" viewBox=\"0 -960 960 960\">\n",
              "    <path d=\"M120-120v-720h720v720H120Zm60-500h600v-160H180v160Zm220 220h160v-160H400v160Zm0 220h160v-160H400v160ZM180-400h160v-160H180v160Zm440 0h160v-160H620v160ZM180-180h160v-160H180v160Zm440 0h160v-160H620v160Z\"/>\n",
              "  </svg>\n",
              "    </button>\n",
              "\n",
              "  <style>\n",
              "    .colab-df-container {\n",
              "      display:flex;\n",
              "      gap: 12px;\n",
              "    }\n",
>>>>>>> 96d7441bab605981559a4b40456aa97dbf14a8c9
              "\n",
              "   pixel10  ...  pixel775  pixel776  pixel777  pixel778  pixel779  pixel780  \\\n",
              "0        0  ...         0         0         0         0         0         0   \n",
              "1        0  ...         0         0         0         0         0         0   \n",
              "2        0  ...         0         0         0         0         0         0   \n",
              "3        0  ...         0         0         0         0         0         0   \n",
              "4        0  ...         0         0         0         0         0         0   \n",
              "\n",
              "   pixel781  pixel782  pixel783  pixel784  \n",
              "0         0         0         0         0  \n",
              "1         0         0         0         0  \n",
              "2         0         0         0         0  \n",
              "3         0         0         0         0  \n",
              "4         0         0         0         0  \n",
              "\n",
<<<<<<< HEAD
              "[5 rows x 784 columns]"
            ]
=======
              "    .colab-df-buttons div {\n",
              "      margin-bottom: 4px;\n",
              "    }\n",
              "\n",
              "    [theme=dark] .colab-df-convert {\n",
              "      background-color: #3B4455;\n",
              "      fill: #D2E3FC;\n",
              "    }\n",
              "\n",
              "    [theme=dark] .colab-df-convert:hover {\n",
              "      background-color: #434B5C;\n",
              "      box-shadow: 0px 1px 3px 1px rgba(0, 0, 0, 0.15);\n",
              "      filter: drop-shadow(0px 1px 2px rgba(0, 0, 0, 0.3));\n",
              "      fill: #FFFFFF;\n",
              "    }\n",
              "  </style>\n",
              "\n",
              "    <script>\n",
              "      const buttonEl =\n",
              "        document.querySelector('#df-bd5a252d-393f-473a-bf47-6d62a88ff0dd button.colab-df-convert');\n",
              "      buttonEl.style.display =\n",
              "        google.colab.kernel.accessAllowed ? 'block' : 'none';\n",
              "\n",
              "      async function convertToInteractive(key) {\n",
              "        const element = document.querySelector('#df-bd5a252d-393f-473a-bf47-6d62a88ff0dd');\n",
              "        const dataTable =\n",
              "          await google.colab.kernel.invokeFunction('convertToInteractive',\n",
              "                                                    [key], {});\n",
              "        if (!dataTable) return;\n",
              "\n",
              "        const docLinkHtml = 'Like what you see? Visit the ' +\n",
              "          '<a target=\"_blank\" href=https://colab.research.google.com/notebooks/data_table.ipynb>data table notebook</a>'\n",
              "          + ' to learn more about interactive tables.';\n",
              "        element.innerHTML = '';\n",
              "        dataTable['output_type'] = 'display_data';\n",
              "        await google.colab.output.renderOutput(dataTable, element);\n",
              "        const docLink = document.createElement('div');\n",
              "        docLink.innerHTML = docLinkHtml;\n",
              "        element.appendChild(docLink);\n",
              "      }\n",
              "    </script>\n",
              "  </div>\n",
              "\n",
              "\n",
              "<div id=\"df-889a2269-333c-4700-ae63-c08a9ef28b5a\">\n",
              "  <button class=\"colab-df-quickchart\" onclick=\"quickchart('df-889a2269-333c-4700-ae63-c08a9ef28b5a')\"\n",
              "            title=\"Suggest charts\"\n",
              "            style=\"display:none;\">\n",
              "\n",
              "<svg xmlns=\"http://www.w3.org/2000/svg\" height=\"24px\"viewBox=\"0 0 24 24\"\n",
              "     width=\"24px\">\n",
              "    <g>\n",
              "        <path d=\"M19 3H5c-1.1 0-2 .9-2 2v14c0 1.1.9 2 2 2h14c1.1 0 2-.9 2-2V5c0-1.1-.9-2-2-2zM9 17H7v-7h2v7zm4 0h-2V7h2v10zm4 0h-2v-4h2v4z\"/>\n",
              "    </g>\n",
              "</svg>\n",
              "  </button>\n",
              "\n",
              "<style>\n",
              "  .colab-df-quickchart {\n",
              "      --bg-color: #E8F0FE;\n",
              "      --fill-color: #1967D2;\n",
              "      --hover-bg-color: #E2EBFA;\n",
              "      --hover-fill-color: #174EA6;\n",
              "      --disabled-fill-color: #AAA;\n",
              "      --disabled-bg-color: #DDD;\n",
              "  }\n",
              "\n",
              "  [theme=dark] .colab-df-quickchart {\n",
              "      --bg-color: #3B4455;\n",
              "      --fill-color: #D2E3FC;\n",
              "      --hover-bg-color: #434B5C;\n",
              "      --hover-fill-color: #FFFFFF;\n",
              "      --disabled-bg-color: #3B4455;\n",
              "      --disabled-fill-color: #666;\n",
              "  }\n",
              "\n",
              "  .colab-df-quickchart {\n",
              "    background-color: var(--bg-color);\n",
              "    border: none;\n",
              "    border-radius: 50%;\n",
              "    cursor: pointer;\n",
              "    display: none;\n",
              "    fill: var(--fill-color);\n",
              "    height: 32px;\n",
              "    padding: 0;\n",
              "    width: 32px;\n",
              "  }\n",
              "\n",
              "  .colab-df-quickchart:hover {\n",
              "    background-color: var(--hover-bg-color);\n",
              "    box-shadow: 0 1px 2px rgba(60, 64, 67, 0.3), 0 1px 3px 1px rgba(60, 64, 67, 0.15);\n",
              "    fill: var(--button-hover-fill-color);\n",
              "  }\n",
              "\n",
              "  .colab-df-quickchart-complete:disabled,\n",
              "  .colab-df-quickchart-complete:disabled:hover {\n",
              "    background-color: var(--disabled-bg-color);\n",
              "    fill: var(--disabled-fill-color);\n",
              "    box-shadow: none;\n",
              "  }\n",
              "\n",
              "  .colab-df-spinner {\n",
              "    border: 2px solid var(--fill-color);\n",
              "    border-color: transparent;\n",
              "    border-bottom-color: var(--fill-color);\n",
              "    animation:\n",
              "      spin 1s steps(1) infinite;\n",
              "  }\n",
              "\n",
              "  @keyframes spin {\n",
              "    0% {\n",
              "      border-color: transparent;\n",
              "      border-bottom-color: var(--fill-color);\n",
              "      border-left-color: var(--fill-color);\n",
              "    }\n",
              "    20% {\n",
              "      border-color: transparent;\n",
              "      border-left-color: var(--fill-color);\n",
              "      border-top-color: var(--fill-color);\n",
              "    }\n",
              "    30% {\n",
              "      border-color: transparent;\n",
              "      border-left-color: var(--fill-color);\n",
              "      border-top-color: var(--fill-color);\n",
              "      border-right-color: var(--fill-color);\n",
              "    }\n",
              "    40% {\n",
              "      border-color: transparent;\n",
              "      border-right-color: var(--fill-color);\n",
              "      border-top-color: var(--fill-color);\n",
              "    }\n",
              "    60% {\n",
              "      border-color: transparent;\n",
              "      border-right-color: var(--fill-color);\n",
              "    }\n",
              "    80% {\n",
              "      border-color: transparent;\n",
              "      border-right-color: var(--fill-color);\n",
              "      border-bottom-color: var(--fill-color);\n",
              "    }\n",
              "    90% {\n",
              "      border-color: transparent;\n",
              "      border-bottom-color: var(--fill-color);\n",
              "    }\n",
              "  }\n",
              "</style>\n",
              "\n",
              "  <script>\n",
              "    async function quickchart(key) {\n",
              "      const quickchartButtonEl =\n",
              "        document.querySelector('#' + key + ' button');\n",
              "      quickchartButtonEl.disabled = true;  // To prevent multiple clicks.\n",
              "      quickchartButtonEl.classList.add('colab-df-spinner');\n",
              "      try {\n",
              "        const charts = await google.colab.kernel.invokeFunction(\n",
              "            'suggestCharts', [key], {});\n",
              "      } catch (error) {\n",
              "        console.error('Error during call to suggestCharts:', error);\n",
              "      }\n",
              "      quickchartButtonEl.classList.remove('colab-df-spinner');\n",
              "      quickchartButtonEl.classList.add('colab-df-quickchart-complete');\n",
              "    }\n",
              "    (() => {\n",
              "      let quickchartButtonEl =\n",
              "        document.querySelector('#df-889a2269-333c-4700-ae63-c08a9ef28b5a button');\n",
              "      quickchartButtonEl.style.display =\n",
              "        google.colab.kernel.accessAllowed ? 'block' : 'none';\n",
              "    })();\n",
              "  </script>\n",
              "</div>\n",
              "\n",
              "    </div>\n",
              "  </div>\n"
            ],
            "application/vnd.google.colaboratory.intrinsic+json": {
              "type": "dataframe",
              "variable_name": "X"
            }
>>>>>>> 96d7441bab605981559a4b40456aa97dbf14a8c9
          },
          "execution_count": 107,
          "metadata": {},
<<<<<<< HEAD
          "output_type": "execute_result"
=======
          "execution_count": 56
>>>>>>> 96d7441bab605981559a4b40456aa97dbf14a8c9
        }
      ],
      "source": [
        "X.head() # shows first 5 rows by default"
      ]
    },
    {
      "cell_type": "code",
      "execution_count": 108,
      "metadata": {
        "colab": {
          "base_uri": "https://localhost:8080/",
          "height": 350
        },
        "id": "dOPeE9oFeR9z",
        "outputId": "abaaca38-1152-4306-edae-84f4eebc53a6"
      },
      "outputs": [
        {
          "data": {
<<<<<<< HEAD
            "text/html": [
              "<div>\n",
=======
            "text/plain": [
              "   pixel0  pixel1  pixel2  pixel3  pixel4  pixel5  pixel6  pixel7  pixel8  \\\n",
              "0       0       0       0       0       0       0       0       0       0   \n",
              "1       0       0       0       0       0       0       0       0       0   \n",
              "2       0       0       0       0       0       0       0       0       0   \n",
              "3       0       0       0       0       0       0       0       0       0   \n",
              "4       0       0       0       0       0       0       0       0       0   \n",
              "5       0       0       0       0       0       0       0       0       0   \n",
              "6       0       0       0       0       0       0       0       0       0   \n",
              "7       0       0       0       0       0       0       0       0       0   \n",
              "\n",
              "   pixel9  ...  pixel774  pixel775  pixel776  pixel777  pixel778  pixel779  \\\n",
              "0       0  ...         0         0         0         0         0         0   \n",
              "1       0  ...         0         0         0         0         0         0   \n",
              "2       0  ...         0         0         0         0         0         0   \n",
              "3       0  ...         0         0         0         0         0         0   \n",
              "4       0  ...         0         0         0         0         0         0   \n",
              "5       0  ...         0         0         0         0         0         0   \n",
              "6       0  ...         0         0         0         0         0         0   \n",
              "7       0  ...         0         0         0         0         0         0   \n",
              "\n",
              "   pixel780  pixel781  pixel782  pixel783  \n",
              "0         0         0         0         0  \n",
              "1         0         0         0         0  \n",
              "2         0         0         0         0  \n",
              "3         0         0         0         0  \n",
              "4         0         0         0         0  \n",
              "5         0         0         0         0  \n",
              "6         0         0         0         0  \n",
              "7         0         0         0         0  \n",
              "\n",
              "[8 rows x 784 columns]"
            ],
            "text/html": [
              "\n",
              "  <div id=\"df-4799b50e-e1ac-48cb-9bbd-249b07cf4a9f\" class=\"colab-df-container\">\n",
              "    <div>\n",
>>>>>>> 96d7441bab605981559a4b40456aa97dbf14a8c9
              "<style scoped>\n",
              "    .dataframe tbody tr th:only-of-type {\n",
              "        vertical-align: middle;\n",
              "    }\n",
              "\n",
              "    .dataframe tbody tr th {\n",
              "        vertical-align: top;\n",
              "    }\n",
              "\n",
              "    .dataframe thead th {\n",
              "        text-align: right;\n",
              "    }\n",
              "</style>\n",
              "<table border=\"1\" class=\"dataframe\">\n",
              "  <thead>\n",
              "    <tr style=\"text-align: right;\">\n",
              "      <th></th>\n",
              "      <th>pixel0</th>\n",
              "      <th>pixel1</th>\n",
              "      <th>pixel2</th>\n",
              "      <th>pixel3</th>\n",
              "      <th>pixel4</th>\n",
              "      <th>pixel5</th>\n",
              "      <th>pixel6</th>\n",
              "      <th>pixel7</th>\n",
              "      <th>pixel8</th>\n",
              "      <th>pixel9</th>\n",
              "      <th>...</th>\n",
              "      <th>pixel774</th>\n",
              "      <th>pixel775</th>\n",
              "      <th>pixel776</th>\n",
              "      <th>pixel777</th>\n",
              "      <th>pixel778</th>\n",
              "      <th>pixel779</th>\n",
              "      <th>pixel780</th>\n",
              "      <th>pixel781</th>\n",
              "      <th>pixel782</th>\n",
              "      <th>pixel783</th>\n",
              "    </tr>\n",
              "  </thead>\n",
              "  <tbody>\n",
              "    <tr>\n",
              "      <th>0</th>\n",
              "      <td>0</td>\n",
              "      <td>0</td>\n",
              "      <td>0</td>\n",
              "      <td>0</td>\n",
              "      <td>0</td>\n",
              "      <td>0</td>\n",
              "      <td>0</td>\n",
              "      <td>0</td>\n",
              "      <td>0</td>\n",
              "      <td>0</td>\n",
              "      <td>...</td>\n",
              "      <td>0</td>\n",
              "      <td>0</td>\n",
              "      <td>0</td>\n",
              "      <td>0</td>\n",
              "      <td>0</td>\n",
              "      <td>0</td>\n",
              "      <td>0</td>\n",
              "      <td>0</td>\n",
              "      <td>0</td>\n",
              "      <td>0</td>\n",
              "    </tr>\n",
              "    <tr>\n",
              "      <th>1</th>\n",
              "      <td>0</td>\n",
              "      <td>0</td>\n",
              "      <td>0</td>\n",
              "      <td>0</td>\n",
              "      <td>0</td>\n",
              "      <td>0</td>\n",
              "      <td>0</td>\n",
              "      <td>0</td>\n",
              "      <td>0</td>\n",
              "      <td>0</td>\n",
              "      <td>...</td>\n",
              "      <td>0</td>\n",
              "      <td>0</td>\n",
              "      <td>0</td>\n",
              "      <td>0</td>\n",
              "      <td>0</td>\n",
              "      <td>0</td>\n",
              "      <td>0</td>\n",
              "      <td>0</td>\n",
              "      <td>0</td>\n",
              "      <td>0</td>\n",
              "    </tr>\n",
              "    <tr>\n",
              "      <th>2</th>\n",
              "      <td>0</td>\n",
              "      <td>0</td>\n",
              "      <td>0</td>\n",
              "      <td>0</td>\n",
              "      <td>0</td>\n",
              "      <td>0</td>\n",
              "      <td>0</td>\n",
              "      <td>0</td>\n",
              "      <td>0</td>\n",
              "      <td>0</td>\n",
              "      <td>...</td>\n",
              "      <td>0</td>\n",
              "      <td>0</td>\n",
              "      <td>0</td>\n",
              "      <td>0</td>\n",
              "      <td>0</td>\n",
              "      <td>0</td>\n",
              "      <td>0</td>\n",
              "      <td>0</td>\n",
              "      <td>0</td>\n",
              "      <td>0</td>\n",
              "    </tr>\n",
              "    <tr>\n",
              "      <th>3</th>\n",
              "      <td>0</td>\n",
              "      <td>0</td>\n",
              "      <td>0</td>\n",
              "      <td>0</td>\n",
              "      <td>0</td>\n",
              "      <td>0</td>\n",
              "      <td>0</td>\n",
              "      <td>0</td>\n",
              "      <td>0</td>\n",
              "      <td>0</td>\n",
              "      <td>...</td>\n",
              "      <td>0</td>\n",
              "      <td>0</td>\n",
              "      <td>0</td>\n",
              "      <td>0</td>\n",
              "      <td>0</td>\n",
              "      <td>0</td>\n",
              "      <td>0</td>\n",
              "      <td>0</td>\n",
              "      <td>0</td>\n",
              "      <td>0</td>\n",
              "    </tr>\n",
              "    <tr>\n",
              "      <th>4</th>\n",
              "      <td>0</td>\n",
              "      <td>0</td>\n",
              "      <td>0</td>\n",
              "      <td>0</td>\n",
              "      <td>0</td>\n",
              "      <td>0</td>\n",
              "      <td>0</td>\n",
              "      <td>0</td>\n",
              "      <td>0</td>\n",
              "      <td>0</td>\n",
              "      <td>...</td>\n",
              "      <td>0</td>\n",
              "      <td>0</td>\n",
              "      <td>0</td>\n",
              "      <td>0</td>\n",
              "      <td>0</td>\n",
              "      <td>0</td>\n",
              "      <td>0</td>\n",
              "      <td>0</td>\n",
              "      <td>0</td>\n",
              "      <td>0</td>\n",
              "    </tr>\n",
              "    <tr>\n",
              "      <th>5</th>\n",
              "      <td>0</td>\n",
              "      <td>0</td>\n",
              "      <td>0</td>\n",
              "      <td>0</td>\n",
              "      <td>0</td>\n",
              "      <td>0</td>\n",
              "      <td>0</td>\n",
              "      <td>0</td>\n",
              "      <td>0</td>\n",
              "      <td>0</td>\n",
              "      <td>...</td>\n",
              "      <td>0</td>\n",
              "      <td>0</td>\n",
              "      <td>0</td>\n",
              "      <td>0</td>\n",
              "      <td>0</td>\n",
              "      <td>0</td>\n",
              "      <td>0</td>\n",
              "      <td>0</td>\n",
              "      <td>0</td>\n",
              "      <td>0</td>\n",
              "    </tr>\n",
              "    <tr>\n",
              "      <th>6</th>\n",
              "      <td>0</td>\n",
              "      <td>0</td>\n",
              "      <td>0</td>\n",
              "      <td>0</td>\n",
              "      <td>0</td>\n",
              "      <td>0</td>\n",
              "      <td>0</td>\n",
              "      <td>0</td>\n",
              "      <td>0</td>\n",
              "      <td>0</td>\n",
              "      <td>...</td>\n",
              "      <td>0</td>\n",
              "      <td>0</td>\n",
              "      <td>0</td>\n",
              "      <td>0</td>\n",
              "      <td>0</td>\n",
              "      <td>0</td>\n",
              "      <td>0</td>\n",
              "      <td>0</td>\n",
              "      <td>0</td>\n",
              "      <td>0</td>\n",
              "    </tr>\n",
              "    <tr>\n",
              "      <th>7</th>\n",
              "      <td>0</td>\n",
              "      <td>0</td>\n",
              "      <td>0</td>\n",
              "      <td>0</td>\n",
              "      <td>0</td>\n",
              "      <td>0</td>\n",
              "      <td>0</td>\n",
              "      <td>0</td>\n",
              "      <td>0</td>\n",
              "      <td>0</td>\n",
              "      <td>...</td>\n",
              "      <td>0</td>\n",
              "      <td>0</td>\n",
              "      <td>0</td>\n",
              "      <td>0</td>\n",
              "      <td>0</td>\n",
              "      <td>0</td>\n",
              "      <td>0</td>\n",
              "      <td>0</td>\n",
              "      <td>0</td>\n",
              "      <td>0</td>\n",
              "    </tr>\n",
              "  </tbody>\n",
              "</table>\n",
              "<p>8 rows × 784 columns</p>\n",
<<<<<<< HEAD
              "</div>"
            ],
            "text/plain": [
              "   pixel1  pixel2  pixel3  pixel4  pixel5  pixel6  pixel7  pixel8  pixel9  \\\n",
              "0       0       0       0       0       0       0       0       0       0   \n",
              "1       0       0       0       0       0       0       0       0       0   \n",
              "2       0       0       0       0       0       0       0       0       0   \n",
              "3       0       0       0       0       0       0       0       0       0   \n",
              "4       0       0       0       0       0       0       0       0       0   \n",
              "5       0       0       0       0       0       0       0       0       0   \n",
              "6       0       0       0       0       0       0       0       0       0   \n",
              "7       0       0       0       0       0       0       0       0       0   \n",
=======
              "</div>\n",
              "    <div class=\"colab-df-buttons\">\n",
              "\n",
              "  <div class=\"colab-df-container\">\n",
              "    <button class=\"colab-df-convert\" onclick=\"convertToInteractive('df-4799b50e-e1ac-48cb-9bbd-249b07cf4a9f')\"\n",
              "            title=\"Convert this dataframe to an interactive table.\"\n",
              "            style=\"display:none;\">\n",
              "\n",
              "  <svg xmlns=\"http://www.w3.org/2000/svg\" height=\"24px\" viewBox=\"0 -960 960 960\">\n",
              "    <path d=\"M120-120v-720h720v720H120Zm60-500h600v-160H180v160Zm220 220h160v-160H400v160Zm0 220h160v-160H400v160ZM180-400h160v-160H180v160Zm440 0h160v-160H620v160ZM180-180h160v-160H180v160Zm440 0h160v-160H620v160Z\"/>\n",
              "  </svg>\n",
              "    </button>\n",
              "\n",
              "  <style>\n",
              "    .colab-df-container {\n",
              "      display:flex;\n",
              "      gap: 12px;\n",
              "    }\n",
>>>>>>> 96d7441bab605981559a4b40456aa97dbf14a8c9
              "\n",
              "   pixel10  ...  pixel775  pixel776  pixel777  pixel778  pixel779  pixel780  \\\n",
              "0        0  ...         0         0         0         0         0         0   \n",
              "1        0  ...         0         0         0         0         0         0   \n",
              "2        0  ...         0         0         0         0         0         0   \n",
              "3        0  ...         0         0         0         0         0         0   \n",
              "4        0  ...         0         0         0         0         0         0   \n",
              "5        0  ...         0         0         0         0         0         0   \n",
              "6        0  ...         0         0         0         0         0         0   \n",
              "7        0  ...         0         0         0         0         0         0   \n",
              "\n",
              "   pixel781  pixel782  pixel783  pixel784  \n",
              "0         0         0         0         0  \n",
              "1         0         0         0         0  \n",
              "2         0         0         0         0  \n",
              "3         0         0         0         0  \n",
              "4         0         0         0         0  \n",
              "5         0         0         0         0  \n",
              "6         0         0         0         0  \n",
              "7         0         0         0         0  \n",
              "\n",
<<<<<<< HEAD
              "[8 rows x 784 columns]"
            ]
=======
              "    .colab-df-buttons div {\n",
              "      margin-bottom: 4px;\n",
              "    }\n",
              "\n",
              "    [theme=dark] .colab-df-convert {\n",
              "      background-color: #3B4455;\n",
              "      fill: #D2E3FC;\n",
              "    }\n",
              "\n",
              "    [theme=dark] .colab-df-convert:hover {\n",
              "      background-color: #434B5C;\n",
              "      box-shadow: 0px 1px 3px 1px rgba(0, 0, 0, 0.15);\n",
              "      filter: drop-shadow(0px 1px 2px rgba(0, 0, 0, 0.3));\n",
              "      fill: #FFFFFF;\n",
              "    }\n",
              "  </style>\n",
              "\n",
              "    <script>\n",
              "      const buttonEl =\n",
              "        document.querySelector('#df-4799b50e-e1ac-48cb-9bbd-249b07cf4a9f button.colab-df-convert');\n",
              "      buttonEl.style.display =\n",
              "        google.colab.kernel.accessAllowed ? 'block' : 'none';\n",
              "\n",
              "      async function convertToInteractive(key) {\n",
              "        const element = document.querySelector('#df-4799b50e-e1ac-48cb-9bbd-249b07cf4a9f');\n",
              "        const dataTable =\n",
              "          await google.colab.kernel.invokeFunction('convertToInteractive',\n",
              "                                                    [key], {});\n",
              "        if (!dataTable) return;\n",
              "\n",
              "        const docLinkHtml = 'Like what you see? Visit the ' +\n",
              "          '<a target=\"_blank\" href=https://colab.research.google.com/notebooks/data_table.ipynb>data table notebook</a>'\n",
              "          + ' to learn more about interactive tables.';\n",
              "        element.innerHTML = '';\n",
              "        dataTable['output_type'] = 'display_data';\n",
              "        await google.colab.output.renderOutput(dataTable, element);\n",
              "        const docLink = document.createElement('div');\n",
              "        docLink.innerHTML = docLinkHtml;\n",
              "        element.appendChild(docLink);\n",
              "      }\n",
              "    </script>\n",
              "  </div>\n",
              "\n",
              "\n",
              "<div id=\"df-c7883da6-86ca-40bc-ac85-bdfec1e10f8e\">\n",
              "  <button class=\"colab-df-quickchart\" onclick=\"quickchart('df-c7883da6-86ca-40bc-ac85-bdfec1e10f8e')\"\n",
              "            title=\"Suggest charts\"\n",
              "            style=\"display:none;\">\n",
              "\n",
              "<svg xmlns=\"http://www.w3.org/2000/svg\" height=\"24px\"viewBox=\"0 0 24 24\"\n",
              "     width=\"24px\">\n",
              "    <g>\n",
              "        <path d=\"M19 3H5c-1.1 0-2 .9-2 2v14c0 1.1.9 2 2 2h14c1.1 0 2-.9 2-2V5c0-1.1-.9-2-2-2zM9 17H7v-7h2v7zm4 0h-2V7h2v10zm4 0h-2v-4h2v4z\"/>\n",
              "    </g>\n",
              "</svg>\n",
              "  </button>\n",
              "\n",
              "<style>\n",
              "  .colab-df-quickchart {\n",
              "      --bg-color: #E8F0FE;\n",
              "      --fill-color: #1967D2;\n",
              "      --hover-bg-color: #E2EBFA;\n",
              "      --hover-fill-color: #174EA6;\n",
              "      --disabled-fill-color: #AAA;\n",
              "      --disabled-bg-color: #DDD;\n",
              "  }\n",
              "\n",
              "  [theme=dark] .colab-df-quickchart {\n",
              "      --bg-color: #3B4455;\n",
              "      --fill-color: #D2E3FC;\n",
              "      --hover-bg-color: #434B5C;\n",
              "      --hover-fill-color: #FFFFFF;\n",
              "      --disabled-bg-color: #3B4455;\n",
              "      --disabled-fill-color: #666;\n",
              "  }\n",
              "\n",
              "  .colab-df-quickchart {\n",
              "    background-color: var(--bg-color);\n",
              "    border: none;\n",
              "    border-radius: 50%;\n",
              "    cursor: pointer;\n",
              "    display: none;\n",
              "    fill: var(--fill-color);\n",
              "    height: 32px;\n",
              "    padding: 0;\n",
              "    width: 32px;\n",
              "  }\n",
              "\n",
              "  .colab-df-quickchart:hover {\n",
              "    background-color: var(--hover-bg-color);\n",
              "    box-shadow: 0 1px 2px rgba(60, 64, 67, 0.3), 0 1px 3px 1px rgba(60, 64, 67, 0.15);\n",
              "    fill: var(--button-hover-fill-color);\n",
              "  }\n",
              "\n",
              "  .colab-df-quickchart-complete:disabled,\n",
              "  .colab-df-quickchart-complete:disabled:hover {\n",
              "    background-color: var(--disabled-bg-color);\n",
              "    fill: var(--disabled-fill-color);\n",
              "    box-shadow: none;\n",
              "  }\n",
              "\n",
              "  .colab-df-spinner {\n",
              "    border: 2px solid var(--fill-color);\n",
              "    border-color: transparent;\n",
              "    border-bottom-color: var(--fill-color);\n",
              "    animation:\n",
              "      spin 1s steps(1) infinite;\n",
              "  }\n",
              "\n",
              "  @keyframes spin {\n",
              "    0% {\n",
              "      border-color: transparent;\n",
              "      border-bottom-color: var(--fill-color);\n",
              "      border-left-color: var(--fill-color);\n",
              "    }\n",
              "    20% {\n",
              "      border-color: transparent;\n",
              "      border-left-color: var(--fill-color);\n",
              "      border-top-color: var(--fill-color);\n",
              "    }\n",
              "    30% {\n",
              "      border-color: transparent;\n",
              "      border-left-color: var(--fill-color);\n",
              "      border-top-color: var(--fill-color);\n",
              "      border-right-color: var(--fill-color);\n",
              "    }\n",
              "    40% {\n",
              "      border-color: transparent;\n",
              "      border-right-color: var(--fill-color);\n",
              "      border-top-color: var(--fill-color);\n",
              "    }\n",
              "    60% {\n",
              "      border-color: transparent;\n",
              "      border-right-color: var(--fill-color);\n",
              "    }\n",
              "    80% {\n",
              "      border-color: transparent;\n",
              "      border-right-color: var(--fill-color);\n",
              "      border-bottom-color: var(--fill-color);\n",
              "    }\n",
              "    90% {\n",
              "      border-color: transparent;\n",
              "      border-bottom-color: var(--fill-color);\n",
              "    }\n",
              "  }\n",
              "</style>\n",
              "\n",
              "  <script>\n",
              "    async function quickchart(key) {\n",
              "      const quickchartButtonEl =\n",
              "        document.querySelector('#' + key + ' button');\n",
              "      quickchartButtonEl.disabled = true;  // To prevent multiple clicks.\n",
              "      quickchartButtonEl.classList.add('colab-df-spinner');\n",
              "      try {\n",
              "        const charts = await google.colab.kernel.invokeFunction(\n",
              "            'suggestCharts', [key], {});\n",
              "      } catch (error) {\n",
              "        console.error('Error during call to suggestCharts:', error);\n",
              "      }\n",
              "      quickchartButtonEl.classList.remove('colab-df-spinner');\n",
              "      quickchartButtonEl.classList.add('colab-df-quickchart-complete');\n",
              "    }\n",
              "    (() => {\n",
              "      let quickchartButtonEl =\n",
              "        document.querySelector('#df-c7883da6-86ca-40bc-ac85-bdfec1e10f8e button');\n",
              "      quickchartButtonEl.style.display =\n",
              "        google.colab.kernel.accessAllowed ? 'block' : 'none';\n",
              "    })();\n",
              "  </script>\n",
              "</div>\n",
              "\n",
              "    </div>\n",
              "  </div>\n"
            ],
            "application/vnd.google.colaboratory.intrinsic+json": {
              "type": "dataframe",
              "variable_name": "X"
            }
>>>>>>> 96d7441bab605981559a4b40456aa97dbf14a8c9
          },
          "execution_count": 108,
          "metadata": {},
<<<<<<< HEAD
          "output_type": "execute_result"
=======
          "execution_count": 57
>>>>>>> 96d7441bab605981559a4b40456aa97dbf14a8c9
        }
      ],
      "source": [
        "X.head(8) # show first 8 rows"
      ]
    },
    {
      "cell_type": "markdown",
      "metadata": {
        "id": "PsnPzqsrexla"
      },
      "source": [
        "We can look at some of the statistical information of each feature, such as <br>\n",
        "mean and standard deviation, using `.describe()`"
      ]
    },
    {
      "cell_type": "code",
      "execution_count": 109,
      "metadata": {
        "colab": {
          "base_uri": "https://localhost:8080/",
          "height": 350
        },
<<<<<<< HEAD
        "id": "8DLyJHGu1GYo",
        "outputId": "8e48edad-b482-4cc9-8d4b-48c486629d75"
=======
        "outputId": "dbd1c5d0-4f9d-4f1b-c162-88caca2fd51e",
        "id": "8DLyJHGu1GYo"
>>>>>>> 96d7441bab605981559a4b40456aa97dbf14a8c9
      },
      "outputs": [
        {
          "data": {
<<<<<<< HEAD
            "text/html": [
              "<div>\n",
=======
            "text/plain": [
              "        pixel0   pixel1   pixel2   pixel3   pixel4   pixel5   pixel6   pixel7  \\\n",
              "count  70000.0  70000.0  70000.0  70000.0  70000.0  70000.0  70000.0  70000.0   \n",
              "mean       0.0      0.0      0.0      0.0      0.0      0.0      0.0      0.0   \n",
              "std        0.0      0.0      0.0      0.0      0.0      0.0      0.0      0.0   \n",
              "min        0.0      0.0      0.0      0.0      0.0      0.0      0.0      0.0   \n",
              "25%        0.0      0.0      0.0      0.0      0.0      0.0      0.0      0.0   \n",
              "50%        0.0      0.0      0.0      0.0      0.0      0.0      0.0      0.0   \n",
              "75%        0.0      0.0      0.0      0.0      0.0      0.0      0.0      0.0   \n",
              "max        0.0      0.0      0.0      0.0      0.0      0.0      0.0      0.0   \n",
              "\n",
              "        pixel8   pixel9  ...      pixel774      pixel775      pixel776  \\\n",
              "count  70000.0  70000.0  ...  70000.000000  70000.000000  70000.000000   \n",
              "mean       0.0      0.0  ...      0.197414      0.099543      0.046629   \n",
              "std        0.0      0.0  ...      5.991206      4.256304      2.783732   \n",
              "min        0.0      0.0  ...      0.000000      0.000000      0.000000   \n",
              "25%        0.0      0.0  ...      0.000000      0.000000      0.000000   \n",
              "50%        0.0      0.0  ...      0.000000      0.000000      0.000000   \n",
              "75%        0.0      0.0  ...      0.000000      0.000000      0.000000   \n",
              "max        0.0      0.0  ...    254.000000    254.000000    253.000000   \n",
              "\n",
              "           pixel777      pixel778      pixel779  pixel780  pixel781  pixel782  \\\n",
              "count  70000.000000  70000.000000  70000.000000   70000.0   70000.0   70000.0   \n",
              "mean       0.016614      0.012957      0.001714       0.0       0.0       0.0   \n",
              "std        1.561822      1.553796      0.320889       0.0       0.0       0.0   \n",
              "min        0.000000      0.000000      0.000000       0.0       0.0       0.0   \n",
              "25%        0.000000      0.000000      0.000000       0.0       0.0       0.0   \n",
              "50%        0.000000      0.000000      0.000000       0.0       0.0       0.0   \n",
              "75%        0.000000      0.000000      0.000000       0.0       0.0       0.0   \n",
              "max      253.000000    254.000000     62.000000       0.0       0.0       0.0   \n",
              "\n",
              "       pixel783  \n",
              "count   70000.0  \n",
              "mean        0.0  \n",
              "std         0.0  \n",
              "min         0.0  \n",
              "25%         0.0  \n",
              "50%         0.0  \n",
              "75%         0.0  \n",
              "max         0.0  \n",
              "\n",
              "[8 rows x 784 columns]"
            ],
            "text/html": [
              "\n",
              "  <div id=\"df-42d2ae85-c680-4bae-8b63-9d950886c0ee\" class=\"colab-df-container\">\n",
              "    <div>\n",
>>>>>>> 96d7441bab605981559a4b40456aa97dbf14a8c9
              "<style scoped>\n",
              "    .dataframe tbody tr th:only-of-type {\n",
              "        vertical-align: middle;\n",
              "    }\n",
              "\n",
              "    .dataframe tbody tr th {\n",
              "        vertical-align: top;\n",
              "    }\n",
              "\n",
              "    .dataframe thead th {\n",
              "        text-align: right;\n",
              "    }\n",
              "</style>\n",
              "<table border=\"1\" class=\"dataframe\">\n",
              "  <thead>\n",
              "    <tr style=\"text-align: right;\">\n",
              "      <th></th>\n",
              "      <th>pixel0</th>\n",
              "      <th>pixel1</th>\n",
              "      <th>pixel2</th>\n",
              "      <th>pixel3</th>\n",
              "      <th>pixel4</th>\n",
              "      <th>pixel5</th>\n",
              "      <th>pixel6</th>\n",
              "      <th>pixel7</th>\n",
              "      <th>pixel8</th>\n",
              "      <th>pixel9</th>\n",
              "      <th>...</th>\n",
              "      <th>pixel774</th>\n",
              "      <th>pixel775</th>\n",
              "      <th>pixel776</th>\n",
              "      <th>pixel777</th>\n",
              "      <th>pixel778</th>\n",
              "      <th>pixel779</th>\n",
              "      <th>pixel780</th>\n",
              "      <th>pixel781</th>\n",
              "      <th>pixel782</th>\n",
              "      <th>pixel783</th>\n",
              "    </tr>\n",
              "  </thead>\n",
              "  <tbody>\n",
              "    <tr>\n",
              "      <th>count</th>\n",
              "      <td>70000.0</td>\n",
              "      <td>70000.0</td>\n",
              "      <td>70000.0</td>\n",
              "      <td>70000.0</td>\n",
              "      <td>70000.0</td>\n",
              "      <td>70000.0</td>\n",
              "      <td>70000.0</td>\n",
              "      <td>70000.0</td>\n",
              "      <td>70000.0</td>\n",
              "      <td>70000.0</td>\n",
              "      <td>...</td>\n",
              "      <td>70000.000000</td>\n",
              "      <td>70000.000000</td>\n",
              "      <td>70000.000000</td>\n",
              "      <td>70000.000000</td>\n",
              "      <td>70000.000000</td>\n",
              "      <td>70000.000000</td>\n",
              "      <td>70000.0</td>\n",
              "      <td>70000.0</td>\n",
              "      <td>70000.0</td>\n",
              "      <td>70000.0</td>\n",
              "    </tr>\n",
              "    <tr>\n",
              "      <th>mean</th>\n",
              "      <td>0.0</td>\n",
              "      <td>0.0</td>\n",
              "      <td>0.0</td>\n",
              "      <td>0.0</td>\n",
              "      <td>0.0</td>\n",
              "      <td>0.0</td>\n",
              "      <td>0.0</td>\n",
              "      <td>0.0</td>\n",
              "      <td>0.0</td>\n",
              "      <td>0.0</td>\n",
              "      <td>...</td>\n",
              "      <td>0.197414</td>\n",
              "      <td>0.099543</td>\n",
              "      <td>0.046629</td>\n",
              "      <td>0.016614</td>\n",
              "      <td>0.012957</td>\n",
              "      <td>0.001714</td>\n",
              "      <td>0.0</td>\n",
              "      <td>0.0</td>\n",
              "      <td>0.0</td>\n",
              "      <td>0.0</td>\n",
              "    </tr>\n",
              "    <tr>\n",
              "      <th>std</th>\n",
              "      <td>0.0</td>\n",
              "      <td>0.0</td>\n",
              "      <td>0.0</td>\n",
              "      <td>0.0</td>\n",
              "      <td>0.0</td>\n",
              "      <td>0.0</td>\n",
              "      <td>0.0</td>\n",
              "      <td>0.0</td>\n",
              "      <td>0.0</td>\n",
              "      <td>0.0</td>\n",
              "      <td>...</td>\n",
              "      <td>5.991206</td>\n",
              "      <td>4.256304</td>\n",
              "      <td>2.783732</td>\n",
              "      <td>1.561822</td>\n",
              "      <td>1.553796</td>\n",
              "      <td>0.320889</td>\n",
              "      <td>0.0</td>\n",
              "      <td>0.0</td>\n",
              "      <td>0.0</td>\n",
              "      <td>0.0</td>\n",
              "    </tr>\n",
              "    <tr>\n",
              "      <th>min</th>\n",
              "      <td>0.0</td>\n",
              "      <td>0.0</td>\n",
              "      <td>0.0</td>\n",
              "      <td>0.0</td>\n",
              "      <td>0.0</td>\n",
              "      <td>0.0</td>\n",
              "      <td>0.0</td>\n",
              "      <td>0.0</td>\n",
              "      <td>0.0</td>\n",
              "      <td>0.0</td>\n",
              "      <td>...</td>\n",
              "      <td>0.000000</td>\n",
              "      <td>0.000000</td>\n",
              "      <td>0.000000</td>\n",
              "      <td>0.000000</td>\n",
              "      <td>0.000000</td>\n",
              "      <td>0.000000</td>\n",
              "      <td>0.0</td>\n",
              "      <td>0.0</td>\n",
              "      <td>0.0</td>\n",
              "      <td>0.0</td>\n",
              "    </tr>\n",
              "    <tr>\n",
              "      <th>25%</th>\n",
              "      <td>0.0</td>\n",
              "      <td>0.0</td>\n",
              "      <td>0.0</td>\n",
              "      <td>0.0</td>\n",
              "      <td>0.0</td>\n",
              "      <td>0.0</td>\n",
              "      <td>0.0</td>\n",
              "      <td>0.0</td>\n",
              "      <td>0.0</td>\n",
              "      <td>0.0</td>\n",
              "      <td>...</td>\n",
              "      <td>0.000000</td>\n",
              "      <td>0.000000</td>\n",
              "      <td>0.000000</td>\n",
              "      <td>0.000000</td>\n",
              "      <td>0.000000</td>\n",
              "      <td>0.000000</td>\n",
              "      <td>0.0</td>\n",
              "      <td>0.0</td>\n",
              "      <td>0.0</td>\n",
              "      <td>0.0</td>\n",
              "    </tr>\n",
              "    <tr>\n",
              "      <th>50%</th>\n",
              "      <td>0.0</td>\n",
              "      <td>0.0</td>\n",
              "      <td>0.0</td>\n",
              "      <td>0.0</td>\n",
              "      <td>0.0</td>\n",
              "      <td>0.0</td>\n",
              "      <td>0.0</td>\n",
              "      <td>0.0</td>\n",
              "      <td>0.0</td>\n",
              "      <td>0.0</td>\n",
              "      <td>...</td>\n",
              "      <td>0.000000</td>\n",
              "      <td>0.000000</td>\n",
              "      <td>0.000000</td>\n",
              "      <td>0.000000</td>\n",
              "      <td>0.000000</td>\n",
              "      <td>0.000000</td>\n",
              "      <td>0.0</td>\n",
              "      <td>0.0</td>\n",
              "      <td>0.0</td>\n",
              "      <td>0.0</td>\n",
              "    </tr>\n",
              "    <tr>\n",
              "      <th>75%</th>\n",
              "      <td>0.0</td>\n",
              "      <td>0.0</td>\n",
              "      <td>0.0</td>\n",
              "      <td>0.0</td>\n",
              "      <td>0.0</td>\n",
              "      <td>0.0</td>\n",
              "      <td>0.0</td>\n",
              "      <td>0.0</td>\n",
              "      <td>0.0</td>\n",
              "      <td>0.0</td>\n",
              "      <td>...</td>\n",
              "      <td>0.000000</td>\n",
              "      <td>0.000000</td>\n",
              "      <td>0.000000</td>\n",
              "      <td>0.000000</td>\n",
              "      <td>0.000000</td>\n",
              "      <td>0.000000</td>\n",
              "      <td>0.0</td>\n",
              "      <td>0.0</td>\n",
              "      <td>0.0</td>\n",
              "      <td>0.0</td>\n",
              "    </tr>\n",
              "    <tr>\n",
              "      <th>max</th>\n",
              "      <td>0.0</td>\n",
              "      <td>0.0</td>\n",
              "      <td>0.0</td>\n",
              "      <td>0.0</td>\n",
              "      <td>0.0</td>\n",
              "      <td>0.0</td>\n",
              "      <td>0.0</td>\n",
              "      <td>0.0</td>\n",
              "      <td>0.0</td>\n",
              "      <td>0.0</td>\n",
              "      <td>...</td>\n",
              "      <td>254.000000</td>\n",
              "      <td>254.000000</td>\n",
              "      <td>253.000000</td>\n",
              "      <td>253.000000</td>\n",
              "      <td>254.000000</td>\n",
              "      <td>62.000000</td>\n",
              "      <td>0.0</td>\n",
              "      <td>0.0</td>\n",
              "      <td>0.0</td>\n",
              "      <td>0.0</td>\n",
              "    </tr>\n",
              "  </tbody>\n",
              "</table>\n",
              "<p>8 rows × 784 columns</p>\n",
<<<<<<< HEAD
              "</div>"
            ],
            "text/plain": [
              "        pixel1   pixel2   pixel3   pixel4   pixel5   pixel6   pixel7   pixel8  \\\n",
              "count  70000.0  70000.0  70000.0  70000.0  70000.0  70000.0  70000.0  70000.0   \n",
              "mean       0.0      0.0      0.0      0.0      0.0      0.0      0.0      0.0   \n",
              "std        0.0      0.0      0.0      0.0      0.0      0.0      0.0      0.0   \n",
              "min        0.0      0.0      0.0      0.0      0.0      0.0      0.0      0.0   \n",
              "25%        0.0      0.0      0.0      0.0      0.0      0.0      0.0      0.0   \n",
              "50%        0.0      0.0      0.0      0.0      0.0      0.0      0.0      0.0   \n",
              "75%        0.0      0.0      0.0      0.0      0.0      0.0      0.0      0.0   \n",
              "max        0.0      0.0      0.0      0.0      0.0      0.0      0.0      0.0   \n",
=======
              "</div>\n",
              "    <div class=\"colab-df-buttons\">\n",
              "\n",
              "  <div class=\"colab-df-container\">\n",
              "    <button class=\"colab-df-convert\" onclick=\"convertToInteractive('df-42d2ae85-c680-4bae-8b63-9d950886c0ee')\"\n",
              "            title=\"Convert this dataframe to an interactive table.\"\n",
              "            style=\"display:none;\">\n",
              "\n",
              "  <svg xmlns=\"http://www.w3.org/2000/svg\" height=\"24px\" viewBox=\"0 -960 960 960\">\n",
              "    <path d=\"M120-120v-720h720v720H120Zm60-500h600v-160H180v160Zm220 220h160v-160H400v160Zm0 220h160v-160H400v160ZM180-400h160v-160H180v160Zm440 0h160v-160H620v160ZM180-180h160v-160H180v160Zm440 0h160v-160H620v160Z\"/>\n",
              "  </svg>\n",
              "    </button>\n",
              "\n",
              "  <style>\n",
              "    .colab-df-container {\n",
              "      display:flex;\n",
              "      gap: 12px;\n",
              "    }\n",
>>>>>>> 96d7441bab605981559a4b40456aa97dbf14a8c9
              "\n",
              "        pixel9  pixel10  ...      pixel775      pixel776      pixel777  \\\n",
              "count  70000.0  70000.0  ...  70000.000000  70000.000000  70000.000000   \n",
              "mean       0.0      0.0  ...      0.197414      0.099543      0.046629   \n",
              "std        0.0      0.0  ...      5.991206      4.256304      2.783732   \n",
              "min        0.0      0.0  ...      0.000000      0.000000      0.000000   \n",
              "25%        0.0      0.0  ...      0.000000      0.000000      0.000000   \n",
              "50%        0.0      0.0  ...      0.000000      0.000000      0.000000   \n",
              "75%        0.0      0.0  ...      0.000000      0.000000      0.000000   \n",
              "max        0.0      0.0  ...    254.000000    254.000000    253.000000   \n",
              "\n",
              "           pixel778      pixel779      pixel780  pixel781  pixel782  pixel783  \\\n",
              "count  70000.000000  70000.000000  70000.000000   70000.0   70000.0   70000.0   \n",
              "mean       0.016614      0.012957      0.001714       0.0       0.0       0.0   \n",
              "std        1.561822      1.553796      0.320889       0.0       0.0       0.0   \n",
              "min        0.000000      0.000000      0.000000       0.0       0.0       0.0   \n",
              "25%        0.000000      0.000000      0.000000       0.0       0.0       0.0   \n",
              "50%        0.000000      0.000000      0.000000       0.0       0.0       0.0   \n",
              "75%        0.000000      0.000000      0.000000       0.0       0.0       0.0   \n",
              "max      253.000000    254.000000     62.000000       0.0       0.0       0.0   \n",
              "\n",
<<<<<<< HEAD
              "       pixel784  \n",
              "count   70000.0  \n",
              "mean        0.0  \n",
              "std         0.0  \n",
              "min         0.0  \n",
              "25%         0.0  \n",
              "50%         0.0  \n",
              "75%         0.0  \n",
              "max         0.0  \n",
              "\n",
              "[8 rows x 784 columns]"
            ]
=======
              "    .colab-df-buttons div {\n",
              "      margin-bottom: 4px;\n",
              "    }\n",
              "\n",
              "    [theme=dark] .colab-df-convert {\n",
              "      background-color: #3B4455;\n",
              "      fill: #D2E3FC;\n",
              "    }\n",
              "\n",
              "    [theme=dark] .colab-df-convert:hover {\n",
              "      background-color: #434B5C;\n",
              "      box-shadow: 0px 1px 3px 1px rgba(0, 0, 0, 0.15);\n",
              "      filter: drop-shadow(0px 1px 2px rgba(0, 0, 0, 0.3));\n",
              "      fill: #FFFFFF;\n",
              "    }\n",
              "  </style>\n",
              "\n",
              "    <script>\n",
              "      const buttonEl =\n",
              "        document.querySelector('#df-42d2ae85-c680-4bae-8b63-9d950886c0ee button.colab-df-convert');\n",
              "      buttonEl.style.display =\n",
              "        google.colab.kernel.accessAllowed ? 'block' : 'none';\n",
              "\n",
              "      async function convertToInteractive(key) {\n",
              "        const element = document.querySelector('#df-42d2ae85-c680-4bae-8b63-9d950886c0ee');\n",
              "        const dataTable =\n",
              "          await google.colab.kernel.invokeFunction('convertToInteractive',\n",
              "                                                    [key], {});\n",
              "        if (!dataTable) return;\n",
              "\n",
              "        const docLinkHtml = 'Like what you see? Visit the ' +\n",
              "          '<a target=\"_blank\" href=https://colab.research.google.com/notebooks/data_table.ipynb>data table notebook</a>'\n",
              "          + ' to learn more about interactive tables.';\n",
              "        element.innerHTML = '';\n",
              "        dataTable['output_type'] = 'display_data';\n",
              "        await google.colab.output.renderOutput(dataTable, element);\n",
              "        const docLink = document.createElement('div');\n",
              "        docLink.innerHTML = docLinkHtml;\n",
              "        element.appendChild(docLink);\n",
              "      }\n",
              "    </script>\n",
              "  </div>\n",
              "\n",
              "\n",
              "<div id=\"df-66ff2684-2674-40a3-9d00-e36e31f0f902\">\n",
              "  <button class=\"colab-df-quickchart\" onclick=\"quickchart('df-66ff2684-2674-40a3-9d00-e36e31f0f902')\"\n",
              "            title=\"Suggest charts\"\n",
              "            style=\"display:none;\">\n",
              "\n",
              "<svg xmlns=\"http://www.w3.org/2000/svg\" height=\"24px\"viewBox=\"0 0 24 24\"\n",
              "     width=\"24px\">\n",
              "    <g>\n",
              "        <path d=\"M19 3H5c-1.1 0-2 .9-2 2v14c0 1.1.9 2 2 2h14c1.1 0 2-.9 2-2V5c0-1.1-.9-2-2-2zM9 17H7v-7h2v7zm4 0h-2V7h2v10zm4 0h-2v-4h2v4z\"/>\n",
              "    </g>\n",
              "</svg>\n",
              "  </button>\n",
              "\n",
              "<style>\n",
              "  .colab-df-quickchart {\n",
              "      --bg-color: #E8F0FE;\n",
              "      --fill-color: #1967D2;\n",
              "      --hover-bg-color: #E2EBFA;\n",
              "      --hover-fill-color: #174EA6;\n",
              "      --disabled-fill-color: #AAA;\n",
              "      --disabled-bg-color: #DDD;\n",
              "  }\n",
              "\n",
              "  [theme=dark] .colab-df-quickchart {\n",
              "      --bg-color: #3B4455;\n",
              "      --fill-color: #D2E3FC;\n",
              "      --hover-bg-color: #434B5C;\n",
              "      --hover-fill-color: #FFFFFF;\n",
              "      --disabled-bg-color: #3B4455;\n",
              "      --disabled-fill-color: #666;\n",
              "  }\n",
              "\n",
              "  .colab-df-quickchart {\n",
              "    background-color: var(--bg-color);\n",
              "    border: none;\n",
              "    border-radius: 50%;\n",
              "    cursor: pointer;\n",
              "    display: none;\n",
              "    fill: var(--fill-color);\n",
              "    height: 32px;\n",
              "    padding: 0;\n",
              "    width: 32px;\n",
              "  }\n",
              "\n",
              "  .colab-df-quickchart:hover {\n",
              "    background-color: var(--hover-bg-color);\n",
              "    box-shadow: 0 1px 2px rgba(60, 64, 67, 0.3), 0 1px 3px 1px rgba(60, 64, 67, 0.15);\n",
              "    fill: var(--button-hover-fill-color);\n",
              "  }\n",
              "\n",
              "  .colab-df-quickchart-complete:disabled,\n",
              "  .colab-df-quickchart-complete:disabled:hover {\n",
              "    background-color: var(--disabled-bg-color);\n",
              "    fill: var(--disabled-fill-color);\n",
              "    box-shadow: none;\n",
              "  }\n",
              "\n",
              "  .colab-df-spinner {\n",
              "    border: 2px solid var(--fill-color);\n",
              "    border-color: transparent;\n",
              "    border-bottom-color: var(--fill-color);\n",
              "    animation:\n",
              "      spin 1s steps(1) infinite;\n",
              "  }\n",
              "\n",
              "  @keyframes spin {\n",
              "    0% {\n",
              "      border-color: transparent;\n",
              "      border-bottom-color: var(--fill-color);\n",
              "      border-left-color: var(--fill-color);\n",
              "    }\n",
              "    20% {\n",
              "      border-color: transparent;\n",
              "      border-left-color: var(--fill-color);\n",
              "      border-top-color: var(--fill-color);\n",
              "    }\n",
              "    30% {\n",
              "      border-color: transparent;\n",
              "      border-left-color: var(--fill-color);\n",
              "      border-top-color: var(--fill-color);\n",
              "      border-right-color: var(--fill-color);\n",
              "    }\n",
              "    40% {\n",
              "      border-color: transparent;\n",
              "      border-right-color: var(--fill-color);\n",
              "      border-top-color: var(--fill-color);\n",
              "    }\n",
              "    60% {\n",
              "      border-color: transparent;\n",
              "      border-right-color: var(--fill-color);\n",
              "    }\n",
              "    80% {\n",
              "      border-color: transparent;\n",
              "      border-right-color: var(--fill-color);\n",
              "      border-bottom-color: var(--fill-color);\n",
              "    }\n",
              "    90% {\n",
              "      border-color: transparent;\n",
              "      border-bottom-color: var(--fill-color);\n",
              "    }\n",
              "  }\n",
              "</style>\n",
              "\n",
              "  <script>\n",
              "    async function quickchart(key) {\n",
              "      const quickchartButtonEl =\n",
              "        document.querySelector('#' + key + ' button');\n",
              "      quickchartButtonEl.disabled = true;  // To prevent multiple clicks.\n",
              "      quickchartButtonEl.classList.add('colab-df-spinner');\n",
              "      try {\n",
              "        const charts = await google.colab.kernel.invokeFunction(\n",
              "            'suggestCharts', [key], {});\n",
              "      } catch (error) {\n",
              "        console.error('Error during call to suggestCharts:', error);\n",
              "      }\n",
              "      quickchartButtonEl.classList.remove('colab-df-spinner');\n",
              "      quickchartButtonEl.classList.add('colab-df-quickchart-complete');\n",
              "    }\n",
              "    (() => {\n",
              "      let quickchartButtonEl =\n",
              "        document.querySelector('#df-66ff2684-2674-40a3-9d00-e36e31f0f902 button');\n",
              "      quickchartButtonEl.style.display =\n",
              "        google.colab.kernel.accessAllowed ? 'block' : 'none';\n",
              "    })();\n",
              "  </script>\n",
              "</div>\n",
              "\n",
              "    </div>\n",
              "  </div>\n"
            ],
            "application/vnd.google.colaboratory.intrinsic+json": {
              "type": "dataframe"
            }
>>>>>>> 96d7441bab605981559a4b40456aa97dbf14a8c9
          },
          "execution_count": 109,
          "metadata": {},
<<<<<<< HEAD
          "output_type": "execute_result"
=======
          "execution_count": 58
>>>>>>> 96d7441bab605981559a4b40456aa97dbf14a8c9
        }
      ],
      "source": [
        "X.describe()"
      ]
    },
    {
      "cell_type": "markdown",
      "metadata": {
        "id": "_K8JLwxxfH6T"
      },
      "source": [
        "We can index through DataFrames similarly to NumPy arrays using `.iloc`. <br>\n",
        "\n",
        "For example, `X.iloc[0]` returns the data points of the first sample."
      ]
    },
    {
      "cell_type": "code",
      "execution_count": 110,
      "metadata": {
        "colab": {
          "base_uri": "https://localhost:8080/",
          "height": 458
        },
<<<<<<< HEAD
        "id": "8vmxnIUY1GYo",
        "outputId": "ba58f614-9dda-45ef-ed76-e8fc3b8397d8"
=======
        "outputId": "23292ce5-bea5-4e0e-9b31-153ef51c8a51",
        "id": "8vmxnIUY1GYo"
>>>>>>> 96d7441bab605981559a4b40456aa97dbf14a8c9
      },
      "outputs": [
        {
          "data": {
            "text/plain": [
<<<<<<< HEAD
=======
              "pixel0      0\n",
>>>>>>> 96d7441bab605981559a4b40456aa97dbf14a8c9
              "pixel1      0\n",
              "pixel2      0\n",
              "pixel3      0\n",
              "pixel4      0\n",
<<<<<<< HEAD
              "pixel5      0\n",
              "           ..\n",
=======
              "           ..\n",
              "pixel779    0\n",
>>>>>>> 96d7441bab605981559a4b40456aa97dbf14a8c9
              "pixel780    0\n",
              "pixel781    0\n",
              "pixel782    0\n",
              "pixel783    0\n",
<<<<<<< HEAD
              "pixel784    0\n",
              "Name: 0, Length: 784, dtype: int64"
=======
              "Name: 0, Length: 784, dtype: uint8"
            ],
            "text/html": [
              "<div>\n",
              "<style scoped>\n",
              "    .dataframe tbody tr th:only-of-type {\n",
              "        vertical-align: middle;\n",
              "    }\n",
              "\n",
              "    .dataframe tbody tr th {\n",
              "        vertical-align: top;\n",
              "    }\n",
              "\n",
              "    .dataframe thead th {\n",
              "        text-align: right;\n",
              "    }\n",
              "</style>\n",
              "<table border=\"1\" class=\"dataframe\">\n",
              "  <thead>\n",
              "    <tr style=\"text-align: right;\">\n",
              "      <th></th>\n",
              "      <th>0</th>\n",
              "    </tr>\n",
              "  </thead>\n",
              "  <tbody>\n",
              "    <tr>\n",
              "      <th>pixel0</th>\n",
              "      <td>0</td>\n",
              "    </tr>\n",
              "    <tr>\n",
              "      <th>pixel1</th>\n",
              "      <td>0</td>\n",
              "    </tr>\n",
              "    <tr>\n",
              "      <th>pixel2</th>\n",
              "      <td>0</td>\n",
              "    </tr>\n",
              "    <tr>\n",
              "      <th>pixel3</th>\n",
              "      <td>0</td>\n",
              "    </tr>\n",
              "    <tr>\n",
              "      <th>pixel4</th>\n",
              "      <td>0</td>\n",
              "    </tr>\n",
              "    <tr>\n",
              "      <th>...</th>\n",
              "      <td>...</td>\n",
              "    </tr>\n",
              "    <tr>\n",
              "      <th>pixel779</th>\n",
              "      <td>0</td>\n",
              "    </tr>\n",
              "    <tr>\n",
              "      <th>pixel780</th>\n",
              "      <td>0</td>\n",
              "    </tr>\n",
              "    <tr>\n",
              "      <th>pixel781</th>\n",
              "      <td>0</td>\n",
              "    </tr>\n",
              "    <tr>\n",
              "      <th>pixel782</th>\n",
              "      <td>0</td>\n",
              "    </tr>\n",
              "    <tr>\n",
              "      <th>pixel783</th>\n",
              "      <td>0</td>\n",
              "    </tr>\n",
              "  </tbody>\n",
              "</table>\n",
              "<p>784 rows × 1 columns</p>\n",
              "</div><br><label><b>dtype:</b> uint8</label>"
>>>>>>> 96d7441bab605981559a4b40456aa97dbf14a8c9
            ]
          },
          "execution_count": 110,
          "metadata": {},
<<<<<<< HEAD
          "output_type": "execute_result"
=======
          "execution_count": 59
>>>>>>> 96d7441bab605981559a4b40456aa97dbf14a8c9
        }
      ],
      "source": [
        "X.iloc[0]"
      ]
    },
    {
      "cell_type": "markdown",
      "metadata": {
        "id": "IodYJNenfjFC"
      },
      "source": [
        "To get the actual numerical values in a NumPy array, we use `.values` <br>\n",
        "\n",
        "For example, `X.values[0]` returns a NumPy array containing the pixel <br>\n",
        "intensity values of the first sample, which we'll store in `tmp`"
      ]
    },
    {
      "cell_type": "code",
      "execution_count": 111,
      "metadata": {
        "colab": {
          "base_uri": "https://localhost:8080/"
        },
<<<<<<< HEAD
        "id": "gTO7W3DD1GYp",
        "outputId": "1373ceee-346e-419e-87f5-62227b5030bb"
=======
        "outputId": "e415d4be-ff0c-4b36-b397-c0560799be8d",
        "id": "gTO7W3DD1GYp"
>>>>>>> 96d7441bab605981559a4b40456aa97dbf14a8c9
      },
      "outputs": [
        {
          "name": "stdout",
          "output_type": "stream",
          "text": [
            "<class 'numpy.ndarray'>\n",
            "[253 253 253 251  93  82  82  56  39   0   0   0   0   0   0   0   0   0\n",
            "   0   0]\n"
          ]
        }
      ],
      "source": [
        "tmp = X.values[0]\n",
        "print(type(tmp))\n",
        "print(tmp[210:230]) # Look at pixels 210 through 229"
      ]
    },
    {
      "cell_type": "markdown",
      "metadata": {
        "id": "Eie8rLq3hHkV"
      },
      "source": [
        "We can view the columns of a DataFrame using `.columns`"
      ]
    },
    {
      "cell_type": "code",
      "execution_count": 112,
      "metadata": {
        "colab": {
          "base_uri": "https://localhost:8080/"
        },
<<<<<<< HEAD
        "id": "4GGc013m1GYp",
        "outputId": "647fb522-19a8-4af0-a30c-e1a1c0250182"
=======
        "outputId": "bff8f9a2-98d6-4ecd-c528-27db774a5b88",
        "id": "4GGc013m1GYp"
>>>>>>> 96d7441bab605981559a4b40456aa97dbf14a8c9
      },
      "outputs": [
        {
          "data": {
            "text/plain": [
              "Index(['pixel0', 'pixel1', 'pixel2', 'pixel3', 'pixel4', 'pixel5', 'pixel6',\n",
              "       'pixel7', 'pixel8', 'pixel9',\n",
              "       ...\n",
              "       'pixel774', 'pixel775', 'pixel776', 'pixel777', 'pixel778', 'pixel779',\n",
              "       'pixel780', 'pixel781', 'pixel782', 'pixel783'],\n",
              "      dtype='object', length=784)"
            ]
          },
          "execution_count": 112,
          "metadata": {},
<<<<<<< HEAD
          "output_type": "execute_result"
=======
          "execution_count": 61
>>>>>>> 96d7441bab605981559a4b40456aa97dbf14a8c9
        }
      ],
      "source": [
        "X.columns"
      ]
    },
    {
      "cell_type": "markdown",
      "metadata": {
        "id": "yhav9inshOyf"
      },
      "source": [
        "You can access the contents of a column simply using the column's name. <br>\n",
        "\n",
        "For example, we can look at the intensities of pixel1 across different samples <br> by running `X['pixel1']` or `X.pixel1`"
      ]
    },
    {
      "cell_type": "code",
      "execution_count": 113,
      "metadata": {
        "colab": {
          "base_uri": "https://localhost:8080/",
          "height": 458
        },
<<<<<<< HEAD
        "id": "pKgnxdPR1GYq",
        "outputId": "2b337929-7fac-4952-d04a-b7de0cd0afb1"
=======
        "outputId": "4183f938-1e56-46e7-9f14-d5db41c51335",
        "id": "pKgnxdPR1GYq"
>>>>>>> 96d7441bab605981559a4b40456aa97dbf14a8c9
      },
      "outputs": [
        {
          "data": {
            "text/plain": [
              "0        0\n",
              "1        0\n",
              "2        0\n",
              "3        0\n",
              "4        0\n",
              "        ..\n",
              "69995    0\n",
              "69996    0\n",
              "69997    0\n",
              "69998    0\n",
              "69999    0\n",
<<<<<<< HEAD
              "Name: pixel1, Length: 70000, dtype: int64"
=======
              "Name: pixel1, Length: 70000, dtype: uint8"
            ],
            "text/html": [
              "<div>\n",
              "<style scoped>\n",
              "    .dataframe tbody tr th:only-of-type {\n",
              "        vertical-align: middle;\n",
              "    }\n",
              "\n",
              "    .dataframe tbody tr th {\n",
              "        vertical-align: top;\n",
              "    }\n",
              "\n",
              "    .dataframe thead th {\n",
              "        text-align: right;\n",
              "    }\n",
              "</style>\n",
              "<table border=\"1\" class=\"dataframe\">\n",
              "  <thead>\n",
              "    <tr style=\"text-align: right;\">\n",
              "      <th></th>\n",
              "      <th>pixel1</th>\n",
              "    </tr>\n",
              "  </thead>\n",
              "  <tbody>\n",
              "    <tr>\n",
              "      <th>0</th>\n",
              "      <td>0</td>\n",
              "    </tr>\n",
              "    <tr>\n",
              "      <th>1</th>\n",
              "      <td>0</td>\n",
              "    </tr>\n",
              "    <tr>\n",
              "      <th>2</th>\n",
              "      <td>0</td>\n",
              "    </tr>\n",
              "    <tr>\n",
              "      <th>3</th>\n",
              "      <td>0</td>\n",
              "    </tr>\n",
              "    <tr>\n",
              "      <th>4</th>\n",
              "      <td>0</td>\n",
              "    </tr>\n",
              "    <tr>\n",
              "      <th>...</th>\n",
              "      <td>...</td>\n",
              "    </tr>\n",
              "    <tr>\n",
              "      <th>69995</th>\n",
              "      <td>0</td>\n",
              "    </tr>\n",
              "    <tr>\n",
              "      <th>69996</th>\n",
              "      <td>0</td>\n",
              "    </tr>\n",
              "    <tr>\n",
              "      <th>69997</th>\n",
              "      <td>0</td>\n",
              "    </tr>\n",
              "    <tr>\n",
              "      <th>69998</th>\n",
              "      <td>0</td>\n",
              "    </tr>\n",
              "    <tr>\n",
              "      <th>69999</th>\n",
              "      <td>0</td>\n",
              "    </tr>\n",
              "  </tbody>\n",
              "</table>\n",
              "<p>70000 rows × 1 columns</p>\n",
              "</div><br><label><b>dtype:</b> uint8</label>"
>>>>>>> 96d7441bab605981559a4b40456aa97dbf14a8c9
            ]
          },
          "execution_count": 113,
          "metadata": {},
<<<<<<< HEAD
          "output_type": "execute_result"
=======
          "execution_count": 62
>>>>>>> 96d7441bab605981559a4b40456aa97dbf14a8c9
        }
      ],
      "source": [
        "X['pixel1']"
      ]
    },
    {
      "cell_type": "code",
      "execution_count": 114,
      "metadata": {
        "colab": {
          "base_uri": "https://localhost:8080/",
          "height": 458
        },
<<<<<<< HEAD
        "id": "2yLIqls31GYq",
        "outputId": "01b10ba3-6b2f-4c7c-cdb9-3d5267624455"
=======
        "outputId": "cb021e64-55f4-46fd-a0ac-52536efe29d5",
        "id": "2yLIqls31GYq"
>>>>>>> 96d7441bab605981559a4b40456aa97dbf14a8c9
      },
      "outputs": [
        {
          "data": {
            "text/plain": [
              "0        0\n",
              "1        0\n",
              "2        0\n",
              "3        0\n",
              "4        0\n",
              "        ..\n",
              "69995    0\n",
              "69996    0\n",
              "69997    0\n",
              "69998    0\n",
              "69999    0\n",
<<<<<<< HEAD
              "Name: pixel1, Length: 70000, dtype: int64"
=======
              "Name: pixel1, Length: 70000, dtype: uint8"
            ],
            "text/html": [
              "<div>\n",
              "<style scoped>\n",
              "    .dataframe tbody tr th:only-of-type {\n",
              "        vertical-align: middle;\n",
              "    }\n",
              "\n",
              "    .dataframe tbody tr th {\n",
              "        vertical-align: top;\n",
              "    }\n",
              "\n",
              "    .dataframe thead th {\n",
              "        text-align: right;\n",
              "    }\n",
              "</style>\n",
              "<table border=\"1\" class=\"dataframe\">\n",
              "  <thead>\n",
              "    <tr style=\"text-align: right;\">\n",
              "      <th></th>\n",
              "      <th>pixel1</th>\n",
              "    </tr>\n",
              "  </thead>\n",
              "  <tbody>\n",
              "    <tr>\n",
              "      <th>0</th>\n",
              "      <td>0</td>\n",
              "    </tr>\n",
              "    <tr>\n",
              "      <th>1</th>\n",
              "      <td>0</td>\n",
              "    </tr>\n",
              "    <tr>\n",
              "      <th>2</th>\n",
              "      <td>0</td>\n",
              "    </tr>\n",
              "    <tr>\n",
              "      <th>3</th>\n",
              "      <td>0</td>\n",
              "    </tr>\n",
              "    <tr>\n",
              "      <th>4</th>\n",
              "      <td>0</td>\n",
              "    </tr>\n",
              "    <tr>\n",
              "      <th>...</th>\n",
              "      <td>...</td>\n",
              "    </tr>\n",
              "    <tr>\n",
              "      <th>69995</th>\n",
              "      <td>0</td>\n",
              "    </tr>\n",
              "    <tr>\n",
              "      <th>69996</th>\n",
              "      <td>0</td>\n",
              "    </tr>\n",
              "    <tr>\n",
              "      <th>69997</th>\n",
              "      <td>0</td>\n",
              "    </tr>\n",
              "    <tr>\n",
              "      <th>69998</th>\n",
              "      <td>0</td>\n",
              "    </tr>\n",
              "    <tr>\n",
              "      <th>69999</th>\n",
              "      <td>0</td>\n",
              "    </tr>\n",
              "  </tbody>\n",
              "</table>\n",
              "<p>70000 rows × 1 columns</p>\n",
              "</div><br><label><b>dtype:</b> uint8</label>"
>>>>>>> 96d7441bab605981559a4b40456aa97dbf14a8c9
            ]
          },
          "execution_count": 114,
          "metadata": {},
<<<<<<< HEAD
          "output_type": "execute_result"
=======
          "execution_count": 63
>>>>>>> 96d7441bab605981559a4b40456aa97dbf14a8c9
        }
      ],
      "source": [
        "X.pixel1"
      ]
    },
    {
      "cell_type": "markdown",
      "metadata": {
        "id": "g3epBzvKV_8Q"
      },
      "source": [
        "## Activity\n",
        "\n",
        "For this activity we will continue to use the mnist datasets we've been working <br>\n",
        "with. This actvitivy will involve 6 steps: <br>\n",
        "1. Access the data and target values from the mnist data set and save it to new <br> variables called `data` and `target`. **Do not reuse the names X, and y for those** <br> **variables**. <br>\n",
        "2. Use the `iloc` function to get the item at index 500 from from `data` and <br> `target` and save them to new variables called `data_500` and `target_500` <br>\n",
        "3. Use `.values` to convert `data_500` to a numpy array called `d_500_vals`. <br>\n",
        "4. Use `int(target_500)` to convert `target_500` from a string to an integer <br> called `t_500_vals`. <br>\n",
        "5. Use `.reshape()` to reshape `d_500_vals` to have shape (28, 28). <br>\n",
        "6. Finally, use `plt.imshow()` and `print()` to display `d_500_vals` and `t_500_vals` <br>\n",
        "in one cell."
      ]
    },
    {
      "cell_type": "code",
      "execution_count": 115,
      "metadata": {
        "id": "n5nZI0elZgkP"
      },
      "outputs": [],
      "source": [
        "#Generate the data here:\n",
        "########################\n",
        "data, target = mnist.drop(columns='class'), mnist['class']\n",
        "data_500, target_500 = data.iloc[500], target.iloc[500]\n",
        "d_500_vals = data_500.values\n",
        "t_500_vals = int(target_500)\n",
        "d_500_vals = d_500_vals.reshape(28,28)\n",
        "########################"
      ]
    },
    {
      "cell_type": "code",
      "execution_count": 116,
      "metadata": {
        "id": "Nn7mKZjVX1bc"
      },
      "outputs": [
        {
          "name": "stdout",
          "output_type": "stream",
          "text": [
            "3\n"
          ]
        },
        {
          "data": {
            "text/plain": [
              "<matplotlib.image.AxesImage at 0x16600ec40>"
            ]
          },
          "execution_count": 116,
          "metadata": {},
          "output_type": "execute_result"
        },
        {
          "data": {
            "image/png": "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",
            "text/plain": [
              "<Figure size 640x480 with 1 Axes>"
            ]
          },
          "metadata": {},
          "output_type": "display_data"
        }
      ],
      "source": [
        "#Display d_500_vals and t_500_vals here:\n",
        "########################\n",
        "print(t_500_vals)\n",
        "plt.imshow(d_500_vals)\n",
        "########################"
      ]
    },
    {
      "cell_type": "code",
      "execution_count": 117,
      "metadata": {
        "colab": {
          "base_uri": "https://localhost:8080/",
          "height": 282
        },
        "id": "pbo8hFm1ZrwG",
        "outputId": "41952799-e8d7-4b07-de0c-28130baf4f80"
      },
      "outputs": [],
      "source": [
        "#EXAMPLE OUTPUT"
      ]
    }
  ],
  "metadata": {
    "colab": {
      "include_colab_link": true,
      "provenance": []
    },
    "kernelspec": {
      "display_name": "Python 3",
      "name": "python3"
    },
    "language_info": {
      "codemirror_mode": {
        "name": "ipython",
        "version": 3
      },
      "file_extension": ".py",
      "mimetype": "text/x-python",
      "name": "python",
      "nbconvert_exporter": "python",
      "pygments_lexer": "ipython3",
      "version": "3.9.6"
    }
  },
  "nbformat": 4,
  "nbformat_minor": 0
}